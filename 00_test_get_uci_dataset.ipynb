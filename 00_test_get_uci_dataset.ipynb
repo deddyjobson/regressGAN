{
 "cells": [
  {
   "cell_type": "markdown",
   "id": "b07fcdc9-31a2-41d0-a868-37f072c725a2",
   "metadata": {},
   "source": [
    "[ref](https://archive.ics.uci.edu/ml/datasets/Image+Recognition+Task+Execution+Times+in+Mobile+Edge+Computing)"
   ]
  },
  {
   "cell_type": "code",
   "execution_count": 1,
   "id": "a299c93b-2ec6-498e-b737-d38aae8f3156",
   "metadata": {},
   "outputs": [],
   "source": [
    "import urllib.request\n",
    "import zipfile\n",
    "from pathlib import Path"
   ]
  },
  {
   "cell_type": "code",
   "execution_count": 2,
   "id": "ab6e4a74-9baf-401f-adb1-53dd2cd00f72",
   "metadata": {},
   "outputs": [],
   "source": [
    "# dataset_path = \"datasets/TATDescriptionDataset/\"\n",
    "dataset_path = \"datasets/\"\n",
    "Path(dataset_path).mkdir(parents=True, exist_ok=True)\n",
    "temp_path = \"temp/\"\n",
    "Path(temp_path).mkdir(parents=True, exist_ok=True)"
   ]
  },
  {
   "cell_type": "code",
   "execution_count": 3,
   "id": "b9b07722-2a7a-4c4c-899e-d103566c6de9",
   "metadata": {},
   "outputs": [],
   "source": [
    "filepath = \"TATDescriptionDataset.zip\""
   ]
  },
  {
   "cell_type": "code",
   "execution_count": 4,
   "id": "82259c5b-383c-4006-9cc3-83c21f975301",
   "metadata": {},
   "outputs": [
    {
     "data": {
      "text/plain": [
       "('temp/TATDescriptionDataset.zip', <http.client.HTTPMessage at 0x7f37da71fe10>)"
      ]
     },
     "execution_count": 4,
     "metadata": {},
     "output_type": "execute_result"
    }
   ],
   "source": [
    "urllib.request.urlretrieve(\"https://archive.ics.uci.edu/ml/machine-learning-databases/00633/TATDescriptionDataset.zip\", temp_path+filepath)\n"
   ]
  },
  {
   "cell_type": "code",
   "execution_count": 5,
   "id": "7a6f6e3a-487f-4e38-9ce5-414fcfba1004",
   "metadata": {},
   "outputs": [],
   "source": [
    "with zipfile.ZipFile(temp_path+filepath, 'r') as zip_ref:\n",
    "    zip_ref.extractall(dataset_path)"
   ]
  },
  {
   "cell_type": "code",
   "execution_count": null,
   "id": "f5f7b44a-9744-4ec0-ac41-be8affff1978",
   "metadata": {},
   "outputs": [],
   "source": []
  }
 ],
 "metadata": {
  "environment": {
   "kernel": "python3",
   "name": "pytorch-gpu.1-11.m94",
   "type": "gcloud",
   "uri": "gcr.io/deeplearning-platform-release/pytorch-gpu.1-11:m94"
  },
  "kernelspec": {
   "display_name": "Python 3",
   "language": "python",
   "name": "python3"
  },
  "language_info": {
   "codemirror_mode": {
    "name": "ipython",
    "version": 3
   },
   "file_extension": ".py",
   "mimetype": "text/x-python",
   "name": "python",
   "nbconvert_exporter": "python",
   "pygments_lexer": "ipython3",
   "version": "3.7.12"
  }
 },
 "nbformat": 4,
 "nbformat_minor": 5
}
