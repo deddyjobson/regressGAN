{
 "cells": [
  {
   "cell_type": "markdown",
   "id": "b07fcdc9-31a2-41d0-a868-37f072c725a2",
   "metadata": {},
   "source": [
    "[ref](https://pytorch.org/tutorials/beginner/dcgan_faces_tutorial.html)"
   ]
  },
  {
   "cell_type": "code",
   "execution_count": 1,
   "id": "a299c93b-2ec6-498e-b737-d38aae8f3156",
   "metadata": {},
   "outputs": [],
   "source": [
    "import numpy as np\n",
    "import pandas as pd\n",
    "import matplotlib.pyplot as plt\n",
    "\n",
    "from sklearn.model_selection import train_test_split\n",
    "from sklearn.metrics import mean_squared_error"
   ]
  },
  {
   "cell_type": "code",
   "execution_count": 2,
   "id": "835efe7f-bbf8-4ecf-b7a0-7b4f4202c394",
   "metadata": {},
   "outputs": [],
   "source": [
    "import torch\n",
    "import torch.nn as nn\n",
    "import torch.nn.parallel\n",
    "import torch.backends.cudnn as cudnn\n",
    "import torch.optim as optim\n",
    "import torch.utils.data\n",
    "\n",
    "from torch.utils.data.sampler import SubsetRandomSampler"
   ]
  },
  {
   "cell_type": "code",
   "execution_count": 3,
   "id": "49ddac81-def8-4e05-9ac8-23c20a3a6582",
   "metadata": {},
   "outputs": [
    {
     "name": "stdout",
     "output_type": "stream",
     "text": [
      "Random Seed:  999\n"
     ]
    },
    {
     "data": {
      "text/plain": [
       "<torch._C.Generator at 0x7ff5398a1790>"
      ]
     },
     "execution_count": 3,
     "metadata": {},
     "output_type": "execute_result"
    }
   ],
   "source": [
    "# Set random seed for reproducibility\n",
    "manualSeed = 999\n",
    "#manualSeed = random.randint(1, 10000) # use if you want new results\n",
    "print(\"Random Seed: \", manualSeed)\n",
    "np.random.seed(manualSeed)\n",
    "torch.manual_seed(manualSeed)"
   ]
  },
  {
   "cell_type": "code",
   "execution_count": 4,
   "id": "27efa966-b354-4ada-ab08-4c79913e7702",
   "metadata": {},
   "outputs": [],
   "source": [
    "device = torch.device(\"cuda:0\" if (torch.cuda.is_available() and ngpu > 0) else \"cpu\")\n",
    "ngpu=0"
   ]
  },
  {
   "cell_type": "code",
   "execution_count": 5,
   "id": "83cb2418-b9b4-43a6-81b1-9e90e9085aca",
   "metadata": {},
   "outputs": [],
   "source": [
    "n_samples = 10**5\n",
    "n_feats = 10"
   ]
  },
  {
   "cell_type": "code",
   "execution_count": 6,
   "id": "d50cc55e-1be7-42df-af08-9e1aabfc33d6",
   "metadata": {},
   "outputs": [],
   "source": [
    "x = np.random.randn(n_samples, n_feats)\n",
    "w = np.random.randn(n_feats)\n",
    "y = x.dot(w) + 2*np.random.randn(n_samples)"
   ]
  },
  {
   "cell_type": "code",
   "execution_count": 7,
   "id": "fb09d30a-31ed-43d6-9c33-5480187225c2",
   "metadata": {},
   "outputs": [
    {
     "data": {
      "text/plain": [
       "(-17.461931459782562, 18.27506294850586)"
      ]
     },
     "execution_count": 7,
     "metadata": {},
     "output_type": "execute_result"
    }
   ],
   "source": [
    "y.min(), y.max()"
   ]
  },
  {
   "cell_type": "markdown",
   "id": "fc875939-ce9f-4b50-b53b-23fff0688262",
   "metadata": {},
   "source": [
    "### Simple Linear Regression check"
   ]
  },
  {
   "cell_type": "code",
   "execution_count": 8,
   "id": "448800fd-6be2-465e-a2cc-4bdf178de4df",
   "metadata": {},
   "outputs": [
    {
     "data": {
      "text/plain": [
       "array([ 0.1605339 , -1.53735714,  1.34678078, -1.3396118 , -0.72620197,\n",
       "        0.44939573,  1.19586859, -0.66062793, -1.04260257, -1.2790643 ])"
      ]
     },
     "execution_count": 8,
     "metadata": {},
     "output_type": "execute_result"
    }
   ],
   "source": [
    "from sklearn.linear_model import LinearRegression\n",
    "\n",
    "reg = LinearRegression().fit(x, y)\n",
    "reg.coef_"
   ]
  },
  {
   "cell_type": "code",
   "execution_count": 9,
   "id": "52021f42-7ae8-4ac9-9e26-df0168feec89",
   "metadata": {},
   "outputs": [
    {
     "data": {
      "text/plain": [
       "array([ 0.15985127, -1.54090833,  1.34989083, -1.34604566, -0.73286599,\n",
       "        0.45203237,  1.19547182, -0.66028083, -1.04284652, -1.27561863])"
      ]
     },
     "execution_count": 9,
     "metadata": {},
     "output_type": "execute_result"
    }
   ],
   "source": [
    "w"
   ]
  },
  {
   "cell_type": "code",
   "execution_count": 10,
   "id": "84bcbe89-a4e9-422b-a251-245cfea655ba",
   "metadata": {},
   "outputs": [
    {
     "data": {
      "text/plain": [
       "(0.7356422937071577, 4.024607888156482)"
      ]
     },
     "execution_count": 10,
     "metadata": {},
     "output_type": "execute_result"
    }
   ],
   "source": [
    "reg.score(x, y), (1-reg.score(x, y))*y.var()"
   ]
  },
  {
   "cell_type": "markdown",
   "id": "b3acd4b7-1b0d-4eda-8cc5-d20429ec969f",
   "metadata": {},
   "source": [
    "### Define ANN Architecture"
   ]
  },
  {
   "cell_type": "code",
   "execution_count": 11,
   "id": "ee5d7b20-ed44-4047-bcc6-748164a359d2",
   "metadata": {},
   "outputs": [],
   "source": [
    "# Batch size during training\n",
    "batch_size = 128\n",
    "\n",
    "# Size of z latent vector (i.e. size of generator input)\n",
    "nz = 5\n",
    "\n",
    "# Number of training epochs\n",
    "num_epochs = 5\n",
    "\n",
    "# Learning rate for optimizers\n",
    "lr = 0.002\n",
    "# lr = 0.0002\n",
    "\n",
    "# Beta1 hyperparam for Adam optimizers\n",
    "beta1 = 0.5"
   ]
  },
  {
   "cell_type": "code",
   "execution_count": 12,
   "id": "22b53034-9834-4886-bfd9-ad9fccca302f",
   "metadata": {},
   "outputs": [],
   "source": [
    "# create train and test indices\n",
    "train, test = train_test_split(list(range(x.shape[0])), test_size=.2)\n",
    "train, val = train_test_split(train, test_size=.25)"
   ]
  },
  {
   "cell_type": "code",
   "execution_count": 13,
   "id": "926ae90b-8966-4a42-995c-2512b91025b3",
   "metadata": {},
   "outputs": [],
   "source": [
    "# https://gist.github.com/conormm/5b26a08029b900520bcd6fcd1f5712a0\n",
    "class PrepareData(torch.utils.data.Dataset):\n",
    "\n",
    "    def __init__(self, X, y, scale_X=True):\n",
    "        if not torch.is_tensor(X):\n",
    "            if scale_X:\n",
    "                X = StandardScaler().fit_transform(X)\n",
    "            self.X = torch.from_numpy(X).float()\n",
    "        else:\n",
    "            self.X = X.float32()\n",
    "        if not torch.is_tensor(y):\n",
    "            self.y = torch.from_numpy(y).float()\n",
    "        else:\n",
    "            self.y = y.float32()\n",
    "\n",
    "    def __len__(self):\n",
    "        return len(self.X)\n",
    "\n",
    "    def __getitem__(self, idx):\n",
    "        return self.X[idx], self.y[idx]\n",
    "\n",
    "ds = PrepareData(x, y=y, scale_X=False)\n",
    "\n",
    "train_set = torch.utils.data.DataLoader(ds, batch_size=batch_size,\n",
    "                       sampler=SubsetRandomSampler(train))\n",
    "val_set = torch.utils.data.DataLoader(ds, batch_size=batch_size,\n",
    "                       sampler=SubsetRandomSampler(val))\n",
    "test_set = torch.utils.data.DataLoader(ds, batch_size=batch_size,\n",
    "                      sampler=SubsetRandomSampler(test))"
   ]
  },
  {
   "cell_type": "code",
   "execution_count": 14,
   "id": "ae20ffb8-a81c-401b-96cc-6ea2948081d3",
   "metadata": {
    "collapsed": false,
    "jupyter": {
     "outputs_hidden": false
    }
   },
   "outputs": [],
   "source": [
    "# Generator Code\n",
    "\n",
    "class Generator(nn.Module):\n",
    "    def __init__(self, ngpu):\n",
    "        super(Generator, self).__init__()\n",
    "        self.ngpu = ngpu\n",
    "        self.main = nn.Sequential(\n",
    "            # input is Z, going into a convolution\n",
    "            nn.Linear( n_feats+nz, 32, bias=True),\n",
    "            nn.ReLU(True),\n",
    "\n",
    "            nn.Linear( 32, 32, bias=True),\n",
    "            nn.ReLU(True),\n",
    "\n",
    "            nn.Linear( 32, 1, bias=True)\n",
    "\n",
    "        )\n",
    "\n",
    "    def forward(self, input):\n",
    "        return self.main(input)"
   ]
  },
  {
   "cell_type": "code",
   "execution_count": 15,
   "id": "75149020-6f89-4866-b582-b6d1f1bfbf0f",
   "metadata": {},
   "outputs": [
    {
     "name": "stdout",
     "output_type": "stream",
     "text": [
      "Generator(\n",
      "  (main): Sequential(\n",
      "    (0): Linear(in_features=15, out_features=32, bias=True)\n",
      "    (1): ReLU(inplace=True)\n",
      "    (2): Linear(in_features=32, out_features=32, bias=True)\n",
      "    (3): ReLU(inplace=True)\n",
      "    (4): Linear(in_features=32, out_features=1, bias=True)\n",
      "  )\n",
      ")\n"
     ]
    }
   ],
   "source": [
    "# Create the generator\n",
    "netG = Generator(ngpu).to(device)\n",
    "\n",
    "# Print the model\n",
    "print(netG)"
   ]
  },
  {
   "cell_type": "code",
   "execution_count": 16,
   "id": "65c0957d-f66b-491d-97a0-6cb5107cbb4c",
   "metadata": {
    "collapsed": false,
    "jupyter": {
     "outputs_hidden": false
    }
   },
   "outputs": [],
   "source": [
    "# Discriminator Code\n",
    "\n",
    "class Discriminator(nn.Module):\n",
    "    def __init__(self, ngpu):\n",
    "        super(Discriminator, self).__init__()\n",
    "        self.ngpu = ngpu\n",
    "        self.main = nn.Sequential(\n",
    "            # input is Z, going into a convolution\n",
    "            nn.Linear(n_feats+1, 32, bias=True), # i/p is covariates and o/p\n",
    "            nn.LeakyReLU(0.2, inplace=True),\n",
    "\n",
    "            nn.Linear( 32, 32, bias=True),\n",
    "            nn.LeakyReLU(0.2, inplace=True),\n",
    "\n",
    "            nn.Linear( 32, 1, bias=True),\n",
    "            nn.Sigmoid(),\n",
    "\n",
    "        )\n",
    "\n",
    "    def forward(self, input):\n",
    "        return self.main(input)"
   ]
  },
  {
   "cell_type": "code",
   "execution_count": 17,
   "id": "29259410-3eeb-44b4-8097-ac4eb88d2813",
   "metadata": {},
   "outputs": [
    {
     "name": "stdout",
     "output_type": "stream",
     "text": [
      "Discriminator(\n",
      "  (main): Sequential(\n",
      "    (0): Linear(in_features=11, out_features=32, bias=True)\n",
      "    (1): LeakyReLU(negative_slope=0.2, inplace=True)\n",
      "    (2): Linear(in_features=32, out_features=32, bias=True)\n",
      "    (3): LeakyReLU(negative_slope=0.2, inplace=True)\n",
      "    (4): Linear(in_features=32, out_features=1, bias=True)\n",
      "    (5): Sigmoid()\n",
      "  )\n",
      ")\n"
     ]
    }
   ],
   "source": [
    "# Create the Discriminator\n",
    "netD = Discriminator(ngpu).to(device)\n",
    "\n",
    "# Print the model\n",
    "print(netD)"
   ]
  },
  {
   "cell_type": "code",
   "execution_count": 18,
   "id": "c30d199c-43ed-4bc9-b0b2-2d8661f2efa8",
   "metadata": {
    "collapsed": false,
    "jupyter": {
     "outputs_hidden": false
    }
   },
   "outputs": [],
   "source": [
    "# Initialize BCELoss function\n",
    "criterion = nn.BCELoss()\n",
    "\n",
    "# Create batch of latent vectors that we will use to visualize\n",
    "#  the progression of the generator\n",
    "fixed_noise = torch.randn(nz, device=device)\n",
    "\n",
    "# Establish convention for real and fake labels during training\n",
    "real_label = 1.\n",
    "fake_label = 0.\n",
    "\n",
    "# Setup Adam optimizers for both G and D\n",
    "optimizerD = optim.Adam(netD.parameters(), lr=lr, betas=(beta1, 0.999))\n",
    "optimizerG = optim.Adam(netG.parameters(), lr=lr, betas=(beta1, 0.999))"
   ]
  },
  {
   "cell_type": "code",
   "execution_count": 19,
   "id": "4caa3c28-69b8-4383-83d6-36d301752234",
   "metadata": {},
   "outputs": [
    {
     "name": "stdout",
     "output_type": "stream",
     "text": [
      "Starting Training Loop...\n",
      "[0/5][0/469]\tLoss_D: 1.4151\tLoss_G: 0.6403\tD(x): 0.5148\tD(G(z)): 0.5271 / 0.5274\n",
      "[0/5][50/469]\tLoss_D: 1.3847\tLoss_G: 0.8354\tD(x): 0.4907\tD(G(z)): 0.4562 / 0.4442\n",
      "[0/5][100/469]\tLoss_D: 1.3877\tLoss_G: 0.6793\tD(x): 0.5178\tD(G(z)): 0.5135 / 0.5091\n",
      "[0/5][150/469]\tLoss_D: 1.3838\tLoss_G: 0.7284\tD(x): 0.4942\tD(G(z)): 0.4915 / 0.4840\n",
      "[0/5][200/469]\tLoss_D: 1.3831\tLoss_G: 0.6969\tD(x): 0.4997\tD(G(z)): 0.4968 / 0.4988\n",
      "[0/5][250/469]\tLoss_D: 1.3818\tLoss_G: 0.6799\tD(x): 0.5122\tD(G(z)): 0.5089 / 0.5075\n",
      "[0/5][300/469]\tLoss_D: 1.3806\tLoss_G: 0.6835\tD(x): 0.5098\tD(G(z)): 0.5055 / 0.5055\n",
      "[0/5][350/469]\tLoss_D: 1.3908\tLoss_G: 0.6911\tD(x): 0.4975\tD(G(z)): 0.4986 / 0.5012\n",
      "[0/5][400/469]\tLoss_D: 1.3873\tLoss_G: 0.7249\tD(x): 0.4886\tD(G(z)): 0.4881 / 0.4855\n",
      "[0/5][450/469]\tLoss_D: 1.3864\tLoss_G: 0.6832\tD(x): 0.5052\tD(G(z)): 0.5049 / 0.5051\n",
      "[1/5][0/469]\tLoss_D: 1.3866\tLoss_G: 0.7103\tD(x): 0.4925\tD(G(z)): 0.4924 / 0.4916\n",
      "[1/5][50/469]\tLoss_D: 1.3916\tLoss_G: 0.7122\tD(x): 0.4940\tD(G(z)): 0.4961 / 0.4909\n",
      "[1/5][100/469]\tLoss_D: 1.3818\tLoss_G: 0.7209\tD(x): 0.4886\tD(G(z)): 0.4844 / 0.4871\n",
      "[1/5][150/469]\tLoss_D: 1.3851\tLoss_G: 0.6899\tD(x): 0.5021\tD(G(z)): 0.5013 / 0.5017\n",
      "[1/5][200/469]\tLoss_D: 1.3870\tLoss_G: 0.6821\tD(x): 0.5060\tD(G(z)): 0.5060 / 0.5057\n",
      "[1/5][250/469]\tLoss_D: 1.3819\tLoss_G: 0.6894\tD(x): 0.5059\tD(G(z)): 0.5029 / 0.5023\n",
      "[1/5][300/469]\tLoss_D: 1.3908\tLoss_G: 0.6832\tD(x): 0.5040\tD(G(z)): 0.5052 / 0.5053\n",
      "[1/5][350/469]\tLoss_D: 1.3832\tLoss_G: 0.6858\tD(x): 0.5063\tD(G(z)): 0.5040 / 0.5041\n",
      "[1/5][400/469]\tLoss_D: 1.3894\tLoss_G: 0.6935\tD(x): 0.4979\tD(G(z)): 0.4992 / 0.4999\n",
      "[1/5][450/469]\tLoss_D: 1.3854\tLoss_G: 0.7135\tD(x): 0.4914\tD(G(z)): 0.4905 / 0.4902\n",
      "[2/5][0/469]\tLoss_D: 1.3882\tLoss_G: 0.6809\tD(x): 0.5059\tD(G(z)): 0.5064 / 0.5063\n",
      "[2/5][50/469]\tLoss_D: 1.3890\tLoss_G: 0.6899\tD(x): 0.5011\tD(G(z)): 0.5023 / 0.5016\n",
      "[2/5][100/469]\tLoss_D: 1.3905\tLoss_G: 0.6877\tD(x): 0.5019\tD(G(z)): 0.5038 / 0.5028\n",
      "[2/5][150/469]\tLoss_D: 1.3868\tLoss_G: 0.6889\tD(x): 0.5025\tD(G(z)): 0.5018 / 0.5025\n",
      "[2/5][200/469]\tLoss_D: 1.3860\tLoss_G: 0.6857\tD(x): 0.5041\tD(G(z)): 0.5038 / 0.5038\n",
      "[2/5][250/469]\tLoss_D: 1.3808\tLoss_G: 0.7056\tD(x): 0.4983\tD(G(z)): 0.4947 / 0.4943\n",
      "[2/5][300/469]\tLoss_D: 1.3868\tLoss_G: 0.6862\tD(x): 0.5038\tD(G(z)): 0.5039 / 0.5036\n",
      "[2/5][350/469]\tLoss_D: 1.3854\tLoss_G: 0.6938\tD(x): 0.5002\tD(G(z)): 0.4997 / 0.4997\n",
      "[2/5][400/469]\tLoss_D: 1.3843\tLoss_G: 0.6965\tD(x): 0.4996\tD(G(z)): 0.4985 / 0.4984\n",
      "[2/5][450/469]\tLoss_D: 1.3849\tLoss_G: 0.6962\tD(x): 0.4998\tD(G(z)): 0.4987 / 0.4987\n",
      "[3/5][0/469]\tLoss_D: 1.3853\tLoss_G: 0.6950\tD(x): 0.5004\tD(G(z)): 0.4999 / 0.4991\n",
      "[3/5][50/469]\tLoss_D: 1.3832\tLoss_G: 0.6989\tD(x): 0.5000\tD(G(z)): 0.4983 / 0.4972\n",
      "[3/5][100/469]\tLoss_D: 1.3815\tLoss_G: 0.7000\tD(x): 0.5002\tD(G(z)): 0.4977 / 0.4966\n",
      "[3/5][150/469]\tLoss_D: 1.3916\tLoss_G: 0.6824\tD(x): 0.5035\tD(G(z)): 0.5061 / 0.5054\n",
      "[3/5][200/469]\tLoss_D: 1.3915\tLoss_G: 0.6938\tD(x): 0.4974\tD(G(z)): 0.4992 / 0.5000\n",
      "[3/5][250/469]\tLoss_D: 1.3805\tLoss_G: 0.6984\tD(x): 0.5006\tD(G(z)): 0.4977 / 0.4974\n",
      "[3/5][300/469]\tLoss_D: 1.3883\tLoss_G: 0.6964\tD(x): 0.4975\tD(G(z)): 0.4985 / 0.4984\n",
      "[3/5][350/469]\tLoss_D: 1.3847\tLoss_G: 0.6958\tD(x): 0.4997\tD(G(z)): 0.4988 / 0.4987\n",
      "[3/5][400/469]\tLoss_D: 1.3843\tLoss_G: 0.6943\tD(x): 0.5008\tD(G(z)): 0.4997 / 0.4995\n",
      "[3/5][450/469]\tLoss_D: 1.3897\tLoss_G: 0.6914\tD(x): 0.4988\tD(G(z)): 0.5004 / 0.5009\n",
      "[4/5][0/469]\tLoss_D: 1.3829\tLoss_G: 0.6882\tD(x): 0.5047\tD(G(z)): 0.5028 / 0.5026\n",
      "[4/5][50/469]\tLoss_D: 1.3879\tLoss_G: 0.6894\tD(x): 0.5012\tD(G(z)): 0.5019 / 0.5019\n",
      "[4/5][100/469]\tLoss_D: 1.3854\tLoss_G: 0.6993\tD(x): 0.4975\tD(G(z)): 0.4971 / 0.4969\n",
      "[4/5][150/469]\tLoss_D: 1.3899\tLoss_G: 0.6899\tD(x): 0.5006\tD(G(z)): 0.5022 / 0.5017\n",
      "[4/5][200/469]\tLoss_D: 1.3867\tLoss_G: 0.6910\tD(x): 0.5010\tD(G(z)): 0.5012 / 0.5011\n",
      "[4/5][250/469]\tLoss_D: 1.3838\tLoss_G: 0.6969\tD(x): 0.4996\tD(G(z)): 0.4982 / 0.4982\n",
      "[4/5][300/469]\tLoss_D: 1.3847\tLoss_G: 0.6918\tD(x): 0.5017\tD(G(z)): 0.5008 / 0.5007\n",
      "[4/5][350/469]\tLoss_D: 1.3869\tLoss_G: 0.6904\tD(x): 0.5011\tD(G(z)): 0.5014 / 0.5014\n",
      "[4/5][400/469]\tLoss_D: 1.3861\tLoss_G: 0.6963\tD(x): 0.4986\tD(G(z)): 0.4985 / 0.4984\n",
      "[4/5][450/469]\tLoss_D: 1.3862\tLoss_G: 0.6923\tD(x): 0.5005\tD(G(z)): 0.5004 / 0.5004\n"
     ]
    }
   ],
   "source": [
    "# Training Loop\n",
    "\n",
    "# Lists to keep track of progress\n",
    "img_list = []\n",
    "G_losses = []\n",
    "D_losses = []\n",
    "iters = 0\n",
    "\n",
    "G_losses_val = []\n",
    "D_losses_val = []\n",
    "\n",
    "print(\"Starting Training Loop...\")\n",
    "# For each epoch\n",
    "for epoch in range(num_epochs):\n",
    "    # For each batch in the dataloader\n",
    "    for i, data in enumerate(train_set, 0):\n",
    "        \n",
    "        ############################\n",
    "        # (1) Update D network: maximize log(D(x)) + log(1 - D(G(z)))\n",
    "        ###########################\n",
    "        ## Train with all-real batch\n",
    "        netD.zero_grad()\n",
    "        # Format batch\n",
    "        real_cpu = torch.hstack((data[0],data[1].unsqueeze(1))).to(device)\n",
    "        b_size = real_cpu.size(0)\n",
    "        label = torch.full((b_size,), real_label, dtype=torch.float, device=device)\n",
    "        # Forward pass real batch through D\n",
    "        output = netD(real_cpu).view(-1)\n",
    "        # Calculate loss on all-real batch\n",
    "        errD_real = criterion(output, label)\n",
    "        # Calculate gradients for D in backward pass\n",
    "        errD_real.backward()\n",
    "        D_x = output.mean().item()\n",
    "\n",
    "        ## Train with all-fake batch\n",
    "        # Generate batch of latent vectors\n",
    "        noise = torch.randn(b_size, nz, device=device)\n",
    "        # Generate fake image batch with G\n",
    "        gen_ip = torch.hstack((data[0],noise)).to(device)\n",
    "        fake = netG(gen_ip)\n",
    "        \n",
    "        label.fill_(fake_label)\n",
    "        # Classify all fake batch with D\n",
    "        fake_cpu = torch.hstack((data[0],fake.detach())).to(device)\n",
    "        output = netD(fake_cpu.detach()).view(-1)\n",
    "        # Calculate D's loss on the all-fake batch\n",
    "        errD_fake = criterion(output, label)\n",
    "        # Calculate the gradients for this batch, accumulated (summed) with previous gradients\n",
    "        errD_fake.backward()\n",
    "        D_G_z1 = output.mean().item()\n",
    "        # Compute error of D as sum over the fake and the real batches\n",
    "        errD = errD_real + errD_fake\n",
    "        # Update D\n",
    "        optimizerD.step()\n",
    "\n",
    "        ############################\n",
    "        # (2) Update G network: maximize log(D(G(z)))\n",
    "        ###########################\n",
    "        netG.zero_grad()\n",
    "        label.fill_(real_label)  # fake labels are real for generator cost\n",
    "        # Since we just updated D, perform another forward pass of all-fake batch through D\n",
    "        fake_cpu = torch.hstack((data[0],fake)).to(device)\n",
    "        output = netD(fake_cpu).view(-1)\n",
    "        # Calculate G's loss based on this output\n",
    "        errG = criterion(output, label)\n",
    "        # Calculate gradients for G\n",
    "        errG.backward()\n",
    "        D_G_z2 = output.mean().item()\n",
    "        # Update G\n",
    "        optimizerG.step()\n",
    "        \n",
    "        # Output training stats\n",
    "        if i % 50 == 0:\n",
    "            print('[%d/%d][%d/%d]\\tLoss_D: %.4f\\tLoss_G: %.4f\\tD(x): %.4f\\tD(G(z)): %.4f / %.4f'\n",
    "                  % (epoch, num_epochs, i, len(train_set),\n",
    "                     errD.item(), errG.item(), D_x, D_G_z1, D_G_z2))\n",
    "                \n",
    "        # Output validation stats\n",
    "        if i % 10 == 0:\n",
    "            with torch.no_grad():\n",
    "                errG_vals = []\n",
    "                errD_vals = []\n",
    "                for i, data in enumerate(val_set, 0):\n",
    "                    b_size = data[0].size(0)\n",
    "                    noise = torch.randn(b_size, nz, device=device)\n",
    "                    # Generate fake image batch with G\n",
    "                    gen_ip = torch.hstack((data[0],noise)).to(device)\n",
    "                    gen_op = netG(gen_ip)\n",
    "                    \n",
    "                    fake_cpu = torch.hstack((data[0],gen_op)).to(device)\n",
    "                    fake_output = netD(fake_cpu).view(-1)\n",
    "\n",
    "                    label.fill_(real_label) # fake labels are real for generator cost\n",
    "                    errG_val = criterion(output, label)  \n",
    "                    \n",
    "                    label.fill_(fake_label)\n",
    "                    errD_fake_val = criterion(output, label)\n",
    "                    \n",
    "                    real_cpu = torch.hstack((data[0],data[1].unsqueeze(1))).to(device)\n",
    "                    real_output = netD(real_cpu).view(-1)\n",
    "                    \n",
    "                    label.fill_(real_label)\n",
    "                    errD_real_val = criterion(output, label)\n",
    "                    \n",
    "                    errG_vals.append(errG_val.item())\n",
    "                    errD_vals.append((errD_fake_val+errD_real_val).item())\n",
    "            G_losses_val.append(sum(errG_vals)/len(errG_vals))\n",
    "            D_losses_val.append(sum(errD_vals)/len(errD_vals))\n",
    "        \n",
    "        \n",
    "        # Save Losses for plotting later\n",
    "        G_losses.append(errG.item())\n",
    "        D_losses.append(errD.item())\n",
    "        \n",
    "        # Check how the generator is doing by saving G's output on fixed_noise\n",
    "        # if (iters % 500 == 0) or ((epoch == num_epochs-1) and (i == len(train_set)-1)):\n",
    "        #     with torch.no_grad():\n",
    "        #         fake = netG(fixed_noise).detach().cpu()\n",
    "        #     img_list.append(vutils.make_grid(fake, padding=2, normalize=True))\n",
    "            \n",
    "        iters += 1"
   ]
  },
  {
   "cell_type": "code",
   "execution_count": 20,
   "id": "1cca6ec1-c384-40f7-9455-c723703c67d4",
   "metadata": {},
   "outputs": [
    {
     "data": {
      "image/png": "[encoded data removed]",
      "text/plain": [
       "<Figure size 720x360 with 1 Axes>"
      ]
     },
     "metadata": {
      "needs_background": "light"
     },
     "output_type": "display_data"
    }
   ],
   "source": [
    "plt.figure(figsize=(10,5))\n",
    "plt.title(\"Generator and Discriminator Loss During Training\")\n",
    "plt.plot(G_losses,label=\"G\")\n",
    "plt.plot(D_losses,label=\"D\")\n",
    "plt.xlabel(\"iterations\")\n",
    "plt.ylabel(\"Loss\")\n",
    "plt.legend()\n",
    "plt.show()"
   ]
  },
  {
   "cell_type": "code",
   "execution_count": 21,
   "id": "64be2550-691b-40c4-a4e9-f16cb3783b0f",
   "metadata": {},
   "outputs": [
    {
     "data": {
      "image/png": "[encoded data removed]",
      "text/plain": [
       "<Figure size 720x360 with 1 Axes>"
      ]
     },
     "metadata": {
      "needs_background": "light"
     },
     "output_type": "display_data"
    }
   ],
   "source": [
    "plt.figure(figsize=(10,5))\n",
    "plt.title(\"Generator and Discriminator Loss During Training (Validation Set)\")\n",
    "plt.plot(G_losses_val,label=\"G\")\n",
    "plt.plot(D_losses_val,label=\"D\")\n",
    "plt.xlabel(\"iterations\")\n",
    "plt.ylabel(\"Loss\")\n",
    "plt.legend()\n",
    "plt.show()"
   ]
  },
  {
   "cell_type": "markdown",
   "id": "9546287e-8940-4fbc-b990-81029da132cd",
   "metadata": {},
   "source": [
    "## Train Predictions"
   ]
  },
  {
   "cell_type": "code",
   "execution_count": 22,
   "id": "22d71a6f-0001-4bcd-957f-a2b0e1d2394d",
   "metadata": {},
   "outputs": [],
   "source": [
    "train_ops = []\n",
    "with torch.no_grad():\n",
    "    for i, data in enumerate(train_set, 0):\n",
    "        b_size = data[0].size(0)\n",
    "        noise = torch.randn(b_size, nz, device=device)\n",
    "        # Generate fake image batch with G\n",
    "        gen_ip = torch.hstack((data[0],noise)).to(device)\n",
    "        fake = netG(gen_ip)\n",
    "        \n",
    "        train_ops.append(\n",
    "            (data[1].detach().cpu().numpy(), fake.detach().cpu().numpy())\n",
    "        )"
   ]
  },
  {
   "cell_type": "code",
   "execution_count": 23,
   "id": "23c38a2f-9fec-452f-ac02-b3e35e14b189",
   "metadata": {},
   "outputs": [],
   "source": [
    "train_reals = np.concatenate(list(x[0] for x in train_ops))\n",
    "train_preds = np.concatenate(list(x[1] for x in train_ops))"
   ]
  },
  {
   "cell_type": "code",
   "execution_count": 24,
   "id": "378a9a1c-39df-4ae5-a35e-edff8243ec80",
   "metadata": {},
   "outputs": [
    {
     "data": {
      "text/html": [
       "<div>\n",
       "<style scoped>\n",
       "    .dataframe tbody tr th:only-of-type {\n",
       "        vertical-align: middle;\n",
       "    }\n",
       "\n",
       "    .dataframe tbody tr th {\n",
       "        vertical-align: top;\n",
       "    }\n",
       "\n",
       "    .dataframe thead th {\n",
       "        text-align: right;\n",
       "    }\n",
       "</style>\n",
       "<table border=\"1\" class=\"dataframe\">\n",
       "  <thead>\n",
       "    <tr style=\"text-align: right;\">\n",
       "      <th></th>\n",
       "      <th>true</th>\n",
       "      <th>pred</th>\n",
       "    </tr>\n",
       "  </thead>\n",
       "  <tbody>\n",
       "    <tr>\n",
       "      <th>count</th>\n",
       "      <td>60000.000000</td>\n",
       "      <td>60000.000000</td>\n",
       "    </tr>\n",
       "    <tr>\n",
       "      <th>mean</th>\n",
       "      <td>0.010225</td>\n",
       "      <td>-0.265290</td>\n",
       "    </tr>\n",
       "    <tr>\n",
       "      <th>std</th>\n",
       "      <td>3.904441</td>\n",
       "      <td>3.743593</td>\n",
       "    </tr>\n",
       "    <tr>\n",
       "      <th>min</th>\n",
       "      <td>-17.278040</td>\n",
       "      <td>-15.767388</td>\n",
       "    </tr>\n",
       "    <tr>\n",
       "      <th>25%</th>\n",
       "      <td>-2.625787</td>\n",
       "      <td>-2.911639</td>\n",
       "    </tr>\n",
       "    <tr>\n",
       "      <th>50%</th>\n",
       "      <td>0.012197</td>\n",
       "      <td>-0.270431</td>\n",
       "    </tr>\n",
       "    <tr>\n",
       "      <th>75%</th>\n",
       "      <td>2.646421</td>\n",
       "      <td>2.369000</td>\n",
       "    </tr>\n",
       "    <tr>\n",
       "      <th>max</th>\n",
       "      <td>18.275063</td>\n",
       "      <td>15.332878</td>\n",
       "    </tr>\n",
       "  </tbody>\n",
       "</table>\n",
       "</div>"
      ],
      "text/plain": [
       "               true          pred\n",
       "count  60000.000000  60000.000000\n",
       "mean       0.010225     -0.265290\n",
       "std        3.904441      3.743593\n",
       "min      -17.278040    -15.767388\n",
       "25%       -2.625787     -2.911639\n",
       "50%        0.012197     -0.270431\n",
       "75%        2.646421      2.369000\n",
       "max       18.275063     15.332878"
      ]
     },
     "execution_count": 24,
     "metadata": {},
     "output_type": "execute_result"
    }
   ],
   "source": [
    "df_results_train = pd.DataFrame(\n",
    "    data = np.hstack((\n",
    "    np.expand_dims(train_reals,1),train_preds\n",
    "    ))\n",
    "    ,columns = [\"true\",\"pred\"]\n",
    ")\n",
    "\n",
    "df_results_train.describe()"
   ]
  },
  {
   "cell_type": "code",
   "execution_count": 25,
   "id": "44f3be38-2a76-41f2-9f4a-95be6b25490b",
   "metadata": {},
   "outputs": [
    {
     "data": {
      "text/html": [
       "<div>\n",
       "<style scoped>\n",
       "    .dataframe tbody tr th:only-of-type {\n",
       "        vertical-align: middle;\n",
       "    }\n",
       "\n",
       "    .dataframe tbody tr th {\n",
       "        vertical-align: top;\n",
       "    }\n",
       "\n",
       "    .dataframe thead th {\n",
       "        text-align: right;\n",
       "    }\n",
       "</style>\n",
       "<table border=\"1\" class=\"dataframe\">\n",
       "  <thead>\n",
       "    <tr style=\"text-align: right;\">\n",
       "      <th></th>\n",
       "      <th>true</th>\n",
       "      <th>pred</th>\n",
       "    </tr>\n",
       "    <tr>\n",
       "      <th>pred_segment</th>\n",
       "      <th></th>\n",
       "      <th></th>\n",
       "    </tr>\n",
       "  </thead>\n",
       "  <tbody>\n",
       "    <tr>\n",
       "      <th>(-15.767999999999999, -5.087]</th>\n",
       "      <td>-4.952946</td>\n",
       "      <td>-6.725975</td>\n",
       "    </tr>\n",
       "    <tr>\n",
       "      <th>(-5.087, -3.521]</th>\n",
       "      <td>-3.046519</td>\n",
       "      <td>-4.244837</td>\n",
       "    </tr>\n",
       "    <tr>\n",
       "      <th>(-3.521, -2.359]</th>\n",
       "      <td>-1.974679</td>\n",
       "      <td>-2.921216</td>\n",
       "    </tr>\n",
       "    <tr>\n",
       "      <th>(-2.359, -1.29]</th>\n",
       "      <td>-1.166662</td>\n",
       "      <td>-1.818140</td>\n",
       "    </tr>\n",
       "    <tr>\n",
       "      <th>(-1.29, -0.27]</th>\n",
       "      <td>-0.367435</td>\n",
       "      <td>-0.780017</td>\n",
       "    </tr>\n",
       "    <tr>\n",
       "      <th>(-0.27, 0.723]</th>\n",
       "      <td>0.374292</td>\n",
       "      <td>0.228241</td>\n",
       "    </tr>\n",
       "    <tr>\n",
       "      <th>(0.723, 1.784]</th>\n",
       "      <td>1.172230</td>\n",
       "      <td>1.249002</td>\n",
       "    </tr>\n",
       "    <tr>\n",
       "      <th>(1.784, 3.014]</th>\n",
       "      <td>2.091215</td>\n",
       "      <td>2.378886</td>\n",
       "    </tr>\n",
       "    <tr>\n",
       "      <th>(3.014, 4.596]</th>\n",
       "      <td>3.022470</td>\n",
       "      <td>3.752503</td>\n",
       "    </tr>\n",
       "    <tr>\n",
       "      <th>(4.596, 15.333]</th>\n",
       "      <td>4.950280</td>\n",
       "      <td>6.228653</td>\n",
       "    </tr>\n",
       "  </tbody>\n",
       "</table>\n",
       "</div>"
      ],
      "text/plain": [
       "                                   true      pred\n",
       "pred_segment                                     \n",
       "(-15.767999999999999, -5.087] -4.952946 -6.725975\n",
       "(-5.087, -3.521]              -3.046519 -4.244837\n",
       "(-3.521, -2.359]              -1.974679 -2.921216\n",
       "(-2.359, -1.29]               -1.166662 -1.818140\n",
       "(-1.29, -0.27]                -0.367435 -0.780017\n",
       "(-0.27, 0.723]                 0.374292  0.228241\n",
       "(0.723, 1.784]                 1.172230  1.249002\n",
       "(1.784, 3.014]                 2.091215  2.378886\n",
       "(3.014, 4.596]                 3.022470  3.752503\n",
       "(4.596, 15.333]                4.950280  6.228653"
      ]
     },
     "execution_count": 25,
     "metadata": {},
     "output_type": "execute_result"
    }
   ],
   "source": [
    "df_results_train[\"pred_segment\"] = pd.qcut(df_results_train[\"pred\"],10)\n",
    "df_results_train.groupby(\"pred_segment\").mean()"
   ]
  },
  {
   "cell_type": "code",
   "execution_count": 26,
   "id": "25f8c965-2241-458d-bd98-f79a9a5b8de9",
   "metadata": {},
   "outputs": [
    {
     "data": {
      "text/plain": [
       "(7.9151497, 15.244657)"
      ]
     },
     "execution_count": 26,
     "metadata": {},
     "output_type": "execute_result"
    }
   ],
   "source": [
    "mean_squared_error(df_results_train[\"true\"], df_results_train[\"pred\"]), df_results_train[\"true\"].var()"
   ]
  },
  {
   "cell_type": "markdown",
   "id": "a8de3f01-dd60-4f6b-bf53-7b6fb50ab87a",
   "metadata": {},
   "source": [
    "## Test Predictions"
   ]
  },
  {
   "cell_type": "code",
   "execution_count": 27,
   "id": "4ca1102a-11e2-46b8-b0e4-232f0b8b6075",
   "metadata": {},
   "outputs": [],
   "source": [
    "test_ops = []\n",
    "with torch.no_grad():\n",
    "    for i, data in enumerate(test_set, 0):\n",
    "        b_size = data[0].size(0)\n",
    "        noise = torch.randn(b_size, nz, device=device)\n",
    "        # Generate fake image batch with G\n",
    "        gen_ip = torch.hstack((data[0],noise)).to(device)\n",
    "        fake = netG(gen_ip)\n",
    "        \n",
    "        test_ops.append(\n",
    "            (data[1].detach().cpu().numpy(), fake.detach().cpu().numpy())\n",
    "        )"
   ]
  },
  {
   "cell_type": "code",
   "execution_count": 28,
   "id": "a865a72b-bc48-4bbd-a185-ed30259d54c8",
   "metadata": {},
   "outputs": [],
   "source": [
    "test_reals = np.concatenate(list(x[0] for x in test_ops))\n",
    "test_preds = np.concatenate(list(x[1] for x in test_ops))"
   ]
  },
  {
   "cell_type": "code",
   "execution_count": 29,
   "id": "749677ba-6512-4ed3-8b27-979ac7f6b01c",
   "metadata": {},
   "outputs": [
    {
     "data": {
      "text/html": [
       "<div>\n",
       "<style scoped>\n",
       "    .dataframe tbody tr th:only-of-type {\n",
       "        vertical-align: middle;\n",
       "    }\n",
       "\n",
       "    .dataframe tbody tr th {\n",
       "        vertical-align: top;\n",
       "    }\n",
       "\n",
       "    .dataframe thead th {\n",
       "        text-align: right;\n",
       "    }\n",
       "</style>\n",
       "<table border=\"1\" class=\"dataframe\">\n",
       "  <thead>\n",
       "    <tr style=\"text-align: right;\">\n",
       "      <th></th>\n",
       "      <th>true</th>\n",
       "      <th>pred</th>\n",
       "    </tr>\n",
       "  </thead>\n",
       "  <tbody>\n",
       "    <tr>\n",
       "      <th>count</th>\n",
       "      <td>20000.000000</td>\n",
       "      <td>20000.000000</td>\n",
       "    </tr>\n",
       "    <tr>\n",
       "      <th>mean</th>\n",
       "      <td>0.006454</td>\n",
       "      <td>-0.265945</td>\n",
       "    </tr>\n",
       "    <tr>\n",
       "      <th>std</th>\n",
       "      <td>3.890019</td>\n",
       "      <td>3.702449</td>\n",
       "    </tr>\n",
       "    <tr>\n",
       "      <th>min</th>\n",
       "      <td>-15.845773</td>\n",
       "      <td>-14.583967</td>\n",
       "    </tr>\n",
       "    <tr>\n",
       "      <th>25%</th>\n",
       "      <td>-2.604486</td>\n",
       "      <td>-2.876529</td>\n",
       "    </tr>\n",
       "    <tr>\n",
       "      <th>50%</th>\n",
       "      <td>0.004577</td>\n",
       "      <td>-0.260689</td>\n",
       "    </tr>\n",
       "    <tr>\n",
       "      <th>75%</th>\n",
       "      <td>2.619241</td>\n",
       "      <td>2.313896</td>\n",
       "    </tr>\n",
       "    <tr>\n",
       "      <th>max</th>\n",
       "      <td>15.502691</td>\n",
       "      <td>12.841071</td>\n",
       "    </tr>\n",
       "  </tbody>\n",
       "</table>\n",
       "</div>"
      ],
      "text/plain": [
       "               true          pred\n",
       "count  20000.000000  20000.000000\n",
       "mean       0.006454     -0.265945\n",
       "std        3.890019      3.702449\n",
       "min      -15.845773    -14.583967\n",
       "25%       -2.604486     -2.876529\n",
       "50%        0.004577     -0.260689\n",
       "75%        2.619241      2.313896\n",
       "max       15.502691     12.841071"
      ]
     },
     "execution_count": 29,
     "metadata": {},
     "output_type": "execute_result"
    }
   ],
   "source": [
    "df_results = pd.DataFrame(\n",
    "    data = np.hstack((\n",
    "    np.expand_dims(test_reals,1),test_preds\n",
    "    ))\n",
    "    ,columns = [\"true\",\"pred\"]\n",
    ")\n",
    "\n",
    "df_results.describe()"
   ]
  },
  {
   "cell_type": "code",
   "execution_count": 30,
   "id": "452d1c07-874c-40f4-a2c2-300f4e5d437c",
   "metadata": {},
   "outputs": [
    {
     "data": {
      "text/html": [
       "<div>\n",
       "<style scoped>\n",
       "    .dataframe tbody tr th:only-of-type {\n",
       "        vertical-align: middle;\n",
       "    }\n",
       "\n",
       "    .dataframe tbody tr th {\n",
       "        vertical-align: top;\n",
       "    }\n",
       "\n",
       "    .dataframe thead th {\n",
       "        text-align: right;\n",
       "    }\n",
       "</style>\n",
       "<table border=\"1\" class=\"dataframe\">\n",
       "  <thead>\n",
       "    <tr style=\"text-align: right;\">\n",
       "      <th></th>\n",
       "      <th>true</th>\n",
       "      <th>pred</th>\n",
       "    </tr>\n",
       "    <tr>\n",
       "      <th>pred_segment</th>\n",
       "      <th></th>\n",
       "      <th></th>\n",
       "    </tr>\n",
       "  </thead>\n",
       "  <tbody>\n",
       "    <tr>\n",
       "      <th>(-14.584999999999999, -5.026]</th>\n",
       "      <td>-4.997673</td>\n",
       "      <td>-6.653663</td>\n",
       "    </tr>\n",
       "    <tr>\n",
       "      <th>(-5.026, -3.483]</th>\n",
       "      <td>-2.983277</td>\n",
       "      <td>-4.179932</td>\n",
       "    </tr>\n",
       "    <tr>\n",
       "      <th>(-3.483, -2.332]</th>\n",
       "      <td>-2.003040</td>\n",
       "      <td>-2.885709</td>\n",
       "    </tr>\n",
       "    <tr>\n",
       "      <th>(-2.332, -1.261]</th>\n",
       "      <td>-1.200230</td>\n",
       "      <td>-1.810161</td>\n",
       "    </tr>\n",
       "    <tr>\n",
       "      <th>(-1.261, -0.261]</th>\n",
       "      <td>-0.342872</td>\n",
       "      <td>-0.757957</td>\n",
       "    </tr>\n",
       "    <tr>\n",
       "      <th>(-0.261, 0.686]</th>\n",
       "      <td>0.331427</td>\n",
       "      <td>0.207687</td>\n",
       "    </tr>\n",
       "    <tr>\n",
       "      <th>(0.686, 1.733]</th>\n",
       "      <td>1.229089</td>\n",
       "      <td>1.210060</td>\n",
       "    </tr>\n",
       "    <tr>\n",
       "      <th>(1.733, 2.92]</th>\n",
       "      <td>2.037019</td>\n",
       "      <td>2.323563</td>\n",
       "    </tr>\n",
       "    <tr>\n",
       "      <th>(2.92, 4.522]</th>\n",
       "      <td>3.018151</td>\n",
       "      <td>3.687000</td>\n",
       "    </tr>\n",
       "    <tr>\n",
       "      <th>(4.522, 12.841]</th>\n",
       "      <td>4.975944</td>\n",
       "      <td>6.199666</td>\n",
       "    </tr>\n",
       "  </tbody>\n",
       "</table>\n",
       "</div>"
      ],
      "text/plain": [
       "                                   true      pred\n",
       "pred_segment                                     \n",
       "(-14.584999999999999, -5.026] -4.997673 -6.653663\n",
       "(-5.026, -3.483]              -2.983277 -4.179932\n",
       "(-3.483, -2.332]              -2.003040 -2.885709\n",
       "(-2.332, -1.261]              -1.200230 -1.810161\n",
       "(-1.261, -0.261]              -0.342872 -0.757957\n",
       "(-0.261, 0.686]                0.331427  0.207687\n",
       "(0.686, 1.733]                 1.229089  1.210060\n",
       "(1.733, 2.92]                  2.037019  2.323563\n",
       "(2.92, 4.522]                  3.018151  3.687000\n",
       "(4.522, 12.841]                4.975944  6.199666"
      ]
     },
     "execution_count": 30,
     "metadata": {},
     "output_type": "execute_result"
    }
   ],
   "source": [
    "df_results[\"pred_segment\"] = pd.qcut(df_results[\"pred\"],10)\n",
    "df_results.groupby(\"pred_segment\").mean()"
   ]
  },
  {
   "cell_type": "code",
   "execution_count": 31,
   "id": "0749ecba-0122-48d0-afc5-80b1b2bb408f",
   "metadata": {},
   "outputs": [
    {
     "data": {
      "text/plain": [
       "(7.7404447, 15.132245)"
      ]
     },
     "execution_count": 31,
     "metadata": {},
     "output_type": "execute_result"
    }
   ],
   "source": [
    "mean_squared_error(df_results[\"true\"], df_results[\"pred\"]), df_results[\"true\"].var()"
   ]
  },
  {
   "cell_type": "markdown",
   "id": "70a4e314-b34b-48d7-8c96-cb001997eaaf",
   "metadata": {},
   "source": [
    "## Test Predictions (averaged)"
   ]
  },
  {
   "cell_type": "code",
   "execution_count": 32,
   "id": "e337d101-7e02-45c8-9c6f-ab824c4159f2",
   "metadata": {},
   "outputs": [],
   "source": [
    "N_SAMPLES = 100\n",
    "test_ops = []\n",
    "with torch.no_grad():\n",
    "    for i, data in enumerate(test_set, 0):\n",
    "        b_size = data[0].size(0)\n",
    "        fakes = []\n",
    "        for _ in range(N_SAMPLES):\n",
    "            noise = torch.randn(b_size, nz, device=device)\n",
    "            # Generate fake image batch with G\n",
    "            gen_ip = torch.hstack((data[0],noise)).to(device)\n",
    "            fake = netG(gen_ip).detach().cpu().numpy()\n",
    "            fakes.append(fake)\n",
    "\n",
    "        test_ops.append(\n",
    "            (data[1].detach().cpu().numpy(), sum(fakes)/len(fakes))\n",
    "        )\n",
    "# print(test_reals.shape,np.concatenate(list(x[0] for x in test_ops)).shape)\n",
    "# print(test_preds.shape,np.concatenate(list(x[1] for x in test_ops)).shape)\n",
    "test_reals = np.concatenate(list(x[0] for x in test_ops))\n",
    "test_preds = np.concatenate(list(x[1] for x in test_ops))\n"
   ]
  },
  {
   "cell_type": "code",
   "execution_count": 33,
   "id": "6af69937-27e8-4522-9b13-7a0b9cb9b98c",
   "metadata": {},
   "outputs": [
    {
     "data": {
      "text/html": [
       "<div>\n",
       "<style scoped>\n",
       "    .dataframe tbody tr th:only-of-type {\n",
       "        vertical-align: middle;\n",
       "    }\n",
       "\n",
       "    .dataframe tbody tr th {\n",
       "        vertical-align: top;\n",
       "    }\n",
       "\n",
       "    .dataframe thead th {\n",
       "        text-align: right;\n",
       "    }\n",
       "</style>\n",
       "<table border=\"1\" class=\"dataframe\">\n",
       "  <thead>\n",
       "    <tr style=\"text-align: right;\">\n",
       "      <th></th>\n",
       "      <th>true</th>\n",
       "      <th>pred</th>\n",
       "    </tr>\n",
       "  </thead>\n",
       "  <tbody>\n",
       "    <tr>\n",
       "      <th>count</th>\n",
       "      <td>20000.000000</td>\n",
       "      <td>20000.000000</td>\n",
       "    </tr>\n",
       "    <tr>\n",
       "      <th>mean</th>\n",
       "      <td>0.006454</td>\n",
       "      <td>-0.252292</td>\n",
       "    </tr>\n",
       "    <tr>\n",
       "      <th>std</th>\n",
       "      <td>3.890019</td>\n",
       "      <td>3.221404</td>\n",
       "    </tr>\n",
       "    <tr>\n",
       "      <th>min</th>\n",
       "      <td>-15.845773</td>\n",
       "      <td>-11.830221</td>\n",
       "    </tr>\n",
       "    <tr>\n",
       "      <th>25%</th>\n",
       "      <td>-2.604486</td>\n",
       "      <td>-2.547036</td>\n",
       "    </tr>\n",
       "    <tr>\n",
       "      <th>50%</th>\n",
       "      <td>0.004577</td>\n",
       "      <td>-0.283550</td>\n",
       "    </tr>\n",
       "    <tr>\n",
       "      <th>75%</th>\n",
       "      <td>2.619241</td>\n",
       "      <td>2.052713</td>\n",
       "    </tr>\n",
       "    <tr>\n",
       "      <th>max</th>\n",
       "      <td>15.502691</td>\n",
       "      <td>11.957608</td>\n",
       "    </tr>\n",
       "  </tbody>\n",
       "</table>\n",
       "</div>"
      ],
      "text/plain": [
       "               true          pred\n",
       "count  20000.000000  20000.000000\n",
       "mean       0.006454     -0.252292\n",
       "std        3.890019      3.221404\n",
       "min      -15.845773    -11.830221\n",
       "25%       -2.604486     -2.547036\n",
       "50%        0.004577     -0.283550\n",
       "75%        2.619241      2.052713\n",
       "max       15.502691     11.957608"
      ]
     },
     "execution_count": 33,
     "metadata": {},
     "output_type": "execute_result"
    }
   ],
   "source": [
    "df_results = pd.DataFrame(\n",
    "    data = np.hstack((\n",
    "    np.expand_dims(test_reals,1),test_preds\n",
    "    ))\n",
    "    ,columns = [\"true\",\"pred\"]\n",
    ")\n",
    "\n",
    "df_results.describe()"
   ]
  },
  {
   "cell_type": "code",
   "execution_count": 34,
   "id": "a0bde69f-ca9d-4791-b5a3-65d00e879116",
   "metadata": {},
   "outputs": [
    {
     "data": {
      "text/html": [
       "<div>\n",
       "<style scoped>\n",
       "    .dataframe tbody tr th:only-of-type {\n",
       "        vertical-align: middle;\n",
       "    }\n",
       "\n",
       "    .dataframe tbody tr th {\n",
       "        vertical-align: top;\n",
       "    }\n",
       "\n",
       "    .dataframe thead th {\n",
       "        text-align: right;\n",
       "    }\n",
       "</style>\n",
       "<table border=\"1\" class=\"dataframe\">\n",
       "  <thead>\n",
       "    <tr style=\"text-align: right;\">\n",
       "      <th></th>\n",
       "      <th>true</th>\n",
       "      <th>pred</th>\n",
       "    </tr>\n",
       "    <tr>\n",
       "      <th>pred_segment</th>\n",
       "      <th></th>\n",
       "      <th></th>\n",
       "    </tr>\n",
       "  </thead>\n",
       "  <tbody>\n",
       "    <tr>\n",
       "      <th>(-11.831, -4.405]</th>\n",
       "      <td>-5.762515</td>\n",
       "      <td>-5.813342</td>\n",
       "    </tr>\n",
       "    <tr>\n",
       "      <th>(-4.405, -3.095]</th>\n",
       "      <td>-3.499929</td>\n",
       "      <td>-3.707593</td>\n",
       "    </tr>\n",
       "    <tr>\n",
       "      <th>(-3.095, -2.059]</th>\n",
       "      <td>-2.239505</td>\n",
       "      <td>-2.561866</td>\n",
       "    </tr>\n",
       "    <tr>\n",
       "      <th>(-2.059, -1.143]</th>\n",
       "      <td>-1.344558</td>\n",
       "      <td>-1.588658</td>\n",
       "    </tr>\n",
       "    <tr>\n",
       "      <th>(-1.143, -0.284]</th>\n",
       "      <td>-0.362307</td>\n",
       "      <td>-0.702079</td>\n",
       "    </tr>\n",
       "    <tr>\n",
       "      <th>(-0.284, 0.635]</th>\n",
       "      <td>0.440095</td>\n",
       "      <td>0.177845</td>\n",
       "    </tr>\n",
       "    <tr>\n",
       "      <th>(0.635, 1.581]</th>\n",
       "      <td>1.271477</td>\n",
       "      <td>1.096797</td>\n",
       "    </tr>\n",
       "    <tr>\n",
       "      <th>(1.581, 2.62]</th>\n",
       "      <td>2.250642</td>\n",
       "      <td>2.072290</td>\n",
       "    </tr>\n",
       "    <tr>\n",
       "      <th>(2.62, 3.943]</th>\n",
       "      <td>3.434564</td>\n",
       "      <td>3.246716</td>\n",
       "    </tr>\n",
       "    <tr>\n",
       "      <th>(3.943, 11.958]</th>\n",
       "      <td>5.876576</td>\n",
       "      <td>5.256974</td>\n",
       "    </tr>\n",
       "  </tbody>\n",
       "</table>\n",
       "</div>"
      ],
      "text/plain": [
       "                       true      pred\n",
       "pred_segment                         \n",
       "(-11.831, -4.405] -5.762515 -5.813342\n",
       "(-4.405, -3.095]  -3.499929 -3.707593\n",
       "(-3.095, -2.059]  -2.239505 -2.561866\n",
       "(-2.059, -1.143]  -1.344558 -1.588658\n",
       "(-1.143, -0.284]  -0.362307 -0.702079\n",
       "(-0.284, 0.635]    0.440095  0.177845\n",
       "(0.635, 1.581]     1.271477  1.096797\n",
       "(1.581, 2.62]      2.250642  2.072290\n",
       "(2.62, 3.943]      3.434564  3.246716\n",
       "(3.943, 11.958]    5.876576  5.256974"
      ]
     },
     "execution_count": 34,
     "metadata": {},
     "output_type": "execute_result"
    }
   ],
   "source": [
    "df_results[\"pred_segment\"] = pd.qcut(df_results[\"pred\"],10)\n",
    "df_results.groupby(\"pred_segment\").mean()"
   ]
  },
  {
   "cell_type": "code",
   "execution_count": 35,
   "id": "aaf071eb-b503-466a-acb7-93ccb7900327",
   "metadata": {},
   "outputs": [
    {
     "data": {
      "text/plain": [
       "(4.208647, 15.132245)"
      ]
     },
     "execution_count": 35,
     "metadata": {},
     "output_type": "execute_result"
    }
   ],
   "source": [
    "mean_squared_error(df_results[\"true\"], df_results[\"pred\"]), df_results[\"true\"].var()"
   ]
  },
  {
   "cell_type": "code",
   "execution_count": null,
   "id": "f5f7b44a-9744-4ec0-ac41-be8affff1978",
   "metadata": {},
   "outputs": [],
   "source": []
  }
 ],
 "metadata": {
  "environment": {
   "kernel": "python3",
   "name": "pytorch-gpu.1-11.m94",
   "type": "gcloud",
   "uri": "gcr.io/deeplearning-platform-release/pytorch-gpu.1-11:m94"
  },
  "kernelspec": {
   "display_name": "Python 3",
   "language": "python",
   "name": "python3"
  },
  "language_info": {
   "codemirror_mode": {
    "name": "ipython",
    "version": 3
   },
   "file_extension": ".py",
   "mimetype": "text/x-python",
   "name": "python",
   "nbconvert_exporter": "python",
   "pygments_lexer": "ipython3",
   "version": "3.7.12"
  }
 },
 "nbformat": 4,
 "nbformat_minor": 5
}
