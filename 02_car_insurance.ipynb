{
 "cells": [
  {
   "cell_type": "markdown",
   "id": "b07fcdc9-31a2-41d0-a868-37f072c725a2",
   "metadata": {},
   "source": [
    "[ref](https://pytorch.org/tutorials/beginner/dcgan_faces_tutorial.html)"
   ]
  },
  {
   "cell_type": "code",
   "execution_count": 1,
   "id": "a299c93b-2ec6-498e-b737-d38aae8f3156",
   "metadata": {},
   "outputs": [],
   "source": [
    "import numpy as np\n",
    "import pandas as pd\n",
    "import matplotlib.pyplot as plt\n",
    "\n",
    "from sklearn.model_selection import train_test_split\n",
    "from sklearn.metrics import mean_squared_error, mean_absolute_error\n",
    "from sklearn.datasets import fetch_openml\n",
    "from sklearn.preprocessing import OneHotEncoder\n",
    "from sklearn.gaussian_process import GaussianProcessRegressor, kernels"
   ]
  },
  {
   "cell_type": "code",
   "execution_count": 2,
   "id": "835efe7f-bbf8-4ecf-b7a0-7b4f4202c394",
   "metadata": {},
   "outputs": [],
   "source": [
    "import torch\n",
    "import torch.nn as nn\n",
    "import torch.nn.parallel\n",
    "import torch.backends.cudnn as cudnn\n",
    "import torch.optim as optim\n",
    "import torch.utils.data\n",
    "\n",
    "from torch.utils.data.sampler import SubsetRandomSampler"
   ]
  },
  {
   "cell_type": "code",
   "execution_count": 3,
   "id": "49ddac81-def8-4e05-9ac8-23c20a3a6582",
   "metadata": {},
   "outputs": [
    {
     "name": "stdout",
     "output_type": "stream",
     "text": [
      "Random Seed:  999\n"
     ]
    },
    {
     "data": {
      "text/plain": [
       "<torch._C.Generator at 0x7f3995bbe350>"
      ]
     },
     "execution_count": 3,
     "metadata": {},
     "output_type": "execute_result"
    }
   ],
   "source": [
    "# Set random seed for reproducibility\n",
    "manualSeed = 999\n",
    "#manualSeed = random.randint(1, 10000) # use if you want new results\n",
    "print(\"Random Seed: \", manualSeed)\n",
    "np.random.seed(manualSeed)\n",
    "torch.manual_seed(manualSeed)"
   ]
  },
  {
   "cell_type": "code",
   "execution_count": 4,
   "id": "27efa966-b354-4ada-ab08-4c79913e7702",
   "metadata": {},
   "outputs": [],
   "source": [
    "device = torch.device(\"cuda:0\" if (torch.cuda.is_available() and ngpu > 0) else \"cpu\")\n",
    "ngpu=0"
   ]
  },
  {
   "cell_type": "code",
   "execution_count": 5,
   "id": "0d6677de-29eb-49b1-9814-e645ff1cf853",
   "metadata": {},
   "outputs": [
    {
     "name": "stdout",
     "output_type": "stream",
     "text": [
      "(100000, 48) (100000,)\n"
     ]
    }
   ],
   "source": [
    "df = fetch_openml(data_id=41214, as_frame=True)[\"data\"].dropna()\n",
    "\n",
    "df[df.select_dtypes(['float64']).columns] = (df[df.select_dtypes(['float64']).columns] - df[df.select_dtypes(['float64']).columns].mean()) / df[df.select_dtypes(['float64']).columns].std()\n",
    "\n",
    "df = df.sample(n=10**5, random_state=43)\n",
    "\n",
    "\n",
    "for feat in df.select_dtypes(['category']).columns:\n",
    "    df[feat] = df[feat].values.codes\n",
    "\n",
    "for feat in df.columns:\n",
    "    num_new_feats = len(df[feat].unique())\n",
    "    if df[feat].dtype != \"float64\":\n",
    "        new_feats = OneHotEncoder(sparse=False).fit_transform(df[feat].values.reshape(-1,1))\n",
    "        for idx in range(num_new_feats):\n",
    "            df[f\"{feat}_{idx}\"] = new_feats[:,idx]\n",
    "            df[f\"{feat}_{idx}\"] = df[f\"{feat}_{idx}\"].astype(\"float\")\n",
    "        del df[feat]\n",
    "\n",
    "\n",
    "x = df.drop(columns=\"ClaimNb\").values\n",
    "y = df[\"ClaimNb\"].values\n",
    "print(x.shape, y.shape)"
   ]
  },
  {
   "cell_type": "code",
   "execution_count": 6,
   "id": "83cb2418-b9b4-43a6-81b1-9e90e9085aca",
   "metadata": {},
   "outputs": [],
   "source": [
    "n_samples = x.shape[0] # 10**5\n",
    "n_feats = x.shape[1] # 10"
   ]
  },
  {
   "cell_type": "code",
   "execution_count": 7,
   "id": "d50cc55e-1be7-42df-af08-9e1aabfc33d6",
   "metadata": {},
   "outputs": [],
   "source": [
    "# x = np.random.randn(n_samples, n_feats)\n",
    "# w = np.random.randn(n_feats)\n",
    "# y = x.dot(w) + 2*np.random.randn(n_samples)"
   ]
  },
  {
   "cell_type": "code",
   "execution_count": 8,
   "id": "fb09d30a-31ed-43d6-9c33-5480187225c2",
   "metadata": {},
   "outputs": [
    {
     "data": {
      "text/plain": [
       "(-0.22175311776058076, 66.41233768372616)"
      ]
     },
     "execution_count": 8,
     "metadata": {},
     "output_type": "execute_result"
    }
   ],
   "source": [
    "y.min(), y.max()"
   ]
  },
  {
   "cell_type": "markdown",
   "id": "fc875939-ce9f-4b50-b53b-23fff0688262",
   "metadata": {},
   "source": [
    "### Simple Linear Regression check"
   ]
  },
  {
   "cell_type": "code",
   "execution_count": 9,
   "id": "448800fd-6be2-465e-a2cc-4bdf178de4df",
   "metadata": {},
   "outputs": [
    {
     "data": {
      "text/plain": [
       "array([-1.49121498e-01,  7.32334338e-02,  2.09144994e-03, -2.89256704e-02,\n",
       "        4.69718831e-02,  8.97990807e-02,  6.82697376e-03, -3.16208758e+09,\n",
       "       -3.16208758e+09, -3.16208758e+09, -3.16208758e+09, -3.16208758e+09,\n",
       "       -3.16208758e+09, -6.48092280e+09, -6.48092280e+09, -6.48092280e+09,\n",
       "       -6.48092280e+09, -6.48092280e+09, -6.48092280e+09, -6.48092280e+09,\n",
       "       -6.48092280e+09, -6.48092280e+09, -6.48092280e+09, -6.48092280e+09,\n",
       "       -4.88841816e+10, -4.88841816e+10, -4.93086815e+09, -4.93086815e+09,\n",
       "       -4.93086815e+09, -4.93086815e+09, -4.93086815e+09, -4.93086815e+09,\n",
       "       -4.93086815e+09, -4.93086815e+09, -4.93086815e+09, -4.93086815e+09,\n",
       "       -4.93086815e+09, -4.93086815e+09, -4.93086815e+09, -4.93086815e+09,\n",
       "       -4.93086815e+09, -4.93086815e+09, -4.93086815e+09, -4.93086815e+09,\n",
       "       -4.93086815e+09, -4.93086815e+09, -4.93086815e+09, -4.93086815e+09])"
      ]
     },
     "execution_count": 9,
     "metadata": {},
     "output_type": "execute_result"
    }
   ],
   "source": [
    "from sklearn.linear_model import LinearRegression\n",
    "\n",
    "reg = LinearRegression().fit(x, y)\n",
    "reg.coef_"
   ]
  },
  {
   "cell_type": "code",
   "execution_count": 10,
   "id": "84bcbe89-a4e9-422b-a251-245cfea655ba",
   "metadata": {},
   "outputs": [
    {
     "data": {
      "text/plain": [
       "(0.029027146229226752, 1.00917267564145)"
      ]
     },
     "execution_count": 10,
     "metadata": {},
     "output_type": "execute_result"
    }
   ],
   "source": [
    "reg.score(x, y), (1-reg.score(x, y))*y.var()"
   ]
  },
  {
   "cell_type": "markdown",
   "id": "60aa35bd-b7bb-409a-b623-21ca0ff56991",
   "metadata": {},
   "source": [
    "# Regress GAN"
   ]
  },
  {
   "cell_type": "markdown",
   "id": "b3acd4b7-1b0d-4eda-8cc5-d20429ec969f",
   "metadata": {},
   "source": [
    "### Define ANN Architecture"
   ]
  },
  {
   "cell_type": "code",
   "execution_count": 11,
   "id": "ee5d7b20-ed44-4047-bcc6-748164a359d2",
   "metadata": {},
   "outputs": [],
   "source": [
    "# Batch size during training\n",
    "batch_size = 128\n",
    "\n",
    "# Size of z latent vector (i.e. size of generator input)\n",
    "nz = 5\n",
    "\n",
    "# Number of training epochs\n",
    "num_epochs = 5\n",
    "\n",
    "# Learning rate for optimizers\n",
    "lr = 0.0002\n",
    "# lr = 0.0002\n",
    "\n",
    "# Beta1 hyperparam for Adam optimizers\n",
    "beta1 = 0.5\n",
    "\n",
    "# width of the network\n",
    "network_width = 128"
   ]
  },
  {
   "cell_type": "code",
   "execution_count": 12,
   "id": "22b53034-9834-4886-bfd9-ad9fccca302f",
   "metadata": {},
   "outputs": [],
   "source": [
    "# create train and test indices\n",
    "train, test = train_test_split(list(range(x.shape[0])), test_size=.2)\n",
    "train, val = train_test_split(train, test_size=.25)"
   ]
  },
  {
   "cell_type": "code",
   "execution_count": 13,
   "id": "926ae90b-8966-4a42-995c-2512b91025b3",
   "metadata": {},
   "outputs": [],
   "source": [
    "# https://gist.github.com/conormm/5b26a08029b900520bcd6fcd1f5712a0\n",
    "class PrepareData(torch.utils.data.Dataset):\n",
    "\n",
    "    def __init__(self, X, y, scale_X=True):\n",
    "        if not torch.is_tensor(X):\n",
    "            if scale_X:\n",
    "                X = StandardScaler().fit_transform(X)\n",
    "            self.X = torch.from_numpy(X).float()\n",
    "        else:\n",
    "            self.X = X.float32()\n",
    "        if not torch.is_tensor(y):\n",
    "            self.y = torch.from_numpy(y).float()\n",
    "        else:\n",
    "            self.y = y.float32()\n",
    "\n",
    "    def __len__(self):\n",
    "        return len(self.X)\n",
    "\n",
    "    def __getitem__(self, idx):\n",
    "        return self.X[idx], self.y[idx]\n",
    "\n",
    "ds = PrepareData(x, y=y, scale_X=False)\n",
    "\n",
    "train_set = torch.utils.data.DataLoader(ds, batch_size=batch_size,\n",
    "                       sampler=SubsetRandomSampler(train))\n",
    "val_set = torch.utils.data.DataLoader(ds, batch_size=batch_size,\n",
    "                       sampler=SubsetRandomSampler(val))\n",
    "test_set = torch.utils.data.DataLoader(ds, batch_size=batch_size,\n",
    "                      sampler=SubsetRandomSampler(test))"
   ]
  },
  {
   "cell_type": "code",
   "execution_count": 14,
   "id": "ae20ffb8-a81c-401b-96cc-6ea2948081d3",
   "metadata": {
    "collapsed": false,
    "jupyter": {
     "outputs_hidden": false
    }
   },
   "outputs": [],
   "source": [
    "# Generator Code\n",
    "\n",
    "class Generator(nn.Module):\n",
    "    def __init__(self, ngpu):\n",
    "        super(Generator, self).__init__()\n",
    "        self.ngpu = ngpu\n",
    "        self.main = nn.Sequential(\n",
    "            # input is Z, going into a convolution\n",
    "            nn.Linear( n_feats+nz, network_width, bias=True),\n",
    "            nn.ReLU(True),\n",
    "\n",
    "            nn.Linear( network_width, network_width, bias=True),\n",
    "            nn.ReLU(True),\n",
    "\n",
    "            nn.Linear( network_width, 1, bias=True)\n",
    "\n",
    "        )\n",
    "\n",
    "    def forward(self, input):\n",
    "        return self.main(input)"
   ]
  },
  {
   "cell_type": "code",
   "execution_count": 15,
   "id": "75149020-6f89-4866-b582-b6d1f1bfbf0f",
   "metadata": {},
   "outputs": [
    {
     "name": "stdout",
     "output_type": "stream",
     "text": [
      "Generator(\n",
      "  (main): Sequential(\n",
      "    (0): Linear(in_features=53, out_features=128, bias=True)\n",
      "    (1): ReLU(inplace=True)\n",
      "    (2): Linear(in_features=128, out_features=128, bias=True)\n",
      "    (3): ReLU(inplace=True)\n",
      "    (4): Linear(in_features=128, out_features=1, bias=True)\n",
      "  )\n",
      ")\n"
     ]
    }
   ],
   "source": [
    "# Create the generator\n",
    "netG = Generator(ngpu).to(device)\n",
    "\n",
    "# Print the model\n",
    "print(netG)"
   ]
  },
  {
   "cell_type": "code",
   "execution_count": 16,
   "id": "65c0957d-f66b-491d-97a0-6cb5107cbb4c",
   "metadata": {
    "collapsed": false,
    "jupyter": {
     "outputs_hidden": false
    }
   },
   "outputs": [],
   "source": [
    "# Discriminator Code\n",
    "\n",
    "class Discriminator(nn.Module):\n",
    "    def __init__(self, ngpu):\n",
    "        super(Discriminator, self).__init__()\n",
    "        self.ngpu = ngpu\n",
    "        self.main = nn.Sequential(\n",
    "            # input is Z, going into a convolution\n",
    "            nn.Linear(n_feats+1, network_width, bias=True), # i/p is covariates and o/p\n",
    "            nn.LeakyReLU(0.2, inplace=True),\n",
    "\n",
    "            nn.Linear( network_width, network_width, bias=True),\n",
    "            nn.LeakyReLU(0.2, inplace=True),\n",
    "\n",
    "            nn.Linear( network_width, 1, bias=True),\n",
    "            nn.Sigmoid(),\n",
    "\n",
    "        )\n",
    "\n",
    "    def forward(self, input):\n",
    "        return self.main(input)"
   ]
  },
  {
   "cell_type": "code",
   "execution_count": 17,
   "id": "29259410-3eeb-44b4-8097-ac4eb88d2813",
   "metadata": {},
   "outputs": [
    {
     "name": "stdout",
     "output_type": "stream",
     "text": [
      "Discriminator(\n",
      "  (main): Sequential(\n",
      "    (0): Linear(in_features=49, out_features=128, bias=True)\n",
      "    (1): LeakyReLU(negative_slope=0.2, inplace=True)\n",
      "    (2): Linear(in_features=128, out_features=128, bias=True)\n",
      "    (3): LeakyReLU(negative_slope=0.2, inplace=True)\n",
      "    (4): Linear(in_features=128, out_features=1, bias=True)\n",
      "    (5): Sigmoid()\n",
      "  )\n",
      ")\n"
     ]
    }
   ],
   "source": [
    "# Create the Discriminator\n",
    "netD = Discriminator(ngpu).to(device)\n",
    "\n",
    "# Print the model\n",
    "print(netD)"
   ]
  },
  {
   "cell_type": "code",
   "execution_count": 18,
   "id": "c30d199c-43ed-4bc9-b0b2-2d8661f2efa8",
   "metadata": {
    "collapsed": false,
    "jupyter": {
     "outputs_hidden": false
    }
   },
   "outputs": [],
   "source": [
    "# Initialize BCELoss function\n",
    "criterion = nn.BCELoss()\n",
    "\n",
    "# Create batch of latent vectors that we will use to visualize\n",
    "#  the progression of the generator\n",
    "fixed_noise = torch.randn(nz, device=device)\n",
    "\n",
    "# Establish convention for real and fake labels during training\n",
    "real_label = 1.\n",
    "fake_label = 0.\n",
    "\n",
    "# Setup Adam optimizers for both G and D\n",
    "optimizerD = optim.Adam(netD.parameters(), lr=lr, betas=(beta1, 0.999))\n",
    "optimizerG = optim.Adam(netG.parameters(), lr=lr, betas=(beta1, 0.999))"
   ]
  },
  {
   "cell_type": "code",
   "execution_count": 19,
   "id": "4caa3c28-69b8-4383-83d6-36d301752234",
   "metadata": {},
   "outputs": [
    {
     "name": "stdout",
     "output_type": "stream",
     "text": [
      "Starting Training Loop...\n",
      "[0/5][0/469]\tLoss_D: 1.3873\tLoss_G: 0.6703\tD(x): 0.5132\tD(G(z)): 0.5132 / 0.5116\n",
      "[1/5][0/469]\tLoss_D: 1.3078\tLoss_G: 0.7766\tD(x): 0.5122\tD(G(z)): 0.4601 / 0.4601\n",
      "[2/5][0/469]\tLoss_D: 1.3518\tLoss_G: 0.7175\tD(x): 0.5127\tD(G(z)): 0.4880 / 0.4882\n",
      "[3/5][0/469]\tLoss_D: 1.3530\tLoss_G: 0.7174\tD(x): 0.5120\tD(G(z)): 0.4877 / 0.4882\n",
      "[4/5][0/469]\tLoss_D: 1.3483\tLoss_G: 0.7163\tD(x): 0.5167\tD(G(z)): 0.4888 / 0.4887\n"
     ]
    }
   ],
   "source": [
    "# Training Loop\n",
    "\n",
    "# Lists to keep track of progress\n",
    "img_list = []\n",
    "G_losses = []\n",
    "D_losses = []\n",
    "iters = 0\n",
    "\n",
    "G_losses_val = []\n",
    "D_losses_val = []\n",
    "\n",
    "print(\"Starting Training Loop...\")\n",
    "# For each epoch\n",
    "for epoch in range(num_epochs):\n",
    "    # For each batch in the dataloader\n",
    "    for i, data in enumerate(train_set, 0):\n",
    "        \n",
    "        ############################\n",
    "        # (1) Update D network: maximize log(D(x)) + log(1 - D(G(z)))\n",
    "        ###########################\n",
    "        ## Train with all-real batch\n",
    "        netD.zero_grad()\n",
    "        # Format batch\n",
    "        real_cpu = torch.hstack((data[0],data[1].unsqueeze(1))).to(device)\n",
    "        b_size = real_cpu.size(0)\n",
    "        label = torch.full((b_size,), real_label, dtype=torch.float, device=device)\n",
    "        # Forward pass real batch through D\n",
    "        output = netD(real_cpu).view(-1)\n",
    "        # Calculate loss on all-real batch\n",
    "        errD_real = criterion(output, label)\n",
    "        # Calculate gradients for D in backward pass\n",
    "        errD_real.backward()\n",
    "        D_x = output.mean().item()\n",
    "\n",
    "        ## Train with all-fake batch\n",
    "        # Generate batch of latent vectors\n",
    "        noise = torch.randn(b_size, nz, device=device)\n",
    "        # Generate fake image batch with G\n",
    "        gen_ip = torch.hstack((data[0],noise)).to(device)\n",
    "        fake = netG(gen_ip)\n",
    "        \n",
    "        label.fill_(fake_label)\n",
    "        # Classify all fake batch with D\n",
    "        fake_cpu = torch.hstack((data[0],fake.detach())).to(device)\n",
    "        output = netD(fake_cpu.detach()).view(-1)\n",
    "        # Calculate D's loss on the all-fake batch\n",
    "        errD_fake = criterion(output, label)\n",
    "        # Calculate the gradients for this batch, accumulated (summed) with previous gradients\n",
    "        errD_fake.backward()\n",
    "        D_G_z1 = output.mean().item()\n",
    "        # Compute error of D as sum over the fake and the real batches\n",
    "        errD = errD_real + errD_fake\n",
    "        # Update D\n",
    "        optimizerD.step()\n",
    "\n",
    "        ############################\n",
    "        # (2) Update G network: maximize log(D(G(z)))\n",
    "        ###########################\n",
    "        netG.zero_grad()\n",
    "        label.fill_(real_label)  # fake labels are real for generator cost\n",
    "        # Since we just updated D, perform another forward pass of all-fake batch through D\n",
    "        fake_cpu = torch.hstack((data[0],fake)).to(device)\n",
    "        output = netD(fake_cpu).view(-1)\n",
    "        # Calculate G's loss based on this output\n",
    "        errG = criterion(output, label)\n",
    "        # Calculate gradients for G\n",
    "        errG.backward()\n",
    "        D_G_z2 = output.mean().item()\n",
    "        # Update G\n",
    "        optimizerG.step()\n",
    "        \n",
    "        # Output training stats\n",
    "        if i % 500 == 0:\n",
    "            print('[%d/%d][%d/%d]\\tLoss_D: %.4f\\tLoss_G: %.4f\\tD(x): %.4f\\tD(G(z)): %.4f / %.4f'\n",
    "                  % (epoch, num_epochs, i, len(train_set),\n",
    "                     errD.item(), errG.item(), D_x, D_G_z1, D_G_z2))\n",
    "                \n",
    "        # Output validation stats\n",
    "        if i % 100 == 0:\n",
    "            with torch.no_grad():\n",
    "                errG_vals = []\n",
    "                errD_vals = []\n",
    "                for i, data in enumerate(val_set, 0):\n",
    "                    b_size = data[0].size(0)\n",
    "                    noise = torch.randn(b_size, nz, device=device)\n",
    "                    # Generate fake image batch with G\n",
    "                    gen_ip = torch.hstack((data[0],noise)).to(device)\n",
    "                    gen_op = netG(gen_ip)\n",
    "                    \n",
    "                    fake_cpu = torch.hstack((data[0],gen_op)).to(device)\n",
    "                    fake_output = netD(fake_cpu).view(-1)\n",
    "\n",
    "                    label.fill_(real_label) # fake labels are real for generator cost\n",
    "                    errG_val = criterion(output, label)  \n",
    "                    \n",
    "                    label.fill_(fake_label)\n",
    "                    errD_fake_val = criterion(output, label)\n",
    "                    \n",
    "                    real_cpu = torch.hstack((data[0],data[1].unsqueeze(1))).to(device)\n",
    "                    real_output = netD(real_cpu).view(-1)\n",
    "                    \n",
    "                    label.fill_(real_label)\n",
    "                    errD_real_val = criterion(output, label)\n",
    "                    \n",
    "                    errG_vals.append(errG_val.item())\n",
    "                    errD_vals.append((errD_fake_val+errD_real_val).item())\n",
    "            G_losses_val.append(sum(errG_vals)/len(errG_vals))\n",
    "            D_losses_val.append(sum(errD_vals)/len(errD_vals))\n",
    "        \n",
    "        \n",
    "        # Save Losses for plotting later\n",
    "        G_losses.append(errG.item())\n",
    "        D_losses.append(errD.item())\n",
    "        \n",
    "        # Check how the generator is doing by saving G's output on fixed_noise\n",
    "        # if (iters % 500 == 0) or ((epoch == num_epochs-1) and (i == len(train_set)-1)):\n",
    "        #     with torch.no_grad():\n",
    "        #         fake = netG(fixed_noise).detach().cpu()\n",
    "        #     img_list.append(vutils.make_grid(fake, padding=2, normalize=True))\n",
    "            \n",
    "        iters += 1"
   ]
  },
  {
   "cell_type": "code",
   "execution_count": 20,
   "id": "1cca6ec1-c384-40f7-9455-c723703c67d4",
   "metadata": {},
   "outputs": [
    {
     "data": {
      "image/png": "[encoded data removed]",
      "text/plain": [
       "<Figure size 720x360 with 1 Axes>"
      ]
     },
     "metadata": {
      "needs_background": "light"
     },
     "output_type": "display_data"
    }
   ],
   "source": [
    "plt.figure(figsize=(10,5))\n",
    "plt.title(\"Generator and Discriminator Loss During Training\")\n",
    "plt.plot(G_losses,label=\"G\")\n",
    "plt.plot(D_losses,label=\"D\")\n",
    "plt.xlabel(\"iterations\")\n",
    "plt.ylabel(\"Loss\")\n",
    "plt.legend()\n",
    "plt.show()"
   ]
  },
  {
   "cell_type": "code",
   "execution_count": 21,
   "id": "64be2550-691b-40c4-a4e9-f16cb3783b0f",
   "metadata": {},
   "outputs": [
    {
     "data": {
      "image/png": "[encoded data removed]",
      "text/plain": [
       "<Figure size 720x360 with 1 Axes>"
      ]
     },
     "metadata": {
      "needs_background": "light"
     },
     "output_type": "display_data"
    }
   ],
   "source": [
    "plt.figure(figsize=(10,5))\n",
    "plt.title(\"Generator and Discriminator Loss During Training (Validation Set)\")\n",
    "plt.plot(G_losses_val,label=\"G\")\n",
    "plt.plot(D_losses_val,label=\"D\")\n",
    "plt.xlabel(\"iterations\")\n",
    "plt.ylabel(\"Loss\")\n",
    "plt.legend()\n",
    "plt.show()"
   ]
  },
  {
   "cell_type": "markdown",
   "id": "9546287e-8940-4fbc-b990-81029da132cd",
   "metadata": {},
   "source": [
    "## Train Predictions"
   ]
  },
  {
   "cell_type": "code",
   "execution_count": 22,
   "id": "22d71a6f-0001-4bcd-957f-a2b0e1d2394d",
   "metadata": {},
   "outputs": [],
   "source": [
    "train_ops = []\n",
    "with torch.no_grad():\n",
    "    for i, data in enumerate(train_set, 0):\n",
    "        b_size = data[0].size(0)\n",
    "        noise = torch.randn(b_size, nz, device=device)\n",
    "        # Generate fake image batch with G\n",
    "        gen_ip = torch.hstack((data[0],noise)).to(device)\n",
    "        fake = netG(gen_ip)\n",
    "        \n",
    "        train_ops.append(\n",
    "            (data[1].detach().cpu().numpy(), fake.detach().cpu().numpy())\n",
    "        )"
   ]
  },
  {
   "cell_type": "code",
   "execution_count": 23,
   "id": "23c38a2f-9fec-452f-ac02-b3e35e14b189",
   "metadata": {},
   "outputs": [],
   "source": [
    "train_reals = np.concatenate(list(x[0] for x in train_ops))\n",
    "train_preds = np.concatenate(list(x[1] for x in train_ops))"
   ]
  },
  {
   "cell_type": "code",
   "execution_count": 24,
   "id": "378a9a1c-39df-4ae5-a35e-edff8243ec80",
   "metadata": {},
   "outputs": [
    {
     "data": {
      "text/html": [
       "<div>\n",
       "<style scoped>\n",
       "    .dataframe tbody tr th:only-of-type {\n",
       "        vertical-align: middle;\n",
       "    }\n",
       "\n",
       "    .dataframe tbody tr th {\n",
       "        vertical-align: top;\n",
       "    }\n",
       "\n",
       "    .dataframe thead th {\n",
       "        text-align: right;\n",
       "    }\n",
       "</style>\n",
       "<table border=\"1\" class=\"dataframe\">\n",
       "  <thead>\n",
       "    <tr style=\"text-align: right;\">\n",
       "      <th></th>\n",
       "      <th>true</th>\n",
       "      <th>pred</th>\n",
       "    </tr>\n",
       "  </thead>\n",
       "  <tbody>\n",
       "    <tr>\n",
       "      <th>count</th>\n",
       "      <td>60000.000000</td>\n",
       "      <td>60000.000000</td>\n",
       "    </tr>\n",
       "    <tr>\n",
       "      <th>mean</th>\n",
       "      <td>-0.001583</td>\n",
       "      <td>-0.176489</td>\n",
       "    </tr>\n",
       "    <tr>\n",
       "      <th>std</th>\n",
       "      <td>1.002740</td>\n",
       "      <td>0.028384</td>\n",
       "    </tr>\n",
       "    <tr>\n",
       "      <th>min</th>\n",
       "      <td>-0.221753</td>\n",
       "      <td>-0.279848</td>\n",
       "    </tr>\n",
       "    <tr>\n",
       "      <th>25%</th>\n",
       "      <td>-0.221753</td>\n",
       "      <td>-0.194853</td>\n",
       "    </tr>\n",
       "    <tr>\n",
       "      <th>50%</th>\n",
       "      <td>-0.221753</td>\n",
       "      <td>-0.180073</td>\n",
       "    </tr>\n",
       "    <tr>\n",
       "      <th>75%</th>\n",
       "      <td>-0.221753</td>\n",
       "      <td>-0.162522</td>\n",
       "    </tr>\n",
       "    <tr>\n",
       "      <th>max</th>\n",
       "      <td>45.589184</td>\n",
       "      <td>0.185729</td>\n",
       "    </tr>\n",
       "  </tbody>\n",
       "</table>\n",
       "</div>"
      ],
      "text/plain": [
       "               true          pred\n",
       "count  60000.000000  60000.000000\n",
       "mean      -0.001583     -0.176489\n",
       "std        1.002740      0.028384\n",
       "min       -0.221753     -0.279848\n",
       "25%       -0.221753     -0.194853\n",
       "50%       -0.221753     -0.180073\n",
       "75%       -0.221753     -0.162522\n",
       "max       45.589184      0.185729"
      ]
     },
     "execution_count": 24,
     "metadata": {},
     "output_type": "execute_result"
    }
   ],
   "source": [
    "df_results_train = pd.DataFrame(\n",
    "    data = np.hstack((\n",
    "    np.expand_dims(train_reals,1),train_preds\n",
    "    ))\n",
    "    ,columns = [\"true\",\"pred\"]\n",
    ")\n",
    "\n",
    "df_results_train.describe()"
   ]
  },
  {
   "cell_type": "code",
   "execution_count": 25,
   "id": "44f3be38-2a76-41f2-9f4a-95be6b25490b",
   "metadata": {},
   "outputs": [
    {
     "data": {
      "text/html": [
       "<div>\n",
       "<style scoped>\n",
       "    .dataframe tbody tr th:only-of-type {\n",
       "        vertical-align: middle;\n",
       "    }\n",
       "\n",
       "    .dataframe tbody tr th {\n",
       "        vertical-align: top;\n",
       "    }\n",
       "\n",
       "    .dataframe thead th {\n",
       "        text-align: right;\n",
       "    }\n",
       "</style>\n",
       "<table border=\"1\" class=\"dataframe\">\n",
       "  <thead>\n",
       "    <tr style=\"text-align: right;\">\n",
       "      <th></th>\n",
       "      <th>true</th>\n",
       "      <th>pred</th>\n",
       "    </tr>\n",
       "    <tr>\n",
       "      <th>pred_segment</th>\n",
       "      <th></th>\n",
       "      <th></th>\n",
       "    </tr>\n",
       "  </thead>\n",
       "  <tbody>\n",
       "    <tr>\n",
       "      <th>(-0.281, -0.208]</th>\n",
       "      <td>-0.057944</td>\n",
       "      <td>-0.218035</td>\n",
       "    </tr>\n",
       "    <tr>\n",
       "      <th>(-0.208, -0.198]</th>\n",
       "      <td>-0.051697</td>\n",
       "      <td>-0.202581</td>\n",
       "    </tr>\n",
       "    <tr>\n",
       "      <th>(-0.198, -0.192]</th>\n",
       "      <td>-0.047533</td>\n",
       "      <td>-0.194906</td>\n",
       "    </tr>\n",
       "    <tr>\n",
       "      <th>(-0.192, -0.186]</th>\n",
       "      <td>-0.043368</td>\n",
       "      <td>-0.188614</td>\n",
       "    </tr>\n",
       "    <tr>\n",
       "      <th>(-0.186, -0.18]</th>\n",
       "      <td>-0.036427</td>\n",
       "      <td>-0.182928</td>\n",
       "    </tr>\n",
       "    <tr>\n",
       "      <th>(-0.18, -0.174]</th>\n",
       "      <td>-0.056556</td>\n",
       "      <td>-0.177018</td>\n",
       "    </tr>\n",
       "    <tr>\n",
       "      <th>(-0.174, -0.167]</th>\n",
       "      <td>-0.010051</td>\n",
       "      <td>-0.170442</td>\n",
       "    </tr>\n",
       "    <tr>\n",
       "      <th>(-0.167, -0.157]</th>\n",
       "      <td>0.016325</td>\n",
       "      <td>-0.162302</td>\n",
       "    </tr>\n",
       "    <tr>\n",
       "      <th>(-0.157, -0.141]</th>\n",
       "      <td>0.072547</td>\n",
       "      <td>-0.150173</td>\n",
       "    </tr>\n",
       "    <tr>\n",
       "      <th>(-0.141, 0.186]</th>\n",
       "      <td>0.198875</td>\n",
       "      <td>-0.117889</td>\n",
       "    </tr>\n",
       "  </tbody>\n",
       "</table>\n",
       "</div>"
      ],
      "text/plain": [
       "                      true      pred\n",
       "pred_segment                        \n",
       "(-0.281, -0.208] -0.057944 -0.218035\n",
       "(-0.208, -0.198] -0.051697 -0.202581\n",
       "(-0.198, -0.192] -0.047533 -0.194906\n",
       "(-0.192, -0.186] -0.043368 -0.188614\n",
       "(-0.186, -0.18]  -0.036427 -0.182928\n",
       "(-0.18, -0.174]  -0.056556 -0.177018\n",
       "(-0.174, -0.167] -0.010051 -0.170442\n",
       "(-0.167, -0.157]  0.016325 -0.162302\n",
       "(-0.157, -0.141]  0.072547 -0.150173\n",
       "(-0.141, 0.186]   0.198875 -0.117889"
      ]
     },
     "execution_count": 25,
     "metadata": {},
     "output_type": "execute_result"
    }
   ],
   "source": [
    "df_results_train[\"pred_segment\"] = pd.qcut(df_results_train[\"pred\"],10)\n",
    "df_results_train.groupby(\"pred_segment\").mean()"
   ]
  },
  {
   "cell_type": "code",
   "execution_count": 26,
   "id": "25f8c965-2241-458d-bd98-f79a9a5b8de9",
   "metadata": {},
   "outputs": [
    {
     "data": {
      "text/plain": [
       "(1.0327511, 1.0054879)"
      ]
     },
     "execution_count": 26,
     "metadata": {},
     "output_type": "execute_result"
    }
   ],
   "source": [
    "mean_squared_error(df_results_train[\"true\"], df_results_train[\"pred\"]), df_results_train[\"true\"].var()"
   ]
  },
  {
   "cell_type": "code",
   "execution_count": 27,
   "id": "3b5a2f6a-10cb-4354-8ec2-188535bf86e5",
   "metadata": {},
   "outputs": [
    {
     "data": {
      "text/plain": [
       "(0.26044333, 0.41838926)"
      ]
     },
     "execution_count": 27,
     "metadata": {},
     "output_type": "execute_result"
    }
   ],
   "source": [
    "mean_absolute_error(df_results_train[\"true\"], df_results_train[\"pred\"]), (\n",
    "    df_results_train[\"true\"]-df_results_train[\"true\"].mean()\n",
    ").abs().mean()"
   ]
  },
  {
   "cell_type": "markdown",
   "id": "a8de3f01-dd60-4f6b-bf53-7b6fb50ab87a",
   "metadata": {},
   "source": [
    "## Test Predictions"
   ]
  },
  {
   "cell_type": "code",
   "execution_count": 28,
   "id": "4ca1102a-11e2-46b8-b0e4-232f0b8b6075",
   "metadata": {},
   "outputs": [],
   "source": [
    "test_ops = []\n",
    "with torch.no_grad():\n",
    "    for i, data in enumerate(test_set, 0):\n",
    "        b_size = data[0].size(0)\n",
    "        noise = torch.randn(b_size, nz, device=device)\n",
    "        # Generate fake image batch with G\n",
    "        gen_ip = torch.hstack((data[0],noise)).to(device)\n",
    "        fake = netG(gen_ip)\n",
    "        \n",
    "        test_ops.append(\n",
    "            (data[1].detach().cpu().numpy(), fake.detach().cpu().numpy())\n",
    "        )"
   ]
  },
  {
   "cell_type": "code",
   "execution_count": 29,
   "id": "a865a72b-bc48-4bbd-a185-ed30259d54c8",
   "metadata": {},
   "outputs": [],
   "source": [
    "test_reals = np.concatenate(list(x[0] for x in test_ops))\n",
    "test_preds = np.concatenate(list(x[1] for x in test_ops))"
   ]
  },
  {
   "cell_type": "code",
   "execution_count": 30,
   "id": "749677ba-6512-4ed3-8b27-979ac7f6b01c",
   "metadata": {},
   "outputs": [
    {
     "data": {
      "text/html": [
       "<div>\n",
       "<style scoped>\n",
       "    .dataframe tbody tr th:only-of-type {\n",
       "        vertical-align: middle;\n",
       "    }\n",
       "\n",
       "    .dataframe tbody tr th {\n",
       "        vertical-align: top;\n",
       "    }\n",
       "\n",
       "    .dataframe thead th {\n",
       "        text-align: right;\n",
       "    }\n",
       "</style>\n",
       "<table border=\"1\" class=\"dataframe\">\n",
       "  <thead>\n",
       "    <tr style=\"text-align: right;\">\n",
       "      <th></th>\n",
       "      <th>true</th>\n",
       "      <th>pred</th>\n",
       "    </tr>\n",
       "  </thead>\n",
       "  <tbody>\n",
       "    <tr>\n",
       "      <th>count</th>\n",
       "      <td>20000.000000</td>\n",
       "      <td>20000.000000</td>\n",
       "    </tr>\n",
       "    <tr>\n",
       "      <th>mean</th>\n",
       "      <td>-0.000403</td>\n",
       "      <td>-0.176310</td>\n",
       "    </tr>\n",
       "    <tr>\n",
       "      <th>std</th>\n",
       "      <td>1.091805</td>\n",
       "      <td>0.028462</td>\n",
       "    </tr>\n",
       "    <tr>\n",
       "      <th>min</th>\n",
       "      <td>-0.221753</td>\n",
       "      <td>-0.270451</td>\n",
       "    </tr>\n",
       "    <tr>\n",
       "      <th>25%</th>\n",
       "      <td>-0.221753</td>\n",
       "      <td>-0.194780</td>\n",
       "    </tr>\n",
       "    <tr>\n",
       "      <th>50%</th>\n",
       "      <td>-0.221753</td>\n",
       "      <td>-0.179825</td>\n",
       "    </tr>\n",
       "    <tr>\n",
       "      <th>75%</th>\n",
       "      <td>-0.221753</td>\n",
       "      <td>-0.162376</td>\n",
       "    </tr>\n",
       "    <tr>\n",
       "      <th>max</th>\n",
       "      <td>66.412338</td>\n",
       "      <td>0.188541</td>\n",
       "    </tr>\n",
       "  </tbody>\n",
       "</table>\n",
       "</div>"
      ],
      "text/plain": [
       "               true          pred\n",
       "count  20000.000000  20000.000000\n",
       "mean      -0.000403     -0.176310\n",
       "std        1.091805      0.028462\n",
       "min       -0.221753     -0.270451\n",
       "25%       -0.221753     -0.194780\n",
       "50%       -0.221753     -0.179825\n",
       "75%       -0.221753     -0.162376\n",
       "max       66.412338      0.188541"
      ]
     },
     "execution_count": 30,
     "metadata": {},
     "output_type": "execute_result"
    }
   ],
   "source": [
    "df_results = pd.DataFrame(\n",
    "    data = np.hstack((\n",
    "    np.expand_dims(test_reals,1),test_preds\n",
    "    ))\n",
    "    ,columns = [\"true\",\"pred\"]\n",
    ")\n",
    "\n",
    "df_results.describe()"
   ]
  },
  {
   "cell_type": "code",
   "execution_count": 31,
   "id": "452d1c07-874c-40f4-a2c2-300f4e5d437c",
   "metadata": {},
   "outputs": [
    {
     "data": {
      "text/html": [
       "<div>\n",
       "<style scoped>\n",
       "    .dataframe tbody tr th:only-of-type {\n",
       "        vertical-align: middle;\n",
       "    }\n",
       "\n",
       "    .dataframe tbody tr th {\n",
       "        vertical-align: top;\n",
       "    }\n",
       "\n",
       "    .dataframe thead th {\n",
       "        text-align: right;\n",
       "    }\n",
       "</style>\n",
       "<table border=\"1\" class=\"dataframe\">\n",
       "  <thead>\n",
       "    <tr style=\"text-align: right;\">\n",
       "      <th></th>\n",
       "      <th>true</th>\n",
       "      <th>pred</th>\n",
       "    </tr>\n",
       "    <tr>\n",
       "      <th>pred_segment</th>\n",
       "      <th></th>\n",
       "      <th></th>\n",
       "    </tr>\n",
       "  </thead>\n",
       "  <tbody>\n",
       "    <tr>\n",
       "      <th>(-0.271, -0.207]</th>\n",
       "      <td>-0.019769</td>\n",
       "      <td>-0.217850</td>\n",
       "    </tr>\n",
       "    <tr>\n",
       "      <th>(-0.207, -0.198]</th>\n",
       "      <td>-0.051003</td>\n",
       "      <td>-0.202477</td>\n",
       "    </tr>\n",
       "    <tr>\n",
       "      <th>(-0.198, -0.191]</th>\n",
       "      <td>-0.063497</td>\n",
       "      <td>-0.194790</td>\n",
       "    </tr>\n",
       "    <tr>\n",
       "      <th>(-0.191, -0.186]</th>\n",
       "      <td>-0.013522</td>\n",
       "      <td>-0.188466</td>\n",
       "    </tr>\n",
       "    <tr>\n",
       "      <th>(-0.186, -0.18]</th>\n",
       "      <td>-0.032262</td>\n",
       "      <td>-0.182706</td>\n",
       "    </tr>\n",
       "    <tr>\n",
       "      <th>(-0.18, -0.174]</th>\n",
       "      <td>-0.046839</td>\n",
       "      <td>-0.176870</td>\n",
       "    </tr>\n",
       "    <tr>\n",
       "      <th>(-0.174, -0.167]</th>\n",
       "      <td>-0.071826</td>\n",
       "      <td>-0.170358</td>\n",
       "    </tr>\n",
       "    <tr>\n",
       "      <th>(-0.167, -0.157]</th>\n",
       "      <td>0.023960</td>\n",
       "      <td>-0.162209</td>\n",
       "    </tr>\n",
       "    <tr>\n",
       "      <th>(-0.157, -0.141]</th>\n",
       "      <td>0.076018</td>\n",
       "      <td>-0.150238</td>\n",
       "    </tr>\n",
       "    <tr>\n",
       "      <th>(-0.141, 0.189]</th>\n",
       "      <td>0.194710</td>\n",
       "      <td>-0.117139</td>\n",
       "    </tr>\n",
       "  </tbody>\n",
       "</table>\n",
       "</div>"
      ],
      "text/plain": [
       "                      true      pred\n",
       "pred_segment                        \n",
       "(-0.271, -0.207] -0.019769 -0.217850\n",
       "(-0.207, -0.198] -0.051003 -0.202477\n",
       "(-0.198, -0.191] -0.063497 -0.194790\n",
       "(-0.191, -0.186] -0.013522 -0.188466\n",
       "(-0.186, -0.18]  -0.032262 -0.182706\n",
       "(-0.18, -0.174]  -0.046839 -0.176870\n",
       "(-0.174, -0.167] -0.071826 -0.170358\n",
       "(-0.167, -0.157]  0.023960 -0.162209\n",
       "(-0.157, -0.141]  0.076018 -0.150238\n",
       "(-0.141, 0.189]   0.194710 -0.117139"
      ]
     },
     "execution_count": 31,
     "metadata": {},
     "output_type": "execute_result"
    }
   ],
   "source": [
    "df_results[\"pred_segment\"] = pd.qcut(df_results[\"pred\"],10)\n",
    "df_results.groupby(\"pred_segment\").mean()"
   ]
  },
  {
   "cell_type": "code",
   "execution_count": 32,
   "id": "0749ecba-0122-48d0-afc5-80b1b2bb408f",
   "metadata": {},
   "outputs": [
    {
     "data": {
      "text/plain": [
       "(1.2200801, 1.1920376)"
      ]
     },
     "execution_count": 32,
     "metadata": {},
     "output_type": "execute_result"
    }
   ],
   "source": [
    "mean_squared_error(df_results[\"true\"], df_results[\"pred\"]), df_results[\"true\"].var()"
   ]
  },
  {
   "cell_type": "code",
   "execution_count": 33,
   "id": "83577395-eba5-4a41-b391-e9dcc1eb2fc5",
   "metadata": {},
   "outputs": [
    {
     "data": {
      "text/plain": [
       "(0.2618525, 0.420853)"
      ]
     },
     "execution_count": 33,
     "metadata": {},
     "output_type": "execute_result"
    }
   ],
   "source": [
    "mean_absolute_error(df_results[\"true\"], df_results[\"pred\"]), (\n",
    "    df_results[\"true\"]-df_results[\"true\"].mean()\n",
    ").abs().mean()"
   ]
  },
  {
   "cell_type": "markdown",
   "id": "70a4e314-b34b-48d7-8c96-cb001997eaaf",
   "metadata": {},
   "source": [
    "## Test Predictions (averaged)"
   ]
  },
  {
   "cell_type": "code",
   "execution_count": 34,
   "id": "e337d101-7e02-45c8-9c6f-ab824c4159f2",
   "metadata": {},
   "outputs": [],
   "source": [
    "N_SAMPLES = 100\n",
    "test_ops = []\n",
    "with torch.no_grad():\n",
    "    for i, data in enumerate(test_set, 0):\n",
    "        b_size = data[0].size(0)\n",
    "        fakes = []\n",
    "        for _ in range(N_SAMPLES):\n",
    "            noise = torch.randn(b_size, nz, device=device)\n",
    "            # Generate fake image batch with G\n",
    "            gen_ip = torch.hstack((data[0],noise)).to(device)\n",
    "            fake = netG(gen_ip).detach().cpu().numpy()\n",
    "            fakes.append(fake)\n",
    "\n",
    "        test_ops.append(\n",
    "            (data[1].detach().cpu().numpy(), sum(fakes)/len(fakes))\n",
    "        )\n",
    "# print(test_reals.shape,np.concatenate(list(x[0] for x in test_ops)).shape)\n",
    "# print(test_preds.shape,np.concatenate(list(x[1] for x in test_ops)).shape)\n",
    "test_reals = np.concatenate(list(x[0] for x in test_ops))\n",
    "test_preds = np.concatenate(list(x[1] for x in test_ops))\n"
   ]
  },
  {
   "cell_type": "code",
   "execution_count": 35,
   "id": "6af69937-27e8-4522-9b13-7a0b9cb9b98c",
   "metadata": {},
   "outputs": [
    {
     "data": {
      "text/html": [
       "<div>\n",
       "<style scoped>\n",
       "    .dataframe tbody tr th:only-of-type {\n",
       "        vertical-align: middle;\n",
       "    }\n",
       "\n",
       "    .dataframe tbody tr th {\n",
       "        vertical-align: top;\n",
       "    }\n",
       "\n",
       "    .dataframe thead th {\n",
       "        text-align: right;\n",
       "    }\n",
       "</style>\n",
       "<table border=\"1\" class=\"dataframe\">\n",
       "  <thead>\n",
       "    <tr style=\"text-align: right;\">\n",
       "      <th></th>\n",
       "      <th>true</th>\n",
       "      <th>pred</th>\n",
       "    </tr>\n",
       "  </thead>\n",
       "  <tbody>\n",
       "    <tr>\n",
       "      <th>count</th>\n",
       "      <td>20000.000000</td>\n",
       "      <td>20000.000000</td>\n",
       "    </tr>\n",
       "    <tr>\n",
       "      <th>mean</th>\n",
       "      <td>-0.000403</td>\n",
       "      <td>-0.176456</td>\n",
       "    </tr>\n",
       "    <tr>\n",
       "      <th>std</th>\n",
       "      <td>1.091805</td>\n",
       "      <td>0.021566</td>\n",
       "    </tr>\n",
       "    <tr>\n",
       "      <th>min</th>\n",
       "      <td>-0.221753</td>\n",
       "      <td>-0.239400</td>\n",
       "    </tr>\n",
       "    <tr>\n",
       "      <th>25%</th>\n",
       "      <td>-0.221753</td>\n",
       "      <td>-0.190103</td>\n",
       "    </tr>\n",
       "    <tr>\n",
       "      <th>50%</th>\n",
       "      <td>-0.221753</td>\n",
       "      <td>-0.180552</td>\n",
       "    </tr>\n",
       "    <tr>\n",
       "      <th>75%</th>\n",
       "      <td>-0.221753</td>\n",
       "      <td>-0.167700</td>\n",
       "    </tr>\n",
       "    <tr>\n",
       "      <th>max</th>\n",
       "      <td>66.412338</td>\n",
       "      <td>0.183908</td>\n",
       "    </tr>\n",
       "  </tbody>\n",
       "</table>\n",
       "</div>"
      ],
      "text/plain": [
       "               true          pred\n",
       "count  20000.000000  20000.000000\n",
       "mean      -0.000403     -0.176456\n",
       "std        1.091805      0.021566\n",
       "min       -0.221753     -0.239400\n",
       "25%       -0.221753     -0.190103\n",
       "50%       -0.221753     -0.180552\n",
       "75%       -0.221753     -0.167700\n",
       "max       66.412338      0.183908"
      ]
     },
     "execution_count": 35,
     "metadata": {},
     "output_type": "execute_result"
    }
   ],
   "source": [
    "df_results = pd.DataFrame(\n",
    "    data = np.hstack((\n",
    "    np.expand_dims(test_reals,1),test_preds\n",
    "    ))\n",
    "    ,columns = [\"true\",\"pred\"]\n",
    ")\n",
    "\n",
    "df_results.describe()"
   ]
  },
  {
   "cell_type": "code",
   "execution_count": 36,
   "id": "a0bde69f-ca9d-4791-b5a3-65d00e879116",
   "metadata": {},
   "outputs": [
    {
     "data": {
      "text/html": [
       "<div>\n",
       "<style scoped>\n",
       "    .dataframe tbody tr th:only-of-type {\n",
       "        vertical-align: middle;\n",
       "    }\n",
       "\n",
       "    .dataframe tbody tr th {\n",
       "        vertical-align: top;\n",
       "    }\n",
       "\n",
       "    .dataframe thead th {\n",
       "        text-align: right;\n",
       "    }\n",
       "</style>\n",
       "<table border=\"1\" class=\"dataframe\">\n",
       "  <thead>\n",
       "    <tr style=\"text-align: right;\">\n",
       "      <th></th>\n",
       "      <th>true</th>\n",
       "      <th>pred</th>\n",
       "    </tr>\n",
       "    <tr>\n",
       "      <th>pred_segment</th>\n",
       "      <th></th>\n",
       "      <th></th>\n",
       "    </tr>\n",
       "  </thead>\n",
       "  <tbody>\n",
       "    <tr>\n",
       "      <th>(-0.24, -0.198]</th>\n",
       "      <td>-0.055168</td>\n",
       "      <td>-0.204229</td>\n",
       "    </tr>\n",
       "    <tr>\n",
       "      <th>(-0.198, -0.192]</th>\n",
       "      <td>-0.094732</td>\n",
       "      <td>-0.194770</td>\n",
       "    </tr>\n",
       "    <tr>\n",
       "      <th>(-0.192, -0.188]</th>\n",
       "      <td>-0.028098</td>\n",
       "      <td>-0.190148</td>\n",
       "    </tr>\n",
       "    <tr>\n",
       "      <th>(-0.188, -0.184]</th>\n",
       "      <td>-0.044756</td>\n",
       "      <td>-0.186361</td>\n",
       "    </tr>\n",
       "    <tr>\n",
       "      <th>(-0.184, -0.181]</th>\n",
       "      <td>-0.017686</td>\n",
       "      <td>-0.182561</td>\n",
       "    </tr>\n",
       "    <tr>\n",
       "      <th>(-0.181, -0.176]</th>\n",
       "      <td>-0.040592</td>\n",
       "      <td>-0.178558</td>\n",
       "    </tr>\n",
       "    <tr>\n",
       "      <th>(-0.176, -0.171]</th>\n",
       "      <td>-0.007275</td>\n",
       "      <td>-0.173908</td>\n",
       "    </tr>\n",
       "    <tr>\n",
       "      <th>(-0.171, -0.163]</th>\n",
       "      <td>-0.048921</td>\n",
       "      <td>-0.167559</td>\n",
       "    </tr>\n",
       "    <tr>\n",
       "      <th>(-0.163, -0.15]</th>\n",
       "      <td>0.096841</td>\n",
       "      <td>-0.157396</td>\n",
       "    </tr>\n",
       "    <tr>\n",
       "      <th>(-0.15, 0.184]</th>\n",
       "      <td>0.236356</td>\n",
       "      <td>-0.129069</td>\n",
       "    </tr>\n",
       "  </tbody>\n",
       "</table>\n",
       "</div>"
      ],
      "text/plain": [
       "                      true      pred\n",
       "pred_segment                        \n",
       "(-0.24, -0.198]  -0.055168 -0.204229\n",
       "(-0.198, -0.192] -0.094732 -0.194770\n",
       "(-0.192, -0.188] -0.028098 -0.190148\n",
       "(-0.188, -0.184] -0.044756 -0.186361\n",
       "(-0.184, -0.181] -0.017686 -0.182561\n",
       "(-0.181, -0.176] -0.040592 -0.178558\n",
       "(-0.176, -0.171] -0.007275 -0.173908\n",
       "(-0.171, -0.163] -0.048921 -0.167559\n",
       "(-0.163, -0.15]   0.096841 -0.157396\n",
       "(-0.15, 0.184]    0.236356 -0.129069"
      ]
     },
     "execution_count": 36,
     "metadata": {},
     "output_type": "execute_result"
    }
   ],
   "source": [
    "df_results[\"pred_segment\"] = pd.qcut(df_results[\"pred\"],10)\n",
    "df_results.groupby(\"pred_segment\").mean()"
   ]
  },
  {
   "cell_type": "code",
   "execution_count": 37,
   "id": "aaf071eb-b503-466a-acb7-93ccb7900327",
   "metadata": {},
   "outputs": [
    {
     "data": {
      "text/plain": [
       "(1.2197014, 1.1920376)"
      ]
     },
     "execution_count": 37,
     "metadata": {},
     "output_type": "execute_result"
    }
   ],
   "source": [
    "mean_squared_error(df_results[\"true\"], df_results[\"pred\"]), df_results[\"true\"].var()"
   ]
  },
  {
   "cell_type": "code",
   "execution_count": 38,
   "id": "f5f7b44a-9744-4ec0-ac41-be8affff1978",
   "metadata": {},
   "outputs": [
    {
     "data": {
      "text/plain": [
       "(0.26132178, 0.420853)"
      ]
     },
     "execution_count": 38,
     "metadata": {},
     "output_type": "execute_result"
    }
   ],
   "source": [
    "mean_absolute_error(df_results[\"true\"], df_results[\"pred\"]), (\n",
    "    df_results[\"true\"]-df_results[\"true\"].mean()\n",
    ").abs().mean()"
   ]
  },
  {
   "cell_type": "markdown",
   "id": "823b7d09-da4c-4cc9-b4e9-41b72372680d",
   "metadata": {},
   "source": [
    "# MSE model"
   ]
  },
  {
   "cell_type": "markdown",
   "id": "22487c57-e28b-4550-bf56-32373c376ef4",
   "metadata": {},
   "source": [
    "### Define ANN Architecture"
   ]
  },
  {
   "cell_type": "code",
   "execution_count": 39,
   "id": "d13b07ed-0693-485d-8ab3-e30aad6e4df7",
   "metadata": {},
   "outputs": [],
   "source": [
    "# Batch size during training\n",
    "batch_size = 128\n",
    "\n",
    "# Number of training epochs\n",
    "num_epochs = 5\n",
    "\n",
    "# Learning rate for optimizers\n",
    "lr = 0.002\n",
    "# lr = 0.0002\n",
    "\n",
    "# Beta1 hyperparam for Adam optimizers\n",
    "beta1 = 0.5\n",
    "\n",
    "# width of the network\n",
    "network_width = 128"
   ]
  },
  {
   "cell_type": "code",
   "execution_count": 40,
   "id": "aaa28fce-9fe5-468c-94da-b6fcb35460a6",
   "metadata": {},
   "outputs": [],
   "source": [
    "# # create train and test indices\n",
    "# train, test = train_test_split(list(range(x.shape[0])), test_size=.2)\n",
    "# train, val = train_test_split(train, test_size=.25)"
   ]
  },
  {
   "cell_type": "code",
   "execution_count": 41,
   "id": "fd9f3f82-7ae6-405b-ae6e-d79c4a39a52f",
   "metadata": {},
   "outputs": [],
   "source": [
    "# # https://gist.github.com/conormm/5b26a08029b900520bcd6fcd1f5712a0\n",
    "# class PrepareData(torch.utils.data.Dataset):\n",
    "\n",
    "#     def __init__(self, X, y, scale_X=True):\n",
    "#         if not torch.is_tensor(X):\n",
    "#             if scale_X:\n",
    "#                 X = StandardScaler().fit_transform(X)\n",
    "#             self.X = torch.from_numpy(X).float()\n",
    "#         else:\n",
    "#             self.X = X.float32()\n",
    "#         if not torch.is_tensor(y):\n",
    "#             self.y = torch.from_numpy(y).float()\n",
    "#         else:\n",
    "#             self.y = y.float32()\n",
    "\n",
    "#     def __len__(self):\n",
    "#         return len(self.X)\n",
    "\n",
    "#     def __getitem__(self, idx):\n",
    "#         return self.X[idx], self.y[idx]\n",
    "\n",
    "# ds = PrepareData(x, y=y, scale_X=False)\n",
    "\n",
    "# train_set = torch.utils.data.DataLoader(ds, batch_size=batch_size,\n",
    "#                        sampler=SubsetRandomSampler(train))\n",
    "# val_set = torch.utils.data.DataLoader(ds, batch_size=batch_size,\n",
    "#                        sampler=SubsetRandomSampler(val))\n",
    "# test_set = torch.utils.data.DataLoader(ds, batch_size=batch_size,\n",
    "#                       sampler=SubsetRandomSampler(test))"
   ]
  },
  {
   "cell_type": "code",
   "execution_count": 42,
   "id": "8b824b04-a5dd-4efa-93bd-f69bcc020da7",
   "metadata": {
    "collapsed": false,
    "jupyter": {
     "outputs_hidden": false
    }
   },
   "outputs": [],
   "source": [
    "# Generator Code\n",
    "\n",
    "class Generator(nn.Module):\n",
    "    def __init__(self, ngpu):\n",
    "        super(Generator, self).__init__()\n",
    "        self.ngpu = ngpu\n",
    "        self.main = nn.Sequential(\n",
    "            # input is Z, going into a convolution\n",
    "            nn.Linear( n_feats, network_width, bias=True),\n",
    "            nn.ReLU(True),\n",
    "\n",
    "            nn.Linear( network_width, network_width, bias=True),\n",
    "            nn.ReLU(True),\n",
    "\n",
    "            nn.Linear( network_width, 1, bias=True)\n",
    "\n",
    "        )\n",
    "\n",
    "    def forward(self, input):\n",
    "        return self.main(input)"
   ]
  },
  {
   "cell_type": "code",
   "execution_count": 43,
   "id": "9e502a43-8064-47ee-a5f6-c079e748eaf7",
   "metadata": {},
   "outputs": [
    {
     "name": "stdout",
     "output_type": "stream",
     "text": [
      "Generator(\n",
      "  (main): Sequential(\n",
      "    (0): Linear(in_features=48, out_features=128, bias=True)\n",
      "    (1): ReLU(inplace=True)\n",
      "    (2): Linear(in_features=128, out_features=128, bias=True)\n",
      "    (3): ReLU(inplace=True)\n",
      "    (4): Linear(in_features=128, out_features=1, bias=True)\n",
      "  )\n",
      ")\n"
     ]
    }
   ],
   "source": [
    "# Create the generator\n",
    "netG = Generator(ngpu).to(device)\n",
    "\n",
    "# Print the model\n",
    "print(netG)"
   ]
  },
  {
   "cell_type": "code",
   "execution_count": 44,
   "id": "76988db6-8b64-4100-ae37-b0752af715ca",
   "metadata": {
    "collapsed": false,
    "jupyter": {
     "outputs_hidden": false
    }
   },
   "outputs": [],
   "source": [
    "# Initialize MSELoss function\n",
    "criterion = nn.MSELoss()\n",
    "\n",
    "# Setup Adam optimizers for G\n",
    "optimizerG = optim.Adam(netG.parameters(), lr=lr, betas=(beta1, 0.999))"
   ]
  },
  {
   "cell_type": "code",
   "execution_count": 45,
   "id": "6158298d-b54b-4ad0-95a1-844037b8f54a",
   "metadata": {},
   "outputs": [
    {
     "name": "stdout",
     "output_type": "stream",
     "text": [
      "Starting Training Loop...\n",
      "[0/5][0/469]\tLoss_D: 0.0000\tLoss_G: 0.7813\tD(x): 0.0000\tD(G(z)): 0.0000 / -0.0180\n",
      "[1/5][0/469]\tLoss_D: 0.0000\tLoss_G: 0.7038\tD(x): 0.0000\tD(G(z)): 0.0000 / 0.0925\n",
      "[2/5][0/469]\tLoss_D: 0.0000\tLoss_G: 0.3027\tD(x): 0.0000\tD(G(z)): 0.0000 / 0.0061\n",
      "[3/5][0/469]\tLoss_D: 0.0000\tLoss_G: 1.3392\tD(x): 0.0000\tD(G(z)): 0.0000 / -0.0393\n",
      "[4/5][0/469]\tLoss_D: 0.0000\tLoss_G: 0.6899\tD(x): 0.0000\tD(G(z)): 0.0000 / 0.0141\n"
     ]
    }
   ],
   "source": [
    "# Training Loop\n",
    "\n",
    "# Lists to keep track of progress\n",
    "img_list = []\n",
    "G_losses = []\n",
    "D_losses = []\n",
    "iters = 0\n",
    "\n",
    "G_losses_val = []\n",
    "D_losses_val = []\n",
    "\n",
    "print(\"Starting Training Loop...\")\n",
    "# For each epoch\n",
    "for epoch in range(num_epochs):\n",
    "    # For each batch in the dataloader\n",
    "    for i, data in enumerate(train_set, 0):\n",
    "        \n",
    "        b_size = data[0].size(0)\n",
    "\n",
    "        ############################\n",
    "        # Update G network: maximize log(D(G(z)))\n",
    "        ###########################\n",
    "        netG.zero_grad()\n",
    "        label = data[1]  # fake labels are real for generator cost\n",
    "        # Since we just updated D, perform another forward pass of all-fake batch through D\n",
    "        output = netG(data[0]).view(-1)\n",
    "        # Calculate G's loss based on this output\n",
    "        errG = criterion(output, label)\n",
    "        # Calculate gradients for G\n",
    "        errG.backward()\n",
    "        D_G_z2 = output.mean().item()\n",
    "        # Update G\n",
    "        optimizerG.step()\n",
    "        \n",
    "        # Output training stats\n",
    "        if i % 500 == 0:\n",
    "            print('[%d/%d][%d/%d]\\tLoss_D: %.4f\\tLoss_G: %.4f\\tD(x): %.4f\\tD(G(z)): %.4f / %.4f'\n",
    "                  % (epoch, num_epochs, i, len(train_set),\n",
    "                     0, errG.item(), 0, 0, D_G_z2))\n",
    "                \n",
    "        # Output validation stats\n",
    "        if i % 100 == 0:\n",
    "            with torch.no_grad():\n",
    "                errG_vals = []\n",
    "                for i, data in enumerate(val_set, 0):\n",
    "                    b_size = data[0].size(0)\n",
    "                    output = netG(data[0]).view(-1)\n",
    "\n",
    "                    label = data[1] # fake labels are real for generator cost\n",
    "                    errG_val = criterion(output, label)  \n",
    "\n",
    "                    errG_vals.append(errG_val.item())\n",
    "            G_losses_val.append(sum(errG_vals)/len(errG_vals))\n",
    "        \n",
    "        \n",
    "        # Save Losses for plotting later\n",
    "        G_losses.append(errG.item())\n",
    "      \n",
    "        iters += 1"
   ]
  },
  {
   "cell_type": "code",
   "execution_count": 46,
   "id": "df50ab14-072b-4b78-985c-d1b0633b988e",
   "metadata": {},
   "outputs": [
    {
     "data": {
      "image/png": "[encoded data removed]",
      "text/plain": [
       "<Figure size 720x360 with 1 Axes>"
      ]
     },
     "metadata": {
      "needs_background": "light"
     },
     "output_type": "display_data"
    }
   ],
   "source": [
    "plt.figure(figsize=(10,5))\n",
    "plt.title(\"MSE Loss During Training\")\n",
    "plt.plot(G_losses,label=\"train set\")\n",
    "# plt.plot(G_losses_val,label=\"val set\")\n",
    "plt.xlabel(\"iterations\")\n",
    "plt.ylabel(\"Loss\")\n",
    "plt.legend()\n",
    "plt.show()"
   ]
  },
  {
   "cell_type": "code",
   "execution_count": 47,
   "id": "db098dc2-0bb7-422e-8b8c-537ae110fc7a",
   "metadata": {},
   "outputs": [
    {
     "data": {
      "image/png": "[encoded data removed]",
      "text/plain": [
       "<Figure size 720x360 with 1 Axes>"
      ]
     },
     "metadata": {
      "needs_background": "light"
     },
     "output_type": "display_data"
    }
   ],
   "source": [
    "plt.figure(figsize=(10,5))\n",
    "plt.title(\"MSE Loss During Training\")\n",
    "# plt.plot(G_losses,label=\"train set\")\n",
    "plt.plot(G_losses_val,label=\"val set\")\n",
    "plt.xlabel(\"iterations\")\n",
    "plt.ylabel(\"Loss\")\n",
    "plt.legend()\n",
    "plt.show()"
   ]
  },
  {
   "cell_type": "markdown",
   "id": "52931377-c919-4d70-ad9c-b5f878a8c0b6",
   "metadata": {},
   "source": [
    "## Train Predictions"
   ]
  },
  {
   "cell_type": "code",
   "execution_count": 48,
   "id": "6ff89129-9603-4246-82e4-b6df87eff588",
   "metadata": {},
   "outputs": [],
   "source": [
    "train_ops = []\n",
    "with torch.no_grad():\n",
    "    for i, data in enumerate(train_set, 0):\n",
    "        b_size = data[0].size(0)\n",
    "        # Generate fake image batch with G\n",
    "        fake = netG(data[0])\n",
    "        \n",
    "        train_ops.append(\n",
    "            (data[1].detach().cpu().numpy(), fake.detach().cpu().numpy())\n",
    "        )"
   ]
  },
  {
   "cell_type": "code",
   "execution_count": 49,
   "id": "ab9642d9-71ae-4b01-98d7-202c2a96789c",
   "metadata": {},
   "outputs": [],
   "source": [
    "train_reals = np.concatenate(list(x[0] for x in train_ops))\n",
    "train_preds = np.concatenate(list(x[1] for x in train_ops))"
   ]
  },
  {
   "cell_type": "code",
   "execution_count": 50,
   "id": "20a5fc0d-a7c8-4c80-8e0e-6914e65c06db",
   "metadata": {},
   "outputs": [
    {
     "data": {
      "text/html": [
       "<div>\n",
       "<style scoped>\n",
       "    .dataframe tbody tr th:only-of-type {\n",
       "        vertical-align: middle;\n",
       "    }\n",
       "\n",
       "    .dataframe tbody tr th {\n",
       "        vertical-align: top;\n",
       "    }\n",
       "\n",
       "    .dataframe thead th {\n",
       "        text-align: right;\n",
       "    }\n",
       "</style>\n",
       "<table border=\"1\" class=\"dataframe\">\n",
       "  <thead>\n",
       "    <tr style=\"text-align: right;\">\n",
       "      <th></th>\n",
       "      <th>true</th>\n",
       "      <th>pred</th>\n",
       "    </tr>\n",
       "  </thead>\n",
       "  <tbody>\n",
       "    <tr>\n",
       "      <th>count</th>\n",
       "      <td>60000.000000</td>\n",
       "      <td>60000.000000</td>\n",
       "    </tr>\n",
       "    <tr>\n",
       "      <th>mean</th>\n",
       "      <td>0.004039</td>\n",
       "      <td>-0.018566</td>\n",
       "    </tr>\n",
       "    <tr>\n",
       "      <th>std</th>\n",
       "      <td>1.047344</td>\n",
       "      <td>0.367706</td>\n",
       "    </tr>\n",
       "    <tr>\n",
       "      <th>min</th>\n",
       "      <td>-0.221753</td>\n",
       "      <td>-0.677081</td>\n",
       "    </tr>\n",
       "    <tr>\n",
       "      <th>25%</th>\n",
       "      <td>-0.221753</td>\n",
       "      <td>-0.154715</td>\n",
       "    </tr>\n",
       "    <tr>\n",
       "      <th>50%</th>\n",
       "      <td>-0.221753</td>\n",
       "      <td>-0.090903</td>\n",
       "    </tr>\n",
       "    <tr>\n",
       "      <th>75%</th>\n",
       "      <td>-0.221753</td>\n",
       "      <td>-0.014003</td>\n",
       "    </tr>\n",
       "    <tr>\n",
       "      <th>max</th>\n",
       "      <td>66.412338</td>\n",
       "      <td>5.936547</td>\n",
       "    </tr>\n",
       "  </tbody>\n",
       "</table>\n",
       "</div>"
      ],
      "text/plain": [
       "               true          pred\n",
       "count  60000.000000  60000.000000\n",
       "mean       0.004039     -0.018566\n",
       "std        1.047344      0.367706\n",
       "min       -0.221753     -0.677081\n",
       "25%       -0.221753     -0.154715\n",
       "50%       -0.221753     -0.090903\n",
       "75%       -0.221753     -0.014003\n",
       "max       66.412338      5.936547"
      ]
     },
     "execution_count": 50,
     "metadata": {},
     "output_type": "execute_result"
    }
   ],
   "source": [
    "df_results_train = pd.DataFrame(\n",
    "    data = np.hstack((\n",
    "    np.expand_dims(train_reals,1),train_preds\n",
    "    ))\n",
    "    ,columns = [\"true\",\"pred\"]\n",
    ")\n",
    "\n",
    "df_results_train.describe()"
   ]
  },
  {
   "cell_type": "code",
   "execution_count": 51,
   "id": "1bc61b29-de45-4f58-8abb-6996278bf346",
   "metadata": {},
   "outputs": [
    {
     "data": {
      "text/html": [
       "<div>\n",
       "<style scoped>\n",
       "    .dataframe tbody tr th:only-of-type {\n",
       "        vertical-align: middle;\n",
       "    }\n",
       "\n",
       "    .dataframe tbody tr th {\n",
       "        vertical-align: top;\n",
       "    }\n",
       "\n",
       "    .dataframe thead th {\n",
       "        text-align: right;\n",
       "    }\n",
       "</style>\n",
       "<table border=\"1\" class=\"dataframe\">\n",
       "  <thead>\n",
       "    <tr style=\"text-align: right;\">\n",
       "      <th></th>\n",
       "      <th>true</th>\n",
       "      <th>pred</th>\n",
       "    </tr>\n",
       "    <tr>\n",
       "      <th>pred_segment</th>\n",
       "      <th></th>\n",
       "      <th></th>\n",
       "    </tr>\n",
       "  </thead>\n",
       "  <tbody>\n",
       "    <tr>\n",
       "      <th>(-0.678, -0.204]</th>\n",
       "      <td>-0.205789</td>\n",
       "      <td>-0.237397</td>\n",
       "    </tr>\n",
       "    <tr>\n",
       "      <th>(-0.204, -0.169]</th>\n",
       "      <td>-0.182189</td>\n",
       "      <td>-0.185212</td>\n",
       "    </tr>\n",
       "    <tr>\n",
       "      <th>(-0.169, -0.142]</th>\n",
       "      <td>-0.150260</td>\n",
       "      <td>-0.155073</td>\n",
       "    </tr>\n",
       "    <tr>\n",
       "      <th>(-0.142, -0.116]</th>\n",
       "      <td>-0.122496</td>\n",
       "      <td>-0.129247</td>\n",
       "    </tr>\n",
       "    <tr>\n",
       "      <th>(-0.116, -0.0909]</th>\n",
       "      <td>-0.091955</td>\n",
       "      <td>-0.103411</td>\n",
       "    </tr>\n",
       "    <tr>\n",
       "      <th>(-0.0909, -0.0673]</th>\n",
       "      <td>-0.066274</td>\n",
       "      <td>-0.078984</td>\n",
       "    </tr>\n",
       "    <tr>\n",
       "      <th>(-0.0673, -0.0379]</th>\n",
       "      <td>-0.055168</td>\n",
       "      <td>-0.053642</td>\n",
       "    </tr>\n",
       "    <tr>\n",
       "      <th>(-0.0379, 0.02]</th>\n",
       "      <td>0.014243</td>\n",
       "      <td>-0.012365</td>\n",
       "    </tr>\n",
       "    <tr>\n",
       "      <th>(0.02, 0.166]</th>\n",
       "      <td>0.087124</td>\n",
       "      <td>0.079413</td>\n",
       "    </tr>\n",
       "    <tr>\n",
       "      <th>(0.166, 5.937]</th>\n",
       "      <td>0.813158</td>\n",
       "      <td>0.690255</td>\n",
       "    </tr>\n",
       "  </tbody>\n",
       "</table>\n",
       "</div>"
      ],
      "text/plain": [
       "                        true      pred\n",
       "pred_segment                          \n",
       "(-0.678, -0.204]   -0.205789 -0.237397\n",
       "(-0.204, -0.169]   -0.182189 -0.185212\n",
       "(-0.169, -0.142]   -0.150260 -0.155073\n",
       "(-0.142, -0.116]   -0.122496 -0.129247\n",
       "(-0.116, -0.0909]  -0.091955 -0.103411\n",
       "(-0.0909, -0.0673] -0.066274 -0.078984\n",
       "(-0.0673, -0.0379] -0.055168 -0.053642\n",
       "(-0.0379, 0.02]     0.014243 -0.012365\n",
       "(0.02, 0.166]       0.087124  0.079413\n",
       "(0.166, 5.937]      0.813158  0.690255"
      ]
     },
     "execution_count": 51,
     "metadata": {},
     "output_type": "execute_result"
    }
   ],
   "source": [
    "df_results_train[\"pred_segment\"] = pd.qcut(df_results_train[\"pred\"],10)\n",
    "df_results_train.groupby(\"pred_segment\").mean()"
   ]
  },
  {
   "cell_type": "code",
   "execution_count": 52,
   "id": "3442262d-8359-4ef1-bc4d-65f9957ad705",
   "metadata": {},
   "outputs": [
    {
     "data": {
      "text/plain": [
       "(0.93171585, 1.0969297)"
      ]
     },
     "execution_count": 52,
     "metadata": {},
     "output_type": "execute_result"
    }
   ],
   "source": [
    "mean_squared_error(df_results_train[\"true\"], df_results_train[\"pred\"]), df_results_train[\"true\"].var()"
   ]
  },
  {
   "cell_type": "code",
   "execution_count": 53,
   "id": "5bcd291a-c786-4d7b-aca3-eac7f331f385",
   "metadata": {},
   "outputs": [
    {
     "data": {
      "text/plain": [
       "(0.3457329, 0.42858404)"
      ]
     },
     "execution_count": 53,
     "metadata": {},
     "output_type": "execute_result"
    }
   ],
   "source": [
    "mean_absolute_error(df_results_train[\"true\"], df_results_train[\"pred\"]), (\n",
    "    df_results_train[\"true\"]-df_results_train[\"true\"].mean()\n",
    ").abs().mean()"
   ]
  },
  {
   "cell_type": "markdown",
   "id": "81f2437b-d19c-43ec-a56f-97df0a974335",
   "metadata": {},
   "source": [
    "## Test Predictions"
   ]
  },
  {
   "cell_type": "code",
   "execution_count": 54,
   "id": "2e26e7b9-03f6-467b-9d66-02bfb1144307",
   "metadata": {},
   "outputs": [],
   "source": [
    "test_ops = []\n",
    "with torch.no_grad():\n",
    "    for i, data in enumerate(test_set, 0):\n",
    "        b_size = data[0].size(0)\n",
    "        # Generate fake image batch with G\n",
    "        gen_ip = data[0] \n",
    "        fake = netG(gen_ip)\n",
    "        \n",
    "        test_ops.append(\n",
    "            (data[1].detach().cpu().numpy(), fake.detach().cpu().numpy())\n",
    "        )"
   ]
  },
  {
   "cell_type": "code",
   "execution_count": 55,
   "id": "4bf93a27-356d-44b8-975d-0ed0480a3692",
   "metadata": {},
   "outputs": [],
   "source": [
    "test_reals = np.concatenate(list(x[0] for x in test_ops))\n",
    "test_preds = np.concatenate(list(x[1] for x in test_ops))"
   ]
  },
  {
   "cell_type": "code",
   "execution_count": 56,
   "id": "a5b18860-0bcf-43f1-b12e-99fd2ea98a0b",
   "metadata": {},
   "outputs": [
    {
     "data": {
      "text/html": [
       "<div>\n",
       "<style scoped>\n",
       "    .dataframe tbody tr th:only-of-type {\n",
       "        vertical-align: middle;\n",
       "    }\n",
       "\n",
       "    .dataframe tbody tr th {\n",
       "        vertical-align: top;\n",
       "    }\n",
       "\n",
       "    .dataframe thead th {\n",
       "        text-align: right;\n",
       "    }\n",
       "</style>\n",
       "<table border=\"1\" class=\"dataframe\">\n",
       "  <thead>\n",
       "    <tr style=\"text-align: right;\">\n",
       "      <th></th>\n",
       "      <th>true</th>\n",
       "      <th>pred</th>\n",
       "    </tr>\n",
       "  </thead>\n",
       "  <tbody>\n",
       "    <tr>\n",
       "      <th>count</th>\n",
       "      <td>20000.000000</td>\n",
       "      <td>20000.000000</td>\n",
       "    </tr>\n",
       "    <tr>\n",
       "      <th>mean</th>\n",
       "      <td>-0.011023</td>\n",
       "      <td>-0.020310</td>\n",
       "    </tr>\n",
       "    <tr>\n",
       "      <th>std</th>\n",
       "      <td>0.963663</td>\n",
       "      <td>0.354433</td>\n",
       "    </tr>\n",
       "    <tr>\n",
       "      <th>min</th>\n",
       "      <td>-0.221753</td>\n",
       "      <td>-0.604073</td>\n",
       "    </tr>\n",
       "    <tr>\n",
       "      <th>25%</th>\n",
       "      <td>-0.221753</td>\n",
       "      <td>-0.154755</td>\n",
       "    </tr>\n",
       "    <tr>\n",
       "      <th>50%</th>\n",
       "      <td>-0.221753</td>\n",
       "      <td>-0.090333</td>\n",
       "    </tr>\n",
       "    <tr>\n",
       "      <th>75%</th>\n",
       "      <td>-0.221753</td>\n",
       "      <td>-0.012943</td>\n",
       "    </tr>\n",
       "    <tr>\n",
       "      <th>max</th>\n",
       "      <td>8.107509</td>\n",
       "      <td>5.602303</td>\n",
       "    </tr>\n",
       "  </tbody>\n",
       "</table>\n",
       "</div>"
      ],
      "text/plain": [
       "               true          pred\n",
       "count  20000.000000  20000.000000\n",
       "mean      -0.011023     -0.020310\n",
       "std        0.963663      0.354433\n",
       "min       -0.221753     -0.604073\n",
       "25%       -0.221753     -0.154755\n",
       "50%       -0.221753     -0.090333\n",
       "75%       -0.221753     -0.012943\n",
       "max        8.107509      5.602303"
      ]
     },
     "execution_count": 56,
     "metadata": {},
     "output_type": "execute_result"
    }
   ],
   "source": [
    "df_results = pd.DataFrame(\n",
    "    data = np.hstack((\n",
    "    np.expand_dims(test_reals,1),test_preds\n",
    "    ))\n",
    "    ,columns = [\"true\",\"pred\"]\n",
    ")\n",
    "\n",
    "df_results.describe()"
   ]
  },
  {
   "cell_type": "code",
   "execution_count": 57,
   "id": "56d8559d-4194-446f-b201-b3245bc31aab",
   "metadata": {},
   "outputs": [
    {
     "data": {
      "text/html": [
       "<div>\n",
       "<style scoped>\n",
       "    .dataframe tbody tr th:only-of-type {\n",
       "        vertical-align: middle;\n",
       "    }\n",
       "\n",
       "    .dataframe tbody tr th {\n",
       "        vertical-align: top;\n",
       "    }\n",
       "\n",
       "    .dataframe thead th {\n",
       "        text-align: right;\n",
       "    }\n",
       "</style>\n",
       "<table border=\"1\" class=\"dataframe\">\n",
       "  <thead>\n",
       "    <tr style=\"text-align: right;\">\n",
       "      <th></th>\n",
       "      <th>true</th>\n",
       "      <th>pred</th>\n",
       "    </tr>\n",
       "    <tr>\n",
       "      <th>pred_segment</th>\n",
       "      <th></th>\n",
       "      <th></th>\n",
       "    </tr>\n",
       "  </thead>\n",
       "  <tbody>\n",
       "    <tr>\n",
       "      <th>(-0.605, -0.203]</th>\n",
       "      <td>-0.171778</td>\n",
       "      <td>-0.236257</td>\n",
       "    </tr>\n",
       "    <tr>\n",
       "      <th>(-0.203, -0.169]</th>\n",
       "      <td>-0.165531</td>\n",
       "      <td>-0.184937</td>\n",
       "    </tr>\n",
       "    <tr>\n",
       "      <th>(-0.169, -0.142]</th>\n",
       "      <td>-0.121802</td>\n",
       "      <td>-0.155223</td>\n",
       "    </tr>\n",
       "    <tr>\n",
       "      <th>(-0.142, -0.116]</th>\n",
       "      <td>-0.105143</td>\n",
       "      <td>-0.129087</td>\n",
       "    </tr>\n",
       "    <tr>\n",
       "      <th>(-0.116, -0.0903]</th>\n",
       "      <td>-0.078073</td>\n",
       "      <td>-0.103055</td>\n",
       "    </tr>\n",
       "    <tr>\n",
       "      <th>(-0.0903, -0.0663]</th>\n",
       "      <td>-0.080156</td>\n",
       "      <td>-0.078177</td>\n",
       "    </tr>\n",
       "    <tr>\n",
       "      <th>(-0.0663, -0.0366]</th>\n",
       "      <td>-0.017686</td>\n",
       "      <td>-0.052678</td>\n",
       "    </tr>\n",
       "    <tr>\n",
       "      <th>(-0.0366, 0.0206]</th>\n",
       "      <td>-0.001028</td>\n",
       "      <td>-0.011503</td>\n",
       "    </tr>\n",
       "    <tr>\n",
       "      <th>(0.0206, 0.166]</th>\n",
       "      <td>0.057277</td>\n",
       "      <td>0.079993</td>\n",
       "    </tr>\n",
       "    <tr>\n",
       "      <th>(0.166, 5.602]</th>\n",
       "      <td>0.573691</td>\n",
       "      <td>0.667826</td>\n",
       "    </tr>\n",
       "  </tbody>\n",
       "</table>\n",
       "</div>"
      ],
      "text/plain": [
       "                        true      pred\n",
       "pred_segment                          \n",
       "(-0.605, -0.203]   -0.171778 -0.236257\n",
       "(-0.203, -0.169]   -0.165531 -0.184937\n",
       "(-0.169, -0.142]   -0.121802 -0.155223\n",
       "(-0.142, -0.116]   -0.105143 -0.129087\n",
       "(-0.116, -0.0903]  -0.078073 -0.103055\n",
       "(-0.0903, -0.0663] -0.080156 -0.078177\n",
       "(-0.0663, -0.0366] -0.017686 -0.052678\n",
       "(-0.0366, 0.0206]  -0.001028 -0.011503\n",
       "(0.0206, 0.166]     0.057277  0.079993\n",
       "(0.166, 5.602]      0.573691  0.667826"
      ]
     },
     "execution_count": 57,
     "metadata": {},
     "output_type": "execute_result"
    }
   ],
   "source": [
    "df_results[\"pred_segment\"] = pd.qcut(df_results[\"pred\"],10)\n",
    "df_results.groupby(\"pred_segment\").mean()"
   ]
  },
  {
   "cell_type": "code",
   "execution_count": 58,
   "id": "b8f73202-70ea-433a-be98-209228de4174",
   "metadata": {},
   "outputs": [
    {
     "data": {
      "text/plain": [
       "(0.8272788, 0.9286459)"
      ]
     },
     "execution_count": 58,
     "metadata": {},
     "output_type": "execute_result"
    }
   ],
   "source": [
    "mean_squared_error(df_results[\"true\"], df_results[\"pred\"]), df_results[\"true\"].var()"
   ]
  },
  {
   "cell_type": "code",
   "execution_count": 59,
   "id": "467083b5-e371-4efa-82dd-f5d511f3054b",
   "metadata": {},
   "outputs": [
    {
     "data": {
      "text/plain": [
       "(0.34720564, 0.40129378)"
      ]
     },
     "execution_count": 59,
     "metadata": {},
     "output_type": "execute_result"
    }
   ],
   "source": [
    "mean_absolute_error(df_results[\"true\"], df_results[\"pred\"]), (\n",
    "    df_results[\"true\"]-df_results[\"true\"].mean()\n",
    ").abs().mean()"
   ]
  },
  {
   "cell_type": "markdown",
   "id": "66915d92-adcc-4fcf-bfa0-4da771443712",
   "metadata": {},
   "source": [
    "# Gaussian Process Regression"
   ]
  },
  {
   "cell_type": "code",
   "execution_count": 61,
   "id": "097eb84c-f0ef-44ab-82b6-feeed3252877",
   "metadata": {},
   "outputs": [
    {
     "ename": "MemoryError",
     "evalue": "Unable to allocate 2.98 GiB for an array with shape (20000, 20000, 1) and data type float64",
     "output_type": "error",
     "traceback": [
      "\u001b[0;31m---------------------------------------------------------------------------\u001b[0m",
      "\u001b[0;31mMemoryError\u001b[0m                               Traceback (most recent call last)",
      "\u001b[0;32m/tmp/ipykernel_17560/1379628084.py\u001b[0m in \u001b[0;36m<module>\u001b[0;34m\u001b[0m\n\u001b[1;32m      2\u001b[0m     \u001b[0mkernel\u001b[0m\u001b[0;34m=\u001b[0m\u001b[0mkernels\u001b[0m\u001b[0;34m.\u001b[0m\u001b[0mRBF\u001b[0m\u001b[0;34m(\u001b[0m\u001b[0mlength_scale\u001b[0m\u001b[0;34m=\u001b[0m\u001b[0;36m0.05\u001b[0m\u001b[0;34m)\u001b[0m\u001b[0;34m\u001b[0m\u001b[0;34m\u001b[0m\u001b[0m\n\u001b[1;32m      3\u001b[0m     \u001b[0;34m,\u001b[0m\u001b[0mn_restarts_optimizer\u001b[0m\u001b[0;34m=\u001b[0m\u001b[0;36m0\u001b[0m\u001b[0;34m\u001b[0m\u001b[0;34m\u001b[0m\u001b[0m\n\u001b[0;32m----> 4\u001b[0;31m ).fit(x[val], y[val])\n\u001b[0m",
      "\u001b[0;32m/opt/conda/lib/python3.7/site-packages/sklearn/gaussian_process/_gpr.py\u001b[0m in \u001b[0;36mfit\u001b[0;34m(self, X, y)\u001b[0m\n\u001b[1;32m    271\u001b[0m                 (\n\u001b[1;32m    272\u001b[0m                     self._constrained_optimization(\n\u001b[0;32m--> 273\u001b[0;31m                         \u001b[0mobj_func\u001b[0m\u001b[0;34m,\u001b[0m \u001b[0mself\u001b[0m\u001b[0;34m.\u001b[0m\u001b[0mkernel_\u001b[0m\u001b[0;34m.\u001b[0m\u001b[0mtheta\u001b[0m\u001b[0;34m,\u001b[0m \u001b[0mself\u001b[0m\u001b[0;34m.\u001b[0m\u001b[0mkernel_\u001b[0m\u001b[0;34m.\u001b[0m\u001b[0mbounds\u001b[0m\u001b[0;34m\u001b[0m\u001b[0;34m\u001b[0m\u001b[0m\n\u001b[0m\u001b[1;32m    274\u001b[0m                     )\n\u001b[1;32m    275\u001b[0m                 )\n",
      "\u001b[0;32m/opt/conda/lib/python3.7/site-packages/sklearn/gaussian_process/_gpr.py\u001b[0m in \u001b[0;36m_constrained_optimization\u001b[0;34m(self, obj_func, initial_theta, bounds)\u001b[0m\n\u001b[1;32m    606\u001b[0m                 \u001b[0mmethod\u001b[0m\u001b[0;34m=\u001b[0m\u001b[0;34m\"L-BFGS-B\"\u001b[0m\u001b[0;34m,\u001b[0m\u001b[0;34m\u001b[0m\u001b[0;34m\u001b[0m\u001b[0m\n\u001b[1;32m    607\u001b[0m                 \u001b[0mjac\u001b[0m\u001b[0;34m=\u001b[0m\u001b[0;32mTrue\u001b[0m\u001b[0;34m,\u001b[0m\u001b[0;34m\u001b[0m\u001b[0;34m\u001b[0m\u001b[0m\n\u001b[0;32m--> 608\u001b[0;31m                 \u001b[0mbounds\u001b[0m\u001b[0;34m=\u001b[0m\u001b[0mbounds\u001b[0m\u001b[0;34m,\u001b[0m\u001b[0;34m\u001b[0m\u001b[0;34m\u001b[0m\u001b[0m\n\u001b[0m\u001b[1;32m    609\u001b[0m             )\n\u001b[1;32m    610\u001b[0m             \u001b[0m_check_optimize_result\u001b[0m\u001b[0;34m(\u001b[0m\u001b[0;34m\"lbfgs\"\u001b[0m\u001b[0;34m,\u001b[0m \u001b[0mopt_res\u001b[0m\u001b[0;34m)\u001b[0m\u001b[0;34m\u001b[0m\u001b[0;34m\u001b[0m\u001b[0m\n",
      "\u001b[0;32m/opt/conda/lib/python3.7/site-packages/scipy/optimize/_minimize.py\u001b[0m in \u001b[0;36mminimize\u001b[0;34m(fun, x0, args, method, jac, hess, hessp, bounds, constraints, tol, callback, options)\u001b[0m\n\u001b[1;32m    622\u001b[0m     \u001b[0;32melif\u001b[0m \u001b[0mmeth\u001b[0m \u001b[0;34m==\u001b[0m \u001b[0;34m'l-bfgs-b'\u001b[0m\u001b[0;34m:\u001b[0m\u001b[0;34m\u001b[0m\u001b[0;34m\u001b[0m\u001b[0m\n\u001b[1;32m    623\u001b[0m         return _minimize_lbfgsb(fun, x0, args, jac, bounds,\n\u001b[0;32m--> 624\u001b[0;31m                                 callback=callback, **options)\n\u001b[0m\u001b[1;32m    625\u001b[0m     \u001b[0;32melif\u001b[0m \u001b[0mmeth\u001b[0m \u001b[0;34m==\u001b[0m \u001b[0;34m'tnc'\u001b[0m\u001b[0;34m:\u001b[0m\u001b[0;34m\u001b[0m\u001b[0;34m\u001b[0m\u001b[0m\n\u001b[1;32m    626\u001b[0m         return _minimize_tnc(fun, x0, args, jac, bounds, callback=callback,\n",
      "\u001b[0;32m/opt/conda/lib/python3.7/site-packages/scipy/optimize/lbfgsb.py\u001b[0m in \u001b[0;36m_minimize_lbfgsb\u001b[0;34m(fun, x0, args, jac, bounds, disp, maxcor, ftol, gtol, eps, maxfun, maxiter, iprint, callback, maxls, finite_diff_rel_step, **unknown_options)\u001b[0m\n\u001b[1;32m    358\u001b[0m             \u001b[0;31m# until the completion of the current minimization iteration.\u001b[0m\u001b[0;34m\u001b[0m\u001b[0;34m\u001b[0m\u001b[0;34m\u001b[0m\u001b[0m\n\u001b[1;32m    359\u001b[0m             \u001b[0;31m# Overwrite f and g:\u001b[0m\u001b[0;34m\u001b[0m\u001b[0;34m\u001b[0m\u001b[0;34m\u001b[0m\u001b[0m\n\u001b[0;32m--> 360\u001b[0;31m             \u001b[0mf\u001b[0m\u001b[0;34m,\u001b[0m \u001b[0mg\u001b[0m \u001b[0;34m=\u001b[0m \u001b[0mfunc_and_grad\u001b[0m\u001b[0;34m(\u001b[0m\u001b[0mx\u001b[0m\u001b[0;34m)\u001b[0m\u001b[0;34m\u001b[0m\u001b[0;34m\u001b[0m\u001b[0m\n\u001b[0m\u001b[1;32m    361\u001b[0m         \u001b[0;32melif\u001b[0m \u001b[0mtask_str\u001b[0m\u001b[0;34m.\u001b[0m\u001b[0mstartswith\u001b[0m\u001b[0;34m(\u001b[0m\u001b[0;34mb'NEW_X'\u001b[0m\u001b[0;34m)\u001b[0m\u001b[0;34m:\u001b[0m\u001b[0;34m\u001b[0m\u001b[0;34m\u001b[0m\u001b[0m\n\u001b[1;32m    362\u001b[0m             \u001b[0;31m# new iteration\u001b[0m\u001b[0;34m\u001b[0m\u001b[0;34m\u001b[0m\u001b[0;34m\u001b[0m\u001b[0m\n",
      "\u001b[0;32m/opt/conda/lib/python3.7/site-packages/scipy/optimize/_differentiable_functions.py\u001b[0m in \u001b[0;36mfun_and_grad\u001b[0;34m(self, x)\u001b[0m\n\u001b[1;32m    265\u001b[0m         \u001b[0;32mif\u001b[0m \u001b[0;32mnot\u001b[0m \u001b[0mnp\u001b[0m\u001b[0;34m.\u001b[0m\u001b[0marray_equal\u001b[0m\u001b[0;34m(\u001b[0m\u001b[0mx\u001b[0m\u001b[0;34m,\u001b[0m \u001b[0mself\u001b[0m\u001b[0;34m.\u001b[0m\u001b[0mx\u001b[0m\u001b[0;34m)\u001b[0m\u001b[0;34m:\u001b[0m\u001b[0;34m\u001b[0m\u001b[0;34m\u001b[0m\u001b[0m\n\u001b[1;32m    266\u001b[0m             \u001b[0mself\u001b[0m\u001b[0;34m.\u001b[0m\u001b[0m_update_x_impl\u001b[0m\u001b[0;34m(\u001b[0m\u001b[0mx\u001b[0m\u001b[0;34m)\u001b[0m\u001b[0;34m\u001b[0m\u001b[0;34m\u001b[0m\u001b[0m\n\u001b[0;32m--> 267\u001b[0;31m         \u001b[0mself\u001b[0m\u001b[0;34m.\u001b[0m\u001b[0m_update_fun\u001b[0m\u001b[0;34m(\u001b[0m\u001b[0;34m)\u001b[0m\u001b[0;34m\u001b[0m\u001b[0;34m\u001b[0m\u001b[0m\n\u001b[0m\u001b[1;32m    268\u001b[0m         \u001b[0mself\u001b[0m\u001b[0;34m.\u001b[0m\u001b[0m_update_grad\u001b[0m\u001b[0;34m(\u001b[0m\u001b[0;34m)\u001b[0m\u001b[0;34m\u001b[0m\u001b[0;34m\u001b[0m\u001b[0m\n\u001b[1;32m    269\u001b[0m         \u001b[0;32mreturn\u001b[0m \u001b[0mself\u001b[0m\u001b[0;34m.\u001b[0m\u001b[0mf\u001b[0m\u001b[0;34m,\u001b[0m \u001b[0mself\u001b[0m\u001b[0;34m.\u001b[0m\u001b[0mg\u001b[0m\u001b[0;34m\u001b[0m\u001b[0;34m\u001b[0m\u001b[0m\n",
      "\u001b[0;32m/opt/conda/lib/python3.7/site-packages/scipy/optimize/_differentiable_functions.py\u001b[0m in \u001b[0;36m_update_fun\u001b[0;34m(self)\u001b[0m\n\u001b[1;32m    231\u001b[0m     \u001b[0;32mdef\u001b[0m \u001b[0m_update_fun\u001b[0m\u001b[0;34m(\u001b[0m\u001b[0mself\u001b[0m\u001b[0;34m)\u001b[0m\u001b[0;34m:\u001b[0m\u001b[0;34m\u001b[0m\u001b[0;34m\u001b[0m\u001b[0m\n\u001b[1;32m    232\u001b[0m         \u001b[0;32mif\u001b[0m \u001b[0;32mnot\u001b[0m \u001b[0mself\u001b[0m\u001b[0;34m.\u001b[0m\u001b[0mf_updated\u001b[0m\u001b[0;34m:\u001b[0m\u001b[0;34m\u001b[0m\u001b[0;34m\u001b[0m\u001b[0m\n\u001b[0;32m--> 233\u001b[0;31m             \u001b[0mself\u001b[0m\u001b[0;34m.\u001b[0m\u001b[0m_update_fun_impl\u001b[0m\u001b[0;34m(\u001b[0m\u001b[0;34m)\u001b[0m\u001b[0;34m\u001b[0m\u001b[0;34m\u001b[0m\u001b[0m\n\u001b[0m\u001b[1;32m    234\u001b[0m             \u001b[0mself\u001b[0m\u001b[0;34m.\u001b[0m\u001b[0mf_updated\u001b[0m \u001b[0;34m=\u001b[0m \u001b[0;32mTrue\u001b[0m\u001b[0;34m\u001b[0m\u001b[0;34m\u001b[0m\u001b[0m\n\u001b[1;32m    235\u001b[0m \u001b[0;34m\u001b[0m\u001b[0m\n",
      "\u001b[0;32m/opt/conda/lib/python3.7/site-packages/scipy/optimize/_differentiable_functions.py\u001b[0m in \u001b[0;36mupdate_fun\u001b[0;34m()\u001b[0m\n\u001b[1;32m    135\u001b[0m \u001b[0;34m\u001b[0m\u001b[0m\n\u001b[1;32m    136\u001b[0m         \u001b[0;32mdef\u001b[0m \u001b[0mupdate_fun\u001b[0m\u001b[0;34m(\u001b[0m\u001b[0;34m)\u001b[0m\u001b[0;34m:\u001b[0m\u001b[0;34m\u001b[0m\u001b[0;34m\u001b[0m\u001b[0m\n\u001b[0;32m--> 137\u001b[0;31m             \u001b[0mself\u001b[0m\u001b[0;34m.\u001b[0m\u001b[0mf\u001b[0m \u001b[0;34m=\u001b[0m \u001b[0mfun_wrapped\u001b[0m\u001b[0;34m(\u001b[0m\u001b[0mself\u001b[0m\u001b[0;34m.\u001b[0m\u001b[0mx\u001b[0m\u001b[0;34m)\u001b[0m\u001b[0;34m\u001b[0m\u001b[0;34m\u001b[0m\u001b[0m\n\u001b[0m\u001b[1;32m    138\u001b[0m \u001b[0;34m\u001b[0m\u001b[0m\n\u001b[1;32m    139\u001b[0m         \u001b[0mself\u001b[0m\u001b[0;34m.\u001b[0m\u001b[0m_update_fun_impl\u001b[0m \u001b[0;34m=\u001b[0m \u001b[0mupdate_fun\u001b[0m\u001b[0;34m\u001b[0m\u001b[0;34m\u001b[0m\u001b[0m\n",
      "\u001b[0;32m/opt/conda/lib/python3.7/site-packages/scipy/optimize/_differentiable_functions.py\u001b[0m in \u001b[0;36mfun_wrapped\u001b[0;34m(x)\u001b[0m\n\u001b[1;32m    132\u001b[0m             \u001b[0;31m# Overwriting results in undefined behaviour because\u001b[0m\u001b[0;34m\u001b[0m\u001b[0;34m\u001b[0m\u001b[0;34m\u001b[0m\u001b[0m\n\u001b[1;32m    133\u001b[0m             \u001b[0;31m# fun(self.x) will change self.x, with the two no longer linked.\u001b[0m\u001b[0;34m\u001b[0m\u001b[0;34m\u001b[0m\u001b[0;34m\u001b[0m\u001b[0m\n\u001b[0;32m--> 134\u001b[0;31m             \u001b[0;32mreturn\u001b[0m \u001b[0mfun\u001b[0m\u001b[0;34m(\u001b[0m\u001b[0mnp\u001b[0m\u001b[0;34m.\u001b[0m\u001b[0mcopy\u001b[0m\u001b[0;34m(\u001b[0m\u001b[0mx\u001b[0m\u001b[0;34m)\u001b[0m\u001b[0;34m,\u001b[0m \u001b[0;34m*\u001b[0m\u001b[0margs\u001b[0m\u001b[0;34m)\u001b[0m\u001b[0;34m\u001b[0m\u001b[0;34m\u001b[0m\u001b[0m\n\u001b[0m\u001b[1;32m    135\u001b[0m \u001b[0;34m\u001b[0m\u001b[0m\n\u001b[1;32m    136\u001b[0m         \u001b[0;32mdef\u001b[0m \u001b[0mupdate_fun\u001b[0m\u001b[0;34m(\u001b[0m\u001b[0;34m)\u001b[0m\u001b[0;34m:\u001b[0m\u001b[0;34m\u001b[0m\u001b[0;34m\u001b[0m\u001b[0m\n",
      "\u001b[0;32m/opt/conda/lib/python3.7/site-packages/scipy/optimize/optimize.py\u001b[0m in \u001b[0;36m__call__\u001b[0;34m(self, x, *args)\u001b[0m\n\u001b[1;32m     72\u001b[0m     \u001b[0;32mdef\u001b[0m \u001b[0m__call__\u001b[0m\u001b[0;34m(\u001b[0m\u001b[0mself\u001b[0m\u001b[0;34m,\u001b[0m \u001b[0mx\u001b[0m\u001b[0;34m,\u001b[0m \u001b[0;34m*\u001b[0m\u001b[0margs\u001b[0m\u001b[0;34m)\u001b[0m\u001b[0;34m:\u001b[0m\u001b[0;34m\u001b[0m\u001b[0;34m\u001b[0m\u001b[0m\n\u001b[1;32m     73\u001b[0m         \u001b[0;34m\"\"\" returns the the function value \"\"\"\u001b[0m\u001b[0;34m\u001b[0m\u001b[0;34m\u001b[0m\u001b[0m\n\u001b[0;32m---> 74\u001b[0;31m         \u001b[0mself\u001b[0m\u001b[0;34m.\u001b[0m\u001b[0m_compute_if_needed\u001b[0m\u001b[0;34m(\u001b[0m\u001b[0mx\u001b[0m\u001b[0;34m,\u001b[0m \u001b[0;34m*\u001b[0m\u001b[0margs\u001b[0m\u001b[0;34m)\u001b[0m\u001b[0;34m\u001b[0m\u001b[0;34m\u001b[0m\u001b[0m\n\u001b[0m\u001b[1;32m     75\u001b[0m         \u001b[0;32mreturn\u001b[0m \u001b[0mself\u001b[0m\u001b[0;34m.\u001b[0m\u001b[0m_value\u001b[0m\u001b[0;34m\u001b[0m\u001b[0;34m\u001b[0m\u001b[0m\n\u001b[1;32m     76\u001b[0m \u001b[0;34m\u001b[0m\u001b[0m\n",
      "\u001b[0;32m/opt/conda/lib/python3.7/site-packages/scipy/optimize/optimize.py\u001b[0m in \u001b[0;36m_compute_if_needed\u001b[0;34m(self, x, *args)\u001b[0m\n\u001b[1;32m     66\u001b[0m         \u001b[0;32mif\u001b[0m \u001b[0;32mnot\u001b[0m \u001b[0mnp\u001b[0m\u001b[0;34m.\u001b[0m\u001b[0mall\u001b[0m\u001b[0;34m(\u001b[0m\u001b[0mx\u001b[0m \u001b[0;34m==\u001b[0m \u001b[0mself\u001b[0m\u001b[0;34m.\u001b[0m\u001b[0mx\u001b[0m\u001b[0;34m)\u001b[0m \u001b[0;32mor\u001b[0m \u001b[0mself\u001b[0m\u001b[0;34m.\u001b[0m\u001b[0m_value\u001b[0m \u001b[0;32mis\u001b[0m \u001b[0;32mNone\u001b[0m \u001b[0;32mor\u001b[0m \u001b[0mself\u001b[0m\u001b[0;34m.\u001b[0m\u001b[0mjac\u001b[0m \u001b[0;32mis\u001b[0m \u001b[0;32mNone\u001b[0m\u001b[0;34m:\u001b[0m\u001b[0;34m\u001b[0m\u001b[0;34m\u001b[0m\u001b[0m\n\u001b[1;32m     67\u001b[0m             \u001b[0mself\u001b[0m\u001b[0;34m.\u001b[0m\u001b[0mx\u001b[0m \u001b[0;34m=\u001b[0m \u001b[0mnp\u001b[0m\u001b[0;34m.\u001b[0m\u001b[0masarray\u001b[0m\u001b[0;34m(\u001b[0m\u001b[0mx\u001b[0m\u001b[0;34m)\u001b[0m\u001b[0;34m.\u001b[0m\u001b[0mcopy\u001b[0m\u001b[0;34m(\u001b[0m\u001b[0;34m)\u001b[0m\u001b[0;34m\u001b[0m\u001b[0;34m\u001b[0m\u001b[0m\n\u001b[0;32m---> 68\u001b[0;31m             \u001b[0mfg\u001b[0m \u001b[0;34m=\u001b[0m \u001b[0mself\u001b[0m\u001b[0;34m.\u001b[0m\u001b[0mfun\u001b[0m\u001b[0;34m(\u001b[0m\u001b[0mx\u001b[0m\u001b[0;34m,\u001b[0m \u001b[0;34m*\u001b[0m\u001b[0margs\u001b[0m\u001b[0;34m)\u001b[0m\u001b[0;34m\u001b[0m\u001b[0;34m\u001b[0m\u001b[0m\n\u001b[0m\u001b[1;32m     69\u001b[0m             \u001b[0mself\u001b[0m\u001b[0;34m.\u001b[0m\u001b[0mjac\u001b[0m \u001b[0;34m=\u001b[0m \u001b[0mfg\u001b[0m\u001b[0;34m[\u001b[0m\u001b[0;36m1\u001b[0m\u001b[0;34m]\u001b[0m\u001b[0;34m\u001b[0m\u001b[0;34m\u001b[0m\u001b[0m\n\u001b[1;32m     70\u001b[0m             \u001b[0mself\u001b[0m\u001b[0;34m.\u001b[0m\u001b[0m_value\u001b[0m \u001b[0;34m=\u001b[0m \u001b[0mfg\u001b[0m\u001b[0;34m[\u001b[0m\u001b[0;36m0\u001b[0m\u001b[0;34m]\u001b[0m\u001b[0;34m\u001b[0m\u001b[0;34m\u001b[0m\u001b[0m\n",
      "\u001b[0;32m/opt/conda/lib/python3.7/site-packages/sklearn/gaussian_process/_gpr.py\u001b[0m in \u001b[0;36mobj_func\u001b[0;34m(theta, eval_gradient)\u001b[0m\n\u001b[1;32m    261\u001b[0m                 \u001b[0;32mif\u001b[0m \u001b[0meval_gradient\u001b[0m\u001b[0;34m:\u001b[0m\u001b[0;34m\u001b[0m\u001b[0;34m\u001b[0m\u001b[0m\n\u001b[1;32m    262\u001b[0m                     lml, grad = self.log_marginal_likelihood(\n\u001b[0;32m--> 263\u001b[0;31m                         \u001b[0mtheta\u001b[0m\u001b[0;34m,\u001b[0m \u001b[0meval_gradient\u001b[0m\u001b[0;34m=\u001b[0m\u001b[0;32mTrue\u001b[0m\u001b[0;34m,\u001b[0m \u001b[0mclone_kernel\u001b[0m\u001b[0;34m=\u001b[0m\u001b[0;32mFalse\u001b[0m\u001b[0;34m\u001b[0m\u001b[0;34m\u001b[0m\u001b[0m\n\u001b[0m\u001b[1;32m    264\u001b[0m                     )\n\u001b[1;32m    265\u001b[0m                     \u001b[0;32mreturn\u001b[0m \u001b[0;34m-\u001b[0m\u001b[0mlml\u001b[0m\u001b[0;34m,\u001b[0m \u001b[0;34m-\u001b[0m\u001b[0mgrad\u001b[0m\u001b[0;34m\u001b[0m\u001b[0;34m\u001b[0m\u001b[0m\n",
      "\u001b[0;32m/opt/conda/lib/python3.7/site-packages/sklearn/gaussian_process/_gpr.py\u001b[0m in \u001b[0;36mlog_marginal_likelihood\u001b[0;34m(self, theta, eval_gradient, clone_kernel)\u001b[0m\n\u001b[1;32m    570\u001b[0m             \u001b[0;31m#     output_alpha = alpha[:, [output_idx]]\u001b[0m\u001b[0;34m\u001b[0m\u001b[0;34m\u001b[0m\u001b[0;34m\u001b[0m\u001b[0m\n\u001b[1;32m    571\u001b[0m             \u001b[0;31m#     inner_term[..., output_idx] = output_alpha @ output_alpha.T\u001b[0m\u001b[0;34m\u001b[0m\u001b[0;34m\u001b[0m\u001b[0;34m\u001b[0m\u001b[0m\n\u001b[0;32m--> 572\u001b[0;31m             \u001b[0minner_term\u001b[0m \u001b[0;34m=\u001b[0m \u001b[0mnp\u001b[0m\u001b[0;34m.\u001b[0m\u001b[0meinsum\u001b[0m\u001b[0;34m(\u001b[0m\u001b[0;34m\"ik,jk->ijk\"\u001b[0m\u001b[0;34m,\u001b[0m \u001b[0malpha\u001b[0m\u001b[0;34m,\u001b[0m \u001b[0malpha\u001b[0m\u001b[0;34m)\u001b[0m\u001b[0;34m\u001b[0m\u001b[0;34m\u001b[0m\u001b[0m\n\u001b[0m\u001b[1;32m    573\u001b[0m             \u001b[0;31m# compute K^-1 of shape (n_samples, n_samples)\u001b[0m\u001b[0;34m\u001b[0m\u001b[0;34m\u001b[0m\u001b[0;34m\u001b[0m\u001b[0m\n\u001b[1;32m    574\u001b[0m             K_inv = cho_solve(\n",
      "\u001b[0;32m<__array_function__ internals>\u001b[0m in \u001b[0;36meinsum\u001b[0;34m(*args, **kwargs)\u001b[0m\n",
      "\u001b[0;32m/opt/conda/lib/python3.7/site-packages/numpy/core/einsumfunc.py\u001b[0m in \u001b[0;36meinsum\u001b[0;34m(out, optimize, *operands, **kwargs)\u001b[0m\n\u001b[1;32m   1357\u001b[0m         \u001b[0;32mif\u001b[0m \u001b[0mspecified_out\u001b[0m\u001b[0;34m:\u001b[0m\u001b[0;34m\u001b[0m\u001b[0;34m\u001b[0m\u001b[0m\n\u001b[1;32m   1358\u001b[0m             \u001b[0mkwargs\u001b[0m\u001b[0;34m[\u001b[0m\u001b[0;34m'out'\u001b[0m\u001b[0;34m]\u001b[0m \u001b[0;34m=\u001b[0m \u001b[0mout\u001b[0m\u001b[0;34m\u001b[0m\u001b[0;34m\u001b[0m\u001b[0m\n\u001b[0;32m-> 1359\u001b[0;31m         \u001b[0;32mreturn\u001b[0m \u001b[0mc_einsum\u001b[0m\u001b[0;34m(\u001b[0m\u001b[0;34m*\u001b[0m\u001b[0moperands\u001b[0m\u001b[0;34m,\u001b[0m \u001b[0;34m**\u001b[0m\u001b[0mkwargs\u001b[0m\u001b[0;34m)\u001b[0m\u001b[0;34m\u001b[0m\u001b[0;34m\u001b[0m\u001b[0m\n\u001b[0m\u001b[1;32m   1360\u001b[0m \u001b[0;34m\u001b[0m\u001b[0m\n\u001b[1;32m   1361\u001b[0m     \u001b[0;31m# Check the kwargs to avoid a more cryptic error later, without having to\u001b[0m\u001b[0;34m\u001b[0m\u001b[0;34m\u001b[0m\u001b[0;34m\u001b[0m\u001b[0m\n",
      "\u001b[0;31mMemoryError\u001b[0m: Unable to allocate 2.98 GiB for an array with shape (20000, 20000, 1) and data type float64"
     ]
    }
   ],
   "source": [
    "model = GaussianProcessRegressor(\n",
    "    kernel=kernels.RBF(length_scale=0.05)\n",
    "    ,n_restarts_optimizer=0\n",
    ").fit(x[val], y[val])"
   ]
  },
  {
   "cell_type": "code",
   "execution_count": null,
   "id": "b70b6b4d-f294-4472-a643-951f7df956c4",
   "metadata": {},
   "outputs": [],
   "source": [
    "y_pred_gauss = model.predict(x[test])\n",
    "y_true_gauss = y[test]"
   ]
  },
  {
   "cell_type": "code",
   "execution_count": null,
   "id": "1ee341f1-64e8-446f-95f4-f31b9297d051",
   "metadata": {},
   "outputs": [],
   "source": [
    "mean_absolute_error(y_true_gauss, y_pred_gauss), (\n",
    "    np.abs(\n",
    "        y_true_gauss-y_true_gauss.mean()\n",
    "    )\n",
    ").mean()"
   ]
  },
  {
   "cell_type": "code",
   "execution_count": null,
   "id": "99ee834c-4095-45d0-b5cc-464d0912d9a5",
   "metadata": {},
   "outputs": [],
   "source": [
    "mean_squared_error(y_true_gauss, y_pred_gauss), (\n",
    "    np.abs(\n",
    "        y_true_gauss-y_true_gauss.mean()\n",
    "    )**2\n",
    ").mean()"
   ]
  },
  {
   "cell_type": "code",
   "execution_count": null,
   "id": "7f828069-0679-4ed1-a1f5-e5a23e9d014e",
   "metadata": {},
   "outputs": [],
   "source": []
  }
 ],
 "metadata": {
  "environment": {
   "kernel": "python3",
   "name": "pytorch-gpu.1-11.m94",
   "type": "gcloud",
   "uri": "gcr.io/deeplearning-platform-release/pytorch-gpu.1-11:m94"
  },
  "kernelspec": {
   "display_name": "Python 3",
   "language": "python",
   "name": "python3"
  },
  "language_info": {
   "codemirror_mode": {
    "name": "ipython",
    "version": 3
   },
   "file_extension": ".py",
   "mimetype": "text/x-python",
   "name": "python",
   "nbconvert_exporter": "python",
   "pygments_lexer": "ipython3",
   "version": "3.7.12"
  }
 },
 "nbformat": 4,
 "nbformat_minor": 5
}
