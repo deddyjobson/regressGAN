{
 "cells": [
  {
   "cell_type": "markdown",
   "id": "b07fcdc9-31a2-41d0-a868-37f072c725a2",
   "metadata": {},
   "source": [
    "[ref](https://pytorch.org/tutorials/beginner/dcgan_faces_tutorial.html)"
   ]
  },
  {
   "cell_type": "code",
   "execution_count": 1,
   "id": "a299c93b-2ec6-498e-b737-d38aae8f3156",
   "metadata": {},
   "outputs": [],
   "source": [
    "import numpy as np\n",
    "import pandas as pd\n",
    "import matplotlib.pyplot as plt\n",
    "\n",
    "from sklearn.model_selection import train_test_split\n",
    "from sklearn.metrics import mean_squared_error, mean_absolute_error\n",
    "from sklearn.datasets import fetch_openml\n",
    "from sklearn.preprocessing import OneHotEncoder\n",
    "from sklearn.gaussian_process import GaussianProcessRegressor, kernels"
   ]
  },
  {
   "cell_type": "code",
   "execution_count": 2,
   "id": "835efe7f-bbf8-4ecf-b7a0-7b4f4202c394",
   "metadata": {},
   "outputs": [],
   "source": [
    "import torch\n",
    "import torch.nn as nn\n",
    "import torch.nn.parallel\n",
    "import torch.backends.cudnn as cudnn\n",
    "import torch.optim as optim\n",
    "import torch.utils.data\n",
    "\n",
    "from torch.utils.data.sampler import SubsetRandomSampler"
   ]
  },
  {
   "cell_type": "code",
   "execution_count": 3,
   "id": "49ddac81-def8-4e05-9ac8-23c20a3a6582",
   "metadata": {},
   "outputs": [
    {
     "name": "stdout",
     "output_type": "stream",
     "text": [
      "Random Seed:  999\n"
     ]
    },
    {
     "data": {
      "text/plain": [
       "<torch._C.Generator at 0x7fbdf008a350>"
      ]
     },
     "execution_count": 3,
     "metadata": {},
     "output_type": "execute_result"
    }
   ],
   "source": [
    "# Set random seed for reproducibility\n",
    "manualSeed = 999\n",
    "#manualSeed = random.randint(1, 10000) # use if you want new results\n",
    "print(\"Random Seed: \", manualSeed)\n",
    "np.random.seed(manualSeed)\n",
    "torch.manual_seed(manualSeed)"
   ]
  },
  {
   "cell_type": "code",
   "execution_count": 4,
   "id": "27efa966-b354-4ada-ab08-4c79913e7702",
   "metadata": {},
   "outputs": [],
   "source": [
    "device = torch.device(\"cuda:0\" if (torch.cuda.is_available() and ngpu > 0) else \"cpu\")\n",
    "ngpu=0"
   ]
  },
  {
   "cell_type": "code",
   "execution_count": 5,
   "id": "6a5b481e-553d-40ba-92e6-0d00f52acae8",
   "metadata": {},
   "outputs": [],
   "source": [
    "df = pd.read_csv(\"datasets/health_insurance.csv\")\n"
   ]
  },
  {
   "cell_type": "code",
   "execution_count": 6,
   "id": "8b84d36c-e955-4fbb-aa52-c9d84e725786",
   "metadata": {},
   "outputs": [
    {
     "data": {
      "text/plain": [
       "age           int64\n",
       "sex          object\n",
       "bmi         float64\n",
       "children      int64\n",
       "smoker       object\n",
       "region       object\n",
       "charges     float64\n",
       "dtype: object"
      ]
     },
     "execution_count": 6,
     "metadata": {},
     "output_type": "execute_result"
    }
   ],
   "source": [
    "df.dtypes"
   ]
  },
  {
   "cell_type": "code",
   "execution_count": 7,
   "id": "0d6677de-29eb-49b1-9814-e645ff1cf853",
   "metadata": {},
   "outputs": [
    {
     "name": "stdout",
     "output_type": "stream",
     "text": [
      "(1338, 11) (1338,)\n"
     ]
    }
   ],
   "source": [
    "# download the dataset from: https://www.kaggle.com/datasets/teertha/ushealthinsurancedataset\n",
    "df = pd.read_csv(\"datasets/health_insurance.csv\")\n",
    "\n",
    "df[df.select_dtypes(['float64','int64']).columns] = (df[df.select_dtypes(['float64','int64']).columns] - df[df.select_dtypes(['float64','int64']).columns].mean()) / df[df.select_dtypes(['float64','int64']).columns].std()\n",
    "\n",
    "# df = df.sample(n=10**5, random_state=43) # no need to sample when the dataset is so small\n",
    "\n",
    "\n",
    "for feat in df.select_dtypes(['category']).columns:\n",
    "    df[feat] = df[feat].values.codes\n",
    "\n",
    "for feat in df.columns:\n",
    "    num_new_feats = len(df[feat].unique())\n",
    "    if df[feat].dtype != \"float64\" and df[feat].dtype!='int64':\n",
    "        new_feats = OneHotEncoder(sparse=False).fit_transform(df[feat].values.reshape(-1,1))\n",
    "        for idx in range(num_new_feats):\n",
    "            df[f\"{feat}_{idx}\"] = new_feats[:,idx]\n",
    "            df[f\"{feat}_{idx}\"] = df[f\"{feat}_{idx}\"].astype(\"float\")\n",
    "        del df[feat]\n",
    "\n",
    "\n",
    "x = df.drop(columns=\"charges\").values\n",
    "y = df[\"charges\"].values\n",
    "print(x.shape, y.shape)"
   ]
  },
  {
   "cell_type": "code",
   "execution_count": 8,
   "id": "83cb2418-b9b4-43a6-81b1-9e90e9085aca",
   "metadata": {},
   "outputs": [],
   "source": [
    "n_samples = x.shape[0] # 10**5\n",
    "n_feats = x.shape[1] # 10"
   ]
  },
  {
   "cell_type": "code",
   "execution_count": 9,
   "id": "d50cc55e-1be7-42df-af08-9e1aabfc33d6",
   "metadata": {},
   "outputs": [],
   "source": [
    "# x = np.random.randn(n_samples, n_feats)\n",
    "# w = np.random.randn(n_feats)\n",
    "# y = x.dot(w) + 2*np.random.randn(n_samples)"
   ]
  },
  {
   "cell_type": "code",
   "execution_count": 10,
   "id": "fb09d30a-31ed-43d6-9c33-5480187225c2",
   "metadata": {},
   "outputs": [
    {
     "data": {
      "text/plain": [
       "(-1.0031822537315642, 4.170103954308559)"
      ]
     },
     "execution_count": 10,
     "metadata": {},
     "output_type": "execute_result"
    }
   ],
   "source": [
    "y.min(), y.max()"
   ]
  },
  {
   "cell_type": "markdown",
   "id": "fc875939-ce9f-4b50-b53b-23fff0688262",
   "metadata": {},
   "source": [
    "### Simple Linear Regression check"
   ]
  },
  {
   "cell_type": "code",
   "execution_count": 11,
   "id": "448800fd-6be2-465e-a2cc-4bdf178de4df",
   "metadata": {},
   "outputs": [
    {
     "data": {
      "text/plain": [
       "array([ 0.29800316,  0.17080621,  0.04733377,  0.00542173, -0.00542173,\n",
       "       -0.98466195,  0.98466195,  0.04847305,  0.0193266 , -0.03699524,\n",
       "       -0.03080441])"
      ]
     },
     "execution_count": 11,
     "metadata": {},
     "output_type": "execute_result"
    }
   ],
   "source": [
    "from sklearn.linear_model import LinearRegression\n",
    "\n",
    "reg = LinearRegression().fit(x, y)\n",
    "reg.coef_"
   ]
  },
  {
   "cell_type": "code",
   "execution_count": 12,
   "id": "84bcbe89-a4e9-422b-a251-245cfea655ba",
   "metadata": {},
   "outputs": [
    {
     "data": {
      "text/plain": [
       "(0.7509130345985207, 0.24890080175020768)"
      ]
     },
     "execution_count": 12,
     "metadata": {},
     "output_type": "execute_result"
    }
   ],
   "source": [
    "reg.score(x, y), (1-reg.score(x, y))*y.var()"
   ]
  },
  {
   "cell_type": "markdown",
   "id": "60aa35bd-b7bb-409a-b623-21ca0ff56991",
   "metadata": {
    "tags": []
   },
   "source": [
    "# Regress GAN"
   ]
  },
  {
   "cell_type": "markdown",
   "id": "b3acd4b7-1b0d-4eda-8cc5-d20429ec969f",
   "metadata": {},
   "source": [
    "### Define ANN Architecture"
   ]
  },
  {
   "cell_type": "code",
   "execution_count": 13,
   "id": "ee5d7b20-ed44-4047-bcc6-748164a359d2",
   "metadata": {},
   "outputs": [],
   "source": [
    "# Batch size during training\n",
    "batch_size = 64\n",
    "\n",
    "# Size of z latent vector (i.e. size of generator input)\n",
    "nz = 5\n",
    "\n",
    "# Number of training epochs\n",
    "num_epochs = 500\n",
    "\n",
    "# Learning rate for optimizers\n",
    "lr = 0.0002\n",
    "# lr = 0.0002\n",
    "\n",
    "# Beta1 hyperparam for Adam optimizers\n",
    "beta1 = 0.5\n",
    "\n",
    "# width of the network\n",
    "network_width = 128"
   ]
  },
  {
   "cell_type": "code",
   "execution_count": 14,
   "id": "22b53034-9834-4886-bfd9-ad9fccca302f",
   "metadata": {},
   "outputs": [],
   "source": [
    "# create train and test indices\n",
    "train, test = train_test_split(list(range(x.shape[0])), test_size=.2)\n",
    "train, val = train_test_split(train, test_size=.25)"
   ]
  },
  {
   "cell_type": "code",
   "execution_count": 15,
   "id": "926ae90b-8966-4a42-995c-2512b91025b3",
   "metadata": {},
   "outputs": [],
   "source": [
    "# https://gist.github.com/conormm/5b26a08029b900520bcd6fcd1f5712a0\n",
    "class PrepareData(torch.utils.data.Dataset):\n",
    "\n",
    "    def __init__(self, X, y, scale_X=True):\n",
    "        if not torch.is_tensor(X):\n",
    "            if scale_X:\n",
    "                X = StandardScaler().fit_transform(X)\n",
    "            self.X = torch.from_numpy(X).float()\n",
    "        else:\n",
    "            self.X = X.float32()\n",
    "        if not torch.is_tensor(y):\n",
    "            self.y = torch.from_numpy(y).float()\n",
    "        else:\n",
    "            self.y = y.float32()\n",
    "\n",
    "    def __len__(self):\n",
    "        return len(self.X)\n",
    "\n",
    "    def __getitem__(self, idx):\n",
    "        return self.X[idx], self.y[idx]\n",
    "\n",
    "ds = PrepareData(x, y=y, scale_X=False)\n",
    "\n",
    "train_set = torch.utils.data.DataLoader(ds, batch_size=batch_size,\n",
    "                       sampler=SubsetRandomSampler(train))\n",
    "val_set = torch.utils.data.DataLoader(ds, batch_size=batch_size,\n",
    "                       sampler=SubsetRandomSampler(val))\n",
    "test_set = torch.utils.data.DataLoader(ds, batch_size=batch_size,\n",
    "                      sampler=SubsetRandomSampler(test))"
   ]
  },
  {
   "cell_type": "code",
   "execution_count": 16,
   "id": "ae20ffb8-a81c-401b-96cc-6ea2948081d3",
   "metadata": {
    "collapsed": false,
    "jupyter": {
     "outputs_hidden": false
    }
   },
   "outputs": [],
   "source": [
    "# Generator Code\n",
    "\n",
    "class Generator(nn.Module):\n",
    "    def __init__(self, ngpu):\n",
    "        super(Generator, self).__init__()\n",
    "        self.ngpu = ngpu\n",
    "        self.main = nn.Sequential(\n",
    "            # input is Z, going into a convolution\n",
    "            nn.Linear( n_feats+nz, network_width, bias=True),\n",
    "            nn.ReLU(True),\n",
    "\n",
    "            nn.Linear( network_width, network_width, bias=True),\n",
    "            nn.ReLU(True),\n",
    "\n",
    "            nn.Linear( network_width, 1, bias=True)\n",
    "\n",
    "        )\n",
    "\n",
    "    def forward(self, input):\n",
    "        return self.main(input)"
   ]
  },
  {
   "cell_type": "code",
   "execution_count": 17,
   "id": "75149020-6f89-4866-b582-b6d1f1bfbf0f",
   "metadata": {},
   "outputs": [
    {
     "name": "stdout",
     "output_type": "stream",
     "text": [
      "Generator(\n",
      "  (main): Sequential(\n",
      "    (0): Linear(in_features=16, out_features=128, bias=True)\n",
      "    (1): ReLU(inplace=True)\n",
      "    (2): Linear(in_features=128, out_features=128, bias=True)\n",
      "    (3): ReLU(inplace=True)\n",
      "    (4): Linear(in_features=128, out_features=1, bias=True)\n",
      "  )\n",
      ")\n"
     ]
    }
   ],
   "source": [
    "# Create the generator\n",
    "netG = Generator(ngpu).to(device)\n",
    "\n",
    "# Print the model\n",
    "print(netG)"
   ]
  },
  {
   "cell_type": "code",
   "execution_count": 18,
   "id": "65c0957d-f66b-491d-97a0-6cb5107cbb4c",
   "metadata": {
    "collapsed": false,
    "jupyter": {
     "outputs_hidden": false
    }
   },
   "outputs": [],
   "source": [
    "# Discriminator Code\n",
    "\n",
    "class Discriminator(nn.Module):\n",
    "    def __init__(self, ngpu):\n",
    "        super(Discriminator, self).__init__()\n",
    "        self.ngpu = ngpu\n",
    "        self.main = nn.Sequential(\n",
    "            # input is Z, going into a convolution\n",
    "            nn.Linear(n_feats+1, network_width, bias=True), # i/p is covariates and o/p\n",
    "            nn.LeakyReLU(0.2, inplace=True),\n",
    "\n",
    "            nn.Linear( network_width, network_width, bias=True),\n",
    "            nn.LeakyReLU(0.2, inplace=True),\n",
    "\n",
    "            nn.Linear( network_width, 1, bias=True),\n",
    "            nn.Sigmoid(),\n",
    "\n",
    "        )\n",
    "\n",
    "    def forward(self, input):\n",
    "        return self.main(input)"
   ]
  },
  {
   "cell_type": "code",
   "execution_count": 19,
   "id": "29259410-3eeb-44b4-8097-ac4eb88d2813",
   "metadata": {},
   "outputs": [
    {
     "name": "stdout",
     "output_type": "stream",
     "text": [
      "Discriminator(\n",
      "  (main): Sequential(\n",
      "    (0): Linear(in_features=12, out_features=128, bias=True)\n",
      "    (1): LeakyReLU(negative_slope=0.2, inplace=True)\n",
      "    (2): Linear(in_features=128, out_features=128, bias=True)\n",
      "    (3): LeakyReLU(negative_slope=0.2, inplace=True)\n",
      "    (4): Linear(in_features=128, out_features=1, bias=True)\n",
      "    (5): Sigmoid()\n",
      "  )\n",
      ")\n"
     ]
    }
   ],
   "source": [
    "# Create the Discriminator\n",
    "netD = Discriminator(ngpu).to(device)\n",
    "\n",
    "# Print the model\n",
    "print(netD)"
   ]
  },
  {
   "cell_type": "code",
   "execution_count": 20,
   "id": "c30d199c-43ed-4bc9-b0b2-2d8661f2efa8",
   "metadata": {
    "collapsed": false,
    "jupyter": {
     "outputs_hidden": false
    }
   },
   "outputs": [],
   "source": [
    "# Initialize BCELoss function\n",
    "criterion = nn.BCELoss()\n",
    "\n",
    "# Create batch of latent vectors that we will use to visualize\n",
    "#  the progression of the generator\n",
    "fixed_noise = torch.randn(nz, device=device)\n",
    "\n",
    "# Establish convention for real and fake labels during training\n",
    "real_label = 1.\n",
    "fake_label = 0.\n",
    "\n",
    "# Setup Adam optimizers for both G and D\n",
    "optimizerD = optim.Adam(netD.parameters(), lr=lr, betas=(beta1, 0.999))\n",
    "optimizerG = optim.Adam(netG.parameters(), lr=lr, betas=(beta1, 0.999))"
   ]
  },
  {
   "cell_type": "code",
   "execution_count": 21,
   "id": "4caa3c28-69b8-4383-83d6-36d301752234",
   "metadata": {},
   "outputs": [
    {
     "name": "stdout",
     "output_type": "stream",
     "text": [
      "Starting Training Loop...\n",
      "[0/500][0/13]\tLoss_D: 1.4019\tLoss_G: 0.7600\tD(x): 0.4603\tD(G(z)): 0.4643 / 0.4681\n",
      "[10/500][0/13]\tLoss_D: 1.3049\tLoss_G: 0.7690\tD(x): 0.5167\tD(G(z)): 0.4727 / 0.4646\n",
      "[20/500][0/13]\tLoss_D: 1.3684\tLoss_G: 0.7168\tD(x): 0.5034\tD(G(z)): 0.4924 / 0.4894\n",
      "[30/500][0/13]\tLoss_D: 1.3815\tLoss_G: 0.7099\tD(x): 0.4964\tD(G(z)): 0.4927 / 0.4926\n",
      "[40/500][0/13]\tLoss_D: 1.3845\tLoss_G: 0.6883\tD(x): 0.5038\tD(G(z)): 0.5026 / 0.5025\n",
      "[50/500][0/13]\tLoss_D: 1.3758\tLoss_G: 0.6968\tD(x): 0.5039\tD(G(z)): 0.4984 / 0.4982\n",
      "[60/500][0/13]\tLoss_D: 1.3865\tLoss_G: 0.6933\tD(x): 0.5010\tD(G(z)): 0.5008 / 0.5001\n",
      "[70/500][0/13]\tLoss_D: 1.3864\tLoss_G: 0.6917\tD(x): 0.5009\tD(G(z)): 0.5005 / 0.5009\n",
      "[80/500][0/13]\tLoss_D: 1.3815\tLoss_G: 0.6976\tD(x): 0.5013\tD(G(z)): 0.4986 / 0.4979\n",
      "[90/500][0/13]\tLoss_D: 1.3762\tLoss_G: 0.7020\tD(x): 0.5010\tD(G(z)): 0.4956 / 0.4956\n",
      "[100/500][0/13]\tLoss_D: 1.3680\tLoss_G: 0.6992\tD(x): 0.5074\tD(G(z)): 0.4978 / 0.4971\n",
      "[110/500][0/13]\tLoss_D: 1.3849\tLoss_G: 0.6911\tD(x): 0.5033\tD(G(z)): 0.5020 / 0.5014\n",
      "[120/500][0/13]\tLoss_D: 1.3756\tLoss_G: 0.7013\tD(x): 0.5034\tD(G(z)): 0.4977 / 0.4961\n",
      "[130/500][0/13]\tLoss_D: 1.3756\tLoss_G: 0.7010\tD(x): 0.5046\tD(G(z)): 0.4982 / 0.4964\n",
      "[140/500][0/13]\tLoss_D: 1.3735\tLoss_G: 0.7053\tD(x): 0.5007\tD(G(z)): 0.4934 / 0.4943\n",
      "[150/500][0/13]\tLoss_D: 1.3647\tLoss_G: 0.7027\tD(x): 0.5070\tD(G(z)): 0.4954 / 0.4956\n",
      "[160/500][0/13]\tLoss_D: 1.3692\tLoss_G: 0.7004\tD(x): 0.5076\tD(G(z)): 0.4980 / 0.4967\n",
      "[170/500][0/13]\tLoss_D: 1.3701\tLoss_G: 0.7020\tD(x): 0.5049\tD(G(z)): 0.4961 / 0.4959\n",
      "[180/500][0/13]\tLoss_D: 1.3686\tLoss_G: 0.7118\tD(x): 0.5010\tD(G(z)): 0.4914 / 0.4912\n",
      "[190/500][0/13]\tLoss_D: 1.3879\tLoss_G: 0.6916\tD(x): 0.5027\tD(G(z)): 0.5022 / 0.5014\n",
      "[200/500][0/13]\tLoss_D: 1.3674\tLoss_G: 0.7098\tD(x): 0.5068\tD(G(z)): 0.4956 / 0.4926\n",
      "[210/500][0/13]\tLoss_D: 1.3628\tLoss_G: 0.7093\tD(x): 0.5069\tD(G(z)): 0.4935 / 0.4927\n",
      "[220/500][0/13]\tLoss_D: 1.3642\tLoss_G: 0.7123\tD(x): 0.5021\tD(G(z)): 0.4898 / 0.4910\n",
      "[230/500][0/13]\tLoss_D: 1.3751\tLoss_G: 0.6934\tD(x): 0.5069\tD(G(z)): 0.5003 / 0.5005\n",
      "[240/500][0/13]\tLoss_D: 1.3686\tLoss_G: 0.7049\tD(x): 0.5078\tD(G(z)): 0.4966 / 0.4950\n",
      "[250/500][0/13]\tLoss_D: 1.3511\tLoss_G: 0.7043\tD(x): 0.5166\tD(G(z)): 0.4967 / 0.4951\n",
      "[260/500][0/13]\tLoss_D: 1.3639\tLoss_G: 0.7154\tD(x): 0.5076\tD(G(z)): 0.4939 / 0.4907\n",
      "[270/500][0/13]\tLoss_D: 1.3741\tLoss_G: 0.7144\tD(x): 0.4968\tD(G(z)): 0.4882 / 0.4904\n",
      "[280/500][0/13]\tLoss_D: 1.3576\tLoss_G: 0.7058\tD(x): 0.5184\tD(G(z)): 0.5019 / 0.4943\n",
      "[290/500][0/13]\tLoss_D: 1.3521\tLoss_G: 0.7162\tD(x): 0.5118\tD(G(z)): 0.4912 / 0.4906\n",
      "[300/500][0/13]\tLoss_D: 1.3458\tLoss_G: 0.7306\tD(x): 0.5118\tD(G(z)): 0.4867 / 0.4833\n",
      "[310/500][0/13]\tLoss_D: 1.3745\tLoss_G: 0.7144\tD(x): 0.5029\tD(G(z)): 0.4935 / 0.4910\n",
      "[320/500][0/13]\tLoss_D: 1.3366\tLoss_G: 0.7188\tD(x): 0.5324\tD(G(z)): 0.4994 / 0.4892\n",
      "[330/500][0/13]\tLoss_D: 1.3645\tLoss_G: 0.7131\tD(x): 0.5262\tD(G(z)): 0.5057 / 0.4935\n",
      "[340/500][0/13]\tLoss_D: 1.3349\tLoss_G: 0.7334\tD(x): 0.5202\tD(G(z)): 0.4889 / 0.4819\n",
      "[350/500][0/13]\tLoss_D: 1.3170\tLoss_G: 0.7350\tD(x): 0.5283\tD(G(z)): 0.4866 / 0.4828\n",
      "[360/500][0/13]\tLoss_D: 1.3220\tLoss_G: 0.7495\tD(x): 0.5207\tD(G(z)): 0.4806 / 0.4775\n",
      "[370/500][0/13]\tLoss_D: 1.3434\tLoss_G: 0.7365\tD(x): 0.5059\tD(G(z)): 0.4797 / 0.4806\n",
      "[380/500][0/13]\tLoss_D: 1.3488\tLoss_G: 0.7266\tD(x): 0.5086\tD(G(z)): 0.4862 / 0.4852\n",
      "[390/500][0/13]\tLoss_D: 1.3228\tLoss_G: 0.7289\tD(x): 0.5309\tD(G(z)): 0.4918 / 0.4850\n",
      "[400/500][0/13]\tLoss_D: 1.3417\tLoss_G: 0.7096\tD(x): 0.5230\tD(G(z)): 0.4955 / 0.4938\n",
      "[410/500][0/13]\tLoss_D: 1.3384\tLoss_G: 0.7345\tD(x): 0.5130\tD(G(z)): 0.4828 / 0.4820\n",
      "[420/500][0/13]\tLoss_D: 1.3189\tLoss_G: 0.7442\tD(x): 0.5270\tD(G(z)): 0.4859 / 0.4770\n",
      "[430/500][0/13]\tLoss_D: 1.3493\tLoss_G: 0.7238\tD(x): 0.5211\tD(G(z)): 0.4937 / 0.4901\n",
      "[440/500][0/13]\tLoss_D: 1.2846\tLoss_G: 0.7642\tD(x): 0.5348\tD(G(z)): 0.4717 / 0.4699\n",
      "[450/500][0/13]\tLoss_D: 1.3321\tLoss_G: 0.7409\tD(x): 0.5038\tD(G(z)): 0.4691 / 0.4797\n",
      "[460/500][0/13]\tLoss_D: 1.3573\tLoss_G: 0.7136\tD(x): 0.5195\tD(G(z)): 0.4973 / 0.4915\n",
      "[470/500][0/13]\tLoss_D: 1.3321\tLoss_G: 0.7576\tD(x): 0.5064\tD(G(z)): 0.4720 / 0.4713\n",
      "[480/500][0/13]\tLoss_D: 1.3231\tLoss_G: 0.7401\tD(x): 0.5231\tD(G(z)): 0.4841 / 0.4789\n",
      "[490/500][0/13]\tLoss_D: 1.3196\tLoss_G: 0.7692\tD(x): 0.5053\tD(G(z)): 0.4616 / 0.4684\n"
     ]
    }
   ],
   "source": [
    "# Training Loop\n",
    "\n",
    "# Lists to keep track of progress\n",
    "img_list = []\n",
    "G_losses = []\n",
    "D_losses = []\n",
    "iters = 0\n",
    "\n",
    "G_losses_val = []\n",
    "D_losses_val = []\n",
    "\n",
    "print(\"Starting Training Loop...\")\n",
    "# For each epoch\n",
    "for epoch in range(num_epochs):\n",
    "    # For each batch in the dataloader\n",
    "    for i, data in enumerate(train_set, 0):\n",
    "        \n",
    "        ############################\n",
    "        # (1) Update D network: maximize log(D(x)) + log(1 - D(G(z)))\n",
    "        ###########################\n",
    "        ## Train with all-real batch\n",
    "        netD.zero_grad()\n",
    "        # Format batch\n",
    "        real_cpu = torch.hstack((data[0],data[1].unsqueeze(1))).to(device)\n",
    "        b_size = real_cpu.size(0)\n",
    "        label = torch.full((b_size,), real_label, dtype=torch.float, device=device)\n",
    "        # Forward pass real batch through D\n",
    "        output = netD(real_cpu).view(-1)\n",
    "        # Calculate loss on all-real batch\n",
    "        errD_real = criterion(output, label)\n",
    "        # Calculate gradients for D in backward pass\n",
    "        errD_real.backward()\n",
    "        D_x = output.mean().item()\n",
    "\n",
    "        ## Train with all-fake batch\n",
    "        # Generate batch of latent vectors\n",
    "        noise = torch.randn(b_size, nz, device=device)\n",
    "        # Generate fake image batch with G\n",
    "        gen_ip = torch.hstack((data[0],noise)).to(device)\n",
    "        fake = netG(gen_ip)\n",
    "        \n",
    "        label.fill_(fake_label)\n",
    "        # Classify all fake batch with D\n",
    "        fake_cpu = torch.hstack((data[0],fake.detach())).to(device)\n",
    "        output = netD(fake_cpu.detach()).view(-1)\n",
    "        # Calculate D's loss on the all-fake batch\n",
    "        errD_fake = criterion(output, label)\n",
    "        # Calculate the gradients for this batch, accumulated (summed) with previous gradients\n",
    "        errD_fake.backward()\n",
    "        D_G_z1 = output.mean().item()\n",
    "        # Compute error of D as sum over the fake and the real batches\n",
    "        errD = errD_real + errD_fake\n",
    "        # Update D\n",
    "        optimizerD.step()\n",
    "\n",
    "        ############################\n",
    "        # (2) Update G network: maximize log(D(G(z)))\n",
    "        ###########################\n",
    "        netG.zero_grad()\n",
    "        label.fill_(real_label)  # fake labels are real for generator cost\n",
    "        # Since we just updated D, perform another forward pass of all-fake batch through D\n",
    "        fake_cpu = torch.hstack((data[0],fake)).to(device)\n",
    "        output = netD(fake_cpu).view(-1)\n",
    "        # Calculate G's loss based on this output\n",
    "        errG = criterion(output, label)\n",
    "        # Calculate gradients for G\n",
    "        errG.backward()\n",
    "        D_G_z2 = output.mean().item()\n",
    "        # Update G\n",
    "        optimizerG.step()\n",
    "        \n",
    "        # Output training stats\n",
    "        if i % 5000 == 0 and epoch % 10 == 0:\n",
    "            print('[%d/%d][%d/%d]\\tLoss_D: %.4f\\tLoss_G: %.4f\\tD(x): %.4f\\tD(G(z)): %.4f / %.4f'\n",
    "                  % (epoch, num_epochs, i, len(train_set),\n",
    "                     errD.item(), errG.item(), D_x, D_G_z1, D_G_z2))\n",
    "                \n",
    "        # Output validation stats\n",
    "        if i % 1000 == 0:\n",
    "            with torch.no_grad():\n",
    "                errG_vals = []\n",
    "                errD_vals = []\n",
    "                for i, data in enumerate(val_set, 0):\n",
    "                    b_size = data[0].size(0)\n",
    "                    noise = torch.randn(b_size, nz, device=device)\n",
    "                    # Generate fake image batch with G\n",
    "                    gen_ip = torch.hstack((data[0],noise)).to(device)\n",
    "                    gen_op = netG(gen_ip)\n",
    "                    \n",
    "                    fake_cpu = torch.hstack((data[0],gen_op)).to(device)\n",
    "                    fake_output = netD(fake_cpu).view(-1)\n",
    "\n",
    "                    label.fill_(real_label) # fake labels are real for generator cost\n",
    "                    errG_val = criterion(output, label)  \n",
    "                    \n",
    "                    label.fill_(fake_label)\n",
    "                    errD_fake_val = criterion(output, label)\n",
    "                    \n",
    "                    real_cpu = torch.hstack((data[0],data[1].unsqueeze(1))).to(device)\n",
    "                    real_output = netD(real_cpu).view(-1)\n",
    "                    \n",
    "                    label.fill_(real_label)\n",
    "                    errD_real_val = criterion(output, label)\n",
    "                    \n",
    "                    errG_vals.append(errG_val.item())\n",
    "                    errD_vals.append((errD_fake_val+errD_real_val).item())\n",
    "            G_losses_val.append(sum(errG_vals)/len(errG_vals))\n",
    "            D_losses_val.append(sum(errD_vals)/len(errD_vals))\n",
    "        \n",
    "        \n",
    "        # Save Losses for plotting later\n",
    "        G_losses.append(errG.item())\n",
    "        D_losses.append(errD.item())\n",
    "        \n",
    "        # Check how the generator is doing by saving G's output on fixed_noise\n",
    "        # if (iters % 500 == 0) or ((epoch == num_epochs-1) and (i == len(train_set)-1)):\n",
    "        #     with torch.no_grad():\n",
    "        #         fake = netG(fixed_noise).detach().cpu()\n",
    "        #     img_list.append(vutils.make_grid(fake, padding=2, normalize=True))\n",
    "            \n",
    "        iters += 1"
   ]
  },
  {
   "cell_type": "code",
   "execution_count": 22,
   "id": "1cca6ec1-c384-40f7-9455-c723703c67d4",
   "metadata": {},
   "outputs": [
    {
     "data": {
      "image/png": "[encoded data removed]",
      "text/plain": [
       "<Figure size 720x360 with 1 Axes>"
      ]
     },
     "metadata": {
      "needs_background": "light"
     },
     "output_type": "display_data"
    }
   ],
   "source": [
    "plt.figure(figsize=(10,5))\n",
    "plt.title(\"Generator and Discriminator Loss During Training\")\n",
    "plt.plot(G_losses,label=\"G\")\n",
    "plt.plot(D_losses,label=\"D\")\n",
    "plt.xlabel(\"iterations\")\n",
    "plt.ylabel(\"Loss\")\n",
    "plt.legend()\n",
    "plt.show()"
   ]
  },
  {
   "cell_type": "code",
   "execution_count": 23,
   "id": "64be2550-691b-40c4-a4e9-f16cb3783b0f",
   "metadata": {},
   "outputs": [
    {
     "data": {
      "image/png": "[encoded data removed]",
      "text/plain": [
       "<Figure size 720x360 with 1 Axes>"
      ]
     },
     "metadata": {
      "needs_background": "light"
     },
     "output_type": "display_data"
    }
   ],
   "source": [
    "plt.figure(figsize=(10,5))\n",
    "plt.title(\"Generator and Discriminator Loss During Training (Validation Set)\")\n",
    "plt.plot(G_losses_val,label=\"G\")\n",
    "plt.plot(D_losses_val,label=\"D\")\n",
    "plt.xlabel(\"iterations\")\n",
    "plt.ylabel(\"Loss\")\n",
    "plt.legend()\n",
    "plt.show()"
   ]
  },
  {
   "cell_type": "markdown",
   "id": "9546287e-8940-4fbc-b990-81029da132cd",
   "metadata": {},
   "source": [
    "## Train Predictions"
   ]
  },
  {
   "cell_type": "code",
   "execution_count": 24,
   "id": "22d71a6f-0001-4bcd-957f-a2b0e1d2394d",
   "metadata": {},
   "outputs": [],
   "source": [
    "train_ops = []\n",
    "with torch.no_grad():\n",
    "    for i, data in enumerate(train_set, 0):\n",
    "        b_size = data[0].size(0)\n",
    "        noise = torch.randn(b_size, nz, device=device)\n",
    "        # Generate fake image batch with G\n",
    "        gen_ip = torch.hstack((data[0],noise)).to(device)\n",
    "        fake = netG(gen_ip)\n",
    "        \n",
    "        train_ops.append(\n",
    "            (data[1].detach().cpu().numpy(), fake.detach().cpu().numpy())\n",
    "        )"
   ]
  },
  {
   "cell_type": "code",
   "execution_count": 25,
   "id": "23c38a2f-9fec-452f-ac02-b3e35e14b189",
   "metadata": {},
   "outputs": [],
   "source": [
    "train_reals = np.concatenate(list(x[0] for x in train_ops))\n",
    "train_preds = np.concatenate(list(x[1] for x in train_ops))"
   ]
  },
  {
   "cell_type": "code",
   "execution_count": 26,
   "id": "378a9a1c-39df-4ae5-a35e-edff8243ec80",
   "metadata": {},
   "outputs": [
    {
     "data": {
      "text/html": [
       "<div>\n",
       "<style scoped>\n",
       "    .dataframe tbody tr th:only-of-type {\n",
       "        vertical-align: middle;\n",
       "    }\n",
       "\n",
       "    .dataframe tbody tr th {\n",
       "        vertical-align: top;\n",
       "    }\n",
       "\n",
       "    .dataframe thead th {\n",
       "        text-align: right;\n",
       "    }\n",
       "</style>\n",
       "<table border=\"1\" class=\"dataframe\">\n",
       "  <thead>\n",
       "    <tr style=\"text-align: right;\">\n",
       "      <th></th>\n",
       "      <th>true</th>\n",
       "      <th>pred</th>\n",
       "    </tr>\n",
       "  </thead>\n",
       "  <tbody>\n",
       "    <tr>\n",
       "      <th>count</th>\n",
       "      <td>802.000000</td>\n",
       "      <td>802.000000</td>\n",
       "    </tr>\n",
       "    <tr>\n",
       "      <th>mean</th>\n",
       "      <td>-0.020810</td>\n",
       "      <td>-0.082995</td>\n",
       "    </tr>\n",
       "    <tr>\n",
       "      <th>std</th>\n",
       "      <td>1.001404</td>\n",
       "      <td>0.984552</td>\n",
       "    </tr>\n",
       "    <tr>\n",
       "      <th>min</th>\n",
       "      <td>-1.003182</td>\n",
       "      <td>-1.036240</td>\n",
       "    </tr>\n",
       "    <tr>\n",
       "      <th>25%</th>\n",
       "      <td>-0.720720</td>\n",
       "      <td>-0.739461</td>\n",
       "    </tr>\n",
       "    <tr>\n",
       "      <th>50%</th>\n",
       "      <td>-0.352065</td>\n",
       "      <td>-0.396058</td>\n",
       "    </tr>\n",
       "    <tr>\n",
       "      <th>75%</th>\n",
       "      <td>0.210536</td>\n",
       "      <td>0.040195</td>\n",
       "    </tr>\n",
       "    <tr>\n",
       "      <th>max</th>\n",
       "      <td>4.170104</td>\n",
       "      <td>3.923240</td>\n",
       "    </tr>\n",
       "  </tbody>\n",
       "</table>\n",
       "</div>"
      ],
      "text/plain": [
       "             true        pred\n",
       "count  802.000000  802.000000\n",
       "mean    -0.020810   -0.082995\n",
       "std      1.001404    0.984552\n",
       "min     -1.003182   -1.036240\n",
       "25%     -0.720720   -0.739461\n",
       "50%     -0.352065   -0.396058\n",
       "75%      0.210536    0.040195\n",
       "max      4.170104    3.923240"
      ]
     },
     "execution_count": 26,
     "metadata": {},
     "output_type": "execute_result"
    }
   ],
   "source": [
    "df_results_train = pd.DataFrame(\n",
    "    data = np.hstack((\n",
    "    np.expand_dims(train_reals,1),train_preds\n",
    "    ))\n",
    "    ,columns = [\"true\",\"pred\"]\n",
    ")\n",
    "\n",
    "df_results_train.describe()"
   ]
  },
  {
   "cell_type": "code",
   "execution_count": 27,
   "id": "44f3be38-2a76-41f2-9f4a-95be6b25490b",
   "metadata": {},
   "outputs": [
    {
     "data": {
      "text/html": [
       "<div>\n",
       "<style scoped>\n",
       "    .dataframe tbody tr th:only-of-type {\n",
       "        vertical-align: middle;\n",
       "    }\n",
       "\n",
       "    .dataframe tbody tr th {\n",
       "        vertical-align: top;\n",
       "    }\n",
       "\n",
       "    .dataframe thead th {\n",
       "        text-align: right;\n",
       "    }\n",
       "</style>\n",
       "<table border=\"1\" class=\"dataframe\">\n",
       "  <thead>\n",
       "    <tr style=\"text-align: right;\">\n",
       "      <th></th>\n",
       "      <th>true</th>\n",
       "      <th>pred</th>\n",
       "    </tr>\n",
       "    <tr>\n",
       "      <th>pred_segment</th>\n",
       "      <th></th>\n",
       "      <th></th>\n",
       "    </tr>\n",
       "  </thead>\n",
       "  <tbody>\n",
       "    <tr>\n",
       "      <th>(-1.037, -0.903]</th>\n",
       "      <td>-0.850243</td>\n",
       "      <td>-0.957360</td>\n",
       "    </tr>\n",
       "    <tr>\n",
       "      <th>(-0.903, -0.784]</th>\n",
       "      <td>-0.780425</td>\n",
       "      <td>-0.847238</td>\n",
       "    </tr>\n",
       "    <tr>\n",
       "      <th>(-0.784, -0.697]</th>\n",
       "      <td>-0.570747</td>\n",
       "      <td>-0.740605</td>\n",
       "    </tr>\n",
       "    <tr>\n",
       "      <th>(-0.697, -0.548]</th>\n",
       "      <td>-0.541099</td>\n",
       "      <td>-0.624556</td>\n",
       "    </tr>\n",
       "    <tr>\n",
       "      <th>(-0.548, -0.396]</th>\n",
       "      <td>-0.376725</td>\n",
       "      <td>-0.470750</td>\n",
       "    </tr>\n",
       "    <tr>\n",
       "      <th>(-0.396, -0.232]</th>\n",
       "      <td>-0.149468</td>\n",
       "      <td>-0.315694</td>\n",
       "    </tr>\n",
       "    <tr>\n",
       "      <th>(-0.232, -0.0639]</th>\n",
       "      <td>-0.041278</td>\n",
       "      <td>-0.156962</td>\n",
       "    </tr>\n",
       "    <tr>\n",
       "      <th>(-0.0639, 0.314]</th>\n",
       "      <td>0.113078</td>\n",
       "      <td>0.064997</td>\n",
       "    </tr>\n",
       "    <tr>\n",
       "      <th>(0.314, 1.547]</th>\n",
       "      <td>0.677998</td>\n",
       "      <td>0.785996</td>\n",
       "    </tr>\n",
       "    <tr>\n",
       "      <th>(1.547, 3.923]</th>\n",
       "      <td>2.292261</td>\n",
       "      <td>2.411963</td>\n",
       "    </tr>\n",
       "  </tbody>\n",
       "</table>\n",
       "</div>"
      ],
      "text/plain": [
       "                       true      pred\n",
       "pred_segment                         \n",
       "(-1.037, -0.903]  -0.850243 -0.957360\n",
       "(-0.903, -0.784]  -0.780425 -0.847238\n",
       "(-0.784, -0.697]  -0.570747 -0.740605\n",
       "(-0.697, -0.548]  -0.541099 -0.624556\n",
       "(-0.548, -0.396]  -0.376725 -0.470750\n",
       "(-0.396, -0.232]  -0.149468 -0.315694\n",
       "(-0.232, -0.0639] -0.041278 -0.156962\n",
       "(-0.0639, 0.314]   0.113078  0.064997\n",
       "(0.314, 1.547]     0.677998  0.785996\n",
       "(1.547, 3.923]     2.292261  2.411963"
      ]
     },
     "execution_count": 27,
     "metadata": {},
     "output_type": "execute_result"
    }
   ],
   "source": [
    "df_results_train[\"pred_segment\"] = pd.qcut(df_results_train[\"pred\"],10)\n",
    "df_results_train.groupby(\"pred_segment\").mean()"
   ]
  },
  {
   "cell_type": "code",
   "execution_count": 28,
   "id": "25f8c965-2241-458d-bd98-f79a9a5b8de9",
   "metadata": {},
   "outputs": [
    {
     "data": {
      "text/plain": [
       "(0.19895369, 1.0028106)"
      ]
     },
     "execution_count": 28,
     "metadata": {},
     "output_type": "execute_result"
    }
   ],
   "source": [
    "mean_squared_error(df_results_train[\"true\"], df_results_train[\"pred\"]), df_results_train[\"true\"].var()"
   ]
  },
  {
   "cell_type": "code",
   "execution_count": 29,
   "id": "3b5a2f6a-10cb-4354-8ec2-188535bf86e5",
   "metadata": {},
   "outputs": [
    {
     "data": {
      "text/plain": [
       "(0.1753465, 0.7431162)"
      ]
     },
     "execution_count": 29,
     "metadata": {},
     "output_type": "execute_result"
    }
   ],
   "source": [
    "mean_absolute_error(df_results_train[\"true\"], df_results_train[\"pred\"]), (\n",
    "    df_results_train[\"true\"]-df_results_train[\"true\"].mean()\n",
    ").abs().mean()"
   ]
  },
  {
   "cell_type": "markdown",
   "id": "a8de3f01-dd60-4f6b-bf53-7b6fb50ab87a",
   "metadata": {},
   "source": [
    "## Test Predictions"
   ]
  },
  {
   "cell_type": "code",
   "execution_count": 30,
   "id": "4ca1102a-11e2-46b8-b0e4-232f0b8b6075",
   "metadata": {},
   "outputs": [],
   "source": [
    "test_ops = []\n",
    "with torch.no_grad():\n",
    "    for i, data in enumerate(test_set, 0):\n",
    "        b_size = data[0].size(0)\n",
    "        noise = torch.randn(b_size, nz, device=device)\n",
    "        # Generate fake image batch with G\n",
    "        gen_ip = torch.hstack((data[0],noise)).to(device)\n",
    "        fake = netG(gen_ip)\n",
    "        \n",
    "        test_ops.append(\n",
    "            (data[1].detach().cpu().numpy(), fake.detach().cpu().numpy())\n",
    "        )"
   ]
  },
  {
   "cell_type": "code",
   "execution_count": 31,
   "id": "a865a72b-bc48-4bbd-a185-ed30259d54c8",
   "metadata": {},
   "outputs": [],
   "source": [
    "test_reals = np.concatenate(list(x[0] for x in test_ops))\n",
    "test_preds = np.concatenate(list(x[1] for x in test_ops))"
   ]
  },
  {
   "cell_type": "code",
   "execution_count": 32,
   "id": "749677ba-6512-4ed3-8b27-979ac7f6b01c",
   "metadata": {},
   "outputs": [
    {
     "data": {
      "text/html": [
       "<div>\n",
       "<style scoped>\n",
       "    .dataframe tbody tr th:only-of-type {\n",
       "        vertical-align: middle;\n",
       "    }\n",
       "\n",
       "    .dataframe tbody tr th {\n",
       "        vertical-align: top;\n",
       "    }\n",
       "\n",
       "    .dataframe thead th {\n",
       "        text-align: right;\n",
       "    }\n",
       "</style>\n",
       "<table border=\"1\" class=\"dataframe\">\n",
       "  <thead>\n",
       "    <tr style=\"text-align: right;\">\n",
       "      <th></th>\n",
       "      <th>true</th>\n",
       "      <th>pred</th>\n",
       "    </tr>\n",
       "  </thead>\n",
       "  <tbody>\n",
       "    <tr>\n",
       "      <th>count</th>\n",
       "      <td>268.000000</td>\n",
       "      <td>268.000000</td>\n",
       "    </tr>\n",
       "    <tr>\n",
       "      <th>mean</th>\n",
       "      <td>0.065439</td>\n",
       "      <td>-0.037103</td>\n",
       "    </tr>\n",
       "    <tr>\n",
       "      <th>std</th>\n",
       "      <td>1.002904</td>\n",
       "      <td>0.973869</td>\n",
       "    </tr>\n",
       "    <tr>\n",
       "      <th>min</th>\n",
       "      <td>-1.002387</td>\n",
       "      <td>-1.018608</td>\n",
       "    </tr>\n",
       "    <tr>\n",
       "      <th>25%</th>\n",
       "      <td>-0.614853</td>\n",
       "      <td>-0.689516</td>\n",
       "    </tr>\n",
       "    <tr>\n",
       "      <th>50%</th>\n",
       "      <td>-0.259343</td>\n",
       "      <td>-0.313472</td>\n",
       "    </tr>\n",
       "    <tr>\n",
       "      <th>75%</th>\n",
       "      <td>0.461146</td>\n",
       "      <td>0.098429</td>\n",
       "    </tr>\n",
       "    <tr>\n",
       "      <th>max</th>\n",
       "      <td>3.457055</td>\n",
       "      <td>3.401716</td>\n",
       "    </tr>\n",
       "  </tbody>\n",
       "</table>\n",
       "</div>"
      ],
      "text/plain": [
       "             true        pred\n",
       "count  268.000000  268.000000\n",
       "mean     0.065439   -0.037103\n",
       "std      1.002904    0.973869\n",
       "min     -1.002387   -1.018608\n",
       "25%     -0.614853   -0.689516\n",
       "50%     -0.259343   -0.313472\n",
       "75%      0.461146    0.098429\n",
       "max      3.457055    3.401716"
      ]
     },
     "execution_count": 32,
     "metadata": {},
     "output_type": "execute_result"
    }
   ],
   "source": [
    "df_results = pd.DataFrame(\n",
    "    data = np.hstack((\n",
    "    np.expand_dims(test_reals,1),test_preds\n",
    "    ))\n",
    "    ,columns = [\"true\",\"pred\"]\n",
    ")\n",
    "\n",
    "df_results.describe()"
   ]
  },
  {
   "cell_type": "code",
   "execution_count": 33,
   "id": "452d1c07-874c-40f4-a2c2-300f4e5d437c",
   "metadata": {},
   "outputs": [
    {
     "data": {
      "text/html": [
       "<div>\n",
       "<style scoped>\n",
       "    .dataframe tbody tr th:only-of-type {\n",
       "        vertical-align: middle;\n",
       "    }\n",
       "\n",
       "    .dataframe tbody tr th {\n",
       "        vertical-align: top;\n",
       "    }\n",
       "\n",
       "    .dataframe thead th {\n",
       "        text-align: right;\n",
       "    }\n",
       "</style>\n",
       "<table border=\"1\" class=\"dataframe\">\n",
       "  <thead>\n",
       "    <tr style=\"text-align: right;\">\n",
       "      <th></th>\n",
       "      <th>true</th>\n",
       "      <th>pred</th>\n",
       "    </tr>\n",
       "    <tr>\n",
       "      <th>pred_segment</th>\n",
       "      <th></th>\n",
       "      <th></th>\n",
       "    </tr>\n",
       "  </thead>\n",
       "  <tbody>\n",
       "    <tr>\n",
       "      <th>(-1.0199999999999998, -0.915]</th>\n",
       "      <td>-0.880072</td>\n",
       "      <td>-0.957843</td>\n",
       "    </tr>\n",
       "    <tr>\n",
       "      <th>(-0.915, -0.756]</th>\n",
       "      <td>-0.565110</td>\n",
       "      <td>-0.840620</td>\n",
       "    </tr>\n",
       "    <tr>\n",
       "      <th>(-0.756, -0.612]</th>\n",
       "      <td>-0.480056</td>\n",
       "      <td>-0.687709</td>\n",
       "    </tr>\n",
       "    <tr>\n",
       "      <th>(-0.612, -0.452]</th>\n",
       "      <td>-0.536968</td>\n",
       "      <td>-0.543074</td>\n",
       "    </tr>\n",
       "    <tr>\n",
       "      <th>(-0.452, -0.313]</th>\n",
       "      <td>-0.247176</td>\n",
       "      <td>-0.384443</td>\n",
       "    </tr>\n",
       "    <tr>\n",
       "      <th>(-0.313, -0.197]</th>\n",
       "      <td>-0.166662</td>\n",
       "      <td>-0.257862</td>\n",
       "    </tr>\n",
       "    <tr>\n",
       "      <th>(-0.197, -0.0137]</th>\n",
       "      <td>-0.046701</td>\n",
       "      <td>-0.114399</td>\n",
       "    </tr>\n",
       "    <tr>\n",
       "      <th>(-0.0137, 0.444]</th>\n",
       "      <td>0.294141</td>\n",
       "      <td>0.150790</td>\n",
       "    </tr>\n",
       "    <tr>\n",
       "      <th>(0.444, 1.404]</th>\n",
       "      <td>0.952261</td>\n",
       "      <td>0.870660</td>\n",
       "    </tr>\n",
       "    <tr>\n",
       "      <th>(1.404, 3.402]</th>\n",
       "      <td>2.304267</td>\n",
       "      <td>2.371866</td>\n",
       "    </tr>\n",
       "  </tbody>\n",
       "</table>\n",
       "</div>"
      ],
      "text/plain": [
       "                                   true      pred\n",
       "pred_segment                                     \n",
       "(-1.0199999999999998, -0.915] -0.880072 -0.957843\n",
       "(-0.915, -0.756]              -0.565110 -0.840620\n",
       "(-0.756, -0.612]              -0.480056 -0.687709\n",
       "(-0.612, -0.452]              -0.536968 -0.543074\n",
       "(-0.452, -0.313]              -0.247176 -0.384443\n",
       "(-0.313, -0.197]              -0.166662 -0.257862\n",
       "(-0.197, -0.0137]             -0.046701 -0.114399\n",
       "(-0.0137, 0.444]               0.294141  0.150790\n",
       "(0.444, 1.404]                 0.952261  0.870660\n",
       "(1.404, 3.402]                 2.304267  2.371866"
      ]
     },
     "execution_count": 33,
     "metadata": {},
     "output_type": "execute_result"
    }
   ],
   "source": [
    "df_results[\"pred_segment\"] = pd.qcut(df_results[\"pred\"],10)\n",
    "df_results.groupby(\"pred_segment\").mean()"
   ]
  },
  {
   "cell_type": "code",
   "execution_count": 34,
   "id": "0749ecba-0122-48d0-afc5-80b1b2bb408f",
   "metadata": {},
   "outputs": [
    {
     "data": {
      "text/plain": [
       "(0.18864438, 1.0058161)"
      ]
     },
     "execution_count": 34,
     "metadata": {},
     "output_type": "execute_result"
    }
   ],
   "source": [
    "mean_squared_error(df_results[\"true\"], df_results[\"pred\"]), df_results[\"true\"].var()"
   ]
  },
  {
   "cell_type": "code",
   "execution_count": 35,
   "id": "83577395-eba5-4a41-b391-e9dcc1eb2fc5",
   "metadata": {},
   "outputs": [
    {
     "data": {
      "text/plain": [
       "(0.18828678, 0.77412707)"
      ]
     },
     "execution_count": 35,
     "metadata": {},
     "output_type": "execute_result"
    }
   ],
   "source": [
    "mean_absolute_error(df_results[\"true\"], df_results[\"pred\"]), (\n",
    "    df_results[\"true\"]-df_results[\"true\"].mean()\n",
    ").abs().mean()"
   ]
  },
  {
   "cell_type": "markdown",
   "id": "70a4e314-b34b-48d7-8c96-cb001997eaaf",
   "metadata": {},
   "source": [
    "## Test Predictions (averaged)"
   ]
  },
  {
   "cell_type": "code",
   "execution_count": 36,
   "id": "e337d101-7e02-45c8-9c6f-ab824c4159f2",
   "metadata": {},
   "outputs": [],
   "source": [
    "N_SAMPLES = 100\n",
    "test_ops = []\n",
    "with torch.no_grad():\n",
    "    for i, data in enumerate(test_set, 0):\n",
    "        b_size = data[0].size(0)\n",
    "        fakes = []\n",
    "        for _ in range(N_SAMPLES):\n",
    "            noise = torch.randn(b_size, nz, device=device)\n",
    "            # Generate fake image batch with G\n",
    "            gen_ip = torch.hstack((data[0],noise)).to(device)\n",
    "            fake = netG(gen_ip).detach().cpu().numpy()\n",
    "            fakes.append(fake)\n",
    "\n",
    "        test_ops.append(\n",
    "            (data[1].detach().cpu().numpy(), sum(fakes)/len(fakes))\n",
    "        )\n",
    "# print(test_reals.shape,np.concatenate(list(x[0] for x in test_ops)).shape)\n",
    "# print(test_preds.shape,np.concatenate(list(x[1] for x in test_ops)).shape)\n",
    "test_reals = np.concatenate(list(x[0] for x in test_ops))\n",
    "test_preds = np.concatenate(list(x[1] for x in test_ops))\n"
   ]
  },
  {
   "cell_type": "code",
   "execution_count": 37,
   "id": "6af69937-27e8-4522-9b13-7a0b9cb9b98c",
   "metadata": {},
   "outputs": [
    {
     "data": {
      "text/html": [
       "<div>\n",
       "<style scoped>\n",
       "    .dataframe tbody tr th:only-of-type {\n",
       "        vertical-align: middle;\n",
       "    }\n",
       "\n",
       "    .dataframe tbody tr th {\n",
       "        vertical-align: top;\n",
       "    }\n",
       "\n",
       "    .dataframe thead th {\n",
       "        text-align: right;\n",
       "    }\n",
       "</style>\n",
       "<table border=\"1\" class=\"dataframe\">\n",
       "  <thead>\n",
       "    <tr style=\"text-align: right;\">\n",
       "      <th></th>\n",
       "      <th>true</th>\n",
       "      <th>pred</th>\n",
       "    </tr>\n",
       "  </thead>\n",
       "  <tbody>\n",
       "    <tr>\n",
       "      <th>count</th>\n",
       "      <td>268.000000</td>\n",
       "      <td>268.000000</td>\n",
       "    </tr>\n",
       "    <tr>\n",
       "      <th>mean</th>\n",
       "      <td>0.065439</td>\n",
       "      <td>-0.032437</td>\n",
       "    </tr>\n",
       "    <tr>\n",
       "      <th>std</th>\n",
       "      <td>1.002904</td>\n",
       "      <td>0.959410</td>\n",
       "    </tr>\n",
       "    <tr>\n",
       "      <th>min</th>\n",
       "      <td>-1.002387</td>\n",
       "      <td>-0.994835</td>\n",
       "    </tr>\n",
       "    <tr>\n",
       "      <th>25%</th>\n",
       "      <td>-0.614853</td>\n",
       "      <td>-0.663623</td>\n",
       "    </tr>\n",
       "    <tr>\n",
       "      <th>50%</th>\n",
       "      <td>-0.259343</td>\n",
       "      <td>-0.288634</td>\n",
       "    </tr>\n",
       "    <tr>\n",
       "      <th>75%</th>\n",
       "      <td>0.461146</td>\n",
       "      <td>0.093270</td>\n",
       "    </tr>\n",
       "    <tr>\n",
       "      <th>max</th>\n",
       "      <td>3.457055</td>\n",
       "      <td>3.227769</td>\n",
       "    </tr>\n",
       "  </tbody>\n",
       "</table>\n",
       "</div>"
      ],
      "text/plain": [
       "             true        pred\n",
       "count  268.000000  268.000000\n",
       "mean     0.065439   -0.032437\n",
       "std      1.002904    0.959410\n",
       "min     -1.002387   -0.994835\n",
       "25%     -0.614853   -0.663623\n",
       "50%     -0.259343   -0.288634\n",
       "75%      0.461146    0.093270\n",
       "max      3.457055    3.227769"
      ]
     },
     "execution_count": 37,
     "metadata": {},
     "output_type": "execute_result"
    }
   ],
   "source": [
    "df_results = pd.DataFrame(\n",
    "    data = np.hstack((\n",
    "    np.expand_dims(test_reals,1),test_preds\n",
    "    ))\n",
    "    ,columns = [\"true\",\"pred\"]\n",
    ")\n",
    "\n",
    "df_results.describe()"
   ]
  },
  {
   "cell_type": "code",
   "execution_count": 38,
   "id": "a0bde69f-ca9d-4791-b5a3-65d00e879116",
   "metadata": {},
   "outputs": [
    {
     "data": {
      "text/html": [
       "<div>\n",
       "<style scoped>\n",
       "    .dataframe tbody tr th:only-of-type {\n",
       "        vertical-align: middle;\n",
       "    }\n",
       "\n",
       "    .dataframe tbody tr th {\n",
       "        vertical-align: top;\n",
       "    }\n",
       "\n",
       "    .dataframe thead th {\n",
       "        text-align: right;\n",
       "    }\n",
       "</style>\n",
       "<table border=\"1\" class=\"dataframe\">\n",
       "  <thead>\n",
       "    <tr style=\"text-align: right;\">\n",
       "      <th></th>\n",
       "      <th>true</th>\n",
       "      <th>pred</th>\n",
       "    </tr>\n",
       "    <tr>\n",
       "      <th>pred_segment</th>\n",
       "      <th></th>\n",
       "      <th></th>\n",
       "    </tr>\n",
       "  </thead>\n",
       "  <tbody>\n",
       "    <tr>\n",
       "      <th>(-0.996, -0.883]</th>\n",
       "      <td>-0.880679</td>\n",
       "      <td>-0.932076</td>\n",
       "    </tr>\n",
       "    <tr>\n",
       "      <th>(-0.883, -0.744]</th>\n",
       "      <td>-0.635845</td>\n",
       "      <td>-0.816908</td>\n",
       "    </tr>\n",
       "    <tr>\n",
       "      <th>(-0.744, -0.582]</th>\n",
       "      <td>-0.429325</td>\n",
       "      <td>-0.663846</td>\n",
       "    </tr>\n",
       "    <tr>\n",
       "      <th>(-0.582, -0.446]</th>\n",
       "      <td>-0.484700</td>\n",
       "      <td>-0.526313</td>\n",
       "    </tr>\n",
       "    <tr>\n",
       "      <th>(-0.446, -0.289]</th>\n",
       "      <td>-0.270847</td>\n",
       "      <td>-0.365736</td>\n",
       "    </tr>\n",
       "    <tr>\n",
       "      <th>(-0.289, -0.194]</th>\n",
       "      <td>-0.184819</td>\n",
       "      <td>-0.240207</td>\n",
       "    </tr>\n",
       "    <tr>\n",
       "      <th>(-0.194, -0.0201]</th>\n",
       "      <td>-0.130685</td>\n",
       "      <td>-0.112154</td>\n",
       "    </tr>\n",
       "    <tr>\n",
       "      <th>(-0.0201, 0.325]</th>\n",
       "      <td>0.299012</td>\n",
       "      <td>0.100582</td>\n",
       "    </tr>\n",
       "    <tr>\n",
       "      <th>(0.325, 1.565]</th>\n",
       "      <td>1.040371</td>\n",
       "      <td>0.847727</td>\n",
       "    </tr>\n",
       "    <tr>\n",
       "      <th>(1.565, 3.228]</th>\n",
       "      <td>2.304267</td>\n",
       "      <td>2.363318</td>\n",
       "    </tr>\n",
       "  </tbody>\n",
       "</table>\n",
       "</div>"
      ],
      "text/plain": [
       "                       true      pred\n",
       "pred_segment                         \n",
       "(-0.996, -0.883]  -0.880679 -0.932076\n",
       "(-0.883, -0.744]  -0.635845 -0.816908\n",
       "(-0.744, -0.582]  -0.429325 -0.663846\n",
       "(-0.582, -0.446]  -0.484700 -0.526313\n",
       "(-0.446, -0.289]  -0.270847 -0.365736\n",
       "(-0.289, -0.194]  -0.184819 -0.240207\n",
       "(-0.194, -0.0201] -0.130685 -0.112154\n",
       "(-0.0201, 0.325]   0.299012  0.100582\n",
       "(0.325, 1.565]     1.040371  0.847727\n",
       "(1.565, 3.228]     2.304267  2.363318"
      ]
     },
     "execution_count": 38,
     "metadata": {},
     "output_type": "execute_result"
    }
   ],
   "source": [
    "df_results[\"pred_segment\"] = pd.qcut(df_results[\"pred\"],10)\n",
    "df_results.groupby(\"pred_segment\").mean()"
   ]
  },
  {
   "cell_type": "code",
   "execution_count": 39,
   "id": "aaf071eb-b503-466a-acb7-93ccb7900327",
   "metadata": {},
   "outputs": [
    {
     "data": {
      "text/plain": [
       "(0.17171618, 1.0058161)"
      ]
     },
     "execution_count": 39,
     "metadata": {},
     "output_type": "execute_result"
    }
   ],
   "source": [
    "mean_squared_error(df_results[\"true\"], df_results[\"pred\"]), df_results[\"true\"].var()"
   ]
  },
  {
   "cell_type": "code",
   "execution_count": 40,
   "id": "f5f7b44a-9744-4ec0-ac41-be8affff1978",
   "metadata": {},
   "outputs": [
    {
     "data": {
      "text/plain": [
       "(0.1777495, 0.77412707)"
      ]
     },
     "execution_count": 40,
     "metadata": {},
     "output_type": "execute_result"
    }
   ],
   "source": [
    "mean_absolute_error(df_results[\"true\"], df_results[\"pred\"]), (\n",
    "    df_results[\"true\"]-df_results[\"true\"].mean()\n",
    ").abs().mean()"
   ]
  },
  {
   "cell_type": "markdown",
   "id": "823b7d09-da4c-4cc9-b4e9-41b72372680d",
   "metadata": {},
   "source": [
    "# MSE model"
   ]
  },
  {
   "cell_type": "markdown",
   "id": "22487c57-e28b-4550-bf56-32373c376ef4",
   "metadata": {},
   "source": [
    "### Define ANN Architecture"
   ]
  },
  {
   "cell_type": "code",
   "execution_count": 41,
   "id": "d13b07ed-0693-485d-8ab3-e30aad6e4df7",
   "metadata": {},
   "outputs": [],
   "source": [
    "# Batch size during training\n",
    "batch_size = 64\n",
    "\n",
    "# Number of training epochs\n",
    "num_epochs = 100\n",
    "\n",
    "# Learning rate for optimizers\n",
    "lr = 0.0002\n",
    "# lr = 0.0002\n",
    "\n",
    "# Beta1 hyperparam for Adam optimizers\n",
    "beta1 = 0.5\n",
    "\n",
    "# width of the network\n",
    "network_width = 128"
   ]
  },
  {
   "cell_type": "code",
   "execution_count": 42,
   "id": "aaa28fce-9fe5-468c-94da-b6fcb35460a6",
   "metadata": {},
   "outputs": [],
   "source": [
    "# # create train and test indices\n",
    "# train, test = train_test_split(list(range(x.shape[0])), test_size=.2)\n",
    "# train, val = train_test_split(train, test_size=.25)"
   ]
  },
  {
   "cell_type": "code",
   "execution_count": 43,
   "id": "fd9f3f82-7ae6-405b-ae6e-d79c4a39a52f",
   "metadata": {},
   "outputs": [],
   "source": [
    "# # https://gist.github.com/conormm/5b26a08029b900520bcd6fcd1f5712a0\n",
    "# class PrepareData(torch.utils.data.Dataset):\n",
    "\n",
    "#     def __init__(self, X, y, scale_X=True):\n",
    "#         if not torch.is_tensor(X):\n",
    "#             if scale_X:\n",
    "#                 X = StandardScaler().fit_transform(X)\n",
    "#             self.X = torch.from_numpy(X).float()\n",
    "#         else:\n",
    "#             self.X = X.float32()\n",
    "#         if not torch.is_tensor(y):\n",
    "#             self.y = torch.from_numpy(y).float()\n",
    "#         else:\n",
    "#             self.y = y.float32()\n",
    "\n",
    "#     def __len__(self):\n",
    "#         return len(self.X)\n",
    "\n",
    "#     def __getitem__(self, idx):\n",
    "#         return self.X[idx], self.y[idx]\n",
    "\n",
    "# ds = PrepareData(x, y=y, scale_X=False)\n",
    "\n",
    "# train_set = torch.utils.data.DataLoader(ds, batch_size=batch_size,\n",
    "#                        sampler=SubsetRandomSampler(train))\n",
    "# val_set = torch.utils.data.DataLoader(ds, batch_size=batch_size,\n",
    "#                        sampler=SubsetRandomSampler(val))\n",
    "# test_set = torch.utils.data.DataLoader(ds, batch_size=batch_size,\n",
    "#                       sampler=SubsetRandomSampler(test))"
   ]
  },
  {
   "cell_type": "code",
   "execution_count": 44,
   "id": "8b824b04-a5dd-4efa-93bd-f69bcc020da7",
   "metadata": {
    "collapsed": false,
    "jupyter": {
     "outputs_hidden": false
    }
   },
   "outputs": [],
   "source": [
    "# Generator Code\n",
    "\n",
    "class Generator(nn.Module):\n",
    "    def __init__(self, ngpu):\n",
    "        super(Generator, self).__init__()\n",
    "        self.ngpu = ngpu\n",
    "        self.main = nn.Sequential(\n",
    "            # input is Z, going into a convolution\n",
    "            nn.Linear( n_feats, network_width, bias=True),\n",
    "            nn.ReLU(True),\n",
    "\n",
    "            nn.Linear( network_width, network_width, bias=True),\n",
    "            nn.ReLU(True),\n",
    "\n",
    "            nn.Linear( network_width, 1, bias=True)\n",
    "\n",
    "        )\n",
    "\n",
    "    def forward(self, input):\n",
    "        return self.main(input)"
   ]
  },
  {
   "cell_type": "code",
   "execution_count": 45,
   "id": "9e502a43-8064-47ee-a5f6-c079e748eaf7",
   "metadata": {},
   "outputs": [
    {
     "name": "stdout",
     "output_type": "stream",
     "text": [
      "Generator(\n",
      "  (main): Sequential(\n",
      "    (0): Linear(in_features=11, out_features=128, bias=True)\n",
      "    (1): ReLU(inplace=True)\n",
      "    (2): Linear(in_features=128, out_features=128, bias=True)\n",
      "    (3): ReLU(inplace=True)\n",
      "    (4): Linear(in_features=128, out_features=1, bias=True)\n",
      "  )\n",
      ")\n"
     ]
    }
   ],
   "source": [
    "# Create the generator\n",
    "netG = Generator(ngpu).to(device)\n",
    "\n",
    "# Print the model\n",
    "print(netG)"
   ]
  },
  {
   "cell_type": "code",
   "execution_count": 46,
   "id": "76988db6-8b64-4100-ae37-b0752af715ca",
   "metadata": {
    "collapsed": false,
    "jupyter": {
     "outputs_hidden": false
    }
   },
   "outputs": [],
   "source": [
    "# Initialize MSELoss function\n",
    "criterion = nn.MSELoss()\n",
    "\n",
    "# Setup Adam optimizers for G\n",
    "optimizerG = optim.Adam(netG.parameters(), lr=lr, betas=(beta1, 0.999))"
   ]
  },
  {
   "cell_type": "code",
   "execution_count": 47,
   "id": "6158298d-b54b-4ad0-95a1-844037b8f54a",
   "metadata": {},
   "outputs": [
    {
     "name": "stdout",
     "output_type": "stream",
     "text": [
      "Starting Training Loop...\n",
      "[0/100][0/13]\tLoss_D: 0.0000\tLoss_G: 0.6009\tD(x): 0.0000\tD(G(z)): 0.0000 / 0.2056\n",
      "[1/100][0/13]\tLoss_D: 0.0000\tLoss_G: 1.0434\tD(x): 0.0000\tD(G(z)): 0.0000 / 0.0879\n",
      "[2/100][0/13]\tLoss_D: 0.0000\tLoss_G: 0.9282\tD(x): 0.0000\tD(G(z)): 0.0000 / 0.0001\n",
      "[3/100][0/13]\tLoss_D: 0.0000\tLoss_G: 0.9116\tD(x): 0.0000\tD(G(z)): 0.0000 / -0.0496\n",
      "[4/100][0/13]\tLoss_D: 0.0000\tLoss_G: 0.6169\tD(x): 0.0000\tD(G(z)): 0.0000 / -0.0541\n",
      "[5/100][0/13]\tLoss_D: 0.0000\tLoss_G: 0.5138\tD(x): 0.0000\tD(G(z)): 0.0000 / -0.0705\n",
      "[6/100][0/13]\tLoss_D: 0.0000\tLoss_G: 0.2629\tD(x): 0.0000\tD(G(z)): 0.0000 / -0.1386\n",
      "[7/100][0/13]\tLoss_D: 0.0000\tLoss_G: 0.5166\tD(x): 0.0000\tD(G(z)): 0.0000 / 0.0242\n",
      "[8/100][0/13]\tLoss_D: 0.0000\tLoss_G: 0.3377\tD(x): 0.0000\tD(G(z)): 0.0000 / -0.0027\n",
      "[9/100][0/13]\tLoss_D: 0.0000\tLoss_G: 0.3594\tD(x): 0.0000\tD(G(z)): 0.0000 / -0.0294\n",
      "[10/100][0/13]\tLoss_D: 0.0000\tLoss_G: 0.2032\tD(x): 0.0000\tD(G(z)): 0.0000 / 0.0432\n",
      "[11/100][0/13]\tLoss_D: 0.0000\tLoss_G: 0.3133\tD(x): 0.0000\tD(G(z)): 0.0000 / -0.0655\n",
      "[12/100][0/13]\tLoss_D: 0.0000\tLoss_G: 0.2558\tD(x): 0.0000\tD(G(z)): 0.0000 / -0.0852\n",
      "[13/100][0/13]\tLoss_D: 0.0000\tLoss_G: 0.1769\tD(x): 0.0000\tD(G(z)): 0.0000 / -0.2499\n",
      "[14/100][0/13]\tLoss_D: 0.0000\tLoss_G: 0.2192\tD(x): 0.0000\tD(G(z)): 0.0000 / 0.1157\n",
      "[15/100][0/13]\tLoss_D: 0.0000\tLoss_G: 0.1885\tD(x): 0.0000\tD(G(z)): 0.0000 / -0.2872\n",
      "[16/100][0/13]\tLoss_D: 0.0000\tLoss_G: 0.1365\tD(x): 0.0000\tD(G(z)): 0.0000 / -0.0625\n",
      "[17/100][0/13]\tLoss_D: 0.0000\tLoss_G: 0.2025\tD(x): 0.0000\tD(G(z)): 0.0000 / -0.0475\n",
      "[18/100][0/13]\tLoss_D: 0.0000\tLoss_G: 0.1289\tD(x): 0.0000\tD(G(z)): 0.0000 / 0.1840\n",
      "[19/100][0/13]\tLoss_D: 0.0000\tLoss_G: 0.1999\tD(x): 0.0000\tD(G(z)): 0.0000 / -0.1985\n",
      "[20/100][0/13]\tLoss_D: 0.0000\tLoss_G: 0.2139\tD(x): 0.0000\tD(G(z)): 0.0000 / -0.0094\n",
      "[21/100][0/13]\tLoss_D: 0.0000\tLoss_G: 0.0839\tD(x): 0.0000\tD(G(z)): 0.0000 / 0.0314\n",
      "[22/100][0/13]\tLoss_D: 0.0000\tLoss_G: 0.1802\tD(x): 0.0000\tD(G(z)): 0.0000 / -0.0297\n",
      "[23/100][0/13]\tLoss_D: 0.0000\tLoss_G: 0.1388\tD(x): 0.0000\tD(G(z)): 0.0000 / -0.1385\n",
      "[24/100][0/13]\tLoss_D: 0.0000\tLoss_G: 0.1681\tD(x): 0.0000\tD(G(z)): 0.0000 / 0.1032\n",
      "[25/100][0/13]\tLoss_D: 0.0000\tLoss_G: 0.2065\tD(x): 0.0000\tD(G(z)): 0.0000 / 0.0691\n",
      "[26/100][0/13]\tLoss_D: 0.0000\tLoss_G: 0.1179\tD(x): 0.0000\tD(G(z)): 0.0000 / 0.0505\n",
      "[27/100][0/13]\tLoss_D: 0.0000\tLoss_G: 0.0890\tD(x): 0.0000\tD(G(z)): 0.0000 / 0.1968\n",
      "[28/100][0/13]\tLoss_D: 0.0000\tLoss_G: 0.0798\tD(x): 0.0000\tD(G(z)): 0.0000 / -0.1956\n",
      "[29/100][0/13]\tLoss_D: 0.0000\tLoss_G: 0.0734\tD(x): 0.0000\tD(G(z)): 0.0000 / 0.1267\n",
      "[30/100][0/13]\tLoss_D: 0.0000\tLoss_G: 0.1452\tD(x): 0.0000\tD(G(z)): 0.0000 / 0.0486\n",
      "[31/100][0/13]\tLoss_D: 0.0000\tLoss_G: 0.2134\tD(x): 0.0000\tD(G(z)): 0.0000 / 0.2064\n",
      "[32/100][0/13]\tLoss_D: 0.0000\tLoss_G: 0.1787\tD(x): 0.0000\tD(G(z)): 0.0000 / -0.0132\n",
      "[33/100][0/13]\tLoss_D: 0.0000\tLoss_G: 0.1474\tD(x): 0.0000\tD(G(z)): 0.0000 / 0.0680\n",
      "[34/100][0/13]\tLoss_D: 0.0000\tLoss_G: 0.0931\tD(x): 0.0000\tD(G(z)): 0.0000 / 0.1744\n",
      "[35/100][0/13]\tLoss_D: 0.0000\tLoss_G: 0.1539\tD(x): 0.0000\tD(G(z)): 0.0000 / 0.1265\n",
      "[36/100][0/13]\tLoss_D: 0.0000\tLoss_G: 0.1243\tD(x): 0.0000\tD(G(z)): 0.0000 / -0.1022\n",
      "[37/100][0/13]\tLoss_D: 0.0000\tLoss_G: 0.2215\tD(x): 0.0000\tD(G(z)): 0.0000 / 0.0439\n",
      "[38/100][0/13]\tLoss_D: 0.0000\tLoss_G: 0.1515\tD(x): 0.0000\tD(G(z)): 0.0000 / -0.0942\n",
      "[39/100][0/13]\tLoss_D: 0.0000\tLoss_G: 0.0986\tD(x): 0.0000\tD(G(z)): 0.0000 / -0.0188\n",
      "[40/100][0/13]\tLoss_D: 0.0000\tLoss_G: 0.1440\tD(x): 0.0000\tD(G(z)): 0.0000 / 0.0486\n",
      "[41/100][0/13]\tLoss_D: 0.0000\tLoss_G: 0.0750\tD(x): 0.0000\tD(G(z)): 0.0000 / 0.0010\n",
      "[42/100][0/13]\tLoss_D: 0.0000\tLoss_G: 0.0665\tD(x): 0.0000\tD(G(z)): 0.0000 / 0.0538\n",
      "[43/100][0/13]\tLoss_D: 0.0000\tLoss_G: 0.2677\tD(x): 0.0000\tD(G(z)): 0.0000 / 0.2130\n",
      "[44/100][0/13]\tLoss_D: 0.0000\tLoss_G: 0.1623\tD(x): 0.0000\tD(G(z)): 0.0000 / 0.0561\n",
      "[45/100][0/13]\tLoss_D: 0.0000\tLoss_G: 0.0856\tD(x): 0.0000\tD(G(z)): 0.0000 / -0.0230\n",
      "[46/100][0/13]\tLoss_D: 0.0000\tLoss_G: 0.1474\tD(x): 0.0000\tD(G(z)): 0.0000 / 0.0823\n",
      "[47/100][0/13]\tLoss_D: 0.0000\tLoss_G: 0.1818\tD(x): 0.0000\tD(G(z)): 0.0000 / 0.0060\n",
      "[48/100][0/13]\tLoss_D: 0.0000\tLoss_G: 0.0939\tD(x): 0.0000\tD(G(z)): 0.0000 / -0.1805\n",
      "[49/100][0/13]\tLoss_D: 0.0000\tLoss_G: 0.2001\tD(x): 0.0000\tD(G(z)): 0.0000 / 0.0118\n",
      "[50/100][0/13]\tLoss_D: 0.0000\tLoss_G: 0.1578\tD(x): 0.0000\tD(G(z)): 0.0000 / 0.0286\n",
      "[51/100][0/13]\tLoss_D: 0.0000\tLoss_G: 0.2234\tD(x): 0.0000\tD(G(z)): 0.0000 / -0.1784\n",
      "[52/100][0/13]\tLoss_D: 0.0000\tLoss_G: 0.1588\tD(x): 0.0000\tD(G(z)): 0.0000 / -0.1421\n",
      "[53/100][0/13]\tLoss_D: 0.0000\tLoss_G: 0.1284\tD(x): 0.0000\tD(G(z)): 0.0000 / -0.0100\n",
      "[54/100][0/13]\tLoss_D: 0.0000\tLoss_G: 0.0980\tD(x): 0.0000\tD(G(z)): 0.0000 / 0.0139\n",
      "[55/100][0/13]\tLoss_D: 0.0000\tLoss_G: 0.0500\tD(x): 0.0000\tD(G(z)): 0.0000 / 0.0543\n",
      "[56/100][0/13]\tLoss_D: 0.0000\tLoss_G: 0.1359\tD(x): 0.0000\tD(G(z)): 0.0000 / 0.0264\n",
      "[57/100][0/13]\tLoss_D: 0.0000\tLoss_G: 0.0818\tD(x): 0.0000\tD(G(z)): 0.0000 / 0.0312\n",
      "[58/100][0/13]\tLoss_D: 0.0000\tLoss_G: 0.1665\tD(x): 0.0000\tD(G(z)): 0.0000 / 0.0610\n",
      "[59/100][0/13]\tLoss_D: 0.0000\tLoss_G: 0.1754\tD(x): 0.0000\tD(G(z)): 0.0000 / -0.0073\n",
      "[60/100][0/13]\tLoss_D: 0.0000\tLoss_G: 0.1742\tD(x): 0.0000\tD(G(z)): 0.0000 / -0.0518\n",
      "[61/100][0/13]\tLoss_D: 0.0000\tLoss_G: 0.0948\tD(x): 0.0000\tD(G(z)): 0.0000 / -0.2104\n",
      "[62/100][0/13]\tLoss_D: 0.0000\tLoss_G: 0.1558\tD(x): 0.0000\tD(G(z)): 0.0000 / -0.1169\n",
      "[63/100][0/13]\tLoss_D: 0.0000\tLoss_G: 0.0721\tD(x): 0.0000\tD(G(z)): 0.0000 / -0.0305\n",
      "[64/100][0/13]\tLoss_D: 0.0000\tLoss_G: 0.1070\tD(x): 0.0000\tD(G(z)): 0.0000 / -0.1058\n",
      "[65/100][0/13]\tLoss_D: 0.0000\tLoss_G: 0.1229\tD(x): 0.0000\tD(G(z)): 0.0000 / 0.0041\n",
      "[66/100][0/13]\tLoss_D: 0.0000\tLoss_G: 0.1717\tD(x): 0.0000\tD(G(z)): 0.0000 / -0.0402\n",
      "[67/100][0/13]\tLoss_D: 0.0000\tLoss_G: 0.0509\tD(x): 0.0000\tD(G(z)): 0.0000 / -0.1041\n",
      "[68/100][0/13]\tLoss_D: 0.0000\tLoss_G: 0.1251\tD(x): 0.0000\tD(G(z)): 0.0000 / -0.1238\n",
      "[69/100][0/13]\tLoss_D: 0.0000\tLoss_G: 0.1091\tD(x): 0.0000\tD(G(z)): 0.0000 / -0.0714\n",
      "[70/100][0/13]\tLoss_D: 0.0000\tLoss_G: 0.0875\tD(x): 0.0000\tD(G(z)): 0.0000 / -0.0363\n",
      "[71/100][0/13]\tLoss_D: 0.0000\tLoss_G: 0.1127\tD(x): 0.0000\tD(G(z)): 0.0000 / -0.0859\n",
      "[72/100][0/13]\tLoss_D: 0.0000\tLoss_G: 0.1476\tD(x): 0.0000\tD(G(z)): 0.0000 / -0.0140\n",
      "[73/100][0/13]\tLoss_D: 0.0000\tLoss_G: 0.1400\tD(x): 0.0000\tD(G(z)): 0.0000 / 0.0569\n",
      "[74/100][0/13]\tLoss_D: 0.0000\tLoss_G: 0.0805\tD(x): 0.0000\tD(G(z)): 0.0000 / -0.0016\n",
      "[75/100][0/13]\tLoss_D: 0.0000\tLoss_G: 0.1802\tD(x): 0.0000\tD(G(z)): 0.0000 / 0.0006\n",
      "[76/100][0/13]\tLoss_D: 0.0000\tLoss_G: 0.0808\tD(x): 0.0000\tD(G(z)): 0.0000 / 0.1230\n",
      "[77/100][0/13]\tLoss_D: 0.0000\tLoss_G: 0.1222\tD(x): 0.0000\tD(G(z)): 0.0000 / -0.0558\n",
      "[78/100][0/13]\tLoss_D: 0.0000\tLoss_G: 0.0983\tD(x): 0.0000\tD(G(z)): 0.0000 / -0.1540\n",
      "[79/100][0/13]\tLoss_D: 0.0000\tLoss_G: 0.1392\tD(x): 0.0000\tD(G(z)): 0.0000 / -0.1489\n",
      "[80/100][0/13]\tLoss_D: 0.0000\tLoss_G: 0.1088\tD(x): 0.0000\tD(G(z)): 0.0000 / -0.0049\n",
      "[81/100][0/13]\tLoss_D: 0.0000\tLoss_G: 0.0551\tD(x): 0.0000\tD(G(z)): 0.0000 / -0.1899\n",
      "[82/100][0/13]\tLoss_D: 0.0000\tLoss_G: 0.1428\tD(x): 0.0000\tD(G(z)): 0.0000 / -0.0343\n",
      "[83/100][0/13]\tLoss_D: 0.0000\tLoss_G: 0.0773\tD(x): 0.0000\tD(G(z)): 0.0000 / -0.0648\n",
      "[84/100][0/13]\tLoss_D: 0.0000\tLoss_G: 0.0734\tD(x): 0.0000\tD(G(z)): 0.0000 / 0.1974\n",
      "[85/100][0/13]\tLoss_D: 0.0000\tLoss_G: 0.1693\tD(x): 0.0000\tD(G(z)): 0.0000 / -0.1180\n",
      "[86/100][0/13]\tLoss_D: 0.0000\tLoss_G: 0.1046\tD(x): 0.0000\tD(G(z)): 0.0000 / 0.1318\n",
      "[87/100][0/13]\tLoss_D: 0.0000\tLoss_G: 0.1730\tD(x): 0.0000\tD(G(z)): 0.0000 / 0.0428\n",
      "[88/100][0/13]\tLoss_D: 0.0000\tLoss_G: 0.1208\tD(x): 0.0000\tD(G(z)): 0.0000 / -0.0985\n",
      "[89/100][0/13]\tLoss_D: 0.0000\tLoss_G: 0.1235\tD(x): 0.0000\tD(G(z)): 0.0000 / -0.2696\n",
      "[90/100][0/13]\tLoss_D: 0.0000\tLoss_G: 0.0520\tD(x): 0.0000\tD(G(z)): 0.0000 / -0.1058\n",
      "[91/100][0/13]\tLoss_D: 0.0000\tLoss_G: 0.0798\tD(x): 0.0000\tD(G(z)): 0.0000 / -0.0738\n",
      "[92/100][0/13]\tLoss_D: 0.0000\tLoss_G: 0.1276\tD(x): 0.0000\tD(G(z)): 0.0000 / 0.0561\n",
      "[93/100][0/13]\tLoss_D: 0.0000\tLoss_G: 0.0445\tD(x): 0.0000\tD(G(z)): 0.0000 / 0.2027\n",
      "[94/100][0/13]\tLoss_D: 0.0000\tLoss_G: 0.1236\tD(x): 0.0000\tD(G(z)): 0.0000 / 0.2771\n",
      "[95/100][0/13]\tLoss_D: 0.0000\tLoss_G: 0.1038\tD(x): 0.0000\tD(G(z)): 0.0000 / 0.0408\n",
      "[96/100][0/13]\tLoss_D: 0.0000\tLoss_G: 0.1021\tD(x): 0.0000\tD(G(z)): 0.0000 / -0.0199\n",
      "[97/100][0/13]\tLoss_D: 0.0000\tLoss_G: 0.1309\tD(x): 0.0000\tD(G(z)): 0.0000 / -0.0341\n",
      "[98/100][0/13]\tLoss_D: 0.0000\tLoss_G: 0.0970\tD(x): 0.0000\tD(G(z)): 0.0000 / -0.2728\n",
      "[99/100][0/13]\tLoss_D: 0.0000\tLoss_G: 0.1065\tD(x): 0.0000\tD(G(z)): 0.0000 / -0.1842\n"
     ]
    }
   ],
   "source": [
    "# Training Loop\n",
    "\n",
    "# Lists to keep track of progress\n",
    "img_list = []\n",
    "G_losses = []\n",
    "D_losses = []\n",
    "iters = 0\n",
    "\n",
    "G_losses_val = []\n",
    "D_losses_val = []\n",
    "\n",
    "print(\"Starting Training Loop...\")\n",
    "# For each epoch\n",
    "for epoch in range(num_epochs):\n",
    "    # For each batch in the dataloader\n",
    "    for i, data in enumerate(train_set, 0):\n",
    "        \n",
    "        b_size = data[0].size(0)\n",
    "\n",
    "        ############################\n",
    "        # Update G network: maximize log(D(G(z)))\n",
    "        ###########################\n",
    "        netG.zero_grad()\n",
    "        label = data[1]  # fake labels are real for generator cost\n",
    "        # Since we just updated D, perform another forward pass of all-fake batch through D\n",
    "        output = netG(data[0]).view(-1)\n",
    "        # Calculate G's loss based on this output\n",
    "        errG = criterion(output, label)\n",
    "        # Calculate gradients for G\n",
    "        errG.backward()\n",
    "        D_G_z2 = output.mean().item()\n",
    "        # Update G\n",
    "        optimizerG.step()\n",
    "        \n",
    "        # Output training stats\n",
    "        if i % 500 == 0:\n",
    "            print('[%d/%d][%d/%d]\\tLoss_D: %.4f\\tLoss_G: %.4f\\tD(x): %.4f\\tD(G(z)): %.4f / %.4f'\n",
    "                  % (epoch, num_epochs, i, len(train_set),\n",
    "                     0, errG.item(), 0, 0, D_G_z2))\n",
    "                \n",
    "        # Output validation stats\n",
    "        if i % 100 == 0:\n",
    "            with torch.no_grad():\n",
    "                errG_vals = []\n",
    "                for i, data in enumerate(val_set, 0):\n",
    "                    b_size = data[0].size(0)\n",
    "                    output = netG(data[0]).view(-1)\n",
    "\n",
    "                    label = data[1] # fake labels are real for generator cost\n",
    "                    errG_val = criterion(output, label)  \n",
    "\n",
    "                    errG_vals.append(errG_val.item())\n",
    "            G_losses_val.append(sum(errG_vals)/len(errG_vals))\n",
    "        \n",
    "        \n",
    "        # Save Losses for plotting later\n",
    "        G_losses.append(errG.item())\n",
    "      \n",
    "        iters += 1"
   ]
  },
  {
   "cell_type": "code",
   "execution_count": 48,
   "id": "df50ab14-072b-4b78-985c-d1b0633b988e",
   "metadata": {},
   "outputs": [
    {
     "data": {
      "image/png": "[encoded data removed]",
      "text/plain": [
       "<Figure size 720x360 with 1 Axes>"
      ]
     },
     "metadata": {
      "needs_background": "light"
     },
     "output_type": "display_data"
    }
   ],
   "source": [
    "plt.figure(figsize=(10,5))\n",
    "plt.title(\"MSE Loss During Training\")\n",
    "plt.plot(G_losses,label=\"train set\")\n",
    "# plt.plot(G_losses_val,label=\"val set\")\n",
    "plt.xlabel(\"iterations\")\n",
    "plt.ylabel(\"Loss\")\n",
    "plt.legend()\n",
    "plt.show()"
   ]
  },
  {
   "cell_type": "code",
   "execution_count": 49,
   "id": "db098dc2-0bb7-422e-8b8c-537ae110fc7a",
   "metadata": {},
   "outputs": [
    {
     "data": {
      "image/png": "[encoded data removed]",
      "text/plain": [
       "<Figure size 720x360 with 1 Axes>"
      ]
     },
     "metadata": {
      "needs_background": "light"
     },
     "output_type": "display_data"
    }
   ],
   "source": [
    "plt.figure(figsize=(10,5))\n",
    "plt.title(\"MSE Loss During Training\")\n",
    "# plt.plot(G_losses,label=\"train set\")\n",
    "plt.plot(G_losses_val,label=\"val set\")\n",
    "plt.xlabel(\"iterations\")\n",
    "plt.ylabel(\"Loss\")\n",
    "plt.legend()\n",
    "plt.show()"
   ]
  },
  {
   "cell_type": "markdown",
   "id": "52931377-c919-4d70-ad9c-b5f878a8c0b6",
   "metadata": {},
   "source": [
    "## Train Predictions"
   ]
  },
  {
   "cell_type": "code",
   "execution_count": 50,
   "id": "6ff89129-9603-4246-82e4-b6df87eff588",
   "metadata": {},
   "outputs": [],
   "source": [
    "train_ops = []\n",
    "with torch.no_grad():\n",
    "    for i, data in enumerate(train_set, 0):\n",
    "        b_size = data[0].size(0)\n",
    "        # Generate fake image batch with G\n",
    "        fake = netG(data[0])\n",
    "        \n",
    "        train_ops.append(\n",
    "            (data[1].detach().cpu().numpy(), fake.detach().cpu().numpy())\n",
    "        )"
   ]
  },
  {
   "cell_type": "code",
   "execution_count": 51,
   "id": "ab9642d9-71ae-4b01-98d7-202c2a96789c",
   "metadata": {},
   "outputs": [],
   "source": [
    "train_reals = np.concatenate(list(x[0] for x in train_ops))\n",
    "train_preds = np.concatenate(list(x[1] for x in train_ops))"
   ]
  },
  {
   "cell_type": "code",
   "execution_count": 52,
   "id": "20a5fc0d-a7c8-4c80-8e0e-6914e65c06db",
   "metadata": {},
   "outputs": [
    {
     "data": {
      "text/html": [
       "<div>\n",
       "<style scoped>\n",
       "    .dataframe tbody tr th:only-of-type {\n",
       "        vertical-align: middle;\n",
       "    }\n",
       "\n",
       "    .dataframe tbody tr th {\n",
       "        vertical-align: top;\n",
       "    }\n",
       "\n",
       "    .dataframe thead th {\n",
       "        text-align: right;\n",
       "    }\n",
       "</style>\n",
       "<table border=\"1\" class=\"dataframe\">\n",
       "  <thead>\n",
       "    <tr style=\"text-align: right;\">\n",
       "      <th></th>\n",
       "      <th>true</th>\n",
       "      <th>pred</th>\n",
       "    </tr>\n",
       "  </thead>\n",
       "  <tbody>\n",
       "    <tr>\n",
       "      <th>count</th>\n",
       "      <td>802.000000</td>\n",
       "      <td>802.000000</td>\n",
       "    </tr>\n",
       "    <tr>\n",
       "      <th>mean</th>\n",
       "      <td>-0.020810</td>\n",
       "      <td>-0.077483</td>\n",
       "    </tr>\n",
       "    <tr>\n",
       "      <th>std</th>\n",
       "      <td>1.001404</td>\n",
       "      <td>0.934596</td>\n",
       "    </tr>\n",
       "    <tr>\n",
       "      <th>min</th>\n",
       "      <td>-1.003182</td>\n",
       "      <td>-1.156649</td>\n",
       "    </tr>\n",
       "    <tr>\n",
       "      <th>25%</th>\n",
       "      <td>-0.720720</td>\n",
       "      <td>-0.713318</td>\n",
       "    </tr>\n",
       "    <tr>\n",
       "      <th>50%</th>\n",
       "      <td>-0.352065</td>\n",
       "      <td>-0.356225</td>\n",
       "    </tr>\n",
       "    <tr>\n",
       "      <th>75%</th>\n",
       "      <td>0.210536</td>\n",
       "      <td>0.043266</td>\n",
       "    </tr>\n",
       "    <tr>\n",
       "      <th>max</th>\n",
       "      <td>4.170104</td>\n",
       "      <td>3.454866</td>\n",
       "    </tr>\n",
       "  </tbody>\n",
       "</table>\n",
       "</div>"
      ],
      "text/plain": [
       "             true        pred\n",
       "count  802.000000  802.000000\n",
       "mean    -0.020810   -0.077483\n",
       "std      1.001404    0.934596\n",
       "min     -1.003182   -1.156649\n",
       "25%     -0.720720   -0.713318\n",
       "50%     -0.352065   -0.356225\n",
       "75%      0.210536    0.043266\n",
       "max      4.170104    3.454866"
      ]
     },
     "execution_count": 52,
     "metadata": {},
     "output_type": "execute_result"
    }
   ],
   "source": [
    "df_results_train = pd.DataFrame(\n",
    "    data = np.hstack((\n",
    "    np.expand_dims(train_reals,1),train_preds\n",
    "    ))\n",
    "    ,columns = [\"true\",\"pred\"]\n",
    ")\n",
    "\n",
    "df_results_train.describe()"
   ]
  },
  {
   "cell_type": "code",
   "execution_count": 53,
   "id": "1bc61b29-de45-4f58-8abb-6996278bf346",
   "metadata": {},
   "outputs": [
    {
     "data": {
      "text/html": [
       "<div>\n",
       "<style scoped>\n",
       "    .dataframe tbody tr th:only-of-type {\n",
       "        vertical-align: middle;\n",
       "    }\n",
       "\n",
       "    .dataframe tbody tr th {\n",
       "        vertical-align: top;\n",
       "    }\n",
       "\n",
       "    .dataframe thead th {\n",
       "        text-align: right;\n",
       "    }\n",
       "</style>\n",
       "<table border=\"1\" class=\"dataframe\">\n",
       "  <thead>\n",
       "    <tr style=\"text-align: right;\">\n",
       "      <th></th>\n",
       "      <th>true</th>\n",
       "      <th>pred</th>\n",
       "    </tr>\n",
       "    <tr>\n",
       "      <th>pred_segment</th>\n",
       "      <th></th>\n",
       "      <th></th>\n",
       "    </tr>\n",
       "  </thead>\n",
       "  <tbody>\n",
       "    <tr>\n",
       "      <th>(-1.158, -0.864]</th>\n",
       "      <td>-0.892858</td>\n",
       "      <td>-0.945549</td>\n",
       "    </tr>\n",
       "    <tr>\n",
       "      <th>(-0.864, -0.763]</th>\n",
       "      <td>-0.820829</td>\n",
       "      <td>-0.806516</td>\n",
       "    </tr>\n",
       "    <tr>\n",
       "      <th>(-0.763, -0.642]</th>\n",
       "      <td>-0.621765</td>\n",
       "      <td>-0.702325</td>\n",
       "    </tr>\n",
       "    <tr>\n",
       "      <th>(-0.642, -0.509]</th>\n",
       "      <td>-0.495457</td>\n",
       "      <td>-0.581956</td>\n",
       "    </tr>\n",
       "    <tr>\n",
       "      <th>(-0.509, -0.356]</th>\n",
       "      <td>-0.407451</td>\n",
       "      <td>-0.426270</td>\n",
       "    </tr>\n",
       "    <tr>\n",
       "      <th>(-0.356, -0.191]</th>\n",
       "      <td>-0.214631</td>\n",
       "      <td>-0.275976</td>\n",
       "    </tr>\n",
       "    <tr>\n",
       "      <th>(-0.191, -0.0505]</th>\n",
       "      <td>-0.055120</td>\n",
       "      <td>-0.115828</td>\n",
       "    </tr>\n",
       "    <tr>\n",
       "      <th>(-0.0505, 0.21]</th>\n",
       "      <td>0.158147</td>\n",
       "      <td>0.059151</td>\n",
       "    </tr>\n",
       "    <tr>\n",
       "      <th>(0.21, 1.472]</th>\n",
       "      <td>0.746158</td>\n",
       "      <td>0.729615</td>\n",
       "    </tr>\n",
       "    <tr>\n",
       "      <th>(1.472, 3.455]</th>\n",
       "      <td>2.376635</td>\n",
       "      <td>2.272298</td>\n",
       "    </tr>\n",
       "  </tbody>\n",
       "</table>\n",
       "</div>"
      ],
      "text/plain": [
       "                       true      pred\n",
       "pred_segment                         \n",
       "(-1.158, -0.864]  -0.892858 -0.945549\n",
       "(-0.864, -0.763]  -0.820829 -0.806516\n",
       "(-0.763, -0.642]  -0.621765 -0.702325\n",
       "(-0.642, -0.509]  -0.495457 -0.581956\n",
       "(-0.509, -0.356]  -0.407451 -0.426270\n",
       "(-0.356, -0.191]  -0.214631 -0.275976\n",
       "(-0.191, -0.0505] -0.055120 -0.115828\n",
       "(-0.0505, 0.21]    0.158147  0.059151\n",
       "(0.21, 1.472]      0.746158  0.729615\n",
       "(1.472, 3.455]     2.376635  2.272298"
      ]
     },
     "execution_count": 53,
     "metadata": {},
     "output_type": "execute_result"
    }
   ],
   "source": [
    "df_results_train[\"pred_segment\"] = pd.qcut(df_results_train[\"pred\"],10)\n",
    "df_results_train.groupby(\"pred_segment\").mean()"
   ]
  },
  {
   "cell_type": "code",
   "execution_count": 54,
   "id": "3442262d-8359-4ef1-bc4d-65f9957ad705",
   "metadata": {},
   "outputs": [
    {
     "data": {
      "text/plain": [
       "(0.11776145, 1.0028106)"
      ]
     },
     "execution_count": 54,
     "metadata": {},
     "output_type": "execute_result"
    }
   ],
   "source": [
    "mean_squared_error(df_results_train[\"true\"], df_results_train[\"pred\"]), df_results_train[\"true\"].var()"
   ]
  },
  {
   "cell_type": "code",
   "execution_count": 55,
   "id": "5bcd291a-c786-4d7b-aca3-eac7f331f385",
   "metadata": {},
   "outputs": [
    {
     "data": {
      "text/plain": [
       "(0.17409511, 0.7431162)"
      ]
     },
     "execution_count": 55,
     "metadata": {},
     "output_type": "execute_result"
    }
   ],
   "source": [
    "mean_absolute_error(df_results_train[\"true\"], df_results_train[\"pred\"]), (\n",
    "    df_results_train[\"true\"]-df_results_train[\"true\"].mean()\n",
    ").abs().mean()"
   ]
  },
  {
   "cell_type": "markdown",
   "id": "81f2437b-d19c-43ec-a56f-97df0a974335",
   "metadata": {},
   "source": [
    "## Test Predictions"
   ]
  },
  {
   "cell_type": "code",
   "execution_count": 56,
   "id": "2e26e7b9-03f6-467b-9d66-02bfb1144307",
   "metadata": {},
   "outputs": [],
   "source": [
    "test_ops = []\n",
    "with torch.no_grad():\n",
    "    for i, data in enumerate(test_set, 0):\n",
    "        b_size = data[0].size(0)\n",
    "        # Generate fake image batch with G\n",
    "        gen_ip = data[0] \n",
    "        fake = netG(gen_ip)\n",
    "        \n",
    "        test_ops.append(\n",
    "            (data[1].detach().cpu().numpy(), fake.detach().cpu().numpy())\n",
    "        )"
   ]
  },
  {
   "cell_type": "code",
   "execution_count": 57,
   "id": "4bf93a27-356d-44b8-975d-0ed0480a3692",
   "metadata": {},
   "outputs": [],
   "source": [
    "test_reals = np.concatenate(list(x[0] for x in test_ops))\n",
    "test_preds = np.concatenate(list(x[1] for x in test_ops))"
   ]
  },
  {
   "cell_type": "code",
   "execution_count": 58,
   "id": "a5b18860-0bcf-43f1-b12e-99fd2ea98a0b",
   "metadata": {},
   "outputs": [
    {
     "data": {
      "text/html": [
       "<div>\n",
       "<style scoped>\n",
       "    .dataframe tbody tr th:only-of-type {\n",
       "        vertical-align: middle;\n",
       "    }\n",
       "\n",
       "    .dataframe tbody tr th {\n",
       "        vertical-align: top;\n",
       "    }\n",
       "\n",
       "    .dataframe thead th {\n",
       "        text-align: right;\n",
       "    }\n",
       "</style>\n",
       "<table border=\"1\" class=\"dataframe\">\n",
       "  <thead>\n",
       "    <tr style=\"text-align: right;\">\n",
       "      <th></th>\n",
       "      <th>true</th>\n",
       "      <th>pred</th>\n",
       "    </tr>\n",
       "  </thead>\n",
       "  <tbody>\n",
       "    <tr>\n",
       "      <th>count</th>\n",
       "      <td>268.000000</td>\n",
       "      <td>268.000000</td>\n",
       "    </tr>\n",
       "    <tr>\n",
       "      <th>mean</th>\n",
       "      <td>0.065439</td>\n",
       "      <td>-0.007660</td>\n",
       "    </tr>\n",
       "    <tr>\n",
       "      <th>std</th>\n",
       "      <td>1.002904</td>\n",
       "      <td>0.950514</td>\n",
       "    </tr>\n",
       "    <tr>\n",
       "      <th>min</th>\n",
       "      <td>-1.002387</td>\n",
       "      <td>-1.039016</td>\n",
       "    </tr>\n",
       "    <tr>\n",
       "      <th>25%</th>\n",
       "      <td>-0.614853</td>\n",
       "      <td>-0.628660</td>\n",
       "    </tr>\n",
       "    <tr>\n",
       "      <th>50%</th>\n",
       "      <td>-0.259343</td>\n",
       "      <td>-0.259828</td>\n",
       "    </tr>\n",
       "    <tr>\n",
       "      <th>75%</th>\n",
       "      <td>0.461146</td>\n",
       "      <td>0.124640</td>\n",
       "    </tr>\n",
       "    <tr>\n",
       "      <th>max</th>\n",
       "      <td>3.457055</td>\n",
       "      <td>3.003042</td>\n",
       "    </tr>\n",
       "  </tbody>\n",
       "</table>\n",
       "</div>"
      ],
      "text/plain": [
       "             true        pred\n",
       "count  268.000000  268.000000\n",
       "mean     0.065439   -0.007660\n",
       "std      1.002904    0.950514\n",
       "min     -1.002387   -1.039016\n",
       "25%     -0.614853   -0.628660\n",
       "50%     -0.259343   -0.259828\n",
       "75%      0.461146    0.124640\n",
       "max      3.457055    3.003042"
      ]
     },
     "execution_count": 58,
     "metadata": {},
     "output_type": "execute_result"
    }
   ],
   "source": [
    "df_results = pd.DataFrame(\n",
    "    data = np.hstack((\n",
    "    np.expand_dims(test_reals,1),test_preds\n",
    "    ))\n",
    "    ,columns = [\"true\",\"pred\"]\n",
    ")\n",
    "\n",
    "df_results.describe()"
   ]
  },
  {
   "cell_type": "code",
   "execution_count": 59,
   "id": "56d8559d-4194-446f-b201-b3245bc31aab",
   "metadata": {},
   "outputs": [
    {
     "data": {
      "text/html": [
       "<div>\n",
       "<style scoped>\n",
       "    .dataframe tbody tr th:only-of-type {\n",
       "        vertical-align: middle;\n",
       "    }\n",
       "\n",
       "    .dataframe tbody tr th {\n",
       "        vertical-align: top;\n",
       "    }\n",
       "\n",
       "    .dataframe thead th {\n",
       "        text-align: right;\n",
       "    }\n",
       "</style>\n",
       "<table border=\"1\" class=\"dataframe\">\n",
       "  <thead>\n",
       "    <tr style=\"text-align: right;\">\n",
       "      <th></th>\n",
       "      <th>true</th>\n",
       "      <th>pred</th>\n",
       "    </tr>\n",
       "    <tr>\n",
       "      <th>pred_segment</th>\n",
       "      <th></th>\n",
       "      <th></th>\n",
       "    </tr>\n",
       "  </thead>\n",
       "  <tbody>\n",
       "    <tr>\n",
       "      <th>(-1.0399999999999998, -0.879]</th>\n",
       "      <td>-0.843113</td>\n",
       "      <td>-0.944695</td>\n",
       "    </tr>\n",
       "    <tr>\n",
       "      <th>(-0.879, -0.699]</th>\n",
       "      <td>-0.687708</td>\n",
       "      <td>-0.796087</td>\n",
       "    </tr>\n",
       "    <tr>\n",
       "      <th>(-0.699, -0.577]</th>\n",
       "      <td>-0.429189</td>\n",
       "      <td>-0.632360</td>\n",
       "    </tr>\n",
       "    <tr>\n",
       "      <th>(-0.577, -0.456]</th>\n",
       "      <td>-0.541489</td>\n",
       "      <td>-0.510702</td>\n",
       "    </tr>\n",
       "    <tr>\n",
       "      <th>(-0.456, -0.26]</th>\n",
       "      <td>-0.184978</td>\n",
       "      <td>-0.367509</td>\n",
       "    </tr>\n",
       "    <tr>\n",
       "      <th>(-0.26, -0.142]</th>\n",
       "      <td>-0.101367</td>\n",
       "      <td>-0.196381</td>\n",
       "    </tr>\n",
       "    <tr>\n",
       "      <th>(-0.142, 0.041]</th>\n",
       "      <td>-0.119918</td>\n",
       "      <td>-0.063668</td>\n",
       "    </tr>\n",
       "    <tr>\n",
       "      <th>(0.041, 0.477]</th>\n",
       "      <td>0.243784</td>\n",
       "      <td>0.144923</td>\n",
       "    </tr>\n",
       "    <tr>\n",
       "      <th>(0.477, 1.494]</th>\n",
       "      <td>0.935557</td>\n",
       "      <td>0.959617</td>\n",
       "    </tr>\n",
       "    <tr>\n",
       "      <th>(1.494, 3.003]</th>\n",
       "      <td>2.353467</td>\n",
       "      <td>2.309562</td>\n",
       "    </tr>\n",
       "  </tbody>\n",
       "</table>\n",
       "</div>"
      ],
      "text/plain": [
       "                                   true      pred\n",
       "pred_segment                                     \n",
       "(-1.0399999999999998, -0.879] -0.843113 -0.944695\n",
       "(-0.879, -0.699]              -0.687708 -0.796087\n",
       "(-0.699, -0.577]              -0.429189 -0.632360\n",
       "(-0.577, -0.456]              -0.541489 -0.510702\n",
       "(-0.456, -0.26]               -0.184978 -0.367509\n",
       "(-0.26, -0.142]               -0.101367 -0.196381\n",
       "(-0.142, 0.041]               -0.119918 -0.063668\n",
       "(0.041, 0.477]                 0.243784  0.144923\n",
       "(0.477, 1.494]                 0.935557  0.959617\n",
       "(1.494, 3.003]                 2.353467  2.309562"
      ]
     },
     "execution_count": 59,
     "metadata": {},
     "output_type": "execute_result"
    }
   ],
   "source": [
    "df_results[\"pred_segment\"] = pd.qcut(df_results[\"pred\"],10)\n",
    "df_results.groupby(\"pred_segment\").mean()"
   ]
  },
  {
   "cell_type": "code",
   "execution_count": 60,
   "id": "b8f73202-70ea-433a-be98-209228de4174",
   "metadata": {},
   "outputs": [
    {
     "data": {
      "text/plain": [
       "(0.17062266, 1.0058161)"
      ]
     },
     "execution_count": 60,
     "metadata": {},
     "output_type": "execute_result"
    }
   ],
   "source": [
    "mean_squared_error(df_results[\"true\"], df_results[\"pred\"]), df_results[\"true\"].var()"
   ]
  },
  {
   "cell_type": "code",
   "execution_count": 61,
   "id": "467083b5-e371-4efa-82dd-f5d511f3054b",
   "metadata": {},
   "outputs": [
    {
     "data": {
      "text/plain": [
       "(0.22311725, 0.77412707)"
      ]
     },
     "execution_count": 61,
     "metadata": {},
     "output_type": "execute_result"
    }
   ],
   "source": [
    "mean_absolute_error(df_results[\"true\"], df_results[\"pred\"]), (\n",
    "    df_results[\"true\"]-df_results[\"true\"].mean()\n",
    ").abs().mean()"
   ]
  },
  {
   "cell_type": "markdown",
   "id": "66915d92-adcc-4fcf-bfa0-4da771443712",
   "metadata": {},
   "source": [
    "# Gaussian Process Regression"
   ]
  },
  {
   "cell_type": "code",
   "execution_count": 62,
   "id": "ad433dbd-b5ae-4c1d-8ac5-ce9f5a27b81a",
   "metadata": {},
   "outputs": [],
   "source": [
    "model = GaussianProcessRegressor(\n",
    "    kernel=kernels.RBF(length_scale=0.05)\n",
    "    ,n_restarts_optimizer=10\n",
    ").fit(x[train], y[train])"
   ]
  },
  {
   "cell_type": "code",
   "execution_count": 63,
   "id": "e4eae885-963c-49f4-977e-896020ea9ac5",
   "metadata": {},
   "outputs": [
    {
     "data": {
      "text/plain": [
       "{'length_scale': 0.18219515005220469, 'length_scale_bounds': (1e-05, 100000.0)}"
      ]
     },
     "execution_count": 63,
     "metadata": {},
     "output_type": "execute_result"
    }
   ],
   "source": [
    "model.kernel_.get_params()"
   ]
  },
  {
   "cell_type": "code",
   "execution_count": 64,
   "id": "b70b6b4d-f294-4472-a643-951f7df956c4",
   "metadata": {},
   "outputs": [
    {
     "data": {
      "text/plain": [
       "(-0.04914090985688191,\n",
       " 0.06543897459142892,\n",
       " 0.39885401057682995,\n",
       " 1.0010309920358265)"
      ]
     },
     "execution_count": 64,
     "metadata": {},
     "output_type": "execute_result"
    }
   ],
   "source": [
    "y_pred_gauss = model.predict(x[test])\n",
    "y_true_gauss = y[test]\n",
    "y_pred_gauss.mean(), y_true_gauss.mean(), y_pred_gauss.std(), y_true_gauss.std()"
   ]
  },
  {
   "cell_type": "code",
   "execution_count": 65,
   "id": "1ee341f1-64e8-446f-95f4-f31b9297d051",
   "metadata": {},
   "outputs": [
    {
     "data": {
      "text/plain": [
       "(0.6373391160887072, 0.7741270590600026)"
      ]
     },
     "execution_count": 65,
     "metadata": {},
     "output_type": "execute_result"
    }
   ],
   "source": [
    "mean_absolute_error(y_true_gauss, y_pred_gauss), (\n",
    "    np.abs(\n",
    "        y_true_gauss-y_true_gauss.mean()\n",
    "    )\n",
    ").mean()"
   ]
  },
  {
   "cell_type": "code",
   "execution_count": 66,
   "id": "99ee834c-4095-45d0-b5cc-464d0912d9a5",
   "metadata": {},
   "outputs": [
    {
     "data": {
      "text/plain": [
       "(0.7929716014469115, 1.0020630470162308)"
      ]
     },
     "execution_count": 66,
     "metadata": {},
     "output_type": "execute_result"
    }
   ],
   "source": [
    "mean_squared_error(y_true_gauss, y_pred_gauss), (\n",
    "    np.abs(\n",
    "        y_true_gauss-y_true_gauss.mean()\n",
    "    )**2\n",
    ").mean()"
   ]
  }
 ],
 "metadata": {
  "environment": {
   "kernel": "python3",
   "name": "pytorch-gpu.1-11.m94",
   "type": "gcloud",
   "uri": "gcr.io/deeplearning-platform-release/pytorch-gpu.1-11:m94"
  },
  "kernelspec": {
   "display_name": "Python 3",
   "language": "python",
   "name": "python3"
  },
  "language_info": {
   "codemirror_mode": {
    "name": "ipython",
    "version": 3
   },
   "file_extension": ".py",
   "mimetype": "text/x-python",
   "name": "python",
   "nbconvert_exporter": "python",
   "pygments_lexer": "ipython3",
   "version": "3.7.12"
  }
 },
 "nbformat": 4,
 "nbformat_minor": 5
}
