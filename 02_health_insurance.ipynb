{
 "cells": [
  {
   "cell_type": "markdown",
   "id": "b07fcdc9-31a2-41d0-a868-37f072c725a2",
   "metadata": {},
   "source": [
    "[ref](https://pytorch.org/tutorials/beginner/dcgan_faces_tutorial.html)"
   ]
  },
  {
   "cell_type": "code",
   "execution_count": 1,
   "id": "a299c93b-2ec6-498e-b737-d38aae8f3156",
   "metadata": {},
   "outputs": [],
   "source": [
    "import numpy as np\n",
    "import pandas as pd\n",
    "import matplotlib.pyplot as plt\n",
    "\n",
    "from sklearn.model_selection import train_test_split\n",
    "from sklearn.metrics import mean_squared_error, mean_absolute_error\n",
    "from sklearn.datasets import fetch_openml\n",
    "from sklearn.preprocessing import OneHotEncoder\n",
    "from sklearn.gaussian_process import GaussianProcessRegressor, kernels"
   ]
  },
  {
   "cell_type": "code",
   "execution_count": 2,
   "id": "835efe7f-bbf8-4ecf-b7a0-7b4f4202c394",
   "metadata": {},
   "outputs": [],
   "source": [
    "import torch\n",
    "import torch.nn as nn\n",
    "import torch.nn.parallel\n",
    "import torch.backends.cudnn as cudnn\n",
    "import torch.optim as optim\n",
    "import torch.utils.data\n",
    "\n",
    "from torch.utils.data.sampler import SubsetRandomSampler"
   ]
  },
  {
   "cell_type": "code",
   "execution_count": 3,
   "id": "49ddac81-def8-4e05-9ac8-23c20a3a6582",
   "metadata": {},
   "outputs": [
    {
     "name": "stdout",
     "output_type": "stream",
     "text": [
      "Random Seed:  999\n"
     ]
    },
    {
     "data": {
      "text/plain": [
       "<torch._C.Generator at 0x7f570fd1a370>"
      ]
     },
     "execution_count": 3,
     "metadata": {},
     "output_type": "execute_result"
    }
   ],
   "source": [
    "# Set random seed for reproducibility\n",
    "manualSeed = 999\n",
    "#manualSeed = random.randint(1, 10000) # use if you want new results\n",
    "print(\"Random Seed: \", manualSeed)\n",
    "np.random.seed(manualSeed)\n",
    "torch.manual_seed(manualSeed)"
   ]
  },
  {
   "cell_type": "code",
   "execution_count": 4,
   "id": "27efa966-b354-4ada-ab08-4c79913e7702",
   "metadata": {},
   "outputs": [],
   "source": [
    "device = torch.device(\"cuda:0\" if (torch.cuda.is_available() and ngpu > 0) else \"cpu\")\n",
    "ngpu=0"
   ]
  },
  {
   "cell_type": "code",
   "execution_count": 5,
   "id": "6a5b481e-553d-40ba-92e6-0d00f52acae8",
   "metadata": {},
   "outputs": [],
   "source": [
    "df = pd.read_csv(\"datasets/health_insurance.csv\")\n"
   ]
  },
  {
   "cell_type": "code",
   "execution_count": 6,
   "id": "8b84d36c-e955-4fbb-aa52-c9d84e725786",
   "metadata": {},
   "outputs": [
    {
     "data": {
      "text/plain": [
       "age           int64\n",
       "sex          object\n",
       "bmi         float64\n",
       "children      int64\n",
       "smoker       object\n",
       "region       object\n",
       "charges     float64\n",
       "dtype: object"
      ]
     },
     "execution_count": 6,
     "metadata": {},
     "output_type": "execute_result"
    }
   ],
   "source": [
    "df.dtypes"
   ]
  },
  {
   "cell_type": "code",
   "execution_count": 7,
   "id": "0d6677de-29eb-49b1-9814-e645ff1cf853",
   "metadata": {},
   "outputs": [
    {
     "name": "stdout",
     "output_type": "stream",
     "text": [
      "(1338, 11) (1338,)\n"
     ]
    }
   ],
   "source": [
    "# download the dataset from: https://www.kaggle.com/datasets/teertha/ushealthinsurancedataset\n",
    "df = pd.read_csv(\"datasets/health_insurance.csv\")\n",
    "\n",
    "df[df.select_dtypes(['float64','int64']).columns] = (df[df.select_dtypes(['float64','int64']).columns] - df[df.select_dtypes(['float64','int64']).columns].mean()) / df[df.select_dtypes(['float64','int64']).columns].std()\n",
    "\n",
    "# df = df.sample(n=10**5, random_state=43) # no need to sample when the dataset is so small\n",
    "\n",
    "\n",
    "for feat in df.select_dtypes(['category']).columns:\n",
    "    df[feat] = df[feat].values.codes\n",
    "\n",
    "for feat in df.columns:\n",
    "    num_new_feats = len(df[feat].unique())\n",
    "    if df[feat].dtype != \"float64\" and df[feat].dtype!='int64':\n",
    "        new_feats = OneHotEncoder(sparse=False).fit_transform(df[feat].values.reshape(-1,1))\n",
    "        for idx in range(num_new_feats):\n",
    "            df[f\"{feat}_{idx}\"] = new_feats[:,idx]\n",
    "            df[f\"{feat}_{idx}\"] = df[f\"{feat}_{idx}\"].astype(\"float\")\n",
    "        del df[feat]\n",
    "\n",
    "\n",
    "x = df.drop(columns=\"charges\").values\n",
    "y = df[\"charges\"].values\n",
    "print(x.shape, y.shape)"
   ]
  },
  {
   "cell_type": "code",
   "execution_count": 8,
   "id": "83cb2418-b9b4-43a6-81b1-9e90e9085aca",
   "metadata": {},
   "outputs": [],
   "source": [
    "n_samples = x.shape[0] # 10**5\n",
    "n_feats = x.shape[1] # 10"
   ]
  },
  {
   "cell_type": "code",
   "execution_count": 9,
   "id": "d50cc55e-1be7-42df-af08-9e1aabfc33d6",
   "metadata": {},
   "outputs": [],
   "source": [
    "# x = np.random.randn(n_samples, n_feats)\n",
    "# w = np.random.randn(n_feats)\n",
    "# y = x.dot(w) + 2*np.random.randn(n_samples)"
   ]
  },
  {
   "cell_type": "code",
   "execution_count": 10,
   "id": "fb09d30a-31ed-43d6-9c33-5480187225c2",
   "metadata": {},
   "outputs": [
    {
     "data": {
      "text/plain": [
       "(-1.0031822537315642, 4.170103954308559)"
      ]
     },
     "execution_count": 10,
     "metadata": {},
     "output_type": "execute_result"
    }
   ],
   "source": [
    "y.min(), y.max()"
   ]
  },
  {
   "cell_type": "markdown",
   "id": "fc875939-ce9f-4b50-b53b-23fff0688262",
   "metadata": {},
   "source": [
    "### Simple Linear Regression check"
   ]
  },
  {
   "cell_type": "code",
   "execution_count": 11,
   "id": "448800fd-6be2-465e-a2cc-4bdf178de4df",
   "metadata": {},
   "outputs": [
    {
     "data": {
      "text/plain": [
       "array([ 0.29800316,  0.17080621,  0.04733377,  0.00542173, -0.00542173,\n",
       "       -0.98466195,  0.98466195,  0.04847305,  0.0193266 , -0.03699524,\n",
       "       -0.03080441])"
      ]
     },
     "execution_count": 11,
     "metadata": {},
     "output_type": "execute_result"
    }
   ],
   "source": [
    "from sklearn.linear_model import LinearRegression\n",
    "\n",
    "reg = LinearRegression().fit(x, y)\n",
    "reg.coef_"
   ]
  },
  {
   "cell_type": "code",
   "execution_count": 12,
   "id": "84bcbe89-a4e9-422b-a251-245cfea655ba",
   "metadata": {},
   "outputs": [
    {
     "data": {
      "text/plain": [
       "(0.7509130345985207, 0.24890080175020768)"
      ]
     },
     "execution_count": 12,
     "metadata": {},
     "output_type": "execute_result"
    }
   ],
   "source": [
    "reg.score(x, y), (1-reg.score(x, y))*y.var()"
   ]
  },
  {
   "cell_type": "markdown",
   "id": "60aa35bd-b7bb-409a-b623-21ca0ff56991",
   "metadata": {
    "tags": []
   },
   "source": [
    "# Regress GAN"
   ]
  },
  {
   "cell_type": "markdown",
   "id": "b3acd4b7-1b0d-4eda-8cc5-d20429ec969f",
   "metadata": {},
   "source": [
    "### Define ANN Architecture"
   ]
  },
  {
   "cell_type": "code",
   "execution_count": 13,
   "id": "ee5d7b20-ed44-4047-bcc6-748164a359d2",
   "metadata": {},
   "outputs": [],
   "source": [
    "# Batch size during training\n",
    "batch_size = 64\n",
    "\n",
    "# Size of z latent vector (i.e. size of generator input)\n",
    "nz = 5\n",
    "\n",
    "# Number of training epochs\n",
    "num_epochs = 100\n",
    "\n",
    "# Learning rate for optimizers\n",
    "lr = 0.002\n",
    "# lr = 0.0002\n",
    "\n",
    "# Beta1 hyperparam for Adam optimizers\n",
    "beta1 = 0.5\n",
    "\n",
    "# width of the network\n",
    "network_width = 128"
   ]
  },
  {
   "cell_type": "code",
   "execution_count": 14,
   "id": "22b53034-9834-4886-bfd9-ad9fccca302f",
   "metadata": {},
   "outputs": [],
   "source": [
    "# create train and test indices\n",
    "train, test = train_test_split(list(range(x.shape[0])), test_size=.2)\n",
    "train, val = train_test_split(train, test_size=.25)"
   ]
  },
  {
   "cell_type": "code",
   "execution_count": 15,
   "id": "926ae90b-8966-4a42-995c-2512b91025b3",
   "metadata": {},
   "outputs": [],
   "source": [
    "# https://gist.github.com/conormm/5b26a08029b900520bcd6fcd1f5712a0\n",
    "class PrepareData(torch.utils.data.Dataset):\n",
    "\n",
    "    def __init__(self, X, y, scale_X=True):\n",
    "        if not torch.is_tensor(X):\n",
    "            if scale_X:\n",
    "                X = StandardScaler().fit_transform(X)\n",
    "            self.X = torch.from_numpy(X).float()\n",
    "        else:\n",
    "            self.X = X.float32()\n",
    "        if not torch.is_tensor(y):\n",
    "            self.y = torch.from_numpy(y).float()\n",
    "        else:\n",
    "            self.y = y.float32()\n",
    "\n",
    "    def __len__(self):\n",
    "        return len(self.X)\n",
    "\n",
    "    def __getitem__(self, idx):\n",
    "        return self.X[idx], self.y[idx]\n",
    "\n",
    "ds = PrepareData(x, y=y, scale_X=False)\n",
    "\n",
    "train_set = torch.utils.data.DataLoader(ds, batch_size=batch_size,\n",
    "                       sampler=SubsetRandomSampler(train))\n",
    "val_set = torch.utils.data.DataLoader(ds, batch_size=batch_size,\n",
    "                       sampler=SubsetRandomSampler(val))\n",
    "test_set = torch.utils.data.DataLoader(ds, batch_size=batch_size,\n",
    "                      sampler=SubsetRandomSampler(test))"
   ]
  },
  {
   "cell_type": "code",
   "execution_count": 16,
   "id": "ae20ffb8-a81c-401b-96cc-6ea2948081d3",
   "metadata": {
    "collapsed": false,
    "jupyter": {
     "outputs_hidden": false
    }
   },
   "outputs": [],
   "source": [
    "# Generator Code\n",
    "\n",
    "class Generator(nn.Module):\n",
    "    def __init__(self, ngpu):\n",
    "        super(Generator, self).__init__()\n",
    "        self.ngpu = ngpu\n",
    "        self.main = nn.Sequential(\n",
    "            # input is Z, going into a convolution\n",
    "            nn.Linear( n_feats+nz, network_width, bias=True),\n",
    "            nn.ReLU(True),\n",
    "\n",
    "            nn.Linear( network_width, network_width, bias=True),\n",
    "            nn.ReLU(True),\n",
    "\n",
    "            nn.Linear( network_width, 1, bias=True)\n",
    "\n",
    "        )\n",
    "\n",
    "    def forward(self, input):\n",
    "        return self.main(input)"
   ]
  },
  {
   "cell_type": "code",
   "execution_count": 17,
   "id": "75149020-6f89-4866-b582-b6d1f1bfbf0f",
   "metadata": {},
   "outputs": [
    {
     "name": "stdout",
     "output_type": "stream",
     "text": [
      "Generator(\n",
      "  (main): Sequential(\n",
      "    (0): Linear(in_features=16, out_features=128, bias=True)\n",
      "    (1): ReLU(inplace=True)\n",
      "    (2): Linear(in_features=128, out_features=128, bias=True)\n",
      "    (3): ReLU(inplace=True)\n",
      "    (4): Linear(in_features=128, out_features=1, bias=True)\n",
      "  )\n",
      ")\n"
     ]
    }
   ],
   "source": [
    "# Create the generator\n",
    "netG = Generator(ngpu).to(device)\n",
    "\n",
    "# Print the model\n",
    "print(netG)"
   ]
  },
  {
   "cell_type": "code",
   "execution_count": 18,
   "id": "65c0957d-f66b-491d-97a0-6cb5107cbb4c",
   "metadata": {
    "collapsed": false,
    "jupyter": {
     "outputs_hidden": false
    }
   },
   "outputs": [],
   "source": [
    "# Discriminator Code\n",
    "\n",
    "class Discriminator(nn.Module):\n",
    "    def __init__(self, ngpu):\n",
    "        super(Discriminator, self).__init__()\n",
    "        self.ngpu = ngpu\n",
    "        self.main = nn.Sequential(\n",
    "            # input is Z, going into a convolution\n",
    "            nn.Linear(n_feats+1, network_width, bias=True), # i/p is covariates and o/p\n",
    "            nn.LeakyReLU(0.2, inplace=True),\n",
    "\n",
    "            nn.Linear( network_width, network_width, bias=True),\n",
    "            nn.LeakyReLU(0.2, inplace=True),\n",
    "\n",
    "            nn.Linear( network_width, 1, bias=True),\n",
    "            nn.Sigmoid(),\n",
    "\n",
    "        )\n",
    "\n",
    "    def forward(self, input):\n",
    "        return self.main(input)"
   ]
  },
  {
   "cell_type": "code",
   "execution_count": 19,
   "id": "29259410-3eeb-44b4-8097-ac4eb88d2813",
   "metadata": {},
   "outputs": [
    {
     "name": "stdout",
     "output_type": "stream",
     "text": [
      "Discriminator(\n",
      "  (main): Sequential(\n",
      "    (0): Linear(in_features=12, out_features=128, bias=True)\n",
      "    (1): LeakyReLU(negative_slope=0.2, inplace=True)\n",
      "    (2): Linear(in_features=128, out_features=128, bias=True)\n",
      "    (3): LeakyReLU(negative_slope=0.2, inplace=True)\n",
      "    (4): Linear(in_features=128, out_features=1, bias=True)\n",
      "    (5): Sigmoid()\n",
      "  )\n",
      ")\n"
     ]
    }
   ],
   "source": [
    "# Create the Discriminator\n",
    "netD = Discriminator(ngpu).to(device)\n",
    "\n",
    "# Print the model\n",
    "print(netD)"
   ]
  },
  {
   "cell_type": "code",
   "execution_count": 20,
   "id": "c30d199c-43ed-4bc9-b0b2-2d8661f2efa8",
   "metadata": {
    "collapsed": false,
    "jupyter": {
     "outputs_hidden": false
    }
   },
   "outputs": [],
   "source": [
    "# Initialize BCELoss function\n",
    "criterion = nn.BCELoss()\n",
    "\n",
    "# Create batch of latent vectors that we will use to visualize\n",
    "#  the progression of the generator\n",
    "fixed_noise = torch.randn(nz, device=device)\n",
    "\n",
    "# Establish convention for real and fake labels during training\n",
    "real_label = 1.\n",
    "fake_label = 0.\n",
    "\n",
    "# Setup Adam optimizers for both G and D\n",
    "optimizerD = optim.Adam(netD.parameters(), lr=lr, betas=(beta1, 0.999))\n",
    "optimizerG = optim.Adam(netG.parameters(), lr=lr, betas=(beta1, 0.999))"
   ]
  },
  {
   "cell_type": "code",
   "execution_count": 21,
   "id": "4caa3c28-69b8-4383-83d6-36d301752234",
   "metadata": {},
   "outputs": [
    {
     "name": "stdout",
     "output_type": "stream",
     "text": [
      "Starting Training Loop...\n",
      "[0/100][0/13]\tLoss_D: 1.4019\tLoss_G: 0.6891\tD(x): 0.4603\tD(G(z)): 0.4643 / 0.5023\n",
      "[1/100][0/13]\tLoss_D: 1.2391\tLoss_G: 0.8345\tD(x): 0.5314\tD(G(z)): 0.4482 / 0.4360\n",
      "[2/100][0/13]\tLoss_D: 1.3137\tLoss_G: 0.8486\tD(x): 0.5882\tD(G(z)): 0.5075 / 0.4311\n",
      "[3/100][0/13]\tLoss_D: 1.2076\tLoss_G: 0.8850\tD(x): 0.6090\tD(G(z)): 0.4623 / 0.4321\n",
      "[4/100][0/13]\tLoss_D: 1.4591\tLoss_G: 0.7805\tD(x): 0.4625\tD(G(z)): 0.4893 / 0.4591\n",
      "[5/100][0/13]\tLoss_D: 1.3589\tLoss_G: 0.7430\tD(x): 0.5408\tD(G(z)): 0.5008 / 0.4798\n",
      "[6/100][0/13]\tLoss_D: 1.2452\tLoss_G: 0.8973\tD(x): 0.5729\tD(G(z)): 0.4486 / 0.4305\n",
      "[7/100][0/13]\tLoss_D: 1.3957\tLoss_G: 0.7364\tD(x): 0.4970\tD(G(z)): 0.4949 / 0.4803\n",
      "[8/100][0/13]\tLoss_D: 1.6078\tLoss_G: 0.6311\tD(x): 0.4996\tD(G(z)): 0.5635 / 0.5409\n",
      "[9/100][0/13]\tLoss_D: 1.4238\tLoss_G: 0.6952\tD(x): 0.4946\tD(G(z)): 0.5020 / 0.5040\n",
      "[10/100][0/13]\tLoss_D: 1.3727\tLoss_G: 0.7309\tD(x): 0.4900\tD(G(z)): 0.4811 / 0.4827\n",
      "[11/100][0/13]\tLoss_D: 1.3746\tLoss_G: 0.7171\tD(x): 0.4996\tD(G(z)): 0.4907 / 0.4905\n",
      "[12/100][0/13]\tLoss_D: 1.3857\tLoss_G: 0.6879\tD(x): 0.5052\tD(G(z)): 0.5044 / 0.5028\n",
      "[13/100][0/13]\tLoss_D: 1.3772\tLoss_G: 0.6964\tD(x): 0.5037\tD(G(z)): 0.4986 / 0.4986\n",
      "[14/100][0/13]\tLoss_D: 1.3785\tLoss_G: 0.6971\tD(x): 0.5033\tD(G(z)): 0.4990 / 0.4982\n",
      "[15/100][0/13]\tLoss_D: 1.3772\tLoss_G: 0.6951\tD(x): 0.5043\tD(G(z)): 0.4995 / 0.4992\n",
      "[16/100][0/13]\tLoss_D: 1.3844\tLoss_G: 0.7017\tD(x): 0.4978\tD(G(z)): 0.4963 / 0.4960\n",
      "[17/100][0/13]\tLoss_D: 1.3796\tLoss_G: 0.6902\tD(x): 0.5059\tD(G(z)): 0.5022 / 0.5017\n",
      "[18/100][0/13]\tLoss_D: 1.3799\tLoss_G: 0.6926\tD(x): 0.5054\tD(G(z)): 0.5020 / 0.5003\n",
      "[19/100][0/13]\tLoss_D: 1.3828\tLoss_G: 0.7021\tD(x): 0.4958\tD(G(z)): 0.4934 / 0.4958\n",
      "[20/100][0/13]\tLoss_D: 1.3856\tLoss_G: 0.6974\tD(x): 0.5003\tD(G(z)): 0.4997 / 0.4980\n",
      "[21/100][0/13]\tLoss_D: 1.3862\tLoss_G: 0.6939\tD(x): 0.4987\tD(G(z)): 0.4984 / 0.4997\n",
      "[22/100][0/13]\tLoss_D: 1.3819\tLoss_G: 0.6904\tD(x): 0.5048\tD(G(z)): 0.5022 / 0.5014\n",
      "[23/100][0/13]\tLoss_D: 1.3784\tLoss_G: 0.7056\tD(x): 0.5010\tD(G(z)): 0.4952 / 0.4945\n",
      "[24/100][0/13]\tLoss_D: 1.4015\tLoss_G: 0.6885\tD(x): 0.5065\tD(G(z)): 0.5131 / 0.5025\n",
      "[25/100][0/13]\tLoss_D: 1.3756\tLoss_G: 0.7206\tD(x): 0.4962\tD(G(z)): 0.4899 / 0.4877\n",
      "[26/100][0/13]\tLoss_D: 1.3765\tLoss_G: 0.7230\tD(x): 0.4959\tD(G(z)): 0.4889 / 0.4866\n",
      "[27/100][0/13]\tLoss_D: 1.3798\tLoss_G: 0.6903\tD(x): 0.5086\tD(G(z)): 0.5036 / 0.5023\n",
      "[28/100][0/13]\tLoss_D: 1.4028\tLoss_G: 0.6815\tD(x): 0.5011\tD(G(z)): 0.5062 / 0.5067\n",
      "[29/100][0/13]\tLoss_D: 1.3885\tLoss_G: 0.6951\tD(x): 0.5026\tD(G(z)): 0.5035 / 0.4991\n",
      "[30/100][0/13]\tLoss_D: 1.3781\tLoss_G: 0.7078\tD(x): 0.4990\tD(G(z)): 0.4943 / 0.4936\n",
      "[31/100][0/13]\tLoss_D: 1.3715\tLoss_G: 0.7133\tD(x): 0.5010\tD(G(z)): 0.4925 / 0.4905\n",
      "[32/100][0/13]\tLoss_D: 1.3823\tLoss_G: 0.6923\tD(x): 0.5063\tD(G(z)): 0.5031 / 0.5009\n",
      "[33/100][0/13]\tLoss_D: 1.3715\tLoss_G: 0.6891\tD(x): 0.5129\tD(G(z)): 0.5047 / 0.5024\n",
      "[34/100][0/13]\tLoss_D: 1.3833\tLoss_G: 0.7236\tD(x): 0.4921\tD(G(z)): 0.4870 / 0.4870\n",
      "[35/100][0/13]\tLoss_D: 1.3886\tLoss_G: 0.7094\tD(x): 0.4934\tD(G(z)): 0.4930 / 0.4922\n",
      "[36/100][0/13]\tLoss_D: 1.3729\tLoss_G: 0.7021\tD(x): 0.5039\tD(G(z)): 0.4966 / 0.4958\n",
      "[37/100][0/13]\tLoss_D: 1.3734\tLoss_G: 0.6926\tD(x): 0.5057\tD(G(z)): 0.4989 / 0.5004\n",
      "[38/100][0/13]\tLoss_D: 1.3825\tLoss_G: 0.7049\tD(x): 0.5003\tD(G(z)): 0.4979 / 0.4944\n",
      "[39/100][0/13]\tLoss_D: 1.3659\tLoss_G: 0.6982\tD(x): 0.5161\tD(G(z)): 0.5048 / 0.4979\n",
      "[40/100][0/13]\tLoss_D: 1.3749\tLoss_G: 0.7139\tD(x): 0.5002\tD(G(z)): 0.4932 / 0.4902\n",
      "[41/100][0/13]\tLoss_D: 1.3805\tLoss_G: 0.6814\tD(x): 0.5036\tD(G(z)): 0.5003 / 0.5061\n",
      "[42/100][0/13]\tLoss_D: 1.3774\tLoss_G: 0.7013\tD(x): 0.5040\tD(G(z)): 0.4989 / 0.4963\n",
      "[43/100][0/13]\tLoss_D: 1.3779\tLoss_G: 0.6915\tD(x): 0.5138\tD(G(z)): 0.5088 / 0.5015\n",
      "[44/100][0/13]\tLoss_D: 1.3638\tLoss_G: 0.7082\tD(x): 0.5128\tD(G(z)): 0.5003 / 0.4930\n",
      "[45/100][0/13]\tLoss_D: 1.3603\tLoss_G: 0.7185\tD(x): 0.5191\tD(G(z)): 0.4987 / 0.4905\n",
      "[46/100][0/13]\tLoss_D: 1.3714\tLoss_G: 0.7152\tD(x): 0.5252\tD(G(z)): 0.5155 / 0.4897\n",
      "[47/100][0/13]\tLoss_D: 1.3867\tLoss_G: 0.6965\tD(x): 0.4885\tD(G(z)): 0.4814 / 0.5009\n",
      "[48/100][0/13]\tLoss_D: 1.3880\tLoss_G: 0.7582\tD(x): 0.4956\tD(G(z)): 0.4956 / 0.4694\n",
      "[49/100][0/13]\tLoss_D: 1.3776\tLoss_G: 0.7007\tD(x): 0.5111\tD(G(z)): 0.5047 / 0.4972\n",
      "[50/100][0/13]\tLoss_D: 1.3870\tLoss_G: 0.7035\tD(x): 0.4958\tD(G(z)): 0.4952 / 0.4957\n",
      "[51/100][0/13]\tLoss_D: 1.3654\tLoss_G: 0.7020\tD(x): 0.5075\tD(G(z)): 0.4965 / 0.4959\n",
      "[52/100][0/13]\tLoss_D: 1.3859\tLoss_G: 0.7208\tD(x): 0.4968\tD(G(z)): 0.4955 / 0.4869\n",
      "[53/100][0/13]\tLoss_D: 1.3765\tLoss_G: 0.7165\tD(x): 0.4879\tD(G(z)): 0.4818 / 0.4889\n",
      "[54/100][0/13]\tLoss_D: 1.3848\tLoss_G: 0.6870\tD(x): 0.5021\tD(G(z)): 0.5007 / 0.5035\n",
      "[55/100][0/13]\tLoss_D: 1.3758\tLoss_G: 0.6989\tD(x): 0.5077\tD(G(z)): 0.5012 / 0.4978\n",
      "[56/100][0/13]\tLoss_D: 1.3994\tLoss_G: 0.6821\tD(x): 0.5103\tD(G(z)): 0.5152 / 0.5063\n",
      "[57/100][0/13]\tLoss_D: 1.4173\tLoss_G: 0.6926\tD(x): 0.4928\tD(G(z)): 0.5050 / 0.5011\n",
      "[58/100][0/13]\tLoss_D: 1.4124\tLoss_G: 0.6844\tD(x): 0.4982\tD(G(z)): 0.5085 / 0.5058\n",
      "[59/100][0/13]\tLoss_D: 1.3889\tLoss_G: 0.6990\tD(x): 0.5012\tD(G(z)): 0.5000 / 0.4987\n",
      "[60/100][0/13]\tLoss_D: 1.4026\tLoss_G: 0.6967\tD(x): 0.4961\tD(G(z)): 0.5011 / 0.4993\n",
      "[61/100][0/13]\tLoss_D: 1.4020\tLoss_G: 0.7067\tD(x): 0.4962\tD(G(z)): 0.5032 / 0.4937\n",
      "[62/100][0/13]\tLoss_D: 1.3623\tLoss_G: 0.7610\tD(x): 0.4985\tD(G(z)): 0.4858 / 0.4681\n",
      "[63/100][0/13]\tLoss_D: 1.3886\tLoss_G: 0.6904\tD(x): 0.4905\tD(G(z)): 0.4901 / 0.5019\n",
      "[64/100][0/13]\tLoss_D: 1.3738\tLoss_G: 0.6859\tD(x): 0.5196\tD(G(z)): 0.5116 / 0.5045\n",
      "[65/100][0/13]\tLoss_D: 1.3418\tLoss_G: 0.7428\tD(x): 0.5098\tD(G(z)): 0.4864 / 0.4764\n",
      "[66/100][0/13]\tLoss_D: 1.3707\tLoss_G: 0.7336\tD(x): 0.5013\tD(G(z)): 0.4905 / 0.4820\n",
      "[67/100][0/13]\tLoss_D: 1.3914\tLoss_G: 0.6990\tD(x): 0.4970\tD(G(z)): 0.4979 / 0.4977\n",
      "[68/100][0/13]\tLoss_D: 1.4134\tLoss_G: 0.6831\tD(x): 0.5061\tD(G(z)): 0.5173 / 0.5059\n",
      "[69/100][0/13]\tLoss_D: 1.4028\tLoss_G: 0.6978\tD(x): 0.4963\tD(G(z)): 0.5024 / 0.4984\n",
      "[70/100][0/13]\tLoss_D: 1.3746\tLoss_G: 0.7386\tD(x): 0.5033\tD(G(z)): 0.4966 / 0.4784\n",
      "[71/100][0/13]\tLoss_D: 1.3621\tLoss_G: 0.7491\tD(x): 0.5026\tD(G(z)): 0.4892 / 0.4738\n",
      "[72/100][0/13]\tLoss_D: 1.3969\tLoss_G: 0.6965\tD(x): 0.4867\tD(G(z)): 0.4876 / 0.4996\n",
      "[73/100][0/13]\tLoss_D: 1.3897\tLoss_G: 0.6911\tD(x): 0.5036\tD(G(z)): 0.5017 / 0.5021\n",
      "[74/100][0/13]\tLoss_D: 1.3499\tLoss_G: 0.7202\tD(x): 0.5232\tD(G(z)): 0.5038 / 0.4874\n",
      "[75/100][0/13]\tLoss_D: 1.3582\tLoss_G: 0.7107\tD(x): 0.5135\tD(G(z)): 0.4979 / 0.4921\n",
      "[76/100][0/13]\tLoss_D: 1.3798\tLoss_G: 0.7149\tD(x): 0.5031\tD(G(z)): 0.4990 / 0.4897\n",
      "[77/100][0/13]\tLoss_D: 1.3649\tLoss_G: 0.7158\tD(x): 0.5007\tD(G(z)): 0.4890 / 0.4892\n",
      "[78/100][0/13]\tLoss_D: 1.3632\tLoss_G: 0.7200\tD(x): 0.5095\tD(G(z)): 0.4967 / 0.4886\n",
      "[79/100][0/13]\tLoss_D: 1.3902\tLoss_G: 0.7002\tD(x): 0.4972\tD(G(z)): 0.4970 / 0.4976\n",
      "[80/100][0/13]\tLoss_D: 1.3719\tLoss_G: 0.7513\tD(x): 0.4977\tD(G(z)): 0.4894 / 0.4726\n",
      "[81/100][0/13]\tLoss_D: 1.3938\tLoss_G: 0.7029\tD(x): 0.5128\tD(G(z)): 0.5130 / 0.4965\n",
      "[82/100][0/13]\tLoss_D: 1.3760\tLoss_G: 0.7481\tD(x): 0.4957\tD(G(z)): 0.4813 / 0.4780\n",
      "[83/100][0/13]\tLoss_D: 1.4212\tLoss_G: 0.7111\tD(x): 0.4852\tD(G(z)): 0.4975 / 0.4931\n",
      "[84/100][0/13]\tLoss_D: 1.3890\tLoss_G: 0.7768\tD(x): 0.4900\tD(G(z)): 0.4901 / 0.4609\n",
      "[85/100][0/13]\tLoss_D: 1.3611\tLoss_G: 0.7579\tD(x): 0.4910\tD(G(z)): 0.4758 / 0.4700\n",
      "[86/100][0/13]\tLoss_D: 1.3824\tLoss_G: 0.6802\tD(x): 0.5044\tD(G(z)): 0.4991 / 0.5077\n",
      "[87/100][0/13]\tLoss_D: 1.3559\tLoss_G: 0.7058\tD(x): 0.5278\tD(G(z)): 0.5101 / 0.4948\n",
      "[88/100][0/13]\tLoss_D: 1.3703\tLoss_G: 0.7119\tD(x): 0.5108\tD(G(z)): 0.5012 / 0.4919\n",
      "[89/100][0/13]\tLoss_D: 1.3686\tLoss_G: 0.7195\tD(x): 0.4925\tD(G(z)): 0.4805 / 0.4881\n",
      "[90/100][0/13]\tLoss_D: 1.3593\tLoss_G: 0.7151\tD(x): 0.5157\tD(G(z)): 0.5008 / 0.4900\n",
      "[91/100][0/13]\tLoss_D: 1.3881\tLoss_G: 0.7296\tD(x): 0.4913\tD(G(z)): 0.4895 / 0.4846\n",
      "[92/100][0/13]\tLoss_D: 1.3772\tLoss_G: 0.7096\tD(x): 0.5029\tD(G(z)): 0.4962 / 0.4932\n",
      "[93/100][0/13]\tLoss_D: 1.3829\tLoss_G: 0.6987\tD(x): 0.4972\tD(G(z)): 0.4934 / 0.4987\n",
      "[94/100][0/13]\tLoss_D: 1.3610\tLoss_G: 0.7439\tD(x): 0.4928\tD(G(z)): 0.4780 / 0.4765\n",
      "[95/100][0/13]\tLoss_D: 1.3559\tLoss_G: 0.7170\tD(x): 0.5248\tD(G(z)): 0.5068 / 0.4903\n",
      "[96/100][0/13]\tLoss_D: 1.4116\tLoss_G: 0.7018\tD(x): 0.5051\tD(G(z)): 0.5159 / 0.4963\n",
      "[97/100][0/13]\tLoss_D: 1.3628\tLoss_G: 0.7308\tD(x): 0.5088\tD(G(z)): 0.4922 / 0.4841\n",
      "[98/100][0/13]\tLoss_D: 1.3773\tLoss_G: 0.6971\tD(x): 0.5059\tD(G(z)): 0.4998 / 0.4988\n",
      "[99/100][0/13]\tLoss_D: 1.3752\tLoss_G: 0.6977\tD(x): 0.5075\tD(G(z)): 0.4999 / 0.4997\n"
     ]
    }
   ],
   "source": [
    "# Training Loop\n",
    "\n",
    "# Lists to keep track of progress\n",
    "img_list = []\n",
    "G_losses = []\n",
    "D_losses = []\n",
    "iters = 0\n",
    "\n",
    "G_losses_val = []\n",
    "D_losses_val = []\n",
    "\n",
    "print(\"Starting Training Loop...\")\n",
    "# For each epoch\n",
    "for epoch in range(num_epochs):\n",
    "    # For each batch in the dataloader\n",
    "    for i, data in enumerate(train_set, 0):\n",
    "        \n",
    "        ############################\n",
    "        # (1) Update D network: maximize log(D(x)) + log(1 - D(G(z)))\n",
    "        ###########################\n",
    "        ## Train with all-real batch\n",
    "        netD.zero_grad()\n",
    "        # Format batch\n",
    "        real_cpu = torch.hstack((data[0],data[1].unsqueeze(1))).to(device)\n",
    "        b_size = real_cpu.size(0)\n",
    "        label = torch.full((b_size,), real_label, dtype=torch.float, device=device)\n",
    "        # Forward pass real batch through D\n",
    "        output = netD(real_cpu).view(-1)\n",
    "        # Calculate loss on all-real batch\n",
    "        errD_real = criterion(output, label)\n",
    "        # Calculate gradients for D in backward pass\n",
    "        errD_real.backward()\n",
    "        D_x = output.mean().item()\n",
    "\n",
    "        ## Train with all-fake batch\n",
    "        # Generate batch of latent vectors\n",
    "        noise = torch.randn(b_size, nz, device=device)\n",
    "        # Generate fake image batch with G\n",
    "        gen_ip = torch.hstack((data[0],noise)).to(device)\n",
    "        fake = netG(gen_ip)\n",
    "        \n",
    "        label.fill_(fake_label)\n",
    "        # Classify all fake batch with D\n",
    "        fake_cpu = torch.hstack((data[0],fake.detach())).to(device)\n",
    "        output = netD(fake_cpu.detach()).view(-1)\n",
    "        # Calculate D's loss on the all-fake batch\n",
    "        errD_fake = criterion(output, label)\n",
    "        # Calculate the gradients for this batch, accumulated (summed) with previous gradients\n",
    "        errD_fake.backward()\n",
    "        D_G_z1 = output.mean().item()\n",
    "        # Compute error of D as sum over the fake and the real batches\n",
    "        errD = errD_real + errD_fake\n",
    "        # Update D\n",
    "        optimizerD.step()\n",
    "\n",
    "        ############################\n",
    "        # (2) Update G network: maximize log(D(G(z)))\n",
    "        ###########################\n",
    "        netG.zero_grad()\n",
    "        label.fill_(real_label)  # fake labels are real for generator cost\n",
    "        # Since we just updated D, perform another forward pass of all-fake batch through D\n",
    "        fake_cpu = torch.hstack((data[0],fake)).to(device)\n",
    "        output = netD(fake_cpu).view(-1)\n",
    "        # Calculate G's loss based on this output\n",
    "        errG = criterion(output, label)\n",
    "        # Calculate gradients for G\n",
    "        errG.backward()\n",
    "        D_G_z2 = output.mean().item()\n",
    "        # Update G\n",
    "        optimizerG.step()\n",
    "        \n",
    "        # Output training stats\n",
    "        if i % 500 == 0:\n",
    "            print('[%d/%d][%d/%d]\\tLoss_D: %.4f\\tLoss_G: %.4f\\tD(x): %.4f\\tD(G(z)): %.4f / %.4f'\n",
    "                  % (epoch, num_epochs, i, len(train_set),\n",
    "                     errD.item(), errG.item(), D_x, D_G_z1, D_G_z2))\n",
    "                \n",
    "        # Output validation stats\n",
    "        if i % 100 == 0:\n",
    "            with torch.no_grad():\n",
    "                errG_vals = []\n",
    "                errD_vals = []\n",
    "                for i, data in enumerate(val_set, 0):\n",
    "                    b_size = data[0].size(0)\n",
    "                    noise = torch.randn(b_size, nz, device=device)\n",
    "                    # Generate fake image batch with G\n",
    "                    gen_ip = torch.hstack((data[0],noise)).to(device)\n",
    "                    gen_op = netG(gen_ip)\n",
    "                    \n",
    "                    fake_cpu = torch.hstack((data[0],gen_op)).to(device)\n",
    "                    fake_output = netD(fake_cpu).view(-1)\n",
    "\n",
    "                    label.fill_(real_label) # fake labels are real for generator cost\n",
    "                    errG_val = criterion(output, label)  \n",
    "                    \n",
    "                    label.fill_(fake_label)\n",
    "                    errD_fake_val = criterion(output, label)\n",
    "                    \n",
    "                    real_cpu = torch.hstack((data[0],data[1].unsqueeze(1))).to(device)\n",
    "                    real_output = netD(real_cpu).view(-1)\n",
    "                    \n",
    "                    label.fill_(real_label)\n",
    "                    errD_real_val = criterion(output, label)\n",
    "                    \n",
    "                    errG_vals.append(errG_val.item())\n",
    "                    errD_vals.append((errD_fake_val+errD_real_val).item())\n",
    "            G_losses_val.append(sum(errG_vals)/len(errG_vals))\n",
    "            D_losses_val.append(sum(errD_vals)/len(errD_vals))\n",
    "        \n",
    "        \n",
    "        # Save Losses for plotting later\n",
    "        G_losses.append(errG.item())\n",
    "        D_losses.append(errD.item())\n",
    "        \n",
    "        # Check how the generator is doing by saving G's output on fixed_noise\n",
    "        # if (iters % 500 == 0) or ((epoch == num_epochs-1) and (i == len(train_set)-1)):\n",
    "        #     with torch.no_grad():\n",
    "        #         fake = netG(fixed_noise).detach().cpu()\n",
    "        #     img_list.append(vutils.make_grid(fake, padding=2, normalize=True))\n",
    "            \n",
    "        iters += 1"
   ]
  },
  {
   "cell_type": "code",
   "execution_count": 22,
   "id": "1cca6ec1-c384-40f7-9455-c723703c67d4",
   "metadata": {},
   "outputs": [
    {
     "data": {
      "image/png": "[encoded data removed]",
      "text/plain": [
       "<Figure size 720x360 with 1 Axes>"
      ]
     },
     "metadata": {
      "needs_background": "light"
     },
     "output_type": "display_data"
    }
   ],
   "source": [
    "plt.figure(figsize=(10,5))\n",
    "plt.title(\"Generator and Discriminator Loss During Training\")\n",
    "plt.plot(G_losses,label=\"G\")\n",
    "plt.plot(D_losses,label=\"D\")\n",
    "plt.xlabel(\"iterations\")\n",
    "plt.ylabel(\"Loss\")\n",
    "plt.legend()\n",
    "plt.show()"
   ]
  },
  {
   "cell_type": "code",
   "execution_count": 23,
   "id": "64be2550-691b-40c4-a4e9-f16cb3783b0f",
   "metadata": {},
   "outputs": [
    {
     "data": {
      "image/png": "[encoded data removed]",
      "text/plain": [
       "<Figure size 720x360 with 1 Axes>"
      ]
     },
     "metadata": {
      "needs_background": "light"
     },
     "output_type": "display_data"
    }
   ],
   "source": [
    "plt.figure(figsize=(10,5))\n",
    "plt.title(\"Generator and Discriminator Loss During Training (Validation Set)\")\n",
    "plt.plot(G_losses_val,label=\"G\")\n",
    "plt.plot(D_losses_val,label=\"D\")\n",
    "plt.xlabel(\"iterations\")\n",
    "plt.ylabel(\"Loss\")\n",
    "plt.legend()\n",
    "plt.show()"
   ]
  },
  {
   "cell_type": "markdown",
   "id": "9546287e-8940-4fbc-b990-81029da132cd",
   "metadata": {},
   "source": [
    "## Train Predictions"
   ]
  },
  {
   "cell_type": "code",
   "execution_count": 24,
   "id": "22d71a6f-0001-4bcd-957f-a2b0e1d2394d",
   "metadata": {},
   "outputs": [],
   "source": [
    "train_ops = []\n",
    "with torch.no_grad():\n",
    "    for i, data in enumerate(train_set, 0):\n",
    "        b_size = data[0].size(0)\n",
    "        noise = torch.randn(b_size, nz, device=device)\n",
    "        # Generate fake image batch with G\n",
    "        gen_ip = torch.hstack((data[0],noise)).to(device)\n",
    "        fake = netG(gen_ip)\n",
    "        \n",
    "        train_ops.append(\n",
    "            (data[1].detach().cpu().numpy(), fake.detach().cpu().numpy())\n",
    "        )"
   ]
  },
  {
   "cell_type": "code",
   "execution_count": 25,
   "id": "23c38a2f-9fec-452f-ac02-b3e35e14b189",
   "metadata": {},
   "outputs": [],
   "source": [
    "train_reals = np.concatenate(list(x[0] for x in train_ops))\n",
    "train_preds = np.concatenate(list(x[1] for x in train_ops))"
   ]
  },
  {
   "cell_type": "code",
   "execution_count": 26,
   "id": "378a9a1c-39df-4ae5-a35e-edff8243ec80",
   "metadata": {},
   "outputs": [
    {
     "data": {
      "text/html": [
       "<div>\n",
       "<style scoped>\n",
       "    .dataframe tbody tr th:only-of-type {\n",
       "        vertical-align: middle;\n",
       "    }\n",
       "\n",
       "    .dataframe tbody tr th {\n",
       "        vertical-align: top;\n",
       "    }\n",
       "\n",
       "    .dataframe thead th {\n",
       "        text-align: right;\n",
       "    }\n",
       "</style>\n",
       "<table border=\"1\" class=\"dataframe\">\n",
       "  <thead>\n",
       "    <tr style=\"text-align: right;\">\n",
       "      <th></th>\n",
       "      <th>true</th>\n",
       "      <th>pred</th>\n",
       "    </tr>\n",
       "  </thead>\n",
       "  <tbody>\n",
       "    <tr>\n",
       "      <th>count</th>\n",
       "      <td>802.000000</td>\n",
       "      <td>802.000000</td>\n",
       "    </tr>\n",
       "    <tr>\n",
       "      <th>mean</th>\n",
       "      <td>-0.020810</td>\n",
       "      <td>-0.139694</td>\n",
       "    </tr>\n",
       "    <tr>\n",
       "      <th>std</th>\n",
       "      <td>1.001404</td>\n",
       "      <td>0.977712</td>\n",
       "    </tr>\n",
       "    <tr>\n",
       "      <th>min</th>\n",
       "      <td>-1.003182</td>\n",
       "      <td>-1.145011</td>\n",
       "    </tr>\n",
       "    <tr>\n",
       "      <th>25%</th>\n",
       "      <td>-0.720720</td>\n",
       "      <td>-0.787659</td>\n",
       "    </tr>\n",
       "    <tr>\n",
       "      <th>50%</th>\n",
       "      <td>-0.352065</td>\n",
       "      <td>-0.428938</td>\n",
       "    </tr>\n",
       "    <tr>\n",
       "      <th>75%</th>\n",
       "      <td>0.210536</td>\n",
       "      <td>-0.030237</td>\n",
       "    </tr>\n",
       "    <tr>\n",
       "      <th>max</th>\n",
       "      <td>4.170104</td>\n",
       "      <td>3.320538</td>\n",
       "    </tr>\n",
       "  </tbody>\n",
       "</table>\n",
       "</div>"
      ],
      "text/plain": [
       "             true        pred\n",
       "count  802.000000  802.000000\n",
       "mean    -0.020810   -0.139694\n",
       "std      1.001404    0.977712\n",
       "min     -1.003182   -1.145011\n",
       "25%     -0.720720   -0.787659\n",
       "50%     -0.352065   -0.428938\n",
       "75%      0.210536   -0.030237\n",
       "max      4.170104    3.320538"
      ]
     },
     "execution_count": 26,
     "metadata": {},
     "output_type": "execute_result"
    }
   ],
   "source": [
    "df_results_train = pd.DataFrame(\n",
    "    data = np.hstack((\n",
    "    np.expand_dims(train_reals,1),train_preds\n",
    "    ))\n",
    "    ,columns = [\"true\",\"pred\"]\n",
    ")\n",
    "\n",
    "df_results_train.describe()"
   ]
  },
  {
   "cell_type": "code",
   "execution_count": 27,
   "id": "44f3be38-2a76-41f2-9f4a-95be6b25490b",
   "metadata": {},
   "outputs": [
    {
     "data": {
      "text/html": [
       "<div>\n",
       "<style scoped>\n",
       "    .dataframe tbody tr th:only-of-type {\n",
       "        vertical-align: middle;\n",
       "    }\n",
       "\n",
       "    .dataframe tbody tr th {\n",
       "        vertical-align: top;\n",
       "    }\n",
       "\n",
       "    .dataframe thead th {\n",
       "        text-align: right;\n",
       "    }\n",
       "</style>\n",
       "<table border=\"1\" class=\"dataframe\">\n",
       "  <thead>\n",
       "    <tr style=\"text-align: right;\">\n",
       "      <th></th>\n",
       "      <th>true</th>\n",
       "      <th>pred</th>\n",
       "    </tr>\n",
       "    <tr>\n",
       "      <th>pred_segment</th>\n",
       "      <th></th>\n",
       "      <th></th>\n",
       "    </tr>\n",
       "  </thead>\n",
       "  <tbody>\n",
       "    <tr>\n",
       "      <th>(-1.146, -1.004]</th>\n",
       "      <td>-0.848188</td>\n",
       "      <td>-1.056582</td>\n",
       "    </tr>\n",
       "    <tr>\n",
       "      <th>(-1.004, -0.84]</th>\n",
       "      <td>-0.739186</td>\n",
       "      <td>-0.920526</td>\n",
       "    </tr>\n",
       "    <tr>\n",
       "      <th>(-0.84, -0.744]</th>\n",
       "      <td>-0.628554</td>\n",
       "      <td>-0.789293</td>\n",
       "    </tr>\n",
       "    <tr>\n",
       "      <th>(-0.744, -0.587]</th>\n",
       "      <td>-0.495522</td>\n",
       "      <td>-0.663708</td>\n",
       "    </tr>\n",
       "    <tr>\n",
       "      <th>(-0.587, -0.429]</th>\n",
       "      <td>-0.345509</td>\n",
       "      <td>-0.507425</td>\n",
       "    </tr>\n",
       "    <tr>\n",
       "      <th>(-0.429, -0.26]</th>\n",
       "      <td>-0.120702</td>\n",
       "      <td>-0.341815</td>\n",
       "    </tr>\n",
       "    <tr>\n",
       "      <th>(-0.26, -0.129]</th>\n",
       "      <td>-0.028078</td>\n",
       "      <td>-0.200659</td>\n",
       "    </tr>\n",
       "    <tr>\n",
       "      <th>(-0.129, 0.294]</th>\n",
       "      <td>0.082469</td>\n",
       "      <td>0.014791</td>\n",
       "    </tr>\n",
       "    <tr>\n",
       "      <th>(0.294, 1.418]</th>\n",
       "      <td>0.588603</td>\n",
       "      <td>0.720341</td>\n",
       "    </tr>\n",
       "    <tr>\n",
       "      <th>(1.418, 3.321]</th>\n",
       "      <td>2.307800</td>\n",
       "      <td>2.328540</td>\n",
       "    </tr>\n",
       "  </tbody>\n",
       "</table>\n",
       "</div>"
      ],
      "text/plain": [
       "                      true      pred\n",
       "pred_segment                        \n",
       "(-1.146, -1.004] -0.848188 -1.056582\n",
       "(-1.004, -0.84]  -0.739186 -0.920526\n",
       "(-0.84, -0.744]  -0.628554 -0.789293\n",
       "(-0.744, -0.587] -0.495522 -0.663708\n",
       "(-0.587, -0.429] -0.345509 -0.507425\n",
       "(-0.429, -0.26]  -0.120702 -0.341815\n",
       "(-0.26, -0.129]  -0.028078 -0.200659\n",
       "(-0.129, 0.294]   0.082469  0.014791\n",
       "(0.294, 1.418]    0.588603  0.720341\n",
       "(1.418, 3.321]    2.307800  2.328540"
      ]
     },
     "execution_count": 27,
     "metadata": {},
     "output_type": "execute_result"
    }
   ],
   "source": [
    "df_results_train[\"pred_segment\"] = pd.qcut(df_results_train[\"pred\"],10)\n",
    "df_results_train.groupby(\"pred_segment\").mean()"
   ]
  },
  {
   "cell_type": "code",
   "execution_count": 28,
   "id": "25f8c965-2241-458d-bd98-f79a9a5b8de9",
   "metadata": {},
   "outputs": [
    {
     "data": {
      "text/plain": [
       "(0.22330055, 1.0028106)"
      ]
     },
     "execution_count": 28,
     "metadata": {},
     "output_type": "execute_result"
    }
   ],
   "source": [
    "mean_squared_error(df_results_train[\"true\"], df_results_train[\"pred\"]), df_results_train[\"true\"].var()"
   ]
  },
  {
   "cell_type": "code",
   "execution_count": 29,
   "id": "3b5a2f6a-10cb-4354-8ec2-188535bf86e5",
   "metadata": {},
   "outputs": [
    {
     "data": {
      "text/plain": [
       "(0.23818585, 0.7431162)"
      ]
     },
     "execution_count": 29,
     "metadata": {},
     "output_type": "execute_result"
    }
   ],
   "source": [
    "mean_absolute_error(df_results_train[\"true\"], df_results_train[\"pred\"]), (\n",
    "    df_results_train[\"true\"]-df_results_train[\"true\"].mean()\n",
    ").abs().mean()"
   ]
  },
  {
   "cell_type": "markdown",
   "id": "a8de3f01-dd60-4f6b-bf53-7b6fb50ab87a",
   "metadata": {},
   "source": [
    "## Test Predictions"
   ]
  },
  {
   "cell_type": "code",
   "execution_count": 30,
   "id": "4ca1102a-11e2-46b8-b0e4-232f0b8b6075",
   "metadata": {},
   "outputs": [],
   "source": [
    "test_ops = []\n",
    "with torch.no_grad():\n",
    "    for i, data in enumerate(test_set, 0):\n",
    "        b_size = data[0].size(0)\n",
    "        noise = torch.randn(b_size, nz, device=device)\n",
    "        # Generate fake image batch with G\n",
    "        gen_ip = torch.hstack((data[0],noise)).to(device)\n",
    "        fake = netG(gen_ip)\n",
    "        \n",
    "        test_ops.append(\n",
    "            (data[1].detach().cpu().numpy(), fake.detach().cpu().numpy())\n",
    "        )"
   ]
  },
  {
   "cell_type": "code",
   "execution_count": 31,
   "id": "a865a72b-bc48-4bbd-a185-ed30259d54c8",
   "metadata": {},
   "outputs": [],
   "source": [
    "test_reals = np.concatenate(list(x[0] for x in test_ops))\n",
    "test_preds = np.concatenate(list(x[1] for x in test_ops))"
   ]
  },
  {
   "cell_type": "code",
   "execution_count": 32,
   "id": "749677ba-6512-4ed3-8b27-979ac7f6b01c",
   "metadata": {},
   "outputs": [
    {
     "data": {
      "text/html": [
       "<div>\n",
       "<style scoped>\n",
       "    .dataframe tbody tr th:only-of-type {\n",
       "        vertical-align: middle;\n",
       "    }\n",
       "\n",
       "    .dataframe tbody tr th {\n",
       "        vertical-align: top;\n",
       "    }\n",
       "\n",
       "    .dataframe thead th {\n",
       "        text-align: right;\n",
       "    }\n",
       "</style>\n",
       "<table border=\"1\" class=\"dataframe\">\n",
       "  <thead>\n",
       "    <tr style=\"text-align: right;\">\n",
       "      <th></th>\n",
       "      <th>true</th>\n",
       "      <th>pred</th>\n",
       "    </tr>\n",
       "  </thead>\n",
       "  <tbody>\n",
       "    <tr>\n",
       "      <th>count</th>\n",
       "      <td>268.000000</td>\n",
       "      <td>268.000000</td>\n",
       "    </tr>\n",
       "    <tr>\n",
       "      <th>mean</th>\n",
       "      <td>0.065439</td>\n",
       "      <td>-0.075067</td>\n",
       "    </tr>\n",
       "    <tr>\n",
       "      <th>std</th>\n",
       "      <td>1.002904</td>\n",
       "      <td>0.989888</td>\n",
       "    </tr>\n",
       "    <tr>\n",
       "      <th>min</th>\n",
       "      <td>-1.002387</td>\n",
       "      <td>-1.162669</td>\n",
       "    </tr>\n",
       "    <tr>\n",
       "      <th>25%</th>\n",
       "      <td>-0.614853</td>\n",
       "      <td>-0.728155</td>\n",
       "    </tr>\n",
       "    <tr>\n",
       "      <th>50%</th>\n",
       "      <td>-0.259343</td>\n",
       "      <td>-0.361896</td>\n",
       "    </tr>\n",
       "    <tr>\n",
       "      <th>75%</th>\n",
       "      <td>0.461146</td>\n",
       "      <td>0.053259</td>\n",
       "    </tr>\n",
       "    <tr>\n",
       "      <th>max</th>\n",
       "      <td>3.457055</td>\n",
       "      <td>3.110346</td>\n",
       "    </tr>\n",
       "  </tbody>\n",
       "</table>\n",
       "</div>"
      ],
      "text/plain": [
       "             true        pred\n",
       "count  268.000000  268.000000\n",
       "mean     0.065439   -0.075067\n",
       "std      1.002904    0.989888\n",
       "min     -1.002387   -1.162669\n",
       "25%     -0.614853   -0.728155\n",
       "50%     -0.259343   -0.361896\n",
       "75%      0.461146    0.053259\n",
       "max      3.457055    3.110346"
      ]
     },
     "execution_count": 32,
     "metadata": {},
     "output_type": "execute_result"
    }
   ],
   "source": [
    "df_results = pd.DataFrame(\n",
    "    data = np.hstack((\n",
    "    np.expand_dims(test_reals,1),test_preds\n",
    "    ))\n",
    "    ,columns = [\"true\",\"pred\"]\n",
    ")\n",
    "\n",
    "df_results.describe()"
   ]
  },
  {
   "cell_type": "code",
   "execution_count": 33,
   "id": "452d1c07-874c-40f4-a2c2-300f4e5d437c",
   "metadata": {},
   "outputs": [
    {
     "data": {
      "text/html": [
       "<div>\n",
       "<style scoped>\n",
       "    .dataframe tbody tr th:only-of-type {\n",
       "        vertical-align: middle;\n",
       "    }\n",
       "\n",
       "    .dataframe tbody tr th {\n",
       "        vertical-align: top;\n",
       "    }\n",
       "\n",
       "    .dataframe thead th {\n",
       "        text-align: right;\n",
       "    }\n",
       "</style>\n",
       "<table border=\"1\" class=\"dataframe\">\n",
       "  <thead>\n",
       "    <tr style=\"text-align: right;\">\n",
       "      <th></th>\n",
       "      <th>true</th>\n",
       "      <th>pred</th>\n",
       "    </tr>\n",
       "    <tr>\n",
       "      <th>pred_segment</th>\n",
       "      <th></th>\n",
       "      <th></th>\n",
       "    </tr>\n",
       "  </thead>\n",
       "  <tbody>\n",
       "    <tr>\n",
       "      <th>(-1.164, -0.992]</th>\n",
       "      <td>-0.848734</td>\n",
       "      <td>-1.047700</td>\n",
       "    </tr>\n",
       "    <tr>\n",
       "      <th>(-0.992, -0.777]</th>\n",
       "      <td>-0.457990</td>\n",
       "      <td>-0.876035</td>\n",
       "    </tr>\n",
       "    <tr>\n",
       "      <th>(-0.777, -0.656]</th>\n",
       "      <td>-0.615260</td>\n",
       "      <td>-0.719510</td>\n",
       "    </tr>\n",
       "    <tr>\n",
       "      <th>(-0.656, -0.5]</th>\n",
       "      <td>-0.446812</td>\n",
       "      <td>-0.589671</td>\n",
       "    </tr>\n",
       "    <tr>\n",
       "      <th>(-0.5, -0.362]</th>\n",
       "      <td>-0.237280</td>\n",
       "      <td>-0.425717</td>\n",
       "    </tr>\n",
       "    <tr>\n",
       "      <th>(-0.362, -0.248]</th>\n",
       "      <td>-0.197087</td>\n",
       "      <td>-0.309105</td>\n",
       "    </tr>\n",
       "    <tr>\n",
       "      <th>(-0.248, -0.12]</th>\n",
       "      <td>-0.057081</td>\n",
       "      <td>-0.175289</td>\n",
       "    </tr>\n",
       "    <tr>\n",
       "      <th>(-0.12, 0.551]</th>\n",
       "      <td>0.308973</td>\n",
       "      <td>0.106932</td>\n",
       "    </tr>\n",
       "    <tr>\n",
       "      <th>(0.551, 1.481]</th>\n",
       "      <td>0.888345</td>\n",
       "      <td>0.911515</td>\n",
       "    </tr>\n",
       "    <tr>\n",
       "      <th>(1.481, 3.11]</th>\n",
       "      <td>2.293805</td>\n",
       "      <td>2.351135</td>\n",
       "    </tr>\n",
       "  </tbody>\n",
       "</table>\n",
       "</div>"
      ],
      "text/plain": [
       "                      true      pred\n",
       "pred_segment                        \n",
       "(-1.164, -0.992] -0.848734 -1.047700\n",
       "(-0.992, -0.777] -0.457990 -0.876035\n",
       "(-0.777, -0.656] -0.615260 -0.719510\n",
       "(-0.656, -0.5]   -0.446812 -0.589671\n",
       "(-0.5, -0.362]   -0.237280 -0.425717\n",
       "(-0.362, -0.248] -0.197087 -0.309105\n",
       "(-0.248, -0.12]  -0.057081 -0.175289\n",
       "(-0.12, 0.551]    0.308973  0.106932\n",
       "(0.551, 1.481]    0.888345  0.911515\n",
       "(1.481, 3.11]     2.293805  2.351135"
      ]
     },
     "execution_count": 33,
     "metadata": {},
     "output_type": "execute_result"
    }
   ],
   "source": [
    "df_results[\"pred_segment\"] = pd.qcut(df_results[\"pred\"],10)\n",
    "df_results.groupby(\"pred_segment\").mean()"
   ]
  },
  {
   "cell_type": "code",
   "execution_count": 34,
   "id": "0749ecba-0122-48d0-afc5-80b1b2bb408f",
   "metadata": {},
   "outputs": [
    {
     "data": {
      "text/plain": [
       "(0.22521718, 1.0058161)"
      ]
     },
     "execution_count": 34,
     "metadata": {},
     "output_type": "execute_result"
    }
   ],
   "source": [
    "mean_squared_error(df_results[\"true\"], df_results[\"pred\"]), df_results[\"true\"].var()"
   ]
  },
  {
   "cell_type": "code",
   "execution_count": 35,
   "id": "83577395-eba5-4a41-b391-e9dcc1eb2fc5",
   "metadata": {},
   "outputs": [
    {
     "data": {
      "text/plain": [
       "(0.25798935, 0.77412707)"
      ]
     },
     "execution_count": 35,
     "metadata": {},
     "output_type": "execute_result"
    }
   ],
   "source": [
    "mean_absolute_error(df_results[\"true\"], df_results[\"pred\"]), (\n",
    "    df_results[\"true\"]-df_results[\"true\"].mean()\n",
    ").abs().mean()"
   ]
  },
  {
   "cell_type": "markdown",
   "id": "70a4e314-b34b-48d7-8c96-cb001997eaaf",
   "metadata": {},
   "source": [
    "## Test Predictions (averaged)"
   ]
  },
  {
   "cell_type": "code",
   "execution_count": 36,
   "id": "e337d101-7e02-45c8-9c6f-ab824c4159f2",
   "metadata": {},
   "outputs": [],
   "source": [
    "N_SAMPLES = 100\n",
    "test_ops = []\n",
    "with torch.no_grad():\n",
    "    for i, data in enumerate(test_set, 0):\n",
    "        b_size = data[0].size(0)\n",
    "        fakes = []\n",
    "        for _ in range(N_SAMPLES):\n",
    "            noise = torch.randn(b_size, nz, device=device)\n",
    "            # Generate fake image batch with G\n",
    "            gen_ip = torch.hstack((data[0],noise)).to(device)\n",
    "            fake = netG(gen_ip).detach().cpu().numpy()\n",
    "            fakes.append(fake)\n",
    "\n",
    "        test_ops.append(\n",
    "            (data[1].detach().cpu().numpy(), sum(fakes)/len(fakes))\n",
    "        )\n",
    "# print(test_reals.shape,np.concatenate(list(x[0] for x in test_ops)).shape)\n",
    "# print(test_preds.shape,np.concatenate(list(x[1] for x in test_ops)).shape)\n",
    "test_reals = np.concatenate(list(x[0] for x in test_ops))\n",
    "test_preds = np.concatenate(list(x[1] for x in test_ops))\n"
   ]
  },
  {
   "cell_type": "code",
   "execution_count": 37,
   "id": "6af69937-27e8-4522-9b13-7a0b9cb9b98c",
   "metadata": {},
   "outputs": [
    {
     "data": {
      "text/html": [
       "<div>\n",
       "<style scoped>\n",
       "    .dataframe tbody tr th:only-of-type {\n",
       "        vertical-align: middle;\n",
       "    }\n",
       "\n",
       "    .dataframe tbody tr th {\n",
       "        vertical-align: top;\n",
       "    }\n",
       "\n",
       "    .dataframe thead th {\n",
       "        text-align: right;\n",
       "    }\n",
       "</style>\n",
       "<table border=\"1\" class=\"dataframe\">\n",
       "  <thead>\n",
       "    <tr style=\"text-align: right;\">\n",
       "      <th></th>\n",
       "      <th>true</th>\n",
       "      <th>pred</th>\n",
       "    </tr>\n",
       "  </thead>\n",
       "  <tbody>\n",
       "    <tr>\n",
       "      <th>count</th>\n",
       "      <td>268.000000</td>\n",
       "      <td>268.000000</td>\n",
       "    </tr>\n",
       "    <tr>\n",
       "      <th>mean</th>\n",
       "      <td>0.065439</td>\n",
       "      <td>-0.075420</td>\n",
       "    </tr>\n",
       "    <tr>\n",
       "      <th>std</th>\n",
       "      <td>1.002904</td>\n",
       "      <td>0.960518</td>\n",
       "    </tr>\n",
       "    <tr>\n",
       "      <th>min</th>\n",
       "      <td>-1.002387</td>\n",
       "      <td>-1.112745</td>\n",
       "    </tr>\n",
       "    <tr>\n",
       "      <th>25%</th>\n",
       "      <td>-0.614853</td>\n",
       "      <td>-0.688488</td>\n",
       "    </tr>\n",
       "    <tr>\n",
       "      <th>50%</th>\n",
       "      <td>-0.259343</td>\n",
       "      <td>-0.350547</td>\n",
       "    </tr>\n",
       "    <tr>\n",
       "      <th>75%</th>\n",
       "      <td>0.461146</td>\n",
       "      <td>-0.004276</td>\n",
       "    </tr>\n",
       "    <tr>\n",
       "      <th>max</th>\n",
       "      <td>3.457055</td>\n",
       "      <td>2.957417</td>\n",
       "    </tr>\n",
       "  </tbody>\n",
       "</table>\n",
       "</div>"
      ],
      "text/plain": [
       "             true        pred\n",
       "count  268.000000  268.000000\n",
       "mean     0.065439   -0.075420\n",
       "std      1.002904    0.960518\n",
       "min     -1.002387   -1.112745\n",
       "25%     -0.614853   -0.688488\n",
       "50%     -0.259343   -0.350547\n",
       "75%      0.461146   -0.004276\n",
       "max      3.457055    2.957417"
      ]
     },
     "execution_count": 37,
     "metadata": {},
     "output_type": "execute_result"
    }
   ],
   "source": [
    "df_results = pd.DataFrame(\n",
    "    data = np.hstack((\n",
    "    np.expand_dims(test_reals,1),test_preds\n",
    "    ))\n",
    "    ,columns = [\"true\",\"pred\"]\n",
    ")\n",
    "\n",
    "df_results.describe()"
   ]
  },
  {
   "cell_type": "code",
   "execution_count": 38,
   "id": "a0bde69f-ca9d-4791-b5a3-65d00e879116",
   "metadata": {},
   "outputs": [
    {
     "data": {
      "text/html": [
       "<div>\n",
       "<style scoped>\n",
       "    .dataframe tbody tr th:only-of-type {\n",
       "        vertical-align: middle;\n",
       "    }\n",
       "\n",
       "    .dataframe tbody tr th {\n",
       "        vertical-align: top;\n",
       "    }\n",
       "\n",
       "    .dataframe thead th {\n",
       "        text-align: right;\n",
       "    }\n",
       "</style>\n",
       "<table border=\"1\" class=\"dataframe\">\n",
       "  <thead>\n",
       "    <tr style=\"text-align: right;\">\n",
       "      <th></th>\n",
       "      <th>true</th>\n",
       "      <th>pred</th>\n",
       "    </tr>\n",
       "    <tr>\n",
       "      <th>pred_segment</th>\n",
       "      <th></th>\n",
       "      <th></th>\n",
       "    </tr>\n",
       "  </thead>\n",
       "  <tbody>\n",
       "    <tr>\n",
       "      <th>(-1.1139999999999999, -0.915]</th>\n",
       "      <td>-0.824444</td>\n",
       "      <td>-0.998751</td>\n",
       "    </tr>\n",
       "    <tr>\n",
       "      <th>(-0.915, -0.754]</th>\n",
       "      <td>-0.723079</td>\n",
       "      <td>-0.839231</td>\n",
       "    </tr>\n",
       "    <tr>\n",
       "      <th>(-0.754, -0.649]</th>\n",
       "      <td>-0.393213</td>\n",
       "      <td>-0.689482</td>\n",
       "    </tr>\n",
       "    <tr>\n",
       "      <th>(-0.649, -0.514]</th>\n",
       "      <td>-0.484275</td>\n",
       "      <td>-0.574691</td>\n",
       "    </tr>\n",
       "    <tr>\n",
       "      <th>(-0.514, -0.351]</th>\n",
       "      <td>-0.269800</td>\n",
       "      <td>-0.415017</td>\n",
       "    </tr>\n",
       "    <tr>\n",
       "      <th>(-0.351, -0.229]</th>\n",
       "      <td>-0.182758</td>\n",
       "      <td>-0.284355</td>\n",
       "    </tr>\n",
       "    <tr>\n",
       "      <th>(-0.229, -0.0794]</th>\n",
       "      <td>-0.131820</td>\n",
       "      <td>-0.154136</td>\n",
       "    </tr>\n",
       "    <tr>\n",
       "      <th>(-0.0794, 0.302]</th>\n",
       "      <td>0.292372</td>\n",
       "      <td>0.029870</td>\n",
       "    </tr>\n",
       "    <tr>\n",
       "      <th>(0.302, 1.435]</th>\n",
       "      <td>1.028310</td>\n",
       "      <td>0.824727</td>\n",
       "    </tr>\n",
       "    <tr>\n",
       "      <th>(1.435, 2.957]</th>\n",
       "      <td>2.315430</td>\n",
       "      <td>2.325458</td>\n",
       "    </tr>\n",
       "  </tbody>\n",
       "</table>\n",
       "</div>"
      ],
      "text/plain": [
       "                                   true      pred\n",
       "pred_segment                                     \n",
       "(-1.1139999999999999, -0.915] -0.824444 -0.998751\n",
       "(-0.915, -0.754]              -0.723079 -0.839231\n",
       "(-0.754, -0.649]              -0.393213 -0.689482\n",
       "(-0.649, -0.514]              -0.484275 -0.574691\n",
       "(-0.514, -0.351]              -0.269800 -0.415017\n",
       "(-0.351, -0.229]              -0.182758 -0.284355\n",
       "(-0.229, -0.0794]             -0.131820 -0.154136\n",
       "(-0.0794, 0.302]               0.292372  0.029870\n",
       "(0.302, 1.435]                 1.028310  0.824727\n",
       "(1.435, 2.957]                 2.315430  2.325458"
      ]
     },
     "execution_count": 38,
     "metadata": {},
     "output_type": "execute_result"
    }
   ],
   "source": [
    "df_results[\"pred_segment\"] = pd.qcut(df_results[\"pred\"],10)\n",
    "df_results.groupby(\"pred_segment\").mean()"
   ]
  },
  {
   "cell_type": "code",
   "execution_count": 39,
   "id": "aaf071eb-b503-466a-acb7-93ccb7900327",
   "metadata": {},
   "outputs": [
    {
     "data": {
      "text/plain": [
       "(0.18212707, 1.0058161)"
      ]
     },
     "execution_count": 39,
     "metadata": {},
     "output_type": "execute_result"
    }
   ],
   "source": [
    "mean_squared_error(df_results[\"true\"], df_results[\"pred\"]), df_results[\"true\"].var()"
   ]
  },
  {
   "cell_type": "code",
   "execution_count": 40,
   "id": "f5f7b44a-9744-4ec0-ac41-be8affff1978",
   "metadata": {},
   "outputs": [
    {
     "data": {
      "text/plain": [
       "(0.19808272, 0.7741271)"
      ]
     },
     "execution_count": 40,
     "metadata": {},
     "output_type": "execute_result"
    }
   ],
   "source": [
    "mean_absolute_error(df_results[\"true\"], df_results[\"pred\"]), (\n",
    "    df_results[\"true\"]-df_results[\"true\"].mean()\n",
    ").abs().mean()"
   ]
  },
  {
   "cell_type": "markdown",
   "id": "823b7d09-da4c-4cc9-b4e9-41b72372680d",
   "metadata": {},
   "source": [
    "# MSE model"
   ]
  },
  {
   "cell_type": "markdown",
   "id": "22487c57-e28b-4550-bf56-32373c376ef4",
   "metadata": {},
   "source": [
    "### Define ANN Architecture"
   ]
  },
  {
   "cell_type": "code",
   "execution_count": 41,
   "id": "d13b07ed-0693-485d-8ab3-e30aad6e4df7",
   "metadata": {},
   "outputs": [],
   "source": [
    "# Batch size during training\n",
    "batch_size = 64\n",
    "\n",
    "# Number of training epochs\n",
    "num_epochs = 20\n",
    "\n",
    "# Learning rate for optimizers\n",
    "lr = 0.002\n",
    "# lr = 0.0002\n",
    "\n",
    "# Beta1 hyperparam for Adam optimizers\n",
    "beta1 = 0.5\n",
    "\n",
    "# width of the network\n",
    "network_width = 128"
   ]
  },
  {
   "cell_type": "code",
   "execution_count": 42,
   "id": "aaa28fce-9fe5-468c-94da-b6fcb35460a6",
   "metadata": {},
   "outputs": [],
   "source": [
    "# create train and test indices\n",
    "train, test = train_test_split(list(range(x.shape[0])), test_size=.2)\n",
    "train, val = train_test_split(train, test_size=.25)"
   ]
  },
  {
   "cell_type": "code",
   "execution_count": 43,
   "id": "fd9f3f82-7ae6-405b-ae6e-d79c4a39a52f",
   "metadata": {},
   "outputs": [],
   "source": [
    "# https://gist.github.com/conormm/5b26a08029b900520bcd6fcd1f5712a0\n",
    "class PrepareData(torch.utils.data.Dataset):\n",
    "\n",
    "    def __init__(self, X, y, scale_X=True):\n",
    "        if not torch.is_tensor(X):\n",
    "            if scale_X:\n",
    "                X = StandardScaler().fit_transform(X)\n",
    "            self.X = torch.from_numpy(X).float()\n",
    "        else:\n",
    "            self.X = X.float32()\n",
    "        if not torch.is_tensor(y):\n",
    "            self.y = torch.from_numpy(y).float()\n",
    "        else:\n",
    "            self.y = y.float32()\n",
    "\n",
    "    def __len__(self):\n",
    "        return len(self.X)\n",
    "\n",
    "    def __getitem__(self, idx):\n",
    "        return self.X[idx], self.y[idx]\n",
    "\n",
    "ds = PrepareData(x, y=y, scale_X=False)\n",
    "\n",
    "train_set = torch.utils.data.DataLoader(ds, batch_size=batch_size,\n",
    "                       sampler=SubsetRandomSampler(train))\n",
    "val_set = torch.utils.data.DataLoader(ds, batch_size=batch_size,\n",
    "                       sampler=SubsetRandomSampler(val))\n",
    "test_set = torch.utils.data.DataLoader(ds, batch_size=batch_size,\n",
    "                      sampler=SubsetRandomSampler(test))"
   ]
  },
  {
   "cell_type": "code",
   "execution_count": 44,
   "id": "8b824b04-a5dd-4efa-93bd-f69bcc020da7",
   "metadata": {
    "collapsed": false,
    "jupyter": {
     "outputs_hidden": false
    }
   },
   "outputs": [],
   "source": [
    "# Generator Code\n",
    "\n",
    "class Generator(nn.Module):\n",
    "    def __init__(self, ngpu):\n",
    "        super(Generator, self).__init__()\n",
    "        self.ngpu = ngpu\n",
    "        self.main = nn.Sequential(\n",
    "            # input is Z, going into a convolution\n",
    "            nn.Linear( n_feats, network_width, bias=True),\n",
    "            nn.ReLU(True),\n",
    "\n",
    "            nn.Linear( network_width, network_width, bias=True),\n",
    "            nn.ReLU(True),\n",
    "\n",
    "            nn.Linear( network_width, 1, bias=True)\n",
    "\n",
    "        )\n",
    "\n",
    "    def forward(self, input):\n",
    "        return self.main(input)"
   ]
  },
  {
   "cell_type": "code",
   "execution_count": 45,
   "id": "9e502a43-8064-47ee-a5f6-c079e748eaf7",
   "metadata": {},
   "outputs": [
    {
     "name": "stdout",
     "output_type": "stream",
     "text": [
      "Generator(\n",
      "  (main): Sequential(\n",
      "    (0): Linear(in_features=11, out_features=128, bias=True)\n",
      "    (1): ReLU(inplace=True)\n",
      "    (2): Linear(in_features=128, out_features=128, bias=True)\n",
      "    (3): ReLU(inplace=True)\n",
      "    (4): Linear(in_features=128, out_features=1, bias=True)\n",
      "  )\n",
      ")\n"
     ]
    }
   ],
   "source": [
    "# Create the generator\n",
    "netG = Generator(ngpu).to(device)\n",
    "\n",
    "# Print the model\n",
    "print(netG)"
   ]
  },
  {
   "cell_type": "code",
   "execution_count": 46,
   "id": "76988db6-8b64-4100-ae37-b0752af715ca",
   "metadata": {
    "collapsed": false,
    "jupyter": {
     "outputs_hidden": false
    }
   },
   "outputs": [],
   "source": [
    "# Initialize MSELoss function\n",
    "criterion = nn.MSELoss()\n",
    "\n",
    "# Setup Adam optimizers for G\n",
    "optimizerG = optim.Adam(netG.parameters(), lr=lr, betas=(beta1, 0.999))"
   ]
  },
  {
   "cell_type": "code",
   "execution_count": 47,
   "id": "6158298d-b54b-4ad0-95a1-844037b8f54a",
   "metadata": {},
   "outputs": [
    {
     "name": "stdout",
     "output_type": "stream",
     "text": [
      "Starting Training Loop...\n",
      "[0/20][0/13]\tLoss_D: 0.0000\tLoss_G: 0.8212\tD(x): 0.0000\tD(G(z)): 0.0000 / -0.0570\n",
      "[1/20][0/13]\tLoss_D: 0.0000\tLoss_G: 0.3716\tD(x): 0.0000\tD(G(z)): 0.0000 / -0.0914\n",
      "[2/20][0/13]\tLoss_D: 0.0000\tLoss_G: 0.1495\tD(x): 0.0000\tD(G(z)): 0.0000 / -0.2093\n",
      "[3/20][0/13]\tLoss_D: 0.0000\tLoss_G: 0.2309\tD(x): 0.0000\tD(G(z)): 0.0000 / -0.1713\n",
      "[4/20][0/13]\tLoss_D: 0.0000\tLoss_G: 0.2480\tD(x): 0.0000\tD(G(z)): 0.0000 / -0.0304\n",
      "[5/20][0/13]\tLoss_D: 0.0000\tLoss_G: 0.1754\tD(x): 0.0000\tD(G(z)): 0.0000 / 0.1917\n",
      "[6/20][0/13]\tLoss_D: 0.0000\tLoss_G: 0.1755\tD(x): 0.0000\tD(G(z)): 0.0000 / 0.0922\n",
      "[7/20][0/13]\tLoss_D: 0.0000\tLoss_G: 0.0695\tD(x): 0.0000\tD(G(z)): 0.0000 / -0.1401\n",
      "[8/20][0/13]\tLoss_D: 0.0000\tLoss_G: 0.1173\tD(x): 0.0000\tD(G(z)): 0.0000 / -0.1920\n",
      "[9/20][0/13]\tLoss_D: 0.0000\tLoss_G: 0.2424\tD(x): 0.0000\tD(G(z)): 0.0000 / 0.2158\n",
      "[10/20][0/13]\tLoss_D: 0.0000\tLoss_G: 0.1964\tD(x): 0.0000\tD(G(z)): 0.0000 / -0.1580\n",
      "[11/20][0/13]\tLoss_D: 0.0000\tLoss_G: 0.1661\tD(x): 0.0000\tD(G(z)): 0.0000 / 0.0515\n",
      "[12/20][0/13]\tLoss_D: 0.0000\tLoss_G: 0.2359\tD(x): 0.0000\tD(G(z)): 0.0000 / -0.1372\n",
      "[13/20][0/13]\tLoss_D: 0.0000\tLoss_G: 0.1013\tD(x): 0.0000\tD(G(z)): 0.0000 / -0.2306\n",
      "[14/20][0/13]\tLoss_D: 0.0000\tLoss_G: 0.1459\tD(x): 0.0000\tD(G(z)): 0.0000 / 0.0111\n",
      "[15/20][0/13]\tLoss_D: 0.0000\tLoss_G: 0.0698\tD(x): 0.0000\tD(G(z)): 0.0000 / 0.1190\n",
      "[16/20][0/13]\tLoss_D: 0.0000\tLoss_G: 0.1722\tD(x): 0.0000\tD(G(z)): 0.0000 / -0.2080\n",
      "[17/20][0/13]\tLoss_D: 0.0000\tLoss_G: 0.1111\tD(x): 0.0000\tD(G(z)): 0.0000 / -0.2088\n",
      "[18/20][0/13]\tLoss_D: 0.0000\tLoss_G: 0.1745\tD(x): 0.0000\tD(G(z)): 0.0000 / 0.0874\n",
      "[19/20][0/13]\tLoss_D: 0.0000\tLoss_G: 0.1128\tD(x): 0.0000\tD(G(z)): 0.0000 / -0.0021\n"
     ]
    }
   ],
   "source": [
    "# Training Loop\n",
    "\n",
    "# Lists to keep track of progress\n",
    "img_list = []\n",
    "G_losses = []\n",
    "D_losses = []\n",
    "iters = 0\n",
    "\n",
    "G_losses_val = []\n",
    "D_losses_val = []\n",
    "\n",
    "print(\"Starting Training Loop...\")\n",
    "# For each epoch\n",
    "for epoch in range(num_epochs):\n",
    "    # For each batch in the dataloader\n",
    "    for i, data in enumerate(train_set, 0):\n",
    "        \n",
    "        b_size = data[0].size(0)\n",
    "\n",
    "        ############################\n",
    "        # Update G network: maximize log(D(G(z)))\n",
    "        ###########################\n",
    "        netG.zero_grad()\n",
    "        label = data[1]  # fake labels are real for generator cost\n",
    "        # Since we just updated D, perform another forward pass of all-fake batch through D\n",
    "        output = netG(data[0]).view(-1)\n",
    "        # Calculate G's loss based on this output\n",
    "        errG = criterion(output, label)\n",
    "        # Calculate gradients for G\n",
    "        errG.backward()\n",
    "        D_G_z2 = output.mean().item()\n",
    "        # Update G\n",
    "        optimizerG.step()\n",
    "        \n",
    "        # Output training stats\n",
    "        if i % 500 == 0:\n",
    "            print('[%d/%d][%d/%d]\\tLoss_D: %.4f\\tLoss_G: %.4f\\tD(x): %.4f\\tD(G(z)): %.4f / %.4f'\n",
    "                  % (epoch, num_epochs, i, len(train_set),\n",
    "                     0, errG.item(), 0, 0, D_G_z2))\n",
    "                \n",
    "        # Output validation stats\n",
    "        if i % 100 == 0:\n",
    "            with torch.no_grad():\n",
    "                errG_vals = []\n",
    "                for i, data in enumerate(val_set, 0):\n",
    "                    b_size = data[0].size(0)\n",
    "                    output = netG(data[0]).view(-1)\n",
    "\n",
    "                    label = data[1] # fake labels are real for generator cost\n",
    "                    errG_val = criterion(output, label)  \n",
    "\n",
    "                    errG_vals.append(errG_val.item())\n",
    "            G_losses_val.append(sum(errG_vals)/len(errG_vals))\n",
    "        \n",
    "        \n",
    "        # Save Losses for plotting later\n",
    "        G_losses.append(errG.item())\n",
    "      \n",
    "        iters += 1"
   ]
  },
  {
   "cell_type": "code",
   "execution_count": 48,
   "id": "df50ab14-072b-4b78-985c-d1b0633b988e",
   "metadata": {},
   "outputs": [
    {
     "data": {
      "image/png": "[encoded data removed]",
      "text/plain": [
       "<Figure size 720x360 with 1 Axes>"
      ]
     },
     "metadata": {
      "needs_background": "light"
     },
     "output_type": "display_data"
    }
   ],
   "source": [
    "plt.figure(figsize=(10,5))\n",
    "plt.title(\"MSE Loss During Training\")\n",
    "plt.plot(G_losses,label=\"train set\")\n",
    "# plt.plot(G_losses_val,label=\"val set\")\n",
    "plt.xlabel(\"iterations\")\n",
    "plt.ylabel(\"Loss\")\n",
    "plt.legend()\n",
    "plt.show()"
   ]
  },
  {
   "cell_type": "code",
   "execution_count": 49,
   "id": "db098dc2-0bb7-422e-8b8c-537ae110fc7a",
   "metadata": {},
   "outputs": [
    {
     "data": {
      "image/png": "[encoded data removed]",
      "text/plain": [
       "<Figure size 720x360 with 1 Axes>"
      ]
     },
     "metadata": {
      "needs_background": "light"
     },
     "output_type": "display_data"
    }
   ],
   "source": [
    "plt.figure(figsize=(10,5))\n",
    "plt.title(\"MSE Loss During Training\")\n",
    "# plt.plot(G_losses,label=\"train set\")\n",
    "plt.plot(G_losses_val,label=\"val set\")\n",
    "plt.xlabel(\"iterations\")\n",
    "plt.ylabel(\"Loss\")\n",
    "plt.legend()\n",
    "plt.show()"
   ]
  },
  {
   "cell_type": "markdown",
   "id": "52931377-c919-4d70-ad9c-b5f878a8c0b6",
   "metadata": {},
   "source": [
    "## Train Predictions"
   ]
  },
  {
   "cell_type": "code",
   "execution_count": 50,
   "id": "6ff89129-9603-4246-82e4-b6df87eff588",
   "metadata": {},
   "outputs": [],
   "source": [
    "train_ops = []\n",
    "with torch.no_grad():\n",
    "    for i, data in enumerate(train_set, 0):\n",
    "        b_size = data[0].size(0)\n",
    "        # Generate fake image batch with G\n",
    "        fake = netG(data[0])\n",
    "        \n",
    "        train_ops.append(\n",
    "            (data[1].detach().cpu().numpy(), fake.detach().cpu().numpy())\n",
    "        )"
   ]
  },
  {
   "cell_type": "code",
   "execution_count": 51,
   "id": "ab9642d9-71ae-4b01-98d7-202c2a96789c",
   "metadata": {},
   "outputs": [],
   "source": [
    "train_reals = np.concatenate(list(x[0] for x in train_ops))\n",
    "train_preds = np.concatenate(list(x[1] for x in train_ops))"
   ]
  },
  {
   "cell_type": "code",
   "execution_count": 52,
   "id": "20a5fc0d-a7c8-4c80-8e0e-6914e65c06db",
   "metadata": {},
   "outputs": [
    {
     "data": {
      "text/html": [
       "<div>\n",
       "<style scoped>\n",
       "    .dataframe tbody tr th:only-of-type {\n",
       "        vertical-align: middle;\n",
       "    }\n",
       "\n",
       "    .dataframe tbody tr th {\n",
       "        vertical-align: top;\n",
       "    }\n",
       "\n",
       "    .dataframe thead th {\n",
       "        text-align: right;\n",
       "    }\n",
       "</style>\n",
       "<table border=\"1\" class=\"dataframe\">\n",
       "  <thead>\n",
       "    <tr style=\"text-align: right;\">\n",
       "      <th></th>\n",
       "      <th>true</th>\n",
       "      <th>pred</th>\n",
       "    </tr>\n",
       "  </thead>\n",
       "  <tbody>\n",
       "    <tr>\n",
       "      <th>count</th>\n",
       "      <td>802.000000</td>\n",
       "      <td>802.000000</td>\n",
       "    </tr>\n",
       "    <tr>\n",
       "      <th>mean</th>\n",
       "      <td>-0.016723</td>\n",
       "      <td>0.086741</td>\n",
       "    </tr>\n",
       "    <tr>\n",
       "      <th>std</th>\n",
       "      <td>0.990411</td>\n",
       "      <td>0.951580</td>\n",
       "    </tr>\n",
       "    <tr>\n",
       "      <th>min</th>\n",
       "      <td>-1.002387</td>\n",
       "      <td>-0.987533</td>\n",
       "    </tr>\n",
       "    <tr>\n",
       "      <th>25%</th>\n",
       "      <td>-0.710780</td>\n",
       "      <td>-0.524221</td>\n",
       "    </tr>\n",
       "    <tr>\n",
       "      <th>50%</th>\n",
       "      <td>-0.351142</td>\n",
       "      <td>-0.203252</td>\n",
       "    </tr>\n",
       "    <tr>\n",
       "      <th>75%</th>\n",
       "      <td>0.242684</td>\n",
       "      <td>0.189137</td>\n",
       "    </tr>\n",
       "    <tr>\n",
       "      <th>max</th>\n",
       "      <td>3.860523</td>\n",
       "      <td>3.283279</td>\n",
       "    </tr>\n",
       "  </tbody>\n",
       "</table>\n",
       "</div>"
      ],
      "text/plain": [
       "             true        pred\n",
       "count  802.000000  802.000000\n",
       "mean    -0.016723    0.086741\n",
       "std      0.990411    0.951580\n",
       "min     -1.002387   -0.987533\n",
       "25%     -0.710780   -0.524221\n",
       "50%     -0.351142   -0.203252\n",
       "75%      0.242684    0.189137\n",
       "max      3.860523    3.283279"
      ]
     },
     "execution_count": 52,
     "metadata": {},
     "output_type": "execute_result"
    }
   ],
   "source": [
    "df_results_train = pd.DataFrame(\n",
    "    data = np.hstack((\n",
    "    np.expand_dims(train_reals,1),train_preds\n",
    "    ))\n",
    "    ,columns = [\"true\",\"pred\"]\n",
    ")\n",
    "\n",
    "df_results_train.describe()"
   ]
  },
  {
   "cell_type": "code",
   "execution_count": 53,
   "id": "1bc61b29-de45-4f58-8abb-6996278bf346",
   "metadata": {},
   "outputs": [
    {
     "data": {
      "text/html": [
       "<div>\n",
       "<style scoped>\n",
       "    .dataframe tbody tr th:only-of-type {\n",
       "        vertical-align: middle;\n",
       "    }\n",
       "\n",
       "    .dataframe tbody tr th {\n",
       "        vertical-align: top;\n",
       "    }\n",
       "\n",
       "    .dataframe thead th {\n",
       "        text-align: right;\n",
       "    }\n",
       "</style>\n",
       "<table border=\"1\" class=\"dataframe\">\n",
       "  <thead>\n",
       "    <tr style=\"text-align: right;\">\n",
       "      <th></th>\n",
       "      <th>true</th>\n",
       "      <th>pred</th>\n",
       "    </tr>\n",
       "    <tr>\n",
       "      <th>pred_segment</th>\n",
       "      <th></th>\n",
       "      <th></th>\n",
       "    </tr>\n",
       "  </thead>\n",
       "  <tbody>\n",
       "    <tr>\n",
       "      <th>(-0.989, -0.702]</th>\n",
       "      <td>-0.876809</td>\n",
       "      <td>-0.794338</td>\n",
       "    </tr>\n",
       "    <tr>\n",
       "      <th>(-0.702, -0.585]</th>\n",
       "      <td>-0.800366</td>\n",
       "      <td>-0.640353</td>\n",
       "    </tr>\n",
       "    <tr>\n",
       "      <th>(-0.585, -0.485]</th>\n",
       "      <td>-0.564334</td>\n",
       "      <td>-0.527849</td>\n",
       "    </tr>\n",
       "    <tr>\n",
       "      <th>(-0.485, -0.341]</th>\n",
       "      <td>-0.511458</td>\n",
       "      <td>-0.415145</td>\n",
       "    </tr>\n",
       "    <tr>\n",
       "      <th>(-0.341, -0.203]</th>\n",
       "      <td>-0.386895</td>\n",
       "      <td>-0.276039</td>\n",
       "    </tr>\n",
       "    <tr>\n",
       "      <th>(-0.203, -0.0698]</th>\n",
       "      <td>-0.232238</td>\n",
       "      <td>-0.143276</td>\n",
       "    </tr>\n",
       "    <tr>\n",
       "      <th>(-0.0698, 0.107]</th>\n",
       "      <td>-0.075603</td>\n",
       "      <td>0.010589</td>\n",
       "    </tr>\n",
       "    <tr>\n",
       "      <th>(0.107, 0.421]</th>\n",
       "      <td>0.122715</td>\n",
       "      <td>0.222457</td>\n",
       "    </tr>\n",
       "    <tr>\n",
       "      <th>(0.421, 1.646]</th>\n",
       "      <td>0.796159</td>\n",
       "      <td>0.902864</td>\n",
       "    </tr>\n",
       "    <tr>\n",
       "      <th>(1.646, 3.283]</th>\n",
       "      <td>2.342856</td>\n",
       "      <td>2.509231</td>\n",
       "    </tr>\n",
       "  </tbody>\n",
       "</table>\n",
       "</div>"
      ],
      "text/plain": [
       "                       true      pred\n",
       "pred_segment                         \n",
       "(-0.989, -0.702]  -0.876809 -0.794338\n",
       "(-0.702, -0.585]  -0.800366 -0.640353\n",
       "(-0.585, -0.485]  -0.564334 -0.527849\n",
       "(-0.485, -0.341]  -0.511458 -0.415145\n",
       "(-0.341, -0.203]  -0.386895 -0.276039\n",
       "(-0.203, -0.0698] -0.232238 -0.143276\n",
       "(-0.0698, 0.107]  -0.075603  0.010589\n",
       "(0.107, 0.421]     0.122715  0.222457\n",
       "(0.421, 1.646]     0.796159  0.902864\n",
       "(1.646, 3.283]     2.342856  2.509231"
      ]
     },
     "execution_count": 53,
     "metadata": {},
     "output_type": "execute_result"
    }
   ],
   "source": [
    "df_results_train[\"pred_segment\"] = pd.qcut(df_results_train[\"pred\"],10)\n",
    "df_results_train.groupby(\"pred_segment\").mean()"
   ]
  },
  {
   "cell_type": "code",
   "execution_count": 54,
   "id": "3442262d-8359-4ef1-bc4d-65f9957ad705",
   "metadata": {},
   "outputs": [
    {
     "data": {
      "text/plain": [
       "(0.12642533, 0.9809145)"
      ]
     },
     "execution_count": 54,
     "metadata": {},
     "output_type": "execute_result"
    }
   ],
   "source": [
    "mean_squared_error(df_results_train[\"true\"], df_results_train[\"pred\"]), df_results_train[\"true\"].var()"
   ]
  },
  {
   "cell_type": "code",
   "execution_count": 55,
   "id": "5bcd291a-c786-4d7b-aca3-eac7f331f385",
   "metadata": {},
   "outputs": [
    {
     "data": {
      "text/plain": [
       "(0.25807896, 0.7440123)"
      ]
     },
     "execution_count": 55,
     "metadata": {},
     "output_type": "execute_result"
    }
   ],
   "source": [
    "mean_absolute_error(df_results_train[\"true\"], df_results_train[\"pred\"]), (\n",
    "    df_results_train[\"true\"]-df_results_train[\"true\"].mean()\n",
    ").abs().mean()"
   ]
  },
  {
   "cell_type": "markdown",
   "id": "81f2437b-d19c-43ec-a56f-97df0a974335",
   "metadata": {},
   "source": [
    "## Test Predictions"
   ]
  },
  {
   "cell_type": "code",
   "execution_count": 56,
   "id": "2e26e7b9-03f6-467b-9d66-02bfb1144307",
   "metadata": {},
   "outputs": [],
   "source": [
    "test_ops = []\n",
    "with torch.no_grad():\n",
    "    for i, data in enumerate(test_set, 0):\n",
    "        b_size = data[0].size(0)\n",
    "        # Generate fake image batch with G\n",
    "        gen_ip = data[0] \n",
    "        fake = netG(gen_ip)\n",
    "        \n",
    "        test_ops.append(\n",
    "            (data[1].detach().cpu().numpy(), fake.detach().cpu().numpy())\n",
    "        )"
   ]
  },
  {
   "cell_type": "code",
   "execution_count": 57,
   "id": "4bf93a27-356d-44b8-975d-0ed0480a3692",
   "metadata": {},
   "outputs": [],
   "source": [
    "test_reals = np.concatenate(list(x[0] for x in test_ops))\n",
    "test_preds = np.concatenate(list(x[1] for x in test_ops))"
   ]
  },
  {
   "cell_type": "code",
   "execution_count": 58,
   "id": "a5b18860-0bcf-43f1-b12e-99fd2ea98a0b",
   "metadata": {},
   "outputs": [
    {
     "data": {
      "text/html": [
       "<div>\n",
       "<style scoped>\n",
       "    .dataframe tbody tr th:only-of-type {\n",
       "        vertical-align: middle;\n",
       "    }\n",
       "\n",
       "    .dataframe tbody tr th {\n",
       "        vertical-align: top;\n",
       "    }\n",
       "\n",
       "    .dataframe thead th {\n",
       "        text-align: right;\n",
       "    }\n",
       "</style>\n",
       "<table border=\"1\" class=\"dataframe\">\n",
       "  <thead>\n",
       "    <tr style=\"text-align: right;\">\n",
       "      <th></th>\n",
       "      <th>true</th>\n",
       "      <th>pred</th>\n",
       "    </tr>\n",
       "  </thead>\n",
       "  <tbody>\n",
       "    <tr>\n",
       "      <th>count</th>\n",
       "      <td>268.000000</td>\n",
       "      <td>268.000000</td>\n",
       "    </tr>\n",
       "    <tr>\n",
       "      <th>mean</th>\n",
       "      <td>-0.010279</td>\n",
       "      <td>0.129220</td>\n",
       "    </tr>\n",
       "    <tr>\n",
       "      <th>std</th>\n",
       "      <td>0.997585</td>\n",
       "      <td>0.992955</td>\n",
       "    </tr>\n",
       "    <tr>\n",
       "      <th>min</th>\n",
       "      <td>-1.001894</td>\n",
       "      <td>-0.976770</td>\n",
       "    </tr>\n",
       "    <tr>\n",
       "      <th>25%</th>\n",
       "      <td>-0.711990</td>\n",
       "      <td>-0.531245</td>\n",
       "    </tr>\n",
       "    <tr>\n",
       "      <th>50%</th>\n",
       "      <td>-0.286602</td>\n",
       "      <td>-0.154477</td>\n",
       "    </tr>\n",
       "    <tr>\n",
       "      <th>75%</th>\n",
       "      <td>0.239351</td>\n",
       "      <td>0.363726</td>\n",
       "    </tr>\n",
       "    <tr>\n",
       "      <th>max</th>\n",
       "      <td>3.246934</td>\n",
       "      <td>3.318184</td>\n",
       "    </tr>\n",
       "  </tbody>\n",
       "</table>\n",
       "</div>"
      ],
      "text/plain": [
       "             true        pred\n",
       "count  268.000000  268.000000\n",
       "mean    -0.010279    0.129220\n",
       "std      0.997585    0.992955\n",
       "min     -1.001894   -0.976770\n",
       "25%     -0.711990   -0.531245\n",
       "50%     -0.286602   -0.154477\n",
       "75%      0.239351    0.363726\n",
       "max      3.246934    3.318184"
      ]
     },
     "execution_count": 58,
     "metadata": {},
     "output_type": "execute_result"
    }
   ],
   "source": [
    "df_results = pd.DataFrame(\n",
    "    data = np.hstack((\n",
    "    np.expand_dims(test_reals,1),test_preds\n",
    "    ))\n",
    "    ,columns = [\"true\",\"pred\"]\n",
    ")\n",
    "\n",
    "df_results.describe()"
   ]
  },
  {
   "cell_type": "code",
   "execution_count": 59,
   "id": "56d8559d-4194-446f-b201-b3245bc31aab",
   "metadata": {},
   "outputs": [
    {
     "data": {
      "text/html": [
       "<div>\n",
       "<style scoped>\n",
       "    .dataframe tbody tr th:only-of-type {\n",
       "        vertical-align: middle;\n",
       "    }\n",
       "\n",
       "    .dataframe tbody tr th {\n",
       "        vertical-align: top;\n",
       "    }\n",
       "\n",
       "    .dataframe thead th {\n",
       "        text-align: right;\n",
       "    }\n",
       "</style>\n",
       "<table border=\"1\" class=\"dataframe\">\n",
       "  <thead>\n",
       "    <tr style=\"text-align: right;\">\n",
       "      <th></th>\n",
       "      <th>true</th>\n",
       "      <th>pred</th>\n",
       "    </tr>\n",
       "    <tr>\n",
       "      <th>pred_segment</th>\n",
       "      <th></th>\n",
       "      <th></th>\n",
       "    </tr>\n",
       "  </thead>\n",
       "  <tbody>\n",
       "    <tr>\n",
       "      <th>(-0.978, -0.746]</th>\n",
       "      <td>-0.838193</td>\n",
       "      <td>-0.818506</td>\n",
       "    </tr>\n",
       "    <tr>\n",
       "      <th>(-0.746, -0.638]</th>\n",
       "      <td>-0.807904</td>\n",
       "      <td>-0.694608</td>\n",
       "    </tr>\n",
       "    <tr>\n",
       "      <th>(-0.638, -0.473]</th>\n",
       "      <td>-0.596673</td>\n",
       "      <td>-0.545093</td>\n",
       "    </tr>\n",
       "    <tr>\n",
       "      <th>(-0.473, -0.328]</th>\n",
       "      <td>-0.541909</td>\n",
       "      <td>-0.395436</td>\n",
       "    </tr>\n",
       "    <tr>\n",
       "      <th>(-0.328, -0.154]</th>\n",
       "      <td>-0.393618</td>\n",
       "      <td>-0.244273</td>\n",
       "    </tr>\n",
       "    <tr>\n",
       "      <th>(-0.154, -0.0268]</th>\n",
       "      <td>-0.156356</td>\n",
       "      <td>-0.100547</td>\n",
       "    </tr>\n",
       "    <tr>\n",
       "      <th>(-0.0268, 0.143]</th>\n",
       "      <td>-0.033099</td>\n",
       "      <td>0.068943</td>\n",
       "    </tr>\n",
       "    <tr>\n",
       "      <th>(0.143, 0.617]</th>\n",
       "      <td>0.143404</td>\n",
       "      <td>0.347187</td>\n",
       "    </tr>\n",
       "    <tr>\n",
       "      <th>(0.617, 1.956]</th>\n",
       "      <td>0.683426</td>\n",
       "      <td>1.060493</td>\n",
       "    </tr>\n",
       "    <tr>\n",
       "      <th>(1.956, 3.318]</th>\n",
       "      <td>2.417601</td>\n",
       "      <td>2.592380</td>\n",
       "    </tr>\n",
       "  </tbody>\n",
       "</table>\n",
       "</div>"
      ],
      "text/plain": [
       "                       true      pred\n",
       "pred_segment                         \n",
       "(-0.978, -0.746]  -0.838193 -0.818506\n",
       "(-0.746, -0.638]  -0.807904 -0.694608\n",
       "(-0.638, -0.473]  -0.596673 -0.545093\n",
       "(-0.473, -0.328]  -0.541909 -0.395436\n",
       "(-0.328, -0.154]  -0.393618 -0.244273\n",
       "(-0.154, -0.0268] -0.156356 -0.100547\n",
       "(-0.0268, 0.143]  -0.033099  0.068943\n",
       "(0.143, 0.617]     0.143404  0.347187\n",
       "(0.617, 1.956]     0.683426  1.060493\n",
       "(1.956, 3.318]     2.417601  2.592380"
      ]
     },
     "execution_count": 59,
     "metadata": {},
     "output_type": "execute_result"
    }
   ],
   "source": [
    "df_results[\"pred_segment\"] = pd.qcut(df_results[\"pred\"],10)\n",
    "df_results.groupby(\"pred_segment\").mean()"
   ]
  },
  {
   "cell_type": "code",
   "execution_count": 60,
   "id": "b8f73202-70ea-433a-be98-209228de4174",
   "metadata": {},
   "outputs": [
    {
     "data": {
      "text/plain": [
       "(0.14245693, 0.9951752)"
      ]
     },
     "execution_count": 60,
     "metadata": {},
     "output_type": "execute_result"
    }
   ],
   "source": [
    "mean_squared_error(df_results[\"true\"], df_results[\"pred\"]), df_results[\"true\"].var()"
   ]
  },
  {
   "cell_type": "code",
   "execution_count": 61,
   "id": "467083b5-e371-4efa-82dd-f5d511f3054b",
   "metadata": {},
   "outputs": [
    {
     "data": {
      "text/plain": [
       "(0.28319612, 0.73053676)"
      ]
     },
     "execution_count": 61,
     "metadata": {},
     "output_type": "execute_result"
    }
   ],
   "source": [
    "mean_absolute_error(df_results[\"true\"], df_results[\"pred\"]), (\n",
    "    df_results[\"true\"]-df_results[\"true\"].mean()\n",
    ").abs().mean()"
   ]
  },
  {
   "cell_type": "markdown",
   "id": "66915d92-adcc-4fcf-bfa0-4da771443712",
   "metadata": {},
   "source": [
    "# Gaussian Process Regression"
   ]
  },
  {
   "cell_type": "code",
   "execution_count": 62,
   "id": "ad433dbd-b5ae-4c1d-8ac5-ce9f5a27b81a",
   "metadata": {},
   "outputs": [
    {
     "name": "stderr",
     "output_type": "stream",
     "text": [
      "/opt/conda/lib/python3.7/site-packages/sklearn/gaussian_process/_gpr.py:610: ConvergenceWarning: lbfgs failed to converge (status=2):\n",
      "ABNORMAL_TERMINATION_IN_LNSRCH.\n",
      "\n",
      "Increase the number of iterations (max_iter) or scale the data as shown in:\n",
      "    https://scikit-learn.org/stable/modules/preprocessing.html\n",
      "  _check_optimize_result(\"lbfgs\", opt_res)\n"
     ]
    }
   ],
   "source": [
    "model = GaussianProcessRegressor(\n",
    "    kernel=kernels.RBF(length_scale=0.05)\n",
    "    ,n_restarts_optimizer=10\n",
    ").fit(x[train], y[train])"
   ]
  },
  {
   "cell_type": "code",
   "execution_count": 63,
   "id": "e4eae885-963c-49f4-977e-896020ea9ac5",
   "metadata": {},
   "outputs": [
    {
     "data": {
      "text/plain": [
       "{'length_scale': 0.16136997595338018, 'length_scale_bounds': (1e-05, 100000.0)}"
      ]
     },
     "execution_count": 63,
     "metadata": {},
     "output_type": "execute_result"
    }
   ],
   "source": [
    "model.kernel_.get_params()"
   ]
  },
  {
   "cell_type": "code",
   "execution_count": 64,
   "id": "b70b6b4d-f294-4472-a643-951f7df956c4",
   "metadata": {},
   "outputs": [
    {
     "data": {
      "text/plain": [
       "(-0.10634401615579091,\n",
       " -0.010278545110337028,\n",
       " 0.5423521883775172,\n",
       " 0.9957217851024796)"
      ]
     },
     "execution_count": 64,
     "metadata": {},
     "output_type": "execute_result"
    }
   ],
   "source": [
    "y_pred_gauss = model.predict(x[test])\n",
    "y_true_gauss = y[test]\n",
    "y_pred_gauss.mean(), y_true_gauss.mean(), y_pred_gauss.std(), y_true_gauss.std()"
   ]
  },
  {
   "cell_type": "code",
   "execution_count": 65,
   "id": "1ee341f1-64e8-446f-95f4-f31b9297d051",
   "metadata": {},
   "outputs": [
    {
     "data": {
      "text/plain": [
       "(0.6551484040167926, 0.7305366892322611)"
      ]
     },
     "execution_count": 65,
     "metadata": {},
     "output_type": "execute_result"
    }
   ],
   "source": [
    "mean_absolute_error(y_true_gauss, y_pred_gauss), (\n",
    "    np.abs(\n",
    "        y_true_gauss-y_true_gauss.mean()\n",
    "    )\n",
    ").mean()"
   ]
  },
  {
   "cell_type": "code",
   "execution_count": 66,
   "id": "99ee834c-4095-45d0-b5cc-464d0912d9a5",
   "metadata": {},
   "outputs": [
    {
     "data": {
      "text/plain": [
       "(0.9479208955857921, 0.9914618733276684)"
      ]
     },
     "execution_count": 66,
     "metadata": {},
     "output_type": "execute_result"
    }
   ],
   "source": [
    "mean_squared_error(y_true_gauss, y_pred_gauss), (\n",
    "    np.abs(\n",
    "        y_true_gauss-y_true_gauss.mean()\n",
    "    )**2\n",
    ").mean()"
   ]
  }
 ],
 "metadata": {
  "environment": {
   "kernel": "python3",
   "name": "pytorch-gpu.1-11.m94",
   "type": "gcloud",
   "uri": "gcr.io/deeplearning-platform-release/pytorch-gpu.1-11:m94"
  },
  "kernelspec": {
   "display_name": "Python 3",
   "language": "python",
   "name": "python3"
  },
  "language_info": {
   "codemirror_mode": {
    "name": "ipython",
    "version": 3
   },
   "file_extension": ".py",
   "mimetype": "text/x-python",
   "name": "python",
   "nbconvert_exporter": "python",
   "pygments_lexer": "ipython3",
   "version": "3.7.12"
  }
 },
 "nbformat": 4,
 "nbformat_minor": 5
}
