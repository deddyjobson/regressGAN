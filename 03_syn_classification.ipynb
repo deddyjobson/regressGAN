{
 "cells": [
  {
   "cell_type": "markdown",
   "id": "b07fcdc9-31a2-41d0-a868-37f072c725a2",
   "metadata": {},
   "source": [
    "[ref](https://pytorch.org/tutorials/beginner/dcgan_faces_tutorial.html)"
   ]
  },
  {
   "cell_type": "code",
   "execution_count": 1,
   "id": "a299c93b-2ec6-498e-b737-d38aae8f3156",
   "metadata": {},
   "outputs": [],
   "source": [
    "import numpy as np\n",
    "import pandas as pd\n",
    "import matplotlib.pyplot as plt\n",
    "\n",
    "from sklearn.model_selection import train_test_split\n",
    "from sklearn.metrics import mean_squared_error, mean_absolute_error\n",
    "from sklearn.datasets import fetch_openml\n",
    "from sklearn.preprocessing import OneHotEncoder\n",
    "from sklearn.gaussian_process import GaussianProcessRegressor, kernels\n",
    "\n",
    "from scipy.special import expit"
   ]
  },
  {
   "cell_type": "code",
   "execution_count": 2,
   "id": "835efe7f-bbf8-4ecf-b7a0-7b4f4202c394",
   "metadata": {},
   "outputs": [],
   "source": [
    "import torch\n",
    "import torch.nn as nn\n",
    "import torch.nn.parallel\n",
    "import torch.backends.cudnn as cudnn\n",
    "import torch.optim as optim\n",
    "import torch.utils.data\n",
    "\n",
    "from torch.utils.data.sampler import SubsetRandomSampler"
   ]
  },
  {
   "cell_type": "code",
   "execution_count": 3,
   "id": "49ddac81-def8-4e05-9ac8-23c20a3a6582",
   "metadata": {},
   "outputs": [
    {
     "name": "stdout",
     "output_type": "stream",
     "text": [
      "Random Seed:  999\n"
     ]
    },
    {
     "data": {
      "text/plain": [
       "<torch._C.Generator at 0x7f6c74a07350>"
      ]
     },
     "execution_count": 3,
     "metadata": {},
     "output_type": "execute_result"
    }
   ],
   "source": [
    "# Set random seed for reproducibility\n",
    "manualSeed = 999\n",
    "#manualSeed = random.randint(1, 10000) # use if you want new results\n",
    "print(\"Random Seed: \", manualSeed)\n",
    "np.random.seed(manualSeed)\n",
    "torch.manual_seed(manualSeed)"
   ]
  },
  {
   "cell_type": "code",
   "execution_count": 4,
   "id": "27efa966-b354-4ada-ab08-4c79913e7702",
   "metadata": {},
   "outputs": [],
   "source": [
    "device = torch.device(\"cuda:0\" if (torch.cuda.is_available() and ngpu > 0) else \"cpu\")\n",
    "ngpu=0"
   ]
  },
  {
   "cell_type": "code",
   "execution_count": 5,
   "id": "ba9d7026-28ae-469a-8746-782b18352530",
   "metadata": {},
   "outputs": [],
   "source": [
    "n_samples = 10**5\n",
    "n_feats = 25"
   ]
  },
  {
   "cell_type": "code",
   "execution_count": 6,
   "id": "0b23e937-dd39-4443-b66c-358501763774",
   "metadata": {},
   "outputs": [],
   "source": [
    "x = np.random.randn(n_samples, n_feats)\n",
    "w = np.random.randn(n_feats) * 0.5\n",
    "p = expit(x.dot(w))\n",
    "y = np.random.binomial(1,p=p)"
   ]
  },
  {
   "cell_type": "code",
   "execution_count": 7,
   "id": "122c4720-4fb3-4fe8-98bb-7fcf6ecdcf08",
   "metadata": {},
   "outputs": [
    {
     "data": {
      "text/plain": [
       "array([1, 1, 1, ..., 1, 1, 1])"
      ]
     },
     "execution_count": 7,
     "metadata": {},
     "output_type": "execute_result"
    }
   ],
   "source": [
    "y"
   ]
  },
  {
   "cell_type": "markdown",
   "id": "fc875939-ce9f-4b50-b53b-23fff0688262",
   "metadata": {},
   "source": [
    "### Simple Linear Regression check"
   ]
  },
  {
   "cell_type": "code",
   "execution_count": 8,
   "id": "448800fd-6be2-465e-a2cc-4bdf178de4df",
   "metadata": {},
   "outputs": [
    {
     "data": {
      "text/plain": [
       "array([-0.02315322, -0.02462007, -0.11054311,  0.00591545, -0.08040937,\n",
       "        0.00545923,  0.08128487, -0.04122192, -0.0663236 ,  0.04363753,\n",
       "        0.05018893,  0.11906772, -0.00142228,  0.04396228, -0.06780815,\n",
       "        0.06455154, -0.01793557,  0.00704322,  0.06267878, -0.08745455,\n",
       "        0.11198619,  0.03487946, -0.07341951,  0.12719622,  0.00560864])"
      ]
     },
     "execution_count": 8,
     "metadata": {},
     "output_type": "execute_result"
    }
   ],
   "source": [
    "from sklearn.linear_model import LinearRegression\n",
    "\n",
    "reg = LinearRegression().fit(x, y)\n",
    "reg.coef_"
   ]
  },
  {
   "cell_type": "code",
   "execution_count": 9,
   "id": "84bcbe89-a4e9-422b-a251-245cfea655ba",
   "metadata": {},
   "outputs": [
    {
     "data": {
      "text/plain": [
       "(0.43699177137829925, 0.14075180442103133)"
      ]
     },
     "execution_count": 9,
     "metadata": {},
     "output_type": "execute_result"
    }
   ],
   "source": [
    "reg.score(x, y), (1-reg.score(x, y))*y.var()"
   ]
  },
  {
   "cell_type": "markdown",
   "id": "60aa35bd-b7bb-409a-b623-21ca0ff56991",
   "metadata": {
    "tags": []
   },
   "source": [
    "# Regress GAN"
   ]
  },
  {
   "cell_type": "markdown",
   "id": "b3acd4b7-1b0d-4eda-8cc5-d20429ec969f",
   "metadata": {},
   "source": [
    "### Define ANN Architecture"
   ]
  },
  {
   "cell_type": "code",
   "execution_count": 10,
   "id": "ee5d7b20-ed44-4047-bcc6-748164a359d2",
   "metadata": {},
   "outputs": [],
   "source": [
    "# Batch size during training\n",
    "batch_size = 256\n",
    "\n",
    "# Size of z latent vector (i.e. size of generator input)\n",
    "nz = 5\n",
    "\n",
    "# Number of training epochs\n",
    "num_epochs = 15\n",
    "\n",
    "# Learning rate for optimizers\n",
    "lr = 0.002\n",
    "# lr = 0.0002\n",
    "\n",
    "# Beta1 hyperparam for Adam optimizers\n",
    "beta1 = 0.5\n",
    "\n",
    "# width of the network\n",
    "network_width = 128"
   ]
  },
  {
   "cell_type": "code",
   "execution_count": 11,
   "id": "22b53034-9834-4886-bfd9-ad9fccca302f",
   "metadata": {},
   "outputs": [],
   "source": [
    "# create train and test indices\n",
    "train, test = train_test_split(list(range(x.shape[0])), test_size=.2)\n",
    "train, val = train_test_split(train, test_size=.25)"
   ]
  },
  {
   "cell_type": "code",
   "execution_count": 12,
   "id": "926ae90b-8966-4a42-995c-2512b91025b3",
   "metadata": {},
   "outputs": [],
   "source": [
    "# https://gist.github.com/conormm/5b26a08029b900520bcd6fcd1f5712a0\n",
    "class PrepareData(torch.utils.data.Dataset):\n",
    "\n",
    "    def __init__(self, X, y, scale_X=True):\n",
    "        if not torch.is_tensor(X):\n",
    "            if scale_X:\n",
    "                X = StandardScaler().fit_transform(X)\n",
    "            self.X = torch.from_numpy(X).float()\n",
    "        else:\n",
    "            self.X = X.float32()\n",
    "        if not torch.is_tensor(y):\n",
    "            self.y = torch.from_numpy(y).float()\n",
    "        else:\n",
    "            self.y = y.float32()\n",
    "\n",
    "    def __len__(self):\n",
    "        return len(self.X)\n",
    "\n",
    "    def __getitem__(self, idx):\n",
    "        return self.X[idx], self.y[idx]\n",
    "\n",
    "ds = PrepareData(x, y=y, scale_X=False)\n",
    "\n",
    "train_set = torch.utils.data.DataLoader(ds, batch_size=batch_size,\n",
    "                       sampler=SubsetRandomSampler(train))\n",
    "val_set = torch.utils.data.DataLoader(ds, batch_size=batch_size,\n",
    "                       sampler=SubsetRandomSampler(val))\n",
    "test_set = torch.utils.data.DataLoader(ds, batch_size=batch_size,\n",
    "                      sampler=SubsetRandomSampler(test))"
   ]
  },
  {
   "cell_type": "code",
   "execution_count": 13,
   "id": "ae20ffb8-a81c-401b-96cc-6ea2948081d3",
   "metadata": {
    "collapsed": false,
    "jupyter": {
     "outputs_hidden": false
    }
   },
   "outputs": [],
   "source": [
    "# Generator Code\n",
    "\n",
    "class Generator(nn.Module):\n",
    "    def __init__(self, ngpu):\n",
    "        super(Generator, self).__init__()\n",
    "        self.ngpu = ngpu\n",
    "        self.main = nn.Sequential(\n",
    "            # input is Z, going into a convolution\n",
    "            nn.Linear( n_feats+nz, network_width, bias=True),\n",
    "            nn.ReLU(True),\n",
    "\n",
    "            nn.Linear( network_width, network_width, bias=True),\n",
    "            nn.ReLU(True),\n",
    "\n",
    "            nn.Linear( network_width, 1, bias=True)\n",
    "\n",
    "        )\n",
    "\n",
    "    def forward(self, input):\n",
    "        return self.main(input)"
   ]
  },
  {
   "cell_type": "code",
   "execution_count": 14,
   "id": "75149020-6f89-4866-b582-b6d1f1bfbf0f",
   "metadata": {},
   "outputs": [
    {
     "name": "stdout",
     "output_type": "stream",
     "text": [
      "Generator(\n",
      "  (main): Sequential(\n",
      "    (0): Linear(in_features=30, out_features=128, bias=True)\n",
      "    (1): ReLU(inplace=True)\n",
      "    (2): Linear(in_features=128, out_features=128, bias=True)\n",
      "    (3): ReLU(inplace=True)\n",
      "    (4): Linear(in_features=128, out_features=1, bias=True)\n",
      "  )\n",
      ")\n"
     ]
    }
   ],
   "source": [
    "# Create the generator\n",
    "netG = Generator(ngpu).to(device)\n",
    "\n",
    "# Print the model\n",
    "print(netG)"
   ]
  },
  {
   "cell_type": "code",
   "execution_count": 15,
   "id": "65c0957d-f66b-491d-97a0-6cb5107cbb4c",
   "metadata": {
    "collapsed": false,
    "jupyter": {
     "outputs_hidden": false
    }
   },
   "outputs": [],
   "source": [
    "# Discriminator Code\n",
    "\n",
    "class Discriminator(nn.Module):\n",
    "    def __init__(self, ngpu):\n",
    "        super(Discriminator, self).__init__()\n",
    "        self.ngpu = ngpu\n",
    "        self.main = nn.Sequential(\n",
    "            # input is Z, going into a convolution\n",
    "            nn.Linear(n_feats+1, network_width, bias=True), # i/p is covariates and o/p\n",
    "            nn.LeakyReLU(0.2, inplace=True),\n",
    "\n",
    "            nn.Linear( network_width, network_width, bias=True),\n",
    "            nn.LeakyReLU(0.2, inplace=True),\n",
    "\n",
    "            nn.Linear( network_width, 1, bias=True),\n",
    "            nn.Sigmoid(),\n",
    "\n",
    "        )\n",
    "\n",
    "    def forward(self, input):\n",
    "        return self.main(input)"
   ]
  },
  {
   "cell_type": "code",
   "execution_count": 16,
   "id": "29259410-3eeb-44b4-8097-ac4eb88d2813",
   "metadata": {},
   "outputs": [
    {
     "name": "stdout",
     "output_type": "stream",
     "text": [
      "Discriminator(\n",
      "  (main): Sequential(\n",
      "    (0): Linear(in_features=26, out_features=128, bias=True)\n",
      "    (1): LeakyReLU(negative_slope=0.2, inplace=True)\n",
      "    (2): Linear(in_features=128, out_features=128, bias=True)\n",
      "    (3): LeakyReLU(negative_slope=0.2, inplace=True)\n",
      "    (4): Linear(in_features=128, out_features=1, bias=True)\n",
      "    (5): Sigmoid()\n",
      "  )\n",
      ")\n"
     ]
    }
   ],
   "source": [
    "# Create the Discriminator\n",
    "netD = Discriminator(ngpu).to(device)\n",
    "\n",
    "# Print the model\n",
    "print(netD)"
   ]
  },
  {
   "cell_type": "code",
   "execution_count": 17,
   "id": "c30d199c-43ed-4bc9-b0b2-2d8661f2efa8",
   "metadata": {
    "collapsed": false,
    "jupyter": {
     "outputs_hidden": false
    }
   },
   "outputs": [],
   "source": [
    "# Initialize BCELoss function\n",
    "criterion = nn.BCELoss()\n",
    "\n",
    "# Create batch of latent vectors that we will use to visualize\n",
    "#  the progression of the generator\n",
    "fixed_noise = torch.randn(nz, device=device)\n",
    "\n",
    "# Establish convention for real and fake labels during training\n",
    "real_label = 1.\n",
    "fake_label = 0.\n",
    "\n",
    "# Setup Adam optimizers for both G and D\n",
    "optimizerD = optim.Adam(netD.parameters(), lr=lr, betas=(beta1, 0.999))\n",
    "optimizerG = optim.Adam(netG.parameters(), lr=lr, betas=(beta1, 0.999))"
   ]
  },
  {
   "cell_type": "code",
   "execution_count": 18,
   "id": "4caa3c28-69b8-4383-83d6-36d301752234",
   "metadata": {},
   "outputs": [
    {
     "name": "stdout",
     "output_type": "stream",
     "text": [
      "Starting Training Loop...\n",
      "[0/15][0/235]\tLoss_D: 1.3821\tLoss_G: 0.6942\tD(x): 0.4989\tD(G(z)): 0.4961 / 0.4998\n",
      "[1/15][0/235]\tLoss_D: 1.4125\tLoss_G: 0.7201\tD(x): 0.4796\tD(G(z)): 0.4921 / 0.4867\n",
      "[2/15][0/235]\tLoss_D: 1.3966\tLoss_G: 0.6754\tD(x): 0.5045\tD(G(z)): 0.5083 / 0.5095\n",
      "[3/15][0/235]\tLoss_D: 1.3602\tLoss_G: 0.7014\tD(x): 0.5127\tD(G(z)): 0.4956 / 0.4978\n",
      "[4/15][0/235]\tLoss_D: 1.3728\tLoss_G: 0.7422\tD(x): 0.5056\tD(G(z)): 0.4958 / 0.4800\n",
      "[5/15][0/235]\tLoss_D: 1.3761\tLoss_G: 0.7146\tD(x): 0.5027\tD(G(z)): 0.4950 / 0.4914\n",
      "[6/15][0/235]\tLoss_D: 1.3810\tLoss_G: 0.7012\tD(x): 0.5069\tD(G(z)): 0.5021 / 0.4975\n",
      "[7/15][0/235]\tLoss_D: 1.3798\tLoss_G: 0.7167\tD(x): 0.4965\tD(G(z)): 0.4908 / 0.4903\n",
      "[8/15][0/235]\tLoss_D: 1.3808\tLoss_G: 0.7061\tD(x): 0.4955\tD(G(z)): 0.4899 / 0.4959\n",
      "[9/15][0/235]\tLoss_D: 1.3727\tLoss_G: 0.7093\tD(x): 0.5057\tD(G(z)): 0.4961 / 0.4938\n",
      "[10/15][0/235]\tLoss_D: 1.3821\tLoss_G: 0.7131\tD(x): 0.4915\tD(G(z)): 0.4860 / 0.4922\n",
      "[11/15][0/235]\tLoss_D: 1.3733\tLoss_G: 0.7083\tD(x): 0.5054\tD(G(z)): 0.4967 / 0.4944\n",
      "[12/15][0/235]\tLoss_D: 1.3655\tLoss_G: 0.7396\tD(x): 0.5275\tD(G(z)): 0.5132 / 0.4801\n",
      "[13/15][0/235]\tLoss_D: 1.3894\tLoss_G: 0.7137\tD(x): 0.5069\tD(G(z)): 0.5043 / 0.4916\n",
      "[14/15][0/235]\tLoss_D: 1.3888\tLoss_G: 0.6915\tD(x): 0.4998\tD(G(z)): 0.4991 / 0.5021\n"
     ]
    }
   ],
   "source": [
    "# Training Loop\n",
    "\n",
    "# Lists to keep track of progress\n",
    "img_list = []\n",
    "G_losses = []\n",
    "D_losses = []\n",
    "iters = 0\n",
    "\n",
    "G_losses_val = []\n",
    "D_losses_val = []\n",
    "\n",
    "print(\"Starting Training Loop...\")\n",
    "# For each epoch\n",
    "for epoch in range(num_epochs):\n",
    "    # For each batch in the dataloader\n",
    "    for i, data in enumerate(train_set, 0):\n",
    "        \n",
    "        ############################\n",
    "        # (1) Update D network: maximize log(D(x)) + log(1 - D(G(z)))\n",
    "        ###########################\n",
    "        ## Train with all-real batch\n",
    "        netD.zero_grad()\n",
    "        # Format batch\n",
    "        real_cpu = torch.hstack((data[0],data[1].unsqueeze(1))).to(device)\n",
    "        b_size = real_cpu.size(0)\n",
    "        label = torch.full((b_size,), real_label, dtype=torch.float, device=device)\n",
    "        # Forward pass real batch through D\n",
    "        output = netD(real_cpu).view(-1)\n",
    "        # Calculate loss on all-real batch\n",
    "        errD_real = criterion(output, label)\n",
    "        # Calculate gradients for D in backward pass\n",
    "        errD_real.backward()\n",
    "        D_x = output.mean().item()\n",
    "\n",
    "        ## Train with all-fake batch\n",
    "        # Generate batch of latent vectors\n",
    "        noise = torch.randn(b_size, nz, device=device)\n",
    "        # Generate fake image batch with G\n",
    "        gen_ip = torch.hstack((data[0],noise)).to(device)\n",
    "        fake = netG(gen_ip)\n",
    "        \n",
    "        label.fill_(fake_label)\n",
    "        # Classify all fake batch with D\n",
    "        fake_cpu = torch.hstack((data[0],fake.detach())).to(device)\n",
    "        output = netD(fake_cpu.detach()).view(-1)\n",
    "        # Calculate D's loss on the all-fake batch\n",
    "        errD_fake = criterion(output, label)\n",
    "        # Calculate the gradients for this batch, accumulated (summed) with previous gradients\n",
    "        errD_fake.backward()\n",
    "        D_G_z1 = output.mean().item()\n",
    "        # Compute error of D as sum over the fake and the real batches\n",
    "        errD = errD_real + errD_fake\n",
    "        # Update D\n",
    "        optimizerD.step()\n",
    "\n",
    "        ############################\n",
    "        # (2) Update G network: maximize log(D(G(z)))\n",
    "        ###########################\n",
    "        netG.zero_grad()\n",
    "        label.fill_(real_label)  # fake labels are real for generator cost\n",
    "        # Since we just updated D, perform another forward pass of all-fake batch through D\n",
    "        fake_cpu = torch.hstack((data[0],fake)).to(device)\n",
    "        output = netD(fake_cpu).view(-1)\n",
    "        # Calculate G's loss based on this output\n",
    "        errG = criterion(output, label)\n",
    "        # Calculate gradients for G\n",
    "        errG.backward()\n",
    "        D_G_z2 = output.mean().item()\n",
    "        # Update G\n",
    "        optimizerG.step()\n",
    "        \n",
    "        # Output training stats\n",
    "        if i % 500 == 0:\n",
    "            print('[%d/%d][%d/%d]\\tLoss_D: %.4f\\tLoss_G: %.4f\\tD(x): %.4f\\tD(G(z)): %.4f / %.4f'\n",
    "                  % (epoch, num_epochs, i, len(train_set),\n",
    "                     errD.item(), errG.item(), D_x, D_G_z1, D_G_z2))\n",
    "                \n",
    "        # Output validation stats\n",
    "        if i % 100 == 0:\n",
    "            with torch.no_grad():\n",
    "                errG_vals = []\n",
    "                errD_vals = []\n",
    "                for i, data in enumerate(val_set, 0):\n",
    "                    b_size = data[0].size(0)\n",
    "                    noise = torch.randn(b_size, nz, device=device)\n",
    "                    # Generate fake image batch with G\n",
    "                    gen_ip = torch.hstack((data[0],noise)).to(device)\n",
    "                    gen_op = netG(gen_ip)\n",
    "                    \n",
    "                    fake_cpu = torch.hstack((data[0],gen_op)).to(device)\n",
    "                    fake_output = netD(fake_cpu).view(-1)\n",
    "\n",
    "                    label.fill_(real_label) # fake labels are real for generator cost\n",
    "                    errG_val = criterion(output, label)  \n",
    "                    \n",
    "                    label.fill_(fake_label)\n",
    "                    errD_fake_val = criterion(output, label)\n",
    "                    \n",
    "                    real_cpu = torch.hstack((data[0],data[1].unsqueeze(1))).to(device)\n",
    "                    real_output = netD(real_cpu).view(-1)\n",
    "                    \n",
    "                    label.fill_(real_label)\n",
    "                    errD_real_val = criterion(output, label)\n",
    "                    \n",
    "                    errG_vals.append(errG_val.item())\n",
    "                    errD_vals.append((errD_fake_val+errD_real_val).item())\n",
    "            G_losses_val.append(sum(errG_vals)/len(errG_vals))\n",
    "            D_losses_val.append(sum(errD_vals)/len(errD_vals))\n",
    "        \n",
    "        \n",
    "        # Save Losses for plotting later\n",
    "        G_losses.append(errG.item())\n",
    "        D_losses.append(errD.item())\n",
    "        \n",
    "        # Check how the generator is doing by saving G's output on fixed_noise\n",
    "        # if (iters % 500 == 0) or ((epoch == num_epochs-1) and (i == len(train_set)-1)):\n",
    "        #     with torch.no_grad():\n",
    "        #         fake = netG(fixed_noise).detach().cpu()\n",
    "        #     img_list.append(vutils.make_grid(fake, padding=2, normalize=True))\n",
    "            \n",
    "        iters += 1"
   ]
  },
  {
   "cell_type": "code",
   "execution_count": 19,
   "id": "1cca6ec1-c384-40f7-9455-c723703c67d4",
   "metadata": {},
   "outputs": [
    {
     "data": {
      "image/png": "[encoded data removed]",
      "text/plain": [
       "<Figure size 720x360 with 1 Axes>"
      ]
     },
     "metadata": {
      "needs_background": "light"
     },
     "output_type": "display_data"
    }
   ],
   "source": [
    "plt.figure(figsize=(10,5))\n",
    "plt.title(\"Generator and Discriminator Loss During Training\")\n",
    "plt.plot(G_losses,label=\"G\")\n",
    "plt.plot(D_losses,label=\"D\")\n",
    "plt.xlabel(\"iterations\")\n",
    "plt.ylabel(\"Loss\")\n",
    "plt.legend()\n",
    "plt.show()"
   ]
  },
  {
   "cell_type": "code",
   "execution_count": 20,
   "id": "64be2550-691b-40c4-a4e9-f16cb3783b0f",
   "metadata": {},
   "outputs": [
    {
     "data": {
      "image/png": "[encoded data removed]",
      "text/plain": [
       "<Figure size 720x360 with 1 Axes>"
      ]
     },
     "metadata": {
      "needs_background": "light"
     },
     "output_type": "display_data"
    }
   ],
   "source": [
    "plt.figure(figsize=(10,5))\n",
    "plt.title(\"Generator and Discriminator Loss During Training (Validation Set)\")\n",
    "plt.plot(G_losses_val,label=\"G\")\n",
    "plt.plot(D_losses_val,label=\"D\")\n",
    "plt.xlabel(\"iterations\")\n",
    "plt.ylabel(\"Loss\")\n",
    "plt.legend()\n",
    "plt.show()"
   ]
  },
  {
   "cell_type": "markdown",
   "id": "9546287e-8940-4fbc-b990-81029da132cd",
   "metadata": {},
   "source": [
    "## Train Predictions"
   ]
  },
  {
   "cell_type": "code",
   "execution_count": 21,
   "id": "22d71a6f-0001-4bcd-957f-a2b0e1d2394d",
   "metadata": {},
   "outputs": [],
   "source": [
    "train_ops = []\n",
    "with torch.no_grad():\n",
    "    for i, data in enumerate(train_set, 0):\n",
    "        b_size = data[0].size(0)\n",
    "        noise = torch.randn(b_size, nz, device=device)\n",
    "        # Generate fake image batch with G\n",
    "        gen_ip = torch.hstack((data[0],noise)).to(device)\n",
    "        fake = netG(gen_ip)\n",
    "        \n",
    "        train_ops.append(\n",
    "            (data[1].detach().cpu().numpy(), fake.detach().cpu().numpy())\n",
    "        )"
   ]
  },
  {
   "cell_type": "code",
   "execution_count": 22,
   "id": "23c38a2f-9fec-452f-ac02-b3e35e14b189",
   "metadata": {},
   "outputs": [],
   "source": [
    "train_reals = np.concatenate(list(x[0] for x in train_ops))\n",
    "train_preds = np.concatenate(list(x[1] for x in train_ops))"
   ]
  },
  {
   "cell_type": "code",
   "execution_count": 23,
   "id": "378a9a1c-39df-4ae5-a35e-edff8243ec80",
   "metadata": {},
   "outputs": [
    {
     "data": {
      "text/html": [
       "<div>\n",
       "<style scoped>\n",
       "    .dataframe tbody tr th:only-of-type {\n",
       "        vertical-align: middle;\n",
       "    }\n",
       "\n",
       "    .dataframe tbody tr th {\n",
       "        vertical-align: top;\n",
       "    }\n",
       "\n",
       "    .dataframe thead th {\n",
       "        text-align: right;\n",
       "    }\n",
       "</style>\n",
       "<table border=\"1\" class=\"dataframe\">\n",
       "  <thead>\n",
       "    <tr style=\"text-align: right;\">\n",
       "      <th></th>\n",
       "      <th>true</th>\n",
       "      <th>pred</th>\n",
       "    </tr>\n",
       "  </thead>\n",
       "  <tbody>\n",
       "    <tr>\n",
       "      <th>count</th>\n",
       "      <td>60000.000000</td>\n",
       "      <td>60000.000000</td>\n",
       "    </tr>\n",
       "    <tr>\n",
       "      <th>mean</th>\n",
       "      <td>0.501133</td>\n",
       "      <td>0.517617</td>\n",
       "    </tr>\n",
       "    <tr>\n",
       "      <th>std</th>\n",
       "      <td>0.500003</td>\n",
       "      <td>0.503557</td>\n",
       "    </tr>\n",
       "    <tr>\n",
       "      <th>min</th>\n",
       "      <td>0.000000</td>\n",
       "      <td>-0.037473</td>\n",
       "    </tr>\n",
       "    <tr>\n",
       "      <th>25%</th>\n",
       "      <td>0.000000</td>\n",
       "      <td>0.016251</td>\n",
       "    </tr>\n",
       "    <tr>\n",
       "      <th>50%</th>\n",
       "      <td>1.000000</td>\n",
       "      <td>0.158147</td>\n",
       "    </tr>\n",
       "    <tr>\n",
       "      <th>75%</th>\n",
       "      <td>1.000000</td>\n",
       "      <td>1.030526</td>\n",
       "    </tr>\n",
       "    <tr>\n",
       "      <th>max</th>\n",
       "      <td>1.000000</td>\n",
       "      <td>1.106534</td>\n",
       "    </tr>\n",
       "  </tbody>\n",
       "</table>\n",
       "</div>"
      ],
      "text/plain": [
       "               true          pred\n",
       "count  60000.000000  60000.000000\n",
       "mean       0.501133      0.517617\n",
       "std        0.500003      0.503557\n",
       "min        0.000000     -0.037473\n",
       "25%        0.000000      0.016251\n",
       "50%        1.000000      0.158147\n",
       "75%        1.000000      1.030526\n",
       "max        1.000000      1.106534"
      ]
     },
     "execution_count": 23,
     "metadata": {},
     "output_type": "execute_result"
    }
   ],
   "source": [
    "df_results_train = pd.DataFrame(\n",
    "    data = np.hstack((\n",
    "    np.expand_dims(train_reals,1),train_preds\n",
    "    ))\n",
    "    ,columns = [\"true\",\"pred\"]\n",
    ")\n",
    "\n",
    "df_results_train.describe()"
   ]
  },
  {
   "cell_type": "code",
   "execution_count": 24,
   "id": "44f3be38-2a76-41f2-9f4a-95be6b25490b",
   "metadata": {},
   "outputs": [
    {
     "data": {
      "text/html": [
       "<div>\n",
       "<style scoped>\n",
       "    .dataframe tbody tr th:only-of-type {\n",
       "        vertical-align: middle;\n",
       "    }\n",
       "\n",
       "    .dataframe tbody tr th {\n",
       "        vertical-align: top;\n",
       "    }\n",
       "\n",
       "    .dataframe thead th {\n",
       "        text-align: right;\n",
       "    }\n",
       "</style>\n",
       "<table border=\"1\" class=\"dataframe\">\n",
       "  <thead>\n",
       "    <tr style=\"text-align: right;\">\n",
       "      <th></th>\n",
       "      <th>true</th>\n",
       "      <th>pred</th>\n",
       "    </tr>\n",
       "    <tr>\n",
       "      <th>pred_segment</th>\n",
       "      <th></th>\n",
       "      <th></th>\n",
       "    </tr>\n",
       "  </thead>\n",
       "  <tbody>\n",
       "    <tr>\n",
       "      <th>(-0.0385, 0.00688]</th>\n",
       "      <td>0.387333</td>\n",
       "      <td>0.000706</td>\n",
       "    </tr>\n",
       "    <tr>\n",
       "      <th>(0.00688, 0.0133]</th>\n",
       "      <td>0.327000</td>\n",
       "      <td>0.010276</td>\n",
       "    </tr>\n",
       "    <tr>\n",
       "      <th>(0.0133, 0.0195]</th>\n",
       "      <td>0.277333</td>\n",
       "      <td>0.016296</td>\n",
       "    </tr>\n",
       "    <tr>\n",
       "      <th>(0.0195, 0.0287]</th>\n",
       "      <td>0.185500</td>\n",
       "      <td>0.023760</td>\n",
       "    </tr>\n",
       "    <tr>\n",
       "      <th>(0.0287, 0.158]</th>\n",
       "      <td>0.111500</td>\n",
       "      <td>0.039242</td>\n",
       "    </tr>\n",
       "    <tr>\n",
       "      <th>(0.158, 1.022]</th>\n",
       "      <td>0.615667</td>\n",
       "      <td>0.945012</td>\n",
       "    </tr>\n",
       "    <tr>\n",
       "      <th>(1.022, 1.028]</th>\n",
       "      <td>0.706000</td>\n",
       "      <td>1.025522</td>\n",
       "    </tr>\n",
       "    <tr>\n",
       "      <th>(1.028, 1.033]</th>\n",
       "      <td>0.790500</td>\n",
       "      <td>1.030532</td>\n",
       "    </tr>\n",
       "    <tr>\n",
       "      <th>(1.033, 1.039]</th>\n",
       "      <td>0.818500</td>\n",
       "      <td>1.035891</td>\n",
       "    </tr>\n",
       "    <tr>\n",
       "      <th>(1.039, 1.107]</th>\n",
       "      <td>0.792000</td>\n",
       "      <td>1.048929</td>\n",
       "    </tr>\n",
       "  </tbody>\n",
       "</table>\n",
       "</div>"
      ],
      "text/plain": [
       "                        true      pred\n",
       "pred_segment                          \n",
       "(-0.0385, 0.00688]  0.387333  0.000706\n",
       "(0.00688, 0.0133]   0.327000  0.010276\n",
       "(0.0133, 0.0195]    0.277333  0.016296\n",
       "(0.0195, 0.0287]    0.185500  0.023760\n",
       "(0.0287, 0.158]     0.111500  0.039242\n",
       "(0.158, 1.022]      0.615667  0.945012\n",
       "(1.022, 1.028]      0.706000  1.025522\n",
       "(1.028, 1.033]      0.790500  1.030532\n",
       "(1.033, 1.039]      0.818500  1.035891\n",
       "(1.039, 1.107]      0.792000  1.048929"
      ]
     },
     "execution_count": 24,
     "metadata": {},
     "output_type": "execute_result"
    }
   ],
   "source": [
    "df_results_train[\"pred_segment\"] = pd.qcut(df_results_train[\"pred\"],10, duplicates=\"drop\")\n",
    "df_results_train.groupby(\"pred_segment\").mean()"
   ]
  },
  {
   "cell_type": "code",
   "execution_count": 25,
   "id": "25f8c965-2241-458d-bd98-f79a9a5b8de9",
   "metadata": {},
   "outputs": [
    {
     "data": {
      "text/plain": [
       "(0.25772068, 0.2500029)"
      ]
     },
     "execution_count": 25,
     "metadata": {},
     "output_type": "execute_result"
    }
   ],
   "source": [
    "mean_squared_error(df_results_train[\"true\"], df_results_train[\"pred\"]), df_results_train[\"true\"].var()"
   ]
  },
  {
   "cell_type": "code",
   "execution_count": 26,
   "id": "3b5a2f6a-10cb-4354-8ec2-188535bf86e5",
   "metadata": {},
   "outputs": [
    {
     "data": {
      "text/plain": [
       "(0.2777419, 0.4999974)"
      ]
     },
     "execution_count": 26,
     "metadata": {},
     "output_type": "execute_result"
    }
   ],
   "source": [
    "mean_absolute_error(df_results_train[\"true\"], df_results_train[\"pred\"]), (\n",
    "    df_results_train[\"true\"]-df_results_train[\"true\"].mean()\n",
    ").abs().mean()"
   ]
  },
  {
   "cell_type": "markdown",
   "id": "a8de3f01-dd60-4f6b-bf53-7b6fb50ab87a",
   "metadata": {},
   "source": [
    "## Test Predictions"
   ]
  },
  {
   "cell_type": "code",
   "execution_count": 27,
   "id": "4ca1102a-11e2-46b8-b0e4-232f0b8b6075",
   "metadata": {},
   "outputs": [],
   "source": [
    "test_ops = []\n",
    "with torch.no_grad():\n",
    "    for i, data in enumerate(test_set, 0):\n",
    "        b_size = data[0].size(0)\n",
    "        noise = torch.randn(b_size, nz, device=device)\n",
    "        # Generate fake image batch with G\n",
    "        gen_ip = torch.hstack((data[0],noise)).to(device)\n",
    "        fake = netG(gen_ip)\n",
    "        \n",
    "        test_ops.append(\n",
    "            (data[1].detach().cpu().numpy(), fake.detach().cpu().numpy())\n",
    "        )"
   ]
  },
  {
   "cell_type": "code",
   "execution_count": 28,
   "id": "a865a72b-bc48-4bbd-a185-ed30259d54c8",
   "metadata": {},
   "outputs": [],
   "source": [
    "test_reals = np.concatenate(list(x[0] for x in test_ops))\n",
    "test_preds = np.concatenate(list(x[1] for x in test_ops))"
   ]
  },
  {
   "cell_type": "code",
   "execution_count": 29,
   "id": "749677ba-6512-4ed3-8b27-979ac7f6b01c",
   "metadata": {},
   "outputs": [
    {
     "data": {
      "text/html": [
       "<div>\n",
       "<style scoped>\n",
       "    .dataframe tbody tr th:only-of-type {\n",
       "        vertical-align: middle;\n",
       "    }\n",
       "\n",
       "    .dataframe tbody tr th {\n",
       "        vertical-align: top;\n",
       "    }\n",
       "\n",
       "    .dataframe thead th {\n",
       "        text-align: right;\n",
       "    }\n",
       "</style>\n",
       "<table border=\"1\" class=\"dataframe\">\n",
       "  <thead>\n",
       "    <tr style=\"text-align: right;\">\n",
       "      <th></th>\n",
       "      <th>true</th>\n",
       "      <th>pred</th>\n",
       "    </tr>\n",
       "  </thead>\n",
       "  <tbody>\n",
       "    <tr>\n",
       "      <th>count</th>\n",
       "      <td>20000.000000</td>\n",
       "      <td>20000.000000</td>\n",
       "    </tr>\n",
       "    <tr>\n",
       "      <th>mean</th>\n",
       "      <td>0.493850</td>\n",
       "      <td>0.513073</td>\n",
       "    </tr>\n",
       "    <tr>\n",
       "      <th>std</th>\n",
       "      <td>0.499975</td>\n",
       "      <td>0.503739</td>\n",
       "    </tr>\n",
       "    <tr>\n",
       "      <th>min</th>\n",
       "      <td>0.000000</td>\n",
       "      <td>-0.039746</td>\n",
       "    </tr>\n",
       "    <tr>\n",
       "      <th>25%</th>\n",
       "      <td>0.000000</td>\n",
       "      <td>0.016150</td>\n",
       "    </tr>\n",
       "    <tr>\n",
       "      <th>50%</th>\n",
       "      <td>0.000000</td>\n",
       "      <td>0.055286</td>\n",
       "    </tr>\n",
       "    <tr>\n",
       "      <th>75%</th>\n",
       "      <td>1.000000</td>\n",
       "      <td>1.030384</td>\n",
       "    </tr>\n",
       "    <tr>\n",
       "      <th>max</th>\n",
       "      <td>1.000000</td>\n",
       "      <td>1.118995</td>\n",
       "    </tr>\n",
       "  </tbody>\n",
       "</table>\n",
       "</div>"
      ],
      "text/plain": [
       "               true          pred\n",
       "count  20000.000000  20000.000000\n",
       "mean       0.493850      0.513073\n",
       "std        0.499975      0.503739\n",
       "min        0.000000     -0.039746\n",
       "25%        0.000000      0.016150\n",
       "50%        0.000000      0.055286\n",
       "75%        1.000000      1.030384\n",
       "max        1.000000      1.118995"
      ]
     },
     "execution_count": 29,
     "metadata": {},
     "output_type": "execute_result"
    }
   ],
   "source": [
    "df_results = pd.DataFrame(\n",
    "    data = np.hstack((\n",
    "    np.expand_dims(test_reals,1),test_preds\n",
    "    ))\n",
    "    ,columns = [\"true\",\"pred\"]\n",
    ")\n",
    "\n",
    "df_results.describe()"
   ]
  },
  {
   "cell_type": "code",
   "execution_count": 30,
   "id": "452d1c07-874c-40f4-a2c2-300f4e5d437c",
   "metadata": {},
   "outputs": [
    {
     "data": {
      "text/html": [
       "<div>\n",
       "<style scoped>\n",
       "    .dataframe tbody tr th:only-of-type {\n",
       "        vertical-align: middle;\n",
       "    }\n",
       "\n",
       "    .dataframe tbody tr th {\n",
       "        vertical-align: top;\n",
       "    }\n",
       "\n",
       "    .dataframe thead th {\n",
       "        text-align: right;\n",
       "    }\n",
       "</style>\n",
       "<table border=\"1\" class=\"dataframe\">\n",
       "  <thead>\n",
       "    <tr style=\"text-align: right;\">\n",
       "      <th></th>\n",
       "      <th>true</th>\n",
       "      <th>pred</th>\n",
       "    </tr>\n",
       "    <tr>\n",
       "      <th>pred_segment</th>\n",
       "      <th></th>\n",
       "      <th></th>\n",
       "    </tr>\n",
       "  </thead>\n",
       "  <tbody>\n",
       "    <tr>\n",
       "      <th>(-0.0407, 0.0071]</th>\n",
       "      <td>0.3745</td>\n",
       "      <td>0.001125</td>\n",
       "    </tr>\n",
       "    <tr>\n",
       "      <th>(0.0071, 0.0133]</th>\n",
       "      <td>0.3430</td>\n",
       "      <td>0.010287</td>\n",
       "    </tr>\n",
       "    <tr>\n",
       "      <th>(0.0133, 0.0194]</th>\n",
       "      <td>0.2675</td>\n",
       "      <td>0.016207</td>\n",
       "    </tr>\n",
       "    <tr>\n",
       "      <th>(0.0194, 0.0282]</th>\n",
       "      <td>0.1985</td>\n",
       "      <td>0.023396</td>\n",
       "    </tr>\n",
       "    <tr>\n",
       "      <th>(0.0282, 0.0553]</th>\n",
       "      <td>0.1055</td>\n",
       "      <td>0.036511</td>\n",
       "    </tr>\n",
       "    <tr>\n",
       "      <th>(0.0553, 1.022]</th>\n",
       "      <td>0.5790</td>\n",
       "      <td>0.902558</td>\n",
       "    </tr>\n",
       "    <tr>\n",
       "      <th>(1.022, 1.028]</th>\n",
       "      <td>0.6955</td>\n",
       "      <td>1.025501</td>\n",
       "    </tr>\n",
       "    <tr>\n",
       "      <th>(1.028, 1.033]</th>\n",
       "      <td>0.7600</td>\n",
       "      <td>1.030449</td>\n",
       "    </tr>\n",
       "    <tr>\n",
       "      <th>(1.033, 1.039]</th>\n",
       "      <td>0.8140</td>\n",
       "      <td>1.035937</td>\n",
       "    </tr>\n",
       "    <tr>\n",
       "      <th>(1.039, 1.119]</th>\n",
       "      <td>0.8010</td>\n",
       "      <td>1.048756</td>\n",
       "    </tr>\n",
       "  </tbody>\n",
       "</table>\n",
       "</div>"
      ],
      "text/plain": [
       "                     true      pred\n",
       "pred_segment                       \n",
       "(-0.0407, 0.0071]  0.3745  0.001125\n",
       "(0.0071, 0.0133]   0.3430  0.010287\n",
       "(0.0133, 0.0194]   0.2675  0.016207\n",
       "(0.0194, 0.0282]   0.1985  0.023396\n",
       "(0.0282, 0.0553]   0.1055  0.036511\n",
       "(0.0553, 1.022]    0.5790  0.902558\n",
       "(1.022, 1.028]     0.6955  1.025501\n",
       "(1.028, 1.033]     0.7600  1.030449\n",
       "(1.033, 1.039]     0.8140  1.035937\n",
       "(1.039, 1.119]     0.8010  1.048756"
      ]
     },
     "execution_count": 30,
     "metadata": {},
     "output_type": "execute_result"
    }
   ],
   "source": [
    "df_results[\"pred_segment\"] = pd.qcut(df_results[\"pred\"],10, duplicates=\"drop\")\n",
    "df_results.groupby(\"pred_segment\").mean()"
   ]
  },
  {
   "cell_type": "code",
   "execution_count": 31,
   "id": "0749ecba-0122-48d0-afc5-80b1b2bb408f",
   "metadata": {},
   "outputs": [
    {
     "data": {
      "text/plain": [
       "(0.26340756, 0.24997467)"
      ]
     },
     "execution_count": 31,
     "metadata": {},
     "output_type": "execute_result"
    }
   ],
   "source": [
    "mean_squared_error(df_results[\"true\"], df_results[\"pred\"]), df_results[\"true\"].var()"
   ]
  },
  {
   "cell_type": "code",
   "execution_count": 32,
   "id": "83577395-eba5-4a41-b391-e9dcc1eb2fc5",
   "metadata": {},
   "outputs": [
    {
     "data": {
      "text/plain": [
       "(0.2829856, 0.49992436)"
      ]
     },
     "execution_count": 32,
     "metadata": {},
     "output_type": "execute_result"
    }
   ],
   "source": [
    "mean_absolute_error(df_results[\"true\"], df_results[\"pred\"]), (\n",
    "    df_results[\"true\"]-df_results[\"true\"].mean()\n",
    ").abs().mean()"
   ]
  },
  {
   "cell_type": "markdown",
   "id": "70a4e314-b34b-48d7-8c96-cb001997eaaf",
   "metadata": {},
   "source": [
    "## Test Predictions (averaged)"
   ]
  },
  {
   "cell_type": "code",
   "execution_count": 33,
   "id": "e337d101-7e02-45c8-9c6f-ab824c4159f2",
   "metadata": {},
   "outputs": [],
   "source": [
    "N_SAMPLES = 1000\n",
    "test_ops = []\n",
    "with torch.no_grad():\n",
    "    for i, data in enumerate(test_set, 0):\n",
    "        b_size = data[0].size(0)\n",
    "        fakes = []\n",
    "        for _ in range(N_SAMPLES):\n",
    "            noise = torch.randn(b_size, nz, device=device)\n",
    "            # Generate fake image batch with G\n",
    "            gen_ip = torch.hstack((data[0],noise)).to(device)\n",
    "            fake = netG(gen_ip).detach().cpu().numpy()\n",
    "            fakes.append(fake)\n",
    "\n",
    "        test_ops.append(\n",
    "            (data[1].detach().cpu().numpy(), sum(fakes)/len(fakes))\n",
    "        )\n",
    "# print(test_reals.shape,np.concatenate(list(x[0] for x in test_ops)).shape)\n",
    "# print(test_preds.shape,np.concatenate(list(x[1] for x in test_ops)).shape)\n",
    "test_reals = np.concatenate(list(x[0] for x in test_ops))\n",
    "test_preds = np.concatenate(list(x[1] for x in test_ops))\n"
   ]
  },
  {
   "cell_type": "code",
   "execution_count": 34,
   "id": "6af69937-27e8-4522-9b13-7a0b9cb9b98c",
   "metadata": {},
   "outputs": [
    {
     "data": {
      "text/html": [
       "<div>\n",
       "<style scoped>\n",
       "    .dataframe tbody tr th:only-of-type {\n",
       "        vertical-align: middle;\n",
       "    }\n",
       "\n",
       "    .dataframe tbody tr th {\n",
       "        vertical-align: top;\n",
       "    }\n",
       "\n",
       "    .dataframe thead th {\n",
       "        text-align: right;\n",
       "    }\n",
       "</style>\n",
       "<table border=\"1\" class=\"dataframe\">\n",
       "  <thead>\n",
       "    <tr style=\"text-align: right;\">\n",
       "      <th></th>\n",
       "      <th>true</th>\n",
       "      <th>pred</th>\n",
       "    </tr>\n",
       "  </thead>\n",
       "  <tbody>\n",
       "    <tr>\n",
       "      <th>count</th>\n",
       "      <td>20000.000000</td>\n",
       "      <td>20000.000000</td>\n",
       "    </tr>\n",
       "    <tr>\n",
       "      <th>mean</th>\n",
       "      <td>0.493850</td>\n",
       "      <td>0.512833</td>\n",
       "    </tr>\n",
       "    <tr>\n",
       "      <th>std</th>\n",
       "      <td>0.499975</td>\n",
       "      <td>0.354618</td>\n",
       "    </tr>\n",
       "    <tr>\n",
       "      <th>min</th>\n",
       "      <td>0.000000</td>\n",
       "      <td>-0.009402</td>\n",
       "    </tr>\n",
       "    <tr>\n",
       "      <th>25%</th>\n",
       "      <td>0.000000</td>\n",
       "      <td>0.162889</td>\n",
       "    </tr>\n",
       "    <tr>\n",
       "      <th>50%</th>\n",
       "      <td>0.000000</td>\n",
       "      <td>0.493465</td>\n",
       "    </tr>\n",
       "    <tr>\n",
       "      <th>75%</th>\n",
       "      <td>1.000000</td>\n",
       "      <td>0.863308</td>\n",
       "    </tr>\n",
       "    <tr>\n",
       "      <th>max</th>\n",
       "      <td>1.000000</td>\n",
       "      <td>1.068698</td>\n",
       "    </tr>\n",
       "  </tbody>\n",
       "</table>\n",
       "</div>"
      ],
      "text/plain": [
       "               true          pred\n",
       "count  20000.000000  20000.000000\n",
       "mean       0.493850      0.512833\n",
       "std        0.499975      0.354618\n",
       "min        0.000000     -0.009402\n",
       "25%        0.000000      0.162889\n",
       "50%        0.000000      0.493465\n",
       "75%        1.000000      0.863308\n",
       "max        1.000000      1.068698"
      ]
     },
     "execution_count": 34,
     "metadata": {},
     "output_type": "execute_result"
    }
   ],
   "source": [
    "df_results = pd.DataFrame(\n",
    "    data = np.hstack((\n",
    "    np.expand_dims(test_reals,1),test_preds\n",
    "    ))\n",
    "    ,columns = [\"true\",\"pred\"]\n",
    ")\n",
    "\n",
    "df_results.describe()"
   ]
  },
  {
   "cell_type": "code",
   "execution_count": 35,
   "id": "a0bde69f-ca9d-4791-b5a3-65d00e879116",
   "metadata": {},
   "outputs": [
    {
     "data": {
      "text/html": [
       "<div>\n",
       "<style scoped>\n",
       "    .dataframe tbody tr th:only-of-type {\n",
       "        vertical-align: middle;\n",
       "    }\n",
       "\n",
       "    .dataframe tbody tr th {\n",
       "        vertical-align: top;\n",
       "    }\n",
       "\n",
       "    .dataframe thead th {\n",
       "        text-align: right;\n",
       "    }\n",
       "</style>\n",
       "<table border=\"1\" class=\"dataframe\">\n",
       "  <thead>\n",
       "    <tr style=\"text-align: right;\">\n",
       "      <th></th>\n",
       "      <th>true</th>\n",
       "      <th>pred</th>\n",
       "    </tr>\n",
       "    <tr>\n",
       "      <th>pred_segment</th>\n",
       "      <th></th>\n",
       "      <th></th>\n",
       "    </tr>\n",
       "  </thead>\n",
       "  <tbody>\n",
       "    <tr>\n",
       "      <th>(-0.0104, 0.0482]</th>\n",
       "      <td>0.0200</td>\n",
       "      <td>0.033221</td>\n",
       "    </tr>\n",
       "    <tr>\n",
       "      <th>(0.0482, 0.114]</th>\n",
       "      <td>0.0655</td>\n",
       "      <td>0.076402</td>\n",
       "    </tr>\n",
       "    <tr>\n",
       "      <th>(0.114, 0.216]</th>\n",
       "      <td>0.1615</td>\n",
       "      <td>0.163324</td>\n",
       "    </tr>\n",
       "    <tr>\n",
       "      <th>(0.216, 0.347]</th>\n",
       "      <td>0.2750</td>\n",
       "      <td>0.280580</td>\n",
       "    </tr>\n",
       "    <tr>\n",
       "      <th>(0.347, 0.493]</th>\n",
       "      <td>0.3980</td>\n",
       "      <td>0.420153</td>\n",
       "    </tr>\n",
       "    <tr>\n",
       "      <th>(0.493, 0.65]</th>\n",
       "      <td>0.5570</td>\n",
       "      <td>0.571846</td>\n",
       "    </tr>\n",
       "    <tr>\n",
       "      <th>(0.65, 0.8]</th>\n",
       "      <td>0.7275</td>\n",
       "      <td>0.726786</td>\n",
       "    </tr>\n",
       "    <tr>\n",
       "      <th>(0.8, 0.919]</th>\n",
       "      <td>0.8300</td>\n",
       "      <td>0.862429</td>\n",
       "    </tr>\n",
       "    <tr>\n",
       "      <th>(0.919, 1.004]</th>\n",
       "      <td>0.9260</td>\n",
       "      <td>0.965262</td>\n",
       "    </tr>\n",
       "    <tr>\n",
       "      <th>(1.004, 1.069]</th>\n",
       "      <td>0.9780</td>\n",
       "      <td>1.028322</td>\n",
       "    </tr>\n",
       "  </tbody>\n",
       "</table>\n",
       "</div>"
      ],
      "text/plain": [
       "                     true      pred\n",
       "pred_segment                       \n",
       "(-0.0104, 0.0482]  0.0200  0.033221\n",
       "(0.0482, 0.114]    0.0655  0.076402\n",
       "(0.114, 0.216]     0.1615  0.163324\n",
       "(0.216, 0.347]     0.2750  0.280580\n",
       "(0.347, 0.493]     0.3980  0.420153\n",
       "(0.493, 0.65]      0.5570  0.571846\n",
       "(0.65, 0.8]        0.7275  0.726786\n",
       "(0.8, 0.919]       0.8300  0.862429\n",
       "(0.919, 1.004]     0.9260  0.965262\n",
       "(1.004, 1.069]     0.9780  1.028322"
      ]
     },
     "execution_count": 35,
     "metadata": {},
     "output_type": "execute_result"
    }
   ],
   "source": [
    "df_results[\"pred_segment\"] = pd.qcut(df_results[\"pred\"],10, duplicates=\"drop\")\n",
    "df_results.groupby(\"pred_segment\").mean()"
   ]
  },
  {
   "cell_type": "code",
   "execution_count": 36,
   "id": "aaf071eb-b503-466a-acb7-93ccb7900327",
   "metadata": {},
   "outputs": [
    {
     "data": {
      "text/plain": [
       "(0.13253303, 0.24997467)"
      ]
     },
     "execution_count": 36,
     "metadata": {},
     "output_type": "execute_result"
    }
   ],
   "source": [
    "mean_squared_error(df_results[\"true\"], df_results[\"pred\"]), df_results[\"true\"].var()"
   ]
  },
  {
   "cell_type": "code",
   "execution_count": 37,
   "id": "f5f7b44a-9744-4ec0-ac41-be8affff1978",
   "metadata": {},
   "outputs": [
    {
     "data": {
      "text/plain": [
       "(0.2622253, 0.49992436)"
      ]
     },
     "execution_count": 37,
     "metadata": {},
     "output_type": "execute_result"
    }
   ],
   "source": [
    "mean_absolute_error(df_results[\"true\"], df_results[\"pred\"]), (\n",
    "    df_results[\"true\"]-df_results[\"true\"].mean()\n",
    ").abs().mean()"
   ]
  },
  {
   "cell_type": "markdown",
   "id": "823b7d09-da4c-4cc9-b4e9-41b72372680d",
   "metadata": {},
   "source": [
    "# MSE model"
   ]
  },
  {
   "cell_type": "markdown",
   "id": "22487c57-e28b-4550-bf56-32373c376ef4",
   "metadata": {
    "tags": []
   },
   "source": [
    "### Define ANN Architecture"
   ]
  },
  {
   "cell_type": "code",
   "execution_count": 38,
   "id": "d13b07ed-0693-485d-8ab3-e30aad6e4df7",
   "metadata": {},
   "outputs": [],
   "source": [
    "# Batch size during training\n",
    "batch_size = 128\n",
    "\n",
    "# Number of training epochs\n",
    "num_epochs = 10\n",
    "\n",
    "# Learning rate for optimizers\n",
    "lr = 0.002\n",
    "# lr = 0.0002\n",
    "\n",
    "# Beta1 hyperparam for Adam optimizers\n",
    "beta1 = 0.5\n",
    "\n",
    "# width of the network\n",
    "network_width = 128"
   ]
  },
  {
   "cell_type": "code",
   "execution_count": 39,
   "id": "aaa28fce-9fe5-468c-94da-b6fcb35460a6",
   "metadata": {},
   "outputs": [],
   "source": [
    "# create train and test indices\n",
    "train, test = train_test_split(list(range(x.shape[0])), test_size=.2)\n",
    "train, val = train_test_split(train, test_size=.25)"
   ]
  },
  {
   "cell_type": "code",
   "execution_count": 40,
   "id": "fd9f3f82-7ae6-405b-ae6e-d79c4a39a52f",
   "metadata": {},
   "outputs": [],
   "source": [
    "# https://gist.github.com/conormm/5b26a08029b900520bcd6fcd1f5712a0\n",
    "class PrepareData(torch.utils.data.Dataset):\n",
    "\n",
    "    def __init__(self, X, y, scale_X=True):\n",
    "        if not torch.is_tensor(X):\n",
    "            if scale_X:\n",
    "                X = StandardScaler().fit_transform(X)\n",
    "            self.X = torch.from_numpy(X).float()\n",
    "        else:\n",
    "            self.X = X.float32()\n",
    "        if not torch.is_tensor(y):\n",
    "            self.y = torch.from_numpy(y).float()\n",
    "        else:\n",
    "            self.y = y.float32()\n",
    "\n",
    "    def __len__(self):\n",
    "        return len(self.X)\n",
    "\n",
    "    def __getitem__(self, idx):\n",
    "        return self.X[idx], self.y[idx]\n",
    "\n",
    "ds = PrepareData(x, y=y, scale_X=False)\n",
    "\n",
    "train_set = torch.utils.data.DataLoader(ds, batch_size=batch_size,\n",
    "                       sampler=SubsetRandomSampler(train))\n",
    "val_set = torch.utils.data.DataLoader(ds, batch_size=batch_size,\n",
    "                       sampler=SubsetRandomSampler(val))\n",
    "test_set = torch.utils.data.DataLoader(ds, batch_size=batch_size,\n",
    "                      sampler=SubsetRandomSampler(test))"
   ]
  },
  {
   "cell_type": "code",
   "execution_count": 41,
   "id": "8b824b04-a5dd-4efa-93bd-f69bcc020da7",
   "metadata": {
    "collapsed": false,
    "jupyter": {
     "outputs_hidden": false
    }
   },
   "outputs": [],
   "source": [
    "# Generator Code\n",
    "\n",
    "class Generator(nn.Module):\n",
    "    def __init__(self, ngpu):\n",
    "        super(Generator, self).__init__()\n",
    "        self.ngpu = ngpu\n",
    "        self.main = nn.Sequential(\n",
    "            # input is Z, going into a convolution\n",
    "            nn.Linear( n_feats, network_width, bias=True),\n",
    "            nn.ReLU(True),\n",
    "\n",
    "            nn.Linear( network_width, network_width, bias=True),\n",
    "            nn.ReLU(True),\n",
    "\n",
    "            nn.Linear( network_width, 1, bias=True)\n",
    "\n",
    "        )\n",
    "\n",
    "    def forward(self, input):\n",
    "        return self.main(input)"
   ]
  },
  {
   "cell_type": "code",
   "execution_count": 42,
   "id": "9e502a43-8064-47ee-a5f6-c079e748eaf7",
   "metadata": {},
   "outputs": [
    {
     "name": "stdout",
     "output_type": "stream",
     "text": [
      "Generator(\n",
      "  (main): Sequential(\n",
      "    (0): Linear(in_features=25, out_features=128, bias=True)\n",
      "    (1): ReLU(inplace=True)\n",
      "    (2): Linear(in_features=128, out_features=128, bias=True)\n",
      "    (3): ReLU(inplace=True)\n",
      "    (4): Linear(in_features=128, out_features=1, bias=True)\n",
      "  )\n",
      ")\n"
     ]
    }
   ],
   "source": [
    "# Create the generator\n",
    "netG = Generator(ngpu).to(device)\n",
    "\n",
    "# Print the model\n",
    "print(netG)"
   ]
  },
  {
   "cell_type": "code",
   "execution_count": 43,
   "id": "76988db6-8b64-4100-ae37-b0752af715ca",
   "metadata": {
    "collapsed": false,
    "jupyter": {
     "outputs_hidden": false
    }
   },
   "outputs": [],
   "source": [
    "# Initialize MSELoss function\n",
    "criterion = nn.MSELoss()\n",
    "\n",
    "# Setup Adam optimizers for G\n",
    "optimizerG = optim.Adam(netG.parameters(), lr=lr, betas=(beta1, 0.999))"
   ]
  },
  {
   "cell_type": "code",
   "execution_count": 44,
   "id": "6158298d-b54b-4ad0-95a1-844037b8f54a",
   "metadata": {},
   "outputs": [
    {
     "name": "stdout",
     "output_type": "stream",
     "text": [
      "Starting Training Loop...\n",
      "[0/10][0/469]\tLoss_D: 0.0000\tLoss_G: 0.5044\tD(x): 0.0000\tD(G(z)): 0.0000 / 0.0629\n",
      "[1/10][0/469]\tLoss_D: 0.0000\tLoss_G: 0.1235\tD(x): 0.0000\tD(G(z)): 0.0000 / 0.5940\n",
      "[2/10][0/469]\tLoss_D: 0.0000\tLoss_G: 0.1473\tD(x): 0.0000\tD(G(z)): 0.0000 / 0.4584\n",
      "[3/10][0/469]\tLoss_D: 0.0000\tLoss_G: 0.1252\tD(x): 0.0000\tD(G(z)): 0.0000 / 0.4451\n",
      "[4/10][0/469]\tLoss_D: 0.0000\tLoss_G: 0.1118\tD(x): 0.0000\tD(G(z)): 0.0000 / 0.4777\n",
      "[5/10][0/469]\tLoss_D: 0.0000\tLoss_G: 0.1088\tD(x): 0.0000\tD(G(z)): 0.0000 / 0.4956\n",
      "[6/10][0/469]\tLoss_D: 0.0000\tLoss_G: 0.1143\tD(x): 0.0000\tD(G(z)): 0.0000 / 0.5280\n",
      "[7/10][0/469]\tLoss_D: 0.0000\tLoss_G: 0.1422\tD(x): 0.0000\tD(G(z)): 0.0000 / 0.5212\n",
      "[8/10][0/469]\tLoss_D: 0.0000\tLoss_G: 0.1087\tD(x): 0.0000\tD(G(z)): 0.0000 / 0.5422\n",
      "[9/10][0/469]\tLoss_D: 0.0000\tLoss_G: 0.1294\tD(x): 0.0000\tD(G(z)): 0.0000 / 0.4854\n"
     ]
    }
   ],
   "source": [
    "# Training Loop\n",
    "\n",
    "# Lists to keep track of progress\n",
    "img_list = []\n",
    "G_losses = []\n",
    "D_losses = []\n",
    "iters = 0\n",
    "\n",
    "G_losses_val = []\n",
    "D_losses_val = []\n",
    "\n",
    "print(\"Starting Training Loop...\")\n",
    "# For each epoch\n",
    "for epoch in range(num_epochs):\n",
    "    # For each batch in the dataloader\n",
    "    for i, data in enumerate(train_set, 0):\n",
    "        \n",
    "        b_size = data[0].size(0)\n",
    "\n",
    "        ############################\n",
    "        # Update G network: maximize log(D(G(z)))\n",
    "        ###########################\n",
    "        netG.zero_grad()\n",
    "        label = data[1]  # fake labels are real for generator cost\n",
    "        # Since we just updated D, perform another forward pass of all-fake batch through D\n",
    "        output = netG(data[0]).view(-1)\n",
    "        # Calculate G's loss based on this output\n",
    "        errG = criterion(output, label)\n",
    "        # Calculate gradients for G\n",
    "        errG.backward()\n",
    "        D_G_z2 = output.mean().item()\n",
    "        # Update G\n",
    "        optimizerG.step()\n",
    "        \n",
    "        # Output training stats\n",
    "        if i % 500 == 0:\n",
    "            print('[%d/%d][%d/%d]\\tLoss_D: %.4f\\tLoss_G: %.4f\\tD(x): %.4f\\tD(G(z)): %.4f / %.4f'\n",
    "                  % (epoch, num_epochs, i, len(train_set),\n",
    "                     0, errG.item(), 0, 0, D_G_z2))\n",
    "                \n",
    "        # Output validation stats\n",
    "        if i % 100 == 0:\n",
    "            with torch.no_grad():\n",
    "                errG_vals = []\n",
    "                for i, data in enumerate(val_set, 0):\n",
    "                    b_size = data[0].size(0)\n",
    "                    output = netG(data[0]).view(-1)\n",
    "\n",
    "                    label = data[1] # fake labels are real for generator cost\n",
    "                    errG_val = criterion(output, label)  \n",
    "\n",
    "                    errG_vals.append(errG_val.item())\n",
    "            G_losses_val.append(sum(errG_vals)/len(errG_vals))\n",
    "        \n",
    "        \n",
    "        # Save Losses for plotting later\n",
    "        G_losses.append(errG.item())\n",
    "      \n",
    "        iters += 1"
   ]
  },
  {
   "cell_type": "code",
   "execution_count": 45,
   "id": "df50ab14-072b-4b78-985c-d1b0633b988e",
   "metadata": {},
   "outputs": [
    {
     "data": {
      "image/png": "[encoded data removed]",
      "text/plain": [
       "<Figure size 720x360 with 1 Axes>"
      ]
     },
     "metadata": {
      "needs_background": "light"
     },
     "output_type": "display_data"
    }
   ],
   "source": [
    "plt.figure(figsize=(10,5))\n",
    "plt.title(\"MSE Loss During Training\")\n",
    "plt.plot(G_losses,label=\"train set\")\n",
    "# plt.plot(G_losses_val,label=\"val set\")\n",
    "plt.xlabel(\"iterations\")\n",
    "plt.ylabel(\"Loss\")\n",
    "plt.legend()\n",
    "plt.show()"
   ]
  },
  {
   "cell_type": "code",
   "execution_count": 46,
   "id": "db098dc2-0bb7-422e-8b8c-537ae110fc7a",
   "metadata": {},
   "outputs": [
    {
     "data": {
      "image/png": "[encoded data removed]",
      "text/plain": [
       "<Figure size 720x360 with 1 Axes>"
      ]
     },
     "metadata": {
      "needs_background": "light"
     },
     "output_type": "display_data"
    }
   ],
   "source": [
    "plt.figure(figsize=(10,5))\n",
    "plt.title(\"MSE Loss During Training\")\n",
    "# plt.plot(G_losses,label=\"train set\")\n",
    "plt.plot(G_losses_val,label=\"val set\")\n",
    "plt.xlabel(\"iterations\")\n",
    "plt.ylabel(\"Loss\")\n",
    "plt.legend()\n",
    "plt.show()"
   ]
  },
  {
   "cell_type": "markdown",
   "id": "52931377-c919-4d70-ad9c-b5f878a8c0b6",
   "metadata": {},
   "source": [
    "## Train Predictions"
   ]
  },
  {
   "cell_type": "code",
   "execution_count": 47,
   "id": "6ff89129-9603-4246-82e4-b6df87eff588",
   "metadata": {},
   "outputs": [],
   "source": [
    "train_ops = []\n",
    "with torch.no_grad():\n",
    "    for i, data in enumerate(train_set, 0):\n",
    "        b_size = data[0].size(0)\n",
    "        # Generate fake image batch with G\n",
    "        fake = netG(data[0])\n",
    "        \n",
    "        train_ops.append(\n",
    "            (data[1].detach().cpu().numpy(), fake.detach().cpu().numpy())\n",
    "        )"
   ]
  },
  {
   "cell_type": "code",
   "execution_count": 48,
   "id": "ab9642d9-71ae-4b01-98d7-202c2a96789c",
   "metadata": {},
   "outputs": [],
   "source": [
    "train_reals = np.concatenate(list(x[0] for x in train_ops))\n",
    "train_preds = np.concatenate(list(x[1] for x in train_ops))"
   ]
  },
  {
   "cell_type": "code",
   "execution_count": 49,
   "id": "20a5fc0d-a7c8-4c80-8e0e-6914e65c06db",
   "metadata": {},
   "outputs": [
    {
     "data": {
      "text/html": [
       "<div>\n",
       "<style scoped>\n",
       "    .dataframe tbody tr th:only-of-type {\n",
       "        vertical-align: middle;\n",
       "    }\n",
       "\n",
       "    .dataframe tbody tr th {\n",
       "        vertical-align: top;\n",
       "    }\n",
       "\n",
       "    .dataframe thead th {\n",
       "        text-align: right;\n",
       "    }\n",
       "</style>\n",
       "<table border=\"1\" class=\"dataframe\">\n",
       "  <thead>\n",
       "    <tr style=\"text-align: right;\">\n",
       "      <th></th>\n",
       "      <th>true</th>\n",
       "      <th>pred</th>\n",
       "    </tr>\n",
       "  </thead>\n",
       "  <tbody>\n",
       "    <tr>\n",
       "      <th>count</th>\n",
       "      <td>60000.000000</td>\n",
       "      <td>60000.000000</td>\n",
       "    </tr>\n",
       "    <tr>\n",
       "      <th>mean</th>\n",
       "      <td>0.499367</td>\n",
       "      <td>0.505795</td>\n",
       "    </tr>\n",
       "    <tr>\n",
       "      <th>std</th>\n",
       "      <td>0.500004</td>\n",
       "      <td>0.373035</td>\n",
       "    </tr>\n",
       "    <tr>\n",
       "      <th>min</th>\n",
       "      <td>0.000000</td>\n",
       "      <td>-0.273975</td>\n",
       "    </tr>\n",
       "    <tr>\n",
       "      <th>25%</th>\n",
       "      <td>0.000000</td>\n",
       "      <td>0.133292</td>\n",
       "    </tr>\n",
       "    <tr>\n",
       "      <th>50%</th>\n",
       "      <td>0.000000</td>\n",
       "      <td>0.505164</td>\n",
       "    </tr>\n",
       "    <tr>\n",
       "      <th>75%</th>\n",
       "      <td>1.000000</td>\n",
       "      <td>0.874912</td>\n",
       "    </tr>\n",
       "    <tr>\n",
       "      <th>max</th>\n",
       "      <td>1.000000</td>\n",
       "      <td>1.377991</td>\n",
       "    </tr>\n",
       "  </tbody>\n",
       "</table>\n",
       "</div>"
      ],
      "text/plain": [
       "               true          pred\n",
       "count  60000.000000  60000.000000\n",
       "mean       0.499367      0.505795\n",
       "std        0.500004      0.373035\n",
       "min        0.000000     -0.273975\n",
       "25%        0.000000      0.133292\n",
       "50%        0.000000      0.505164\n",
       "75%        1.000000      0.874912\n",
       "max        1.000000      1.377991"
      ]
     },
     "execution_count": 49,
     "metadata": {},
     "output_type": "execute_result"
    }
   ],
   "source": [
    "df_results_train = pd.DataFrame(\n",
    "    data = np.hstack((\n",
    "    np.expand_dims(train_reals,1),train_preds\n",
    "    ))\n",
    "    ,columns = [\"true\",\"pred\"]\n",
    ")\n",
    "\n",
    "df_results_train.describe()"
   ]
  },
  {
   "cell_type": "code",
   "execution_count": 50,
   "id": "1bc61b29-de45-4f58-8abb-6996278bf346",
   "metadata": {},
   "outputs": [
    {
     "data": {
      "text/html": [
       "<div>\n",
       "<style scoped>\n",
       "    .dataframe tbody tr th:only-of-type {\n",
       "        vertical-align: middle;\n",
       "    }\n",
       "\n",
       "    .dataframe tbody tr th {\n",
       "        vertical-align: top;\n",
       "    }\n",
       "\n",
       "    .dataframe thead th {\n",
       "        text-align: right;\n",
       "    }\n",
       "</style>\n",
       "<table border=\"1\" class=\"dataframe\">\n",
       "  <thead>\n",
       "    <tr style=\"text-align: right;\">\n",
       "      <th></th>\n",
       "      <th>true</th>\n",
       "      <th>pred</th>\n",
       "    </tr>\n",
       "    <tr>\n",
       "      <th>pred_segment</th>\n",
       "      <th></th>\n",
       "      <th></th>\n",
       "    </tr>\n",
       "  </thead>\n",
       "  <tbody>\n",
       "    <tr>\n",
       "      <th>(-0.275, 0.0252]</th>\n",
       "      <td>0.011167</td>\n",
       "      <td>-0.015939</td>\n",
       "    </tr>\n",
       "    <tr>\n",
       "      <th>(0.0252, 0.0901]</th>\n",
       "      <td>0.053667</td>\n",
       "      <td>0.055204</td>\n",
       "    </tr>\n",
       "    <tr>\n",
       "      <th>(0.0901, 0.186]</th>\n",
       "      <td>0.122833</td>\n",
       "      <td>0.134678</td>\n",
       "    </tr>\n",
       "    <tr>\n",
       "      <th>(0.186, 0.328]</th>\n",
       "      <td>0.240333</td>\n",
       "      <td>0.252483</td>\n",
       "    </tr>\n",
       "    <tr>\n",
       "      <th>(0.328, 0.505]</th>\n",
       "      <td>0.402500</td>\n",
       "      <td>0.417762</td>\n",
       "    </tr>\n",
       "    <tr>\n",
       "      <th>(0.505, 0.677]</th>\n",
       "      <td>0.593833</td>\n",
       "      <td>0.592497</td>\n",
       "    </tr>\n",
       "    <tr>\n",
       "      <th>(0.677, 0.821]</th>\n",
       "      <td>0.747833</td>\n",
       "      <td>0.751347</td>\n",
       "    </tr>\n",
       "    <tr>\n",
       "      <th>(0.821, 0.918]</th>\n",
       "      <td>0.883000</td>\n",
       "      <td>0.872836</td>\n",
       "    </tr>\n",
       "    <tr>\n",
       "      <th>(0.918, 0.988]</th>\n",
       "      <td>0.953167</td>\n",
       "      <td>0.952928</td>\n",
       "    </tr>\n",
       "    <tr>\n",
       "      <th>(0.988, 1.378]</th>\n",
       "      <td>0.985333</td>\n",
       "      <td>1.044153</td>\n",
       "    </tr>\n",
       "  </tbody>\n",
       "</table>\n",
       "</div>"
      ],
      "text/plain": [
       "                      true      pred\n",
       "pred_segment                        \n",
       "(-0.275, 0.0252]  0.011167 -0.015939\n",
       "(0.0252, 0.0901]  0.053667  0.055204\n",
       "(0.0901, 0.186]   0.122833  0.134678\n",
       "(0.186, 0.328]    0.240333  0.252483\n",
       "(0.328, 0.505]    0.402500  0.417762\n",
       "(0.505, 0.677]    0.593833  0.592497\n",
       "(0.677, 0.821]    0.747833  0.751347\n",
       "(0.821, 0.918]    0.883000  0.872836\n",
       "(0.918, 0.988]    0.953167  0.952928\n",
       "(0.988, 1.378]    0.985333  1.044153"
      ]
     },
     "execution_count": 50,
     "metadata": {},
     "output_type": "execute_result"
    }
   ],
   "source": [
    "df_results_train[\"pred_segment\"] = pd.qcut(df_results_train[\"pred\"],10, duplicates=\"drop\")\n",
    "df_results_train.groupby(\"pred_segment\").mean()"
   ]
  },
  {
   "cell_type": "code",
   "execution_count": 51,
   "id": "3442262d-8359-4ef1-bc4d-65f9957ad705",
   "metadata": {},
   "outputs": [
    {
     "data": {
      "text/plain": [
       "(0.11817855, 0.25000378)"
      ]
     },
     "execution_count": 51,
     "metadata": {},
     "output_type": "execute_result"
    }
   ],
   "source": [
    "mean_squared_error(df_results_train[\"true\"], df_results_train[\"pred\"]), df_results_train[\"true\"].var()"
   ]
  },
  {
   "cell_type": "code",
   "execution_count": 52,
   "id": "5bcd291a-c786-4d7b-aca3-eac7f331f385",
   "metadata": {},
   "outputs": [
    {
     "data": {
      "text/plain": [
       "(0.24212633, 0.4999992)"
      ]
     },
     "execution_count": 52,
     "metadata": {},
     "output_type": "execute_result"
    }
   ],
   "source": [
    "mean_absolute_error(df_results_train[\"true\"], df_results_train[\"pred\"]), (\n",
    "    df_results_train[\"true\"]-df_results_train[\"true\"].mean()\n",
    ").abs().mean()"
   ]
  },
  {
   "cell_type": "markdown",
   "id": "81f2437b-d19c-43ec-a56f-97df0a974335",
   "metadata": {},
   "source": [
    "## Test Predictions"
   ]
  },
  {
   "cell_type": "code",
   "execution_count": 53,
   "id": "2e26e7b9-03f6-467b-9d66-02bfb1144307",
   "metadata": {},
   "outputs": [],
   "source": [
    "test_ops = []\n",
    "with torch.no_grad():\n",
    "    for i, data in enumerate(test_set, 0):\n",
    "        b_size = data[0].size(0)\n",
    "        # Generate fake image batch with G\n",
    "        gen_ip = data[0] \n",
    "        fake = netG(gen_ip)\n",
    "        \n",
    "        test_ops.append(\n",
    "            (data[1].detach().cpu().numpy(), fake.detach().cpu().numpy())\n",
    "        )"
   ]
  },
  {
   "cell_type": "code",
   "execution_count": 54,
   "id": "4bf93a27-356d-44b8-975d-0ed0480a3692",
   "metadata": {},
   "outputs": [],
   "source": [
    "test_reals = np.concatenate(list(x[0] for x in test_ops))\n",
    "test_preds = np.concatenate(list(x[1] for x in test_ops))"
   ]
  },
  {
   "cell_type": "code",
   "execution_count": 55,
   "id": "a5b18860-0bcf-43f1-b12e-99fd2ea98a0b",
   "metadata": {},
   "outputs": [
    {
     "data": {
      "text/html": [
       "<div>\n",
       "<style scoped>\n",
       "    .dataframe tbody tr th:only-of-type {\n",
       "        vertical-align: middle;\n",
       "    }\n",
       "\n",
       "    .dataframe tbody tr th {\n",
       "        vertical-align: top;\n",
       "    }\n",
       "\n",
       "    .dataframe thead th {\n",
       "        text-align: right;\n",
       "    }\n",
       "</style>\n",
       "<table border=\"1\" class=\"dataframe\">\n",
       "  <thead>\n",
       "    <tr style=\"text-align: right;\">\n",
       "      <th></th>\n",
       "      <th>true</th>\n",
       "      <th>pred</th>\n",
       "    </tr>\n",
       "  </thead>\n",
       "  <tbody>\n",
       "    <tr>\n",
       "      <th>count</th>\n",
       "      <td>20000.000000</td>\n",
       "      <td>20000.000000</td>\n",
       "    </tr>\n",
       "    <tr>\n",
       "      <th>mean</th>\n",
       "      <td>0.501950</td>\n",
       "      <td>0.505701</td>\n",
       "    </tr>\n",
       "    <tr>\n",
       "      <th>std</th>\n",
       "      <td>0.500009</td>\n",
       "      <td>0.372220</td>\n",
       "    </tr>\n",
       "    <tr>\n",
       "      <th>min</th>\n",
       "      <td>0.000000</td>\n",
       "      <td>-0.293254</td>\n",
       "    </tr>\n",
       "    <tr>\n",
       "      <th>25%</th>\n",
       "      <td>0.000000</td>\n",
       "      <td>0.132883</td>\n",
       "    </tr>\n",
       "    <tr>\n",
       "      <th>50%</th>\n",
       "      <td>1.000000</td>\n",
       "      <td>0.505229</td>\n",
       "    </tr>\n",
       "    <tr>\n",
       "      <th>75%</th>\n",
       "      <td>1.000000</td>\n",
       "      <td>0.870885</td>\n",
       "    </tr>\n",
       "    <tr>\n",
       "      <th>max</th>\n",
       "      <td>1.000000</td>\n",
       "      <td>1.385318</td>\n",
       "    </tr>\n",
       "  </tbody>\n",
       "</table>\n",
       "</div>"
      ],
      "text/plain": [
       "               true          pred\n",
       "count  20000.000000  20000.000000\n",
       "mean       0.501950      0.505701\n",
       "std        0.500009      0.372220\n",
       "min        0.000000     -0.293254\n",
       "25%        0.000000      0.132883\n",
       "50%        1.000000      0.505229\n",
       "75%        1.000000      0.870885\n",
       "max        1.000000      1.385318"
      ]
     },
     "execution_count": 55,
     "metadata": {},
     "output_type": "execute_result"
    }
   ],
   "source": [
    "df_results = pd.DataFrame(\n",
    "    data = np.hstack((\n",
    "    np.expand_dims(test_reals,1),test_preds\n",
    "    ))\n",
    "    ,columns = [\"true\",\"pred\"]\n",
    ")\n",
    "\n",
    "df_results.describe()"
   ]
  },
  {
   "cell_type": "code",
   "execution_count": 56,
   "id": "56d8559d-4194-446f-b201-b3245bc31aab",
   "metadata": {},
   "outputs": [
    {
     "data": {
      "text/html": [
       "<div>\n",
       "<style scoped>\n",
       "    .dataframe tbody tr th:only-of-type {\n",
       "        vertical-align: middle;\n",
       "    }\n",
       "\n",
       "    .dataframe tbody tr th {\n",
       "        vertical-align: top;\n",
       "    }\n",
       "\n",
       "    .dataframe thead th {\n",
       "        text-align: right;\n",
       "    }\n",
       "</style>\n",
       "<table border=\"1\" class=\"dataframe\">\n",
       "  <thead>\n",
       "    <tr style=\"text-align: right;\">\n",
       "      <th></th>\n",
       "      <th>true</th>\n",
       "      <th>pred</th>\n",
       "    </tr>\n",
       "    <tr>\n",
       "      <th>pred_segment</th>\n",
       "      <th></th>\n",
       "      <th></th>\n",
       "    </tr>\n",
       "  </thead>\n",
       "  <tbody>\n",
       "    <tr>\n",
       "      <th>(-0.294, 0.0253]</th>\n",
       "      <td>0.0335</td>\n",
       "      <td>-0.017096</td>\n",
       "    </tr>\n",
       "    <tr>\n",
       "      <th>(0.0253, 0.0897]</th>\n",
       "      <td>0.0670</td>\n",
       "      <td>0.056435</td>\n",
       "    </tr>\n",
       "    <tr>\n",
       "      <th>(0.0897, 0.186]</th>\n",
       "      <td>0.1505</td>\n",
       "      <td>0.134915</td>\n",
       "    </tr>\n",
       "    <tr>\n",
       "      <th>(0.186, 0.333]</th>\n",
       "      <td>0.2815</td>\n",
       "      <td>0.256454</td>\n",
       "    </tr>\n",
       "    <tr>\n",
       "      <th>(0.333, 0.505]</th>\n",
       "      <td>0.4455</td>\n",
       "      <td>0.419408</td>\n",
       "    </tr>\n",
       "    <tr>\n",
       "      <th>(0.505, 0.674]</th>\n",
       "      <td>0.5995</td>\n",
       "      <td>0.592074</td>\n",
       "    </tr>\n",
       "    <tr>\n",
       "      <th>(0.674, 0.815]</th>\n",
       "      <td>0.7245</td>\n",
       "      <td>0.748298</td>\n",
       "    </tr>\n",
       "    <tr>\n",
       "      <th>(0.815, 0.915]</th>\n",
       "      <td>0.8425</td>\n",
       "      <td>0.868346</td>\n",
       "    </tr>\n",
       "    <tr>\n",
       "      <th>(0.915, 0.989]</th>\n",
       "      <td>0.9200</td>\n",
       "      <td>0.952797</td>\n",
       "    </tr>\n",
       "    <tr>\n",
       "      <th>(0.989, 1.385]</th>\n",
       "      <td>0.9550</td>\n",
       "      <td>1.045383</td>\n",
       "    </tr>\n",
       "  </tbody>\n",
       "</table>\n",
       "</div>"
      ],
      "text/plain": [
       "                    true      pred\n",
       "pred_segment                      \n",
       "(-0.294, 0.0253]  0.0335 -0.017096\n",
       "(0.0253, 0.0897]  0.0670  0.056435\n",
       "(0.0897, 0.186]   0.1505  0.134915\n",
       "(0.186, 0.333]    0.2815  0.256454\n",
       "(0.333, 0.505]    0.4455  0.419408\n",
       "(0.505, 0.674]    0.5995  0.592074\n",
       "(0.674, 0.815]    0.7245  0.748298\n",
       "(0.815, 0.915]    0.8425  0.868346\n",
       "(0.915, 0.989]    0.9200  0.952797\n",
       "(0.989, 1.385]    0.9550  1.045383"
      ]
     },
     "execution_count": 56,
     "metadata": {},
     "output_type": "execute_result"
    }
   ],
   "source": [
    "df_results[\"pred_segment\"] = pd.qcut(df_results[\"pred\"],10, duplicates=\"drop\")\n",
    "df_results.groupby(\"pred_segment\").mean()"
   ]
  },
  {
   "cell_type": "code",
   "execution_count": 57,
   "id": "b8f73202-70ea-433a-be98-209228de4174",
   "metadata": {},
   "outputs": [
    {
     "data": {
      "text/plain": [
       "(0.137054, 0.2500087)"
      ]
     },
     "execution_count": 57,
     "metadata": {},
     "output_type": "execute_result"
    }
   ],
   "source": [
    "mean_squared_error(df_results[\"true\"], df_results[\"pred\"]), df_results[\"true\"].var()"
   ]
  },
  {
   "cell_type": "code",
   "execution_count": 58,
   "id": "467083b5-e371-4efa-82dd-f5d511f3054b",
   "metadata": {},
   "outputs": [
    {
     "data": {
      "text/plain": [
       "(0.26165348, 0.49999243)"
      ]
     },
     "execution_count": 58,
     "metadata": {},
     "output_type": "execute_result"
    }
   ],
   "source": [
    "mean_absolute_error(df_results[\"true\"], df_results[\"pred\"]), (\n",
    "    df_results[\"true\"]-df_results[\"true\"].mean()\n",
    ").abs().mean()"
   ]
  },
  {
   "cell_type": "markdown",
   "id": "66915d92-adcc-4fcf-bfa0-4da771443712",
   "metadata": {},
   "source": [
    "# Gaussian Process Regression"
   ]
  },
  {
   "cell_type": "code",
   "execution_count": 59,
   "id": "ad433dbd-b5ae-4c1d-8ac5-ce9f5a27b81a",
   "metadata": {},
   "outputs": [],
   "source": [
    "model = GaussianProcessRegressor(\n",
    "    kernel=kernels.RBF(length_scale=0.05)\n",
    "    ,n_restarts_optimizer=10\n",
    ").fit(x[val], y[val])"
   ]
  },
  {
   "cell_type": "code",
   "execution_count": 60,
   "id": "e4eae885-963c-49f4-977e-896020ea9ac5",
   "metadata": {},
   "outputs": [
    {
     "data": {
      "text/plain": [
       "{'length_scale': 2.909804172595744, 'length_scale_bounds': (1e-05, 100000.0)}"
      ]
     },
     "execution_count": 60,
     "metadata": {},
     "output_type": "execute_result"
    }
   ],
   "source": [
    "model.kernel_.get_params()"
   ]
  },
  {
   "cell_type": "code",
   "execution_count": 61,
   "id": "b70b6b4d-f294-4472-a643-951f7df956c4",
   "metadata": {},
   "outputs": [
    {
     "data": {
      "text/plain": [
       "(0.4900941324462723, 0.50195, 0.43513950185119143, 0.4999961974855409)"
      ]
     },
     "execution_count": 61,
     "metadata": {},
     "output_type": "execute_result"
    }
   ],
   "source": [
    "y_pred_gauss = model.predict(x[test])\n",
    "y_true_gauss = y[test]\n",
    "y_pred_gauss.mean(), y_true_gauss.mean(), y_pred_gauss.std(), y_true_gauss.std()"
   ]
  },
  {
   "cell_type": "code",
   "execution_count": 62,
   "id": "1ee341f1-64e8-446f-95f4-f31b9297d051",
   "metadata": {},
   "outputs": [
    {
     "data": {
      "text/plain": [
       "(0.36379706633345177, 0.49999239500000003)"
      ]
     },
     "execution_count": 62,
     "metadata": {},
     "output_type": "execute_result"
    }
   ],
   "source": [
    "mean_absolute_error(y_true_gauss, y_pred_gauss), (\n",
    "    np.abs(\n",
    "        y_true_gauss-y_true_gauss.mean()\n",
    "    )\n",
    ").mean()"
   ]
  },
  {
   "cell_type": "code",
   "execution_count": 63,
   "id": "99ee834c-4095-45d0-b5cc-464d0912d9a5",
   "metadata": {},
   "outputs": [
    {
     "data": {
      "text/plain": [
       "(0.2114516888868636, 0.24999619750000002)"
      ]
     },
     "execution_count": 63,
     "metadata": {},
     "output_type": "execute_result"
    }
   ],
   "source": [
    "mean_squared_error(y_true_gauss, y_pred_gauss), (\n",
    "    np.abs(\n",
    "        y_true_gauss-y_true_gauss.mean()\n",
    "    )**2\n",
    ").mean()"
   ]
  },
  {
   "cell_type": "code",
   "execution_count": null,
   "id": "cff3f4e8-9a03-4370-b109-c2973ff929e1",
   "metadata": {},
   "outputs": [],
   "source": []
  }
 ],
 "metadata": {
  "environment": {
   "kernel": "python3",
   "name": "pytorch-gpu.1-11.m94",
   "type": "gcloud",
   "uri": "gcr.io/deeplearning-platform-release/pytorch-gpu.1-11:m94"
  },
  "kernelspec": {
   "display_name": "Python 3",
   "language": "python",
   "name": "python3"
  },
  "language_info": {
   "codemirror_mode": {
    "name": "ipython",
    "version": 3
   },
   "file_extension": ".py",
   "mimetype": "text/x-python",
   "name": "python",
   "nbconvert_exporter": "python",
   "pygments_lexer": "ipython3",
   "version": "3.7.12"
  }
 },
 "nbformat": 4,
 "nbformat_minor": 5
}
