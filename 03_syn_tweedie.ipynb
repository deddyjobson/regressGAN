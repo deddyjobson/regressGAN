{
 "cells": [
  {
   "cell_type": "markdown",
   "id": "b07fcdc9-31a2-41d0-a868-37f072c725a2",
   "metadata": {},
   "source": [
    "[ref](https://pytorch.org/tutorials/beginner/dcgan_faces_tutorial.html)"
   ]
  },
  {
   "cell_type": "code",
   "execution_count": 1,
   "id": "a299c93b-2ec6-498e-b737-d38aae8f3156",
   "metadata": {},
   "outputs": [],
   "source": [
    "import numpy as np\n",
    "import pandas as pd\n",
    "import matplotlib.pyplot as plt\n",
    "import tweedie\n",
    "\n",
    "from sklearn.model_selection import train_test_split\n",
    "from sklearn.metrics import mean_squared_error, mean_absolute_error\n",
    "from sklearn.datasets import fetch_openml\n",
    "from sklearn.preprocessing import OneHotEncoder\n",
    "from sklearn.gaussian_process import GaussianProcessRegressor, kernels"
   ]
  },
  {
   "cell_type": "code",
   "execution_count": 2,
   "id": "835efe7f-bbf8-4ecf-b7a0-7b4f4202c394",
   "metadata": {},
   "outputs": [],
   "source": [
    "import torch\n",
    "import torch.nn as nn\n",
    "import torch.nn.parallel\n",
    "import torch.backends.cudnn as cudnn\n",
    "import torch.optim as optim\n",
    "import torch.utils.data\n",
    "\n",
    "from torch.utils.data.sampler import SubsetRandomSampler"
   ]
  },
  {
   "cell_type": "code",
   "execution_count": 3,
   "id": "49ddac81-def8-4e05-9ac8-23c20a3a6582",
   "metadata": {},
   "outputs": [
    {
     "name": "stdout",
     "output_type": "stream",
     "text": [
      "Random Seed:  999\n"
     ]
    },
    {
     "data": {
      "text/plain": [
       "<torch._C.Generator at 0x7fd96f4664d0>"
      ]
     },
     "execution_count": 3,
     "metadata": {},
     "output_type": "execute_result"
    }
   ],
   "source": [
    "# Set random seed for reproducibility\n",
    "manualSeed = 999\n",
    "#manualSeed = random.randint(1, 10000) # use if you want new results\n",
    "print(\"Random Seed: \", manualSeed)\n",
    "np.random.seed(manualSeed)\n",
    "torch.manual_seed(manualSeed)"
   ]
  },
  {
   "cell_type": "code",
   "execution_count": 4,
   "id": "27efa966-b354-4ada-ab08-4c79913e7702",
   "metadata": {},
   "outputs": [],
   "source": [
    "device = torch.device(\"cuda:0\" if (torch.cuda.is_available() and ngpu > 0) else \"cpu\")\n",
    "ngpu=0"
   ]
  },
  {
   "cell_type": "code",
   "execution_count": 5,
   "id": "ba9d7026-28ae-469a-8746-782b18352530",
   "metadata": {},
   "outputs": [],
   "source": [
    "n_samples = 10**5\n",
    "n_feats = 25"
   ]
  },
  {
   "cell_type": "code",
   "execution_count": 6,
   "id": "0b23e937-dd39-4443-b66c-358501763774",
   "metadata": {},
   "outputs": [],
   "source": [
    "x = np.random.randn(n_samples, n_feats)\n",
    "w = np.random.randn(n_feats) * 0.1\n",
    "\n",
    "mus = np.exp(x.dot(w))\n",
    "y = tweedie.tweedie(mu=mus, p=1.5, phi=1).rvs() "
   ]
  },
  {
   "cell_type": "markdown",
   "id": "fc875939-ce9f-4b50-b53b-23fff0688262",
   "metadata": {},
   "source": [
    "### Simple Linear Regression check"
   ]
  },
  {
   "cell_type": "code",
   "execution_count": 7,
   "id": "448800fd-6be2-465e-a2cc-4bdf178de4df",
   "metadata": {},
   "outputs": [
    {
     "data": {
      "text/plain": [
       "array([-0.04453484, -0.04099412, -0.19285496,  0.01331058, -0.14403984,\n",
       "        0.00924913,  0.14710717, -0.07473427, -0.11923784,  0.08147301,\n",
       "        0.08804803,  0.21053354, -0.00357033,  0.07623259, -0.12245195,\n",
       "        0.11591204, -0.02805224,  0.00960302,  0.10405486, -0.15425664,\n",
       "        0.199198  ,  0.05482115, -0.12857953,  0.22951176,  0.01448748])"
      ]
     },
     "execution_count": 7,
     "metadata": {},
     "output_type": "execute_result"
    }
   ],
   "source": [
    "from sklearn.linear_model import LinearRegression\n",
    "\n",
    "reg = LinearRegression().fit(x, y)\n",
    "reg.coef_"
   ]
  },
  {
   "cell_type": "code",
   "execution_count": 8,
   "id": "84bcbe89-a4e9-422b-a251-245cfea655ba",
   "metadata": {},
   "outputs": [
    {
     "data": {
      "text/plain": [
       "(0.19824195557637414, 1.3914423709161208)"
      ]
     },
     "execution_count": 8,
     "metadata": {},
     "output_type": "execute_result"
    }
   ],
   "source": [
    "reg.score(x, y), (1-reg.score(x, y))*y.var()"
   ]
  },
  {
   "cell_type": "markdown",
   "id": "60aa35bd-b7bb-409a-b623-21ca0ff56991",
   "metadata": {
    "tags": []
   },
   "source": [
    "# Regress GAN"
   ]
  },
  {
   "cell_type": "markdown",
   "id": "b3acd4b7-1b0d-4eda-8cc5-d20429ec969f",
   "metadata": {},
   "source": [
    "### Define ANN Architecture"
   ]
  },
  {
   "cell_type": "code",
   "execution_count": 9,
   "id": "ee5d7b20-ed44-4047-bcc6-748164a359d2",
   "metadata": {},
   "outputs": [],
   "source": [
    "# Batch size during training\n",
    "batch_size = 64\n",
    "\n",
    "# Size of z latent vector (i.e. size of generator input)\n",
    "nz = 5\n",
    "\n",
    "# Number of training epochs\n",
    "num_epochs = 10\n",
    "\n",
    "# Learning rate for optimizers\n",
    "lr = 0.002\n",
    "# lr = 0.0002\n",
    "\n",
    "# Beta1 hyperparam for Adam optimizers\n",
    "beta1 = 0.5\n",
    "\n",
    "# width of the network\n",
    "network_width = 128"
   ]
  },
  {
   "cell_type": "code",
   "execution_count": 10,
   "id": "22b53034-9834-4886-bfd9-ad9fccca302f",
   "metadata": {},
   "outputs": [],
   "source": [
    "# create train and test indices\n",
    "train, test = train_test_split(list(range(x.shape[0])), test_size=.2)\n",
    "train, val = train_test_split(train, test_size=.25)"
   ]
  },
  {
   "cell_type": "code",
   "execution_count": 11,
   "id": "926ae90b-8966-4a42-995c-2512b91025b3",
   "metadata": {},
   "outputs": [],
   "source": [
    "# https://gist.github.com/conormm/5b26a08029b900520bcd6fcd1f5712a0\n",
    "class PrepareData(torch.utils.data.Dataset):\n",
    "\n",
    "    def __init__(self, X, y, scale_X=True):\n",
    "        if not torch.is_tensor(X):\n",
    "            if scale_X:\n",
    "                X = StandardScaler().fit_transform(X)\n",
    "            self.X = torch.from_numpy(X).float()\n",
    "        else:\n",
    "            self.X = X.float32()\n",
    "        if not torch.is_tensor(y):\n",
    "            self.y = torch.from_numpy(y).float()\n",
    "        else:\n",
    "            self.y = y.float32()\n",
    "\n",
    "    def __len__(self):\n",
    "        return len(self.X)\n",
    "\n",
    "    def __getitem__(self, idx):\n",
    "        return self.X[idx], self.y[idx]\n",
    "\n",
    "ds = PrepareData(x, y=y, scale_X=False)\n",
    "\n",
    "train_set = torch.utils.data.DataLoader(ds, batch_size=batch_size,\n",
    "                       sampler=SubsetRandomSampler(train))\n",
    "val_set = torch.utils.data.DataLoader(ds, batch_size=batch_size,\n",
    "                       sampler=SubsetRandomSampler(val))\n",
    "test_set = torch.utils.data.DataLoader(ds, batch_size=batch_size,\n",
    "                      sampler=SubsetRandomSampler(test))"
   ]
  },
  {
   "cell_type": "code",
   "execution_count": 12,
   "id": "ae20ffb8-a81c-401b-96cc-6ea2948081d3",
   "metadata": {
    "collapsed": false,
    "jupyter": {
     "outputs_hidden": false
    }
   },
   "outputs": [],
   "source": [
    "# Generator Code\n",
    "\n",
    "class Generator(nn.Module):\n",
    "    def __init__(self, ngpu):\n",
    "        super(Generator, self).__init__()\n",
    "        self.ngpu = ngpu\n",
    "        self.main = nn.Sequential(\n",
    "            # input is Z, going into a convolution\n",
    "            nn.Linear( n_feats+nz, network_width, bias=True),\n",
    "            nn.ReLU(True),\n",
    "\n",
    "            nn.Linear( network_width, network_width, bias=True),\n",
    "            nn.ReLU(True),\n",
    "\n",
    "            nn.Linear( network_width, 1, bias=True)\n",
    "\n",
    "        )\n",
    "\n",
    "    def forward(self, input):\n",
    "        return self.main(input)"
   ]
  },
  {
   "cell_type": "code",
   "execution_count": 13,
   "id": "75149020-6f89-4866-b582-b6d1f1bfbf0f",
   "metadata": {},
   "outputs": [
    {
     "name": "stdout",
     "output_type": "stream",
     "text": [
      "Generator(\n",
      "  (main): Sequential(\n",
      "    (0): Linear(in_features=30, out_features=128, bias=True)\n",
      "    (1): ReLU(inplace=True)\n",
      "    (2): Linear(in_features=128, out_features=128, bias=True)\n",
      "    (3): ReLU(inplace=True)\n",
      "    (4): Linear(in_features=128, out_features=1, bias=True)\n",
      "  )\n",
      ")\n"
     ]
    }
   ],
   "source": [
    "# Create the generator\n",
    "netG = Generator(ngpu).to(device)\n",
    "\n",
    "# Print the model\n",
    "print(netG)"
   ]
  },
  {
   "cell_type": "code",
   "execution_count": 14,
   "id": "65c0957d-f66b-491d-97a0-6cb5107cbb4c",
   "metadata": {
    "collapsed": false,
    "jupyter": {
     "outputs_hidden": false
    }
   },
   "outputs": [],
   "source": [
    "# Discriminator Code\n",
    "\n",
    "class Discriminator(nn.Module):\n",
    "    def __init__(self, ngpu):\n",
    "        super(Discriminator, self).__init__()\n",
    "        self.ngpu = ngpu\n",
    "        self.main = nn.Sequential(\n",
    "            # input is Z, going into a convolution\n",
    "            nn.Linear(n_feats+1, network_width, bias=True), # i/p is covariates and o/p\n",
    "            nn.LeakyReLU(0.2, inplace=True),\n",
    "\n",
    "            nn.Linear( network_width, network_width, bias=True),\n",
    "            nn.LeakyReLU(0.2, inplace=True),\n",
    "\n",
    "            nn.Linear( network_width, 1, bias=True),\n",
    "            nn.Sigmoid(),\n",
    "\n",
    "        )\n",
    "\n",
    "    def forward(self, input):\n",
    "        return self.main(input)"
   ]
  },
  {
   "cell_type": "code",
   "execution_count": 15,
   "id": "29259410-3eeb-44b4-8097-ac4eb88d2813",
   "metadata": {},
   "outputs": [
    {
     "name": "stdout",
     "output_type": "stream",
     "text": [
      "Discriminator(\n",
      "  (main): Sequential(\n",
      "    (0): Linear(in_features=26, out_features=128, bias=True)\n",
      "    (1): LeakyReLU(negative_slope=0.2, inplace=True)\n",
      "    (2): Linear(in_features=128, out_features=128, bias=True)\n",
      "    (3): LeakyReLU(negative_slope=0.2, inplace=True)\n",
      "    (4): Linear(in_features=128, out_features=1, bias=True)\n",
      "    (5): Sigmoid()\n",
      "  )\n",
      ")\n"
     ]
    }
   ],
   "source": [
    "# Create the Discriminator\n",
    "netD = Discriminator(ngpu).to(device)\n",
    "\n",
    "# Print the model\n",
    "print(netD)"
   ]
  },
  {
   "cell_type": "code",
   "execution_count": 16,
   "id": "c30d199c-43ed-4bc9-b0b2-2d8661f2efa8",
   "metadata": {
    "collapsed": false,
    "jupyter": {
     "outputs_hidden": false
    }
   },
   "outputs": [],
   "source": [
    "# Initialize BCELoss function\n",
    "criterion = nn.BCELoss()\n",
    "\n",
    "# Create batch of latent vectors that we will use to visualize\n",
    "#  the progression of the generator\n",
    "fixed_noise = torch.randn(nz, device=device)\n",
    "\n",
    "# Establish convention for real and fake labels during training\n",
    "real_label = 1.\n",
    "fake_label = 0.\n",
    "\n",
    "# Setup Adam optimizers for both G and D\n",
    "optimizerD = optim.Adam(netD.parameters(), lr=lr, betas=(beta1, 0.999))\n",
    "optimizerG = optim.Adam(netG.parameters(), lr=lr, betas=(beta1, 0.999))"
   ]
  },
  {
   "cell_type": "code",
   "execution_count": 17,
   "id": "4caa3c28-69b8-4383-83d6-36d301752234",
   "metadata": {},
   "outputs": [
    {
     "name": "stdout",
     "output_type": "stream",
     "text": [
      "Starting Training Loop...\n",
      "[0/10][0/938]\tLoss_D: 1.3706\tLoss_G: 0.6997\tD(x): 0.5039\tD(G(z)): 0.4953 / 0.4970\n",
      "[0/10][500/938]\tLoss_D: 1.3722\tLoss_G: 0.7493\tD(x): 0.4782\tD(G(z)): 0.4686 / 0.4734\n",
      "[1/10][0/938]\tLoss_D: 1.3794\tLoss_G: 0.7347\tD(x): 0.4854\tD(G(z)): 0.4810 / 0.4803\n",
      "[1/10][500/938]\tLoss_D: 1.3833\tLoss_G: 0.6911\tD(x): 0.5028\tD(G(z)): 0.5012 / 0.5011\n",
      "[2/10][0/938]\tLoss_D: 1.3826\tLoss_G: 0.6910\tD(x): 0.5046\tD(G(z)): 0.5027 / 0.5012\n",
      "[2/10][500/938]\tLoss_D: 1.3926\tLoss_G: 0.6892\tD(x): 0.5020\tD(G(z)): 0.5048 / 0.5021\n",
      "[3/10][0/938]\tLoss_D: 1.3870\tLoss_G: 0.7013\tD(x): 0.4953\tD(G(z)): 0.4955 / 0.4960\n",
      "[3/10][500/938]\tLoss_D: 1.3851\tLoss_G: 0.6985\tD(x): 0.4965\tD(G(z)): 0.4958 / 0.4974\n",
      "[4/10][0/938]\tLoss_D: 1.3861\tLoss_G: 0.6800\tD(x): 0.5087\tD(G(z)): 0.5084 / 0.5066\n",
      "[4/10][500/938]\tLoss_D: 1.3864\tLoss_G: 0.6989\tD(x): 0.4978\tD(G(z)): 0.4978 / 0.4971\n",
      "[5/10][0/938]\tLoss_D: 1.3899\tLoss_G: 0.6913\tD(x): 0.5037\tD(G(z)): 0.5054 / 0.5010\n",
      "[5/10][500/938]\tLoss_D: 1.3842\tLoss_G: 0.6855\tD(x): 0.5046\tD(G(z)): 0.5034 / 0.5038\n",
      "[6/10][0/938]\tLoss_D: 1.3900\tLoss_G: 0.6767\tD(x): 0.5234\tD(G(z)): 0.5220 / 0.5088\n",
      "[6/10][500/938]\tLoss_D: 1.3872\tLoss_G: 0.6881\tD(x): 0.5019\tD(G(z)): 0.5023 / 0.5025\n",
      "[7/10][0/938]\tLoss_D: 1.3863\tLoss_G: 0.6830\tD(x): 0.5052\tD(G(z)): 0.5052 / 0.5051\n",
      "[7/10][500/938]\tLoss_D: 1.3868\tLoss_G: 0.6941\tD(x): 0.4993\tD(G(z)): 0.4995 / 0.4995\n",
      "[8/10][0/938]\tLoss_D: 1.3864\tLoss_G: 0.6917\tD(x): 0.5006\tD(G(z)): 0.5006 / 0.5007\n",
      "[8/10][500/938]\tLoss_D: 1.3905\tLoss_G: 0.6965\tD(x): 0.5008\tD(G(z)): 0.5026 / 0.4984\n",
      "[9/10][0/938]\tLoss_D: 1.3884\tLoss_G: 0.6831\tD(x): 0.5077\tD(G(z)): 0.5083 / 0.5051\n",
      "[9/10][500/938]\tLoss_D: 1.3866\tLoss_G: 0.6860\tD(x): 0.5042\tD(G(z)): 0.5043 / 0.5036\n"
     ]
    }
   ],
   "source": [
    "# Training Loop\n",
    "\n",
    "# Lists to keep track of progress\n",
    "img_list = []\n",
    "G_losses = []\n",
    "D_losses = []\n",
    "iters = 0\n",
    "\n",
    "G_losses_val = []\n",
    "D_losses_val = []\n",
    "\n",
    "print(\"Starting Training Loop...\")\n",
    "# For each epoch\n",
    "for epoch in range(num_epochs):\n",
    "    # For each batch in the dataloader\n",
    "    for i, data in enumerate(train_set, 0):\n",
    "        \n",
    "        ############################\n",
    "        # (1) Update D network: maximize log(D(x)) + log(1 - D(G(z)))\n",
    "        ###########################\n",
    "        ## Train with all-real batch\n",
    "        netD.zero_grad()\n",
    "        # Format batch\n",
    "        real_cpu = torch.hstack((data[0],data[1].unsqueeze(1))).to(device)\n",
    "        b_size = real_cpu.size(0)\n",
    "        label = torch.full((b_size,), real_label, dtype=torch.float, device=device)\n",
    "        # Forward pass real batch through D\n",
    "        output = netD(real_cpu).view(-1)\n",
    "        # Calculate loss on all-real batch\n",
    "        errD_real = criterion(output, label)\n",
    "        # Calculate gradients for D in backward pass\n",
    "        errD_real.backward()\n",
    "        D_x = output.mean().item()\n",
    "\n",
    "        ## Train with all-fake batch\n",
    "        # Generate batch of latent vectors\n",
    "        noise = torch.randn(b_size, nz, device=device)\n",
    "        # Generate fake image batch with G\n",
    "        gen_ip = torch.hstack((data[0],noise)).to(device)\n",
    "        fake = netG(gen_ip)\n",
    "        \n",
    "        label.fill_(fake_label)\n",
    "        # Classify all fake batch with D\n",
    "        fake_cpu = torch.hstack((data[0],fake.detach())).to(device)\n",
    "        output = netD(fake_cpu.detach()).view(-1)\n",
    "        # Calculate D's loss on the all-fake batch\n",
    "        errD_fake = criterion(output, label)\n",
    "        # Calculate the gradients for this batch, accumulated (summed) with previous gradients\n",
    "        errD_fake.backward()\n",
    "        D_G_z1 = output.mean().item()\n",
    "        # Compute error of D as sum over the fake and the real batches\n",
    "        errD = errD_real + errD_fake\n",
    "        # Update D\n",
    "        optimizerD.step()\n",
    "\n",
    "        ############################\n",
    "        # (2) Update G network: maximize log(D(G(z)))\n",
    "        ###########################\n",
    "        netG.zero_grad()\n",
    "        label.fill_(real_label)  # fake labels are real for generator cost\n",
    "        # Since we just updated D, perform another forward pass of all-fake batch through D\n",
    "        fake_cpu = torch.hstack((data[0],fake)).to(device)\n",
    "        output = netD(fake_cpu).view(-1)\n",
    "        # Calculate G's loss based on this output\n",
    "        errG = criterion(output, label)\n",
    "        # Calculate gradients for G\n",
    "        errG.backward()\n",
    "        D_G_z2 = output.mean().item()\n",
    "        # Update G\n",
    "        optimizerG.step()\n",
    "        \n",
    "        # Output training stats\n",
    "        if i % 500 == 0:\n",
    "            print('[%d/%d][%d/%d]\\tLoss_D: %.4f\\tLoss_G: %.4f\\tD(x): %.4f\\tD(G(z)): %.4f / %.4f'\n",
    "                  % (epoch, num_epochs, i, len(train_set),\n",
    "                     errD.item(), errG.item(), D_x, D_G_z1, D_G_z2))\n",
    "                \n",
    "        # Output validation stats\n",
    "        if i % 100 == 0:\n",
    "            with torch.no_grad():\n",
    "                errG_vals = []\n",
    "                errD_vals = []\n",
    "                for i, data in enumerate(val_set, 0):\n",
    "                    b_size = data[0].size(0)\n",
    "                    noise = torch.randn(b_size, nz, device=device)\n",
    "                    # Generate fake image batch with G\n",
    "                    gen_ip = torch.hstack((data[0],noise)).to(device)\n",
    "                    gen_op = netG(gen_ip)\n",
    "                    \n",
    "                    fake_cpu = torch.hstack((data[0],gen_op)).to(device)\n",
    "                    fake_output = netD(fake_cpu).view(-1)\n",
    "\n",
    "                    label.fill_(real_label) # fake labels are real for generator cost\n",
    "                    errG_val = criterion(output, label)  \n",
    "                    \n",
    "                    label.fill_(fake_label)\n",
    "                    errD_fake_val = criterion(output, label)\n",
    "                    \n",
    "                    real_cpu = torch.hstack((data[0],data[1].unsqueeze(1))).to(device)\n",
    "                    real_output = netD(real_cpu).view(-1)\n",
    "                    \n",
    "                    label.fill_(real_label)\n",
    "                    errD_real_val = criterion(output, label)\n",
    "                    \n",
    "                    errG_vals.append(errG_val.item())\n",
    "                    errD_vals.append((errD_fake_val+errD_real_val).item())\n",
    "            G_losses_val.append(sum(errG_vals)/len(errG_vals))\n",
    "            D_losses_val.append(sum(errD_vals)/len(errD_vals))\n",
    "        \n",
    "        \n",
    "        # Save Losses for plotting later\n",
    "        G_losses.append(errG.item())\n",
    "        D_losses.append(errD.item())\n",
    "        \n",
    "        # Check how the generator is doing by saving G's output on fixed_noise\n",
    "        # if (iters % 500 == 0) or ((epoch == num_epochs-1) and (i == len(train_set)-1)):\n",
    "        #     with torch.no_grad():\n",
    "        #         fake = netG(fixed_noise).detach().cpu()\n",
    "        #     img_list.append(vutils.make_grid(fake, padding=2, normalize=True))\n",
    "            \n",
    "        iters += 1"
   ]
  },
  {
   "cell_type": "code",
   "execution_count": 18,
   "id": "1cca6ec1-c384-40f7-9455-c723703c67d4",
   "metadata": {},
   "outputs": [
    {
     "data": {
      "image/png": "[encoded data removed]",
      "text/plain": [
       "<Figure size 720x360 with 1 Axes>"
      ]
     },
     "metadata": {
      "needs_background": "light"
     },
     "output_type": "display_data"
    }
   ],
   "source": [
    "plt.figure(figsize=(10,5))\n",
    "plt.title(\"Generator and Discriminator Loss During Training\")\n",
    "plt.plot(G_losses,label=\"G\")\n",
    "plt.plot(D_losses,label=\"D\")\n",
    "plt.xlabel(\"iterations\")\n",
    "plt.ylabel(\"Loss\")\n",
    "plt.legend()\n",
    "plt.show()"
   ]
  },
  {
   "cell_type": "code",
   "execution_count": 19,
   "id": "64be2550-691b-40c4-a4e9-f16cb3783b0f",
   "metadata": {},
   "outputs": [
    {
     "data": {
      "image/png": "[encoded data removed]",
      "text/plain": [
       "<Figure size 720x360 with 1 Axes>"
      ]
     },
     "metadata": {
      "needs_background": "light"
     },
     "output_type": "display_data"
    }
   ],
   "source": [
    "plt.figure(figsize=(10,5))\n",
    "plt.title(\"Generator and Discriminator Loss During Training (Validation Set)\")\n",
    "plt.plot(G_losses_val,label=\"G\")\n",
    "plt.plot(D_losses_val,label=\"D\")\n",
    "plt.xlabel(\"iterations\")\n",
    "plt.ylabel(\"Loss\")\n",
    "plt.legend()\n",
    "plt.show()"
   ]
  },
  {
   "cell_type": "markdown",
   "id": "9546287e-8940-4fbc-b990-81029da132cd",
   "metadata": {},
   "source": [
    "## Train Predictions"
   ]
  },
  {
   "cell_type": "code",
   "execution_count": 20,
   "id": "22d71a6f-0001-4bcd-957f-a2b0e1d2394d",
   "metadata": {},
   "outputs": [],
   "source": [
    "train_ops = []\n",
    "with torch.no_grad():\n",
    "    for i, data in enumerate(train_set, 0):\n",
    "        b_size = data[0].size(0)\n",
    "        noise = torch.randn(b_size, nz, device=device)\n",
    "        # Generate fake image batch with G\n",
    "        gen_ip = torch.hstack((data[0],noise)).to(device)\n",
    "        fake = netG(gen_ip)\n",
    "        \n",
    "        train_ops.append(\n",
    "            (data[1].detach().cpu().numpy(), fake.detach().cpu().numpy())\n",
    "        )"
   ]
  },
  {
   "cell_type": "code",
   "execution_count": 21,
   "id": "23c38a2f-9fec-452f-ac02-b3e35e14b189",
   "metadata": {},
   "outputs": [],
   "source": [
    "train_reals = np.concatenate(list(x[0] for x in train_ops))\n",
    "train_preds = np.concatenate(list(x[1] for x in train_ops))"
   ]
  },
  {
   "cell_type": "code",
   "execution_count": 22,
   "id": "378a9a1c-39df-4ae5-a35e-edff8243ec80",
   "metadata": {},
   "outputs": [
    {
     "data": {
      "text/html": [
       "<div>\n",
       "<style scoped>\n",
       "    .dataframe tbody tr th:only-of-type {\n",
       "        vertical-align: middle;\n",
       "    }\n",
       "\n",
       "    .dataframe tbody tr th {\n",
       "        vertical-align: top;\n",
       "    }\n",
       "\n",
       "    .dataframe thead th {\n",
       "        text-align: right;\n",
       "    }\n",
       "</style>\n",
       "<table border=\"1\" class=\"dataframe\">\n",
       "  <thead>\n",
       "    <tr style=\"text-align: right;\">\n",
       "      <th></th>\n",
       "      <th>true</th>\n",
       "      <th>pred</th>\n",
       "    </tr>\n",
       "  </thead>\n",
       "  <tbody>\n",
       "    <tr>\n",
       "      <th>count</th>\n",
       "      <td>60000.000000</td>\n",
       "      <td>60000.000000</td>\n",
       "    </tr>\n",
       "    <tr>\n",
       "      <th>mean</th>\n",
       "      <td>1.140803</td>\n",
       "      <td>0.930427</td>\n",
       "    </tr>\n",
       "    <tr>\n",
       "      <th>std</th>\n",
       "      <td>1.321923</td>\n",
       "      <td>1.171411</td>\n",
       "    </tr>\n",
       "    <tr>\n",
       "      <th>min</th>\n",
       "      <td>0.000000</td>\n",
       "      <td>-0.749130</td>\n",
       "    </tr>\n",
       "    <tr>\n",
       "      <th>25%</th>\n",
       "      <td>0.188318</td>\n",
       "      <td>0.169680</td>\n",
       "    </tr>\n",
       "    <tr>\n",
       "      <th>50%</th>\n",
       "      <td>0.731551</td>\n",
       "      <td>0.346609</td>\n",
       "    </tr>\n",
       "    <tr>\n",
       "      <th>75%</th>\n",
       "      <td>1.634366</td>\n",
       "      <td>1.430749</td>\n",
       "    </tr>\n",
       "    <tr>\n",
       "      <th>max</th>\n",
       "      <td>20.873404</td>\n",
       "      <td>9.445747</td>\n",
       "    </tr>\n",
       "  </tbody>\n",
       "</table>\n",
       "</div>"
      ],
      "text/plain": [
       "               true          pred\n",
       "count  60000.000000  60000.000000\n",
       "mean       1.140803      0.930427\n",
       "std        1.321923      1.171411\n",
       "min        0.000000     -0.749130\n",
       "25%        0.188318      0.169680\n",
       "50%        0.731551      0.346609\n",
       "75%        1.634366      1.430749\n",
       "max       20.873404      9.445747"
      ]
     },
     "execution_count": 22,
     "metadata": {},
     "output_type": "execute_result"
    }
   ],
   "source": [
    "df_results_train = pd.DataFrame(\n",
    "    data = np.hstack((\n",
    "    np.expand_dims(train_reals,1),train_preds\n",
    "    ))\n",
    "    ,columns = [\"true\",\"pred\"]\n",
    ")\n",
    "\n",
    "df_results_train.describe()"
   ]
  },
  {
   "cell_type": "code",
   "execution_count": 23,
   "id": "44f3be38-2a76-41f2-9f4a-95be6b25490b",
   "metadata": {},
   "outputs": [
    {
     "data": {
      "text/html": [
       "<div>\n",
       "<style scoped>\n",
       "    .dataframe tbody tr th:only-of-type {\n",
       "        vertical-align: middle;\n",
       "    }\n",
       "\n",
       "    .dataframe tbody tr th {\n",
       "        vertical-align: top;\n",
       "    }\n",
       "\n",
       "    .dataframe thead th {\n",
       "        text-align: right;\n",
       "    }\n",
       "</style>\n",
       "<table border=\"1\" class=\"dataframe\">\n",
       "  <thead>\n",
       "    <tr style=\"text-align: right;\">\n",
       "      <th></th>\n",
       "      <th>true</th>\n",
       "      <th>pred</th>\n",
       "    </tr>\n",
       "    <tr>\n",
       "      <th>pred_segment</th>\n",
       "      <th></th>\n",
       "      <th></th>\n",
       "    </tr>\n",
       "  </thead>\n",
       "  <tbody>\n",
       "    <tr>\n",
       "      <th>(-0.75, 0.0223]</th>\n",
       "      <td>0.974380</td>\n",
       "      <td>-0.107084</td>\n",
       "    </tr>\n",
       "    <tr>\n",
       "      <th>(0.0223, 0.13]</th>\n",
       "      <td>0.939275</td>\n",
       "      <td>0.080561</td>\n",
       "    </tr>\n",
       "    <tr>\n",
       "      <th>(0.13, 0.203]</th>\n",
       "      <td>0.900054</td>\n",
       "      <td>0.168575</td>\n",
       "    </tr>\n",
       "    <tr>\n",
       "      <th>(0.203, 0.269]</th>\n",
       "      <td>0.892566</td>\n",
       "      <td>0.235266</td>\n",
       "    </tr>\n",
       "    <tr>\n",
       "      <th>(0.269, 0.347]</th>\n",
       "      <td>0.860776</td>\n",
       "      <td>0.304247</td>\n",
       "    </tr>\n",
       "    <tr>\n",
       "      <th>(0.347, 0.641]</th>\n",
       "      <td>1.044741</td>\n",
       "      <td>0.468323</td>\n",
       "    </tr>\n",
       "    <tr>\n",
       "      <th>(0.641, 1.132]</th>\n",
       "      <td>1.194235</td>\n",
       "      <td>0.875234</td>\n",
       "    </tr>\n",
       "    <tr>\n",
       "      <th>(1.132, 1.759]</th>\n",
       "      <td>1.316839</td>\n",
       "      <td>1.433105</td>\n",
       "    </tr>\n",
       "    <tr>\n",
       "      <th>(1.759, 2.664]</th>\n",
       "      <td>1.477380</td>\n",
       "      <td>2.176378</td>\n",
       "    </tr>\n",
       "    <tr>\n",
       "      <th>(2.664, 9.446]</th>\n",
       "      <td>1.807779</td>\n",
       "      <td>3.669668</td>\n",
       "    </tr>\n",
       "  </tbody>\n",
       "</table>\n",
       "</div>"
      ],
      "text/plain": [
       "                     true      pred\n",
       "pred_segment                       \n",
       "(-0.75, 0.0223]  0.974380 -0.107084\n",
       "(0.0223, 0.13]   0.939275  0.080561\n",
       "(0.13, 0.203]    0.900054  0.168575\n",
       "(0.203, 0.269]   0.892566  0.235266\n",
       "(0.269, 0.347]   0.860776  0.304247\n",
       "(0.347, 0.641]   1.044741  0.468323\n",
       "(0.641, 1.132]   1.194235  0.875234\n",
       "(1.132, 1.759]   1.316839  1.433105\n",
       "(1.759, 2.664]   1.477380  2.176378\n",
       "(2.664, 9.446]   1.807779  3.669668"
      ]
     },
     "execution_count": 23,
     "metadata": {},
     "output_type": "execute_result"
    }
   ],
   "source": [
    "df_results_train[\"pred_segment\"] = pd.qcut(df_results_train[\"pred\"],10)\n",
    "df_results_train.groupby(\"pred_segment\").mean()"
   ]
  },
  {
   "cell_type": "code",
   "execution_count": 24,
   "id": "25f8c965-2241-458d-bd98-f79a9a5b8de9",
   "metadata": {},
   "outputs": [
    {
     "data": {
      "text/plain": [
       "(2.4666026, 1.7474799)"
      ]
     },
     "execution_count": 24,
     "metadata": {},
     "output_type": "execute_result"
    }
   ],
   "source": [
    "mean_squared_error(df_results_train[\"true\"], df_results_train[\"pred\"]), df_results_train[\"true\"].var()"
   ]
  },
  {
   "cell_type": "code",
   "execution_count": 25,
   "id": "3b5a2f6a-10cb-4354-8ec2-188535bf86e5",
   "metadata": {},
   "outputs": [
    {
     "data": {
      "text/plain": [
       "(1.0879179, 0.9557712)"
      ]
     },
     "execution_count": 25,
     "metadata": {},
     "output_type": "execute_result"
    }
   ],
   "source": [
    "mean_absolute_error(df_results_train[\"true\"], df_results_train[\"pred\"]), (\n",
    "    df_results_train[\"true\"]-df_results_train[\"true\"].mean()\n",
    ").abs().mean()"
   ]
  },
  {
   "cell_type": "markdown",
   "id": "a8de3f01-dd60-4f6b-bf53-7b6fb50ab87a",
   "metadata": {},
   "source": [
    "## Test Predictions"
   ]
  },
  {
   "cell_type": "code",
   "execution_count": 26,
   "id": "4ca1102a-11e2-46b8-b0e4-232f0b8b6075",
   "metadata": {},
   "outputs": [],
   "source": [
    "test_ops = []\n",
    "with torch.no_grad():\n",
    "    for i, data in enumerate(test_set, 0):\n",
    "        b_size = data[0].size(0)\n",
    "        noise = torch.randn(b_size, nz, device=device)\n",
    "        # Generate fake image batch with G\n",
    "        gen_ip = torch.hstack((data[0],noise)).to(device)\n",
    "        fake = netG(gen_ip)\n",
    "        \n",
    "        test_ops.append(\n",
    "            (data[1].detach().cpu().numpy(), fake.detach().cpu().numpy())\n",
    "        )"
   ]
  },
  {
   "cell_type": "code",
   "execution_count": 27,
   "id": "a865a72b-bc48-4bbd-a185-ed30259d54c8",
   "metadata": {},
   "outputs": [],
   "source": [
    "test_reals = np.concatenate(list(x[0] for x in test_ops))\n",
    "test_preds = np.concatenate(list(x[1] for x in test_ops))"
   ]
  },
  {
   "cell_type": "code",
   "execution_count": 28,
   "id": "749677ba-6512-4ed3-8b27-979ac7f6b01c",
   "metadata": {},
   "outputs": [
    {
     "data": {
      "text/html": [
       "<div>\n",
       "<style scoped>\n",
       "    .dataframe tbody tr th:only-of-type {\n",
       "        vertical-align: middle;\n",
       "    }\n",
       "\n",
       "    .dataframe tbody tr th {\n",
       "        vertical-align: top;\n",
       "    }\n",
       "\n",
       "    .dataframe thead th {\n",
       "        text-align: right;\n",
       "    }\n",
       "</style>\n",
       "<table border=\"1\" class=\"dataframe\">\n",
       "  <thead>\n",
       "    <tr style=\"text-align: right;\">\n",
       "      <th></th>\n",
       "      <th>true</th>\n",
       "      <th>pred</th>\n",
       "    </tr>\n",
       "  </thead>\n",
       "  <tbody>\n",
       "    <tr>\n",
       "      <th>count</th>\n",
       "      <td>20000.000000</td>\n",
       "      <td>20000.000000</td>\n",
       "    </tr>\n",
       "    <tr>\n",
       "      <th>mean</th>\n",
       "      <td>1.116001</td>\n",
       "      <td>0.913647</td>\n",
       "    </tr>\n",
       "    <tr>\n",
       "      <th>std</th>\n",
       "      <td>1.289833</td>\n",
       "      <td>1.148619</td>\n",
       "    </tr>\n",
       "    <tr>\n",
       "      <th>min</th>\n",
       "      <td>0.000000</td>\n",
       "      <td>-0.696088</td>\n",
       "    </tr>\n",
       "    <tr>\n",
       "      <th>25%</th>\n",
       "      <td>0.187365</td>\n",
       "      <td>0.168847</td>\n",
       "    </tr>\n",
       "    <tr>\n",
       "      <th>50%</th>\n",
       "      <td>0.717745</td>\n",
       "      <td>0.341176</td>\n",
       "    </tr>\n",
       "    <tr>\n",
       "      <th>75%</th>\n",
       "      <td>1.585128</td>\n",
       "      <td>1.408507</td>\n",
       "    </tr>\n",
       "    <tr>\n",
       "      <th>max</th>\n",
       "      <td>14.393881</td>\n",
       "      <td>8.373297</td>\n",
       "    </tr>\n",
       "  </tbody>\n",
       "</table>\n",
       "</div>"
      ],
      "text/plain": [
       "               true          pred\n",
       "count  20000.000000  20000.000000\n",
       "mean       1.116001      0.913647\n",
       "std        1.289833      1.148619\n",
       "min        0.000000     -0.696088\n",
       "25%        0.187365      0.168847\n",
       "50%        0.717745      0.341176\n",
       "75%        1.585128      1.408507\n",
       "max       14.393881      8.373297"
      ]
     },
     "execution_count": 28,
     "metadata": {},
     "output_type": "execute_result"
    }
   ],
   "source": [
    "df_results = pd.DataFrame(\n",
    "    data = np.hstack((\n",
    "    np.expand_dims(test_reals,1),test_preds\n",
    "    ))\n",
    "    ,columns = [\"true\",\"pred\"]\n",
    ")\n",
    "\n",
    "df_results.describe()"
   ]
  },
  {
   "cell_type": "code",
   "execution_count": 29,
   "id": "452d1c07-874c-40f4-a2c2-300f4e5d437c",
   "metadata": {},
   "outputs": [
    {
     "data": {
      "text/html": [
       "<div>\n",
       "<style scoped>\n",
       "    .dataframe tbody tr th:only-of-type {\n",
       "        vertical-align: middle;\n",
       "    }\n",
       "\n",
       "    .dataframe tbody tr th {\n",
       "        vertical-align: top;\n",
       "    }\n",
       "\n",
       "    .dataframe thead th {\n",
       "        text-align: right;\n",
       "    }\n",
       "</style>\n",
       "<table border=\"1\" class=\"dataframe\">\n",
       "  <thead>\n",
       "    <tr style=\"text-align: right;\">\n",
       "      <th></th>\n",
       "      <th>true</th>\n",
       "      <th>pred</th>\n",
       "    </tr>\n",
       "    <tr>\n",
       "      <th>pred_segment</th>\n",
       "      <th></th>\n",
       "      <th></th>\n",
       "    </tr>\n",
       "  </thead>\n",
       "  <tbody>\n",
       "    <tr>\n",
       "      <th>(-0.697, 0.0196]</th>\n",
       "      <td>0.976896</td>\n",
       "      <td>-0.106835</td>\n",
       "    </tr>\n",
       "    <tr>\n",
       "      <th>(0.0196, 0.129]</th>\n",
       "      <td>0.948799</td>\n",
       "      <td>0.078347</td>\n",
       "    </tr>\n",
       "    <tr>\n",
       "      <th>(0.129, 0.202]</th>\n",
       "      <td>0.919655</td>\n",
       "      <td>0.167628</td>\n",
       "    </tr>\n",
       "    <tr>\n",
       "      <th>(0.202, 0.265]</th>\n",
       "      <td>0.879142</td>\n",
       "      <td>0.232831</td>\n",
       "    </tr>\n",
       "    <tr>\n",
       "      <th>(0.265, 0.341]</th>\n",
       "      <td>0.845454</td>\n",
       "      <td>0.300639</td>\n",
       "    </tr>\n",
       "    <tr>\n",
       "      <th>(0.341, 0.619]</th>\n",
       "      <td>1.018534</td>\n",
       "      <td>0.454362</td>\n",
       "    </tr>\n",
       "    <tr>\n",
       "      <th>(0.619, 1.118]</th>\n",
       "      <td>1.140400</td>\n",
       "      <td>0.853109</td>\n",
       "    </tr>\n",
       "    <tr>\n",
       "      <th>(1.118, 1.74]</th>\n",
       "      <td>1.294748</td>\n",
       "      <td>1.415770</td>\n",
       "    </tr>\n",
       "    <tr>\n",
       "      <th>(1.74, 2.608]</th>\n",
       "      <td>1.451416</td>\n",
       "      <td>2.147382</td>\n",
       "    </tr>\n",
       "    <tr>\n",
       "      <th>(2.608, 8.373]</th>\n",
       "      <td>1.684961</td>\n",
       "      <td>3.593238</td>\n",
       "    </tr>\n",
       "  </tbody>\n",
       "</table>\n",
       "</div>"
      ],
      "text/plain": [
       "                      true      pred\n",
       "pred_segment                        \n",
       "(-0.697, 0.0196]  0.976896 -0.106835\n",
       "(0.0196, 0.129]   0.948799  0.078347\n",
       "(0.129, 0.202]    0.919655  0.167628\n",
       "(0.202, 0.265]    0.879142  0.232831\n",
       "(0.265, 0.341]    0.845454  0.300639\n",
       "(0.341, 0.619]    1.018534  0.454362\n",
       "(0.619, 1.118]    1.140400  0.853109\n",
       "(1.118, 1.74]     1.294748  1.415770\n",
       "(1.74, 2.608]     1.451416  2.147382\n",
       "(2.608, 8.373]    1.684961  3.593238"
      ]
     },
     "execution_count": 29,
     "metadata": {},
     "output_type": "execute_result"
    }
   ],
   "source": [
    "df_results[\"pred_segment\"] = pd.qcut(df_results[\"pred\"],10)\n",
    "df_results.groupby(\"pred_segment\").mean()"
   ]
  },
  {
   "cell_type": "code",
   "execution_count": 30,
   "id": "0749ecba-0122-48d0-afc5-80b1b2bb408f",
   "metadata": {},
   "outputs": [
    {
     "data": {
      "text/plain": [
       "(2.4040692, 1.6636693)"
      ]
     },
     "execution_count": 30,
     "metadata": {},
     "output_type": "execute_result"
    }
   ],
   "source": [
    "mean_squared_error(df_results[\"true\"], df_results[\"pred\"]), df_results[\"true\"].var()"
   ]
  },
  {
   "cell_type": "code",
   "execution_count": 31,
   "id": "83577395-eba5-4a41-b391-e9dcc1eb2fc5",
   "metadata": {},
   "outputs": [
    {
     "data": {
      "text/plain": [
       "(1.07477, 0.9340843)"
      ]
     },
     "execution_count": 31,
     "metadata": {},
     "output_type": "execute_result"
    }
   ],
   "source": [
    "mean_absolute_error(df_results[\"true\"], df_results[\"pred\"]), (\n",
    "    df_results[\"true\"]-df_results[\"true\"].mean()\n",
    ").abs().mean()"
   ]
  },
  {
   "cell_type": "markdown",
   "id": "70a4e314-b34b-48d7-8c96-cb001997eaaf",
   "metadata": {},
   "source": [
    "## Test Predictions (averaged)"
   ]
  },
  {
   "cell_type": "code",
   "execution_count": 32,
   "id": "e337d101-7e02-45c8-9c6f-ab824c4159f2",
   "metadata": {},
   "outputs": [],
   "source": [
    "N_SAMPLES = 100\n",
    "test_ops = []\n",
    "with torch.no_grad():\n",
    "    for i, data in enumerate(test_set, 0):\n",
    "        b_size = data[0].size(0)\n",
    "        fakes = []\n",
    "        for _ in range(N_SAMPLES):\n",
    "            noise = torch.randn(b_size, nz, device=device)\n",
    "            # Generate fake image batch with G\n",
    "            gen_ip = torch.hstack((data[0],noise)).to(device)\n",
    "            fake = netG(gen_ip).detach().cpu().numpy()\n",
    "            fakes.append(fake)\n",
    "\n",
    "        test_ops.append(\n",
    "            (data[1].detach().cpu().numpy(), sum(fakes)/len(fakes))\n",
    "        )\n",
    "# print(test_reals.shape,np.concatenate(list(x[0] for x in test_ops)).shape)\n",
    "# print(test_preds.shape,np.concatenate(list(x[1] for x in test_ops)).shape)\n",
    "test_reals = np.concatenate(list(x[0] for x in test_ops))\n",
    "test_preds = np.concatenate(list(x[1] for x in test_ops))\n"
   ]
  },
  {
   "cell_type": "code",
   "execution_count": 33,
   "id": "6af69937-27e8-4522-9b13-7a0b9cb9b98c",
   "metadata": {},
   "outputs": [
    {
     "data": {
      "text/html": [
       "<div>\n",
       "<style scoped>\n",
       "    .dataframe tbody tr th:only-of-type {\n",
       "        vertical-align: middle;\n",
       "    }\n",
       "\n",
       "    .dataframe tbody tr th {\n",
       "        vertical-align: top;\n",
       "    }\n",
       "\n",
       "    .dataframe thead th {\n",
       "        text-align: right;\n",
       "    }\n",
       "</style>\n",
       "<table border=\"1\" class=\"dataframe\">\n",
       "  <thead>\n",
       "    <tr style=\"text-align: right;\">\n",
       "      <th></th>\n",
       "      <th>true</th>\n",
       "      <th>pred</th>\n",
       "    </tr>\n",
       "  </thead>\n",
       "  <tbody>\n",
       "    <tr>\n",
       "      <th>count</th>\n",
       "      <td>20000.000000</td>\n",
       "      <td>20000.000000</td>\n",
       "    </tr>\n",
       "    <tr>\n",
       "      <th>mean</th>\n",
       "      <td>1.116001</td>\n",
       "      <td>0.922601</td>\n",
       "    </tr>\n",
       "    <tr>\n",
       "      <th>std</th>\n",
       "      <td>1.289833</td>\n",
       "      <td>0.565379</td>\n",
       "    </tr>\n",
       "    <tr>\n",
       "      <th>min</th>\n",
       "      <td>0.000000</td>\n",
       "      <td>-0.098318</td>\n",
       "    </tr>\n",
       "    <tr>\n",
       "      <th>25%</th>\n",
       "      <td>0.187365</td>\n",
       "      <td>0.503802</td>\n",
       "    </tr>\n",
       "    <tr>\n",
       "      <th>50%</th>\n",
       "      <td>0.717745</td>\n",
       "      <td>0.795515</td>\n",
       "    </tr>\n",
       "    <tr>\n",
       "      <th>75%</th>\n",
       "      <td>1.585128</td>\n",
       "      <td>1.207875</td>\n",
       "    </tr>\n",
       "    <tr>\n",
       "      <th>max</th>\n",
       "      <td>14.393881</td>\n",
       "      <td>4.963004</td>\n",
       "    </tr>\n",
       "  </tbody>\n",
       "</table>\n",
       "</div>"
      ],
      "text/plain": [
       "               true          pred\n",
       "count  20000.000000  20000.000000\n",
       "mean       1.116001      0.922601\n",
       "std        1.289833      0.565379\n",
       "min        0.000000     -0.098318\n",
       "25%        0.187365      0.503802\n",
       "50%        0.717745      0.795515\n",
       "75%        1.585128      1.207875\n",
       "max       14.393881      4.963004"
      ]
     },
     "execution_count": 33,
     "metadata": {},
     "output_type": "execute_result"
    }
   ],
   "source": [
    "df_results = pd.DataFrame(\n",
    "    data = np.hstack((\n",
    "    np.expand_dims(test_reals,1),test_preds\n",
    "    ))\n",
    "    ,columns = [\"true\",\"pred\"]\n",
    ")\n",
    "\n",
    "df_results.describe()"
   ]
  },
  {
   "cell_type": "code",
   "execution_count": 34,
   "id": "a0bde69f-ca9d-4791-b5a3-65d00e879116",
   "metadata": {},
   "outputs": [
    {
     "data": {
      "text/html": [
       "<div>\n",
       "<style scoped>\n",
       "    .dataframe tbody tr th:only-of-type {\n",
       "        vertical-align: middle;\n",
       "    }\n",
       "\n",
       "    .dataframe tbody tr th {\n",
       "        vertical-align: top;\n",
       "    }\n",
       "\n",
       "    .dataframe thead th {\n",
       "        text-align: right;\n",
       "    }\n",
       "</style>\n",
       "<table border=\"1\" class=\"dataframe\">\n",
       "  <thead>\n",
       "    <tr style=\"text-align: right;\">\n",
       "      <th></th>\n",
       "      <th>true</th>\n",
       "      <th>pred</th>\n",
       "    </tr>\n",
       "    <tr>\n",
       "      <th>pred_segment</th>\n",
       "      <th></th>\n",
       "      <th></th>\n",
       "    </tr>\n",
       "  </thead>\n",
       "  <tbody>\n",
       "    <tr>\n",
       "      <th>(-0.0993, 0.335]</th>\n",
       "      <td>0.444666</td>\n",
       "      <td>0.243693</td>\n",
       "    </tr>\n",
       "    <tr>\n",
       "      <th>(0.335, 0.45]</th>\n",
       "      <td>0.610178</td>\n",
       "      <td>0.394244</td>\n",
       "    </tr>\n",
       "    <tr>\n",
       "      <th>(0.45, 0.555]</th>\n",
       "      <td>0.688883</td>\n",
       "      <td>0.503140</td>\n",
       "    </tr>\n",
       "    <tr>\n",
       "      <th>(0.555, 0.672]</th>\n",
       "      <td>0.809258</td>\n",
       "      <td>0.613146</td>\n",
       "    </tr>\n",
       "    <tr>\n",
       "      <th>(0.672, 0.796]</th>\n",
       "      <td>0.970570</td>\n",
       "      <td>0.733065</td>\n",
       "    </tr>\n",
       "    <tr>\n",
       "      <th>(0.796, 0.935]</th>\n",
       "      <td>1.090801</td>\n",
       "      <td>0.863593</td>\n",
       "    </tr>\n",
       "    <tr>\n",
       "      <th>(0.935, 1.106]</th>\n",
       "      <td>1.188482</td>\n",
       "      <td>1.016981</td>\n",
       "    </tr>\n",
       "    <tr>\n",
       "      <th>(1.106, 1.323]</th>\n",
       "      <td>1.341295</td>\n",
       "      <td>1.210058</td>\n",
       "    </tr>\n",
       "    <tr>\n",
       "      <th>(1.323, 1.694]</th>\n",
       "      <td>1.597580</td>\n",
       "      <td>1.492212</td>\n",
       "    </tr>\n",
       "    <tr>\n",
       "      <th>(1.694, 4.963]</th>\n",
       "      <td>2.418293</td>\n",
       "      <td>2.155879</td>\n",
       "    </tr>\n",
       "  </tbody>\n",
       "</table>\n",
       "</div>"
      ],
      "text/plain": [
       "                      true      pred\n",
       "pred_segment                        \n",
       "(-0.0993, 0.335]  0.444666  0.243693\n",
       "(0.335, 0.45]     0.610178  0.394244\n",
       "(0.45, 0.555]     0.688883  0.503140\n",
       "(0.555, 0.672]    0.809258  0.613146\n",
       "(0.672, 0.796]    0.970570  0.733065\n",
       "(0.796, 0.935]    1.090801  0.863593\n",
       "(0.935, 1.106]    1.188482  1.016981\n",
       "(1.106, 1.323]    1.341295  1.210058\n",
       "(1.323, 1.694]    1.597580  1.492212\n",
       "(1.694, 4.963]    2.418293  2.155879"
      ]
     },
     "execution_count": 34,
     "metadata": {},
     "output_type": "execute_result"
    }
   ],
   "source": [
    "df_results[\"pred_segment\"] = pd.qcut(df_results[\"pred\"],10)\n",
    "df_results.groupby(\"pred_segment\").mean()"
   ]
  },
  {
   "cell_type": "code",
   "execution_count": 35,
   "id": "aaf071eb-b503-466a-acb7-93ccb7900327",
   "metadata": {},
   "outputs": [
    {
     "data": {
      "text/plain": [
       "(1.3671095, 1.6636693)"
      ]
     },
     "execution_count": 35,
     "metadata": {},
     "output_type": "execute_result"
    }
   ],
   "source": [
    "mean_squared_error(df_results[\"true\"], df_results[\"pred\"]), df_results[\"true\"].var()"
   ]
  },
  {
   "cell_type": "code",
   "execution_count": 36,
   "id": "f5f7b44a-9744-4ec0-ac41-be8affff1978",
   "metadata": {},
   "outputs": [
    {
     "data": {
      "text/plain": [
       "(0.8054519, 0.9340842)"
      ]
     },
     "execution_count": 36,
     "metadata": {},
     "output_type": "execute_result"
    }
   ],
   "source": [
    "mean_absolute_error(df_results[\"true\"], df_results[\"pred\"]), (\n",
    "    df_results[\"true\"]-df_results[\"true\"].mean()\n",
    ").abs().mean()"
   ]
  },
  {
   "cell_type": "markdown",
   "id": "823b7d09-da4c-4cc9-b4e9-41b72372680d",
   "metadata": {},
   "source": [
    "# MSE model"
   ]
  },
  {
   "cell_type": "markdown",
   "id": "22487c57-e28b-4550-bf56-32373c376ef4",
   "metadata": {},
   "source": [
    "### Define ANN Architecture"
   ]
  },
  {
   "cell_type": "code",
   "execution_count": 37,
   "id": "d13b07ed-0693-485d-8ab3-e30aad6e4df7",
   "metadata": {},
   "outputs": [],
   "source": [
    "# Batch size during training\n",
    "batch_size = 64\n",
    "\n",
    "# Number of training epochs\n",
    "num_epochs = 10\n",
    "\n",
    "# Learning rate for optimizers\n",
    "lr = 0.002\n",
    "# lr = 0.0002\n",
    "\n",
    "# Beta1 hyperparam for Adam optimizers\n",
    "beta1 = 0.5\n",
    "\n",
    "# width of the network\n",
    "network_width = 128"
   ]
  },
  {
   "cell_type": "code",
   "execution_count": 38,
   "id": "aaa28fce-9fe5-468c-94da-b6fcb35460a6",
   "metadata": {},
   "outputs": [],
   "source": [
    "# # create train and test indices\n",
    "# train, test = train_test_split(list(range(x.shape[0])), test_size=.2)\n",
    "# train, val = train_test_split(train, test_size=.25)"
   ]
  },
  {
   "cell_type": "code",
   "execution_count": 39,
   "id": "fd9f3f82-7ae6-405b-ae6e-d79c4a39a52f",
   "metadata": {},
   "outputs": [],
   "source": [
    "# # https://gist.github.com/conormm/5b26a08029b900520bcd6fcd1f5712a0\n",
    "# class PrepareData(torch.utils.data.Dataset):\n",
    "\n",
    "#     def __init__(self, X, y, scale_X=True):\n",
    "#         if not torch.is_tensor(X):\n",
    "#             if scale_X:\n",
    "#                 X = StandardScaler().fit_transform(X)\n",
    "#             self.X = torch.from_numpy(X).float()\n",
    "#         else:\n",
    "#             self.X = X.float32()\n",
    "#         if not torch.is_tensor(y):\n",
    "#             self.y = torch.from_numpy(y).float()\n",
    "#         else:\n",
    "#             self.y = y.float32()\n",
    "\n",
    "#     def __len__(self):\n",
    "#         return len(self.X)\n",
    "\n",
    "#     def __getitem__(self, idx):\n",
    "#         return self.X[idx], self.y[idx]\n",
    "\n",
    "# ds = PrepareData(x, y=y, scale_X=False)\n",
    "\n",
    "# train_set = torch.utils.data.DataLoader(ds, batch_size=batch_size,\n",
    "#                        sampler=SubsetRandomSampler(train))\n",
    "# val_set = torch.utils.data.DataLoader(ds, batch_size=batch_size,\n",
    "#                        sampler=SubsetRandomSampler(val))\n",
    "# test_set = torch.utils.data.DataLoader(ds, batch_size=batch_size,\n",
    "#                       sampler=SubsetRandomSampler(test))"
   ]
  },
  {
   "cell_type": "code",
   "execution_count": 40,
   "id": "8b824b04-a5dd-4efa-93bd-f69bcc020da7",
   "metadata": {
    "collapsed": false,
    "jupyter": {
     "outputs_hidden": false
    }
   },
   "outputs": [],
   "source": [
    "# Generator Code\n",
    "\n",
    "class Generator(nn.Module):\n",
    "    def __init__(self, ngpu):\n",
    "        super(Generator, self).__init__()\n",
    "        self.ngpu = ngpu\n",
    "        self.main = nn.Sequential(\n",
    "            # input is Z, going into a convolution\n",
    "            nn.Linear( n_feats, network_width, bias=True),\n",
    "            nn.ReLU(True),\n",
    "\n",
    "            nn.Linear( network_width, network_width, bias=True),\n",
    "            nn.ReLU(True),\n",
    "\n",
    "            nn.Linear( network_width, 1, bias=True)\n",
    "\n",
    "        )\n",
    "\n",
    "    def forward(self, input):\n",
    "        return self.main(input)"
   ]
  },
  {
   "cell_type": "code",
   "execution_count": 41,
   "id": "9e502a43-8064-47ee-a5f6-c079e748eaf7",
   "metadata": {},
   "outputs": [
    {
     "name": "stdout",
     "output_type": "stream",
     "text": [
      "Generator(\n",
      "  (main): Sequential(\n",
      "    (0): Linear(in_features=25, out_features=128, bias=True)\n",
      "    (1): ReLU(inplace=True)\n",
      "    (2): Linear(in_features=128, out_features=128, bias=True)\n",
      "    (3): ReLU(inplace=True)\n",
      "    (4): Linear(in_features=128, out_features=1, bias=True)\n",
      "  )\n",
      ")\n"
     ]
    }
   ],
   "source": [
    "# Create the generator\n",
    "netG = Generator(ngpu).to(device)\n",
    "\n",
    "# Print the model\n",
    "print(netG)"
   ]
  },
  {
   "cell_type": "code",
   "execution_count": 42,
   "id": "76988db6-8b64-4100-ae37-b0752af715ca",
   "metadata": {
    "collapsed": false,
    "jupyter": {
     "outputs_hidden": false
    }
   },
   "outputs": [],
   "source": [
    "# Initialize MSELoss function\n",
    "criterion = nn.MSELoss()\n",
    "\n",
    "# Setup Adam optimizers for G\n",
    "optimizerG = optim.Adam(netG.parameters(), lr=lr, betas=(beta1, 0.999))"
   ]
  },
  {
   "cell_type": "code",
   "execution_count": 43,
   "id": "6158298d-b54b-4ad0-95a1-844037b8f54a",
   "metadata": {},
   "outputs": [
    {
     "name": "stdout",
     "output_type": "stream",
     "text": [
      "Starting Training Loop...\n",
      "[0/10][0/938]\tLoss_D: 0.0000\tLoss_G: 2.4143\tD(x): 0.0000\tD(G(z)): 0.0000 / 0.0702\n",
      "[0/10][500/938]\tLoss_D: 0.0000\tLoss_G: 1.5969\tD(x): 0.0000\tD(G(z)): 0.0000 / 1.1973\n",
      "[1/10][0/938]\tLoss_D: 0.0000\tLoss_G: 1.3374\tD(x): 0.0000\tD(G(z)): 0.0000 / 0.9071\n",
      "[1/10][500/938]\tLoss_D: 0.0000\tLoss_G: 1.0210\tD(x): 0.0000\tD(G(z)): 0.0000 / 1.1128\n",
      "[2/10][0/938]\tLoss_D: 0.0000\tLoss_G: 1.3756\tD(x): 0.0000\tD(G(z)): 0.0000 / 1.1110\n",
      "[2/10][500/938]\tLoss_D: 0.0000\tLoss_G: 1.5812\tD(x): 0.0000\tD(G(z)): 0.0000 / 1.2290\n",
      "[3/10][0/938]\tLoss_D: 0.0000\tLoss_G: 0.9601\tD(x): 0.0000\tD(G(z)): 0.0000 / 1.1203\n",
      "[3/10][500/938]\tLoss_D: 0.0000\tLoss_G: 2.8814\tD(x): 0.0000\tD(G(z)): 0.0000 / 1.2901\n",
      "[4/10][0/938]\tLoss_D: 0.0000\tLoss_G: 1.3834\tD(x): 0.0000\tD(G(z)): 0.0000 / 1.2258\n",
      "[4/10][500/938]\tLoss_D: 0.0000\tLoss_G: 2.0998\tD(x): 0.0000\tD(G(z)): 0.0000 / 1.2214\n",
      "[5/10][0/938]\tLoss_D: 0.0000\tLoss_G: 0.8554\tD(x): 0.0000\tD(G(z)): 0.0000 / 1.1599\n",
      "[5/10][500/938]\tLoss_D: 0.0000\tLoss_G: 1.1068\tD(x): 0.0000\tD(G(z)): 0.0000 / 1.2954\n",
      "[6/10][0/938]\tLoss_D: 0.0000\tLoss_G: 1.1865\tD(x): 0.0000\tD(G(z)): 0.0000 / 1.0592\n",
      "[6/10][500/938]\tLoss_D: 0.0000\tLoss_G: 1.0743\tD(x): 0.0000\tD(G(z)): 0.0000 / 1.1240\n",
      "[7/10][0/938]\tLoss_D: 0.0000\tLoss_G: 1.3109\tD(x): 0.0000\tD(G(z)): 0.0000 / 1.0710\n",
      "[7/10][500/938]\tLoss_D: 0.0000\tLoss_G: 1.9679\tD(x): 0.0000\tD(G(z)): 0.0000 / 1.0458\n",
      "[8/10][0/938]\tLoss_D: 0.0000\tLoss_G: 0.9159\tD(x): 0.0000\tD(G(z)): 0.0000 / 1.3007\n",
      "[8/10][500/938]\tLoss_D: 0.0000\tLoss_G: 1.5643\tD(x): 0.0000\tD(G(z)): 0.0000 / 1.1343\n",
      "[9/10][0/938]\tLoss_D: 0.0000\tLoss_G: 1.5641\tD(x): 0.0000\tD(G(z)): 0.0000 / 1.0104\n",
      "[9/10][500/938]\tLoss_D: 0.0000\tLoss_G: 1.1934\tD(x): 0.0000\tD(G(z)): 0.0000 / 1.2859\n"
     ]
    }
   ],
   "source": [
    "# Training Loop\n",
    "\n",
    "# Lists to keep track of progress\n",
    "img_list = []\n",
    "G_losses = []\n",
    "D_losses = []\n",
    "iters = 0\n",
    "\n",
    "G_losses_val = []\n",
    "D_losses_val = []\n",
    "\n",
    "print(\"Starting Training Loop...\")\n",
    "# For each epoch\n",
    "for epoch in range(num_epochs):\n",
    "    # For each batch in the dataloader\n",
    "    for i, data in enumerate(train_set, 0):\n",
    "        \n",
    "        b_size = data[0].size(0)\n",
    "\n",
    "        ############################\n",
    "        # Update G network: maximize log(D(G(z)))\n",
    "        ###########################\n",
    "        netG.zero_grad()\n",
    "        label = data[1]  # fake labels are real for generator cost\n",
    "        # Since we just updated D, perform another forward pass of all-fake batch through D\n",
    "        output = netG(data[0]).view(-1)\n",
    "        # Calculate G's loss based on this output\n",
    "        errG = criterion(output, label)\n",
    "        # Calculate gradients for G\n",
    "        errG.backward()\n",
    "        D_G_z2 = output.mean().item()\n",
    "        # Update G\n",
    "        optimizerG.step()\n",
    "        \n",
    "        # Output training stats\n",
    "        if i % 500 == 0:\n",
    "            print('[%d/%d][%d/%d]\\tLoss_D: %.4f\\tLoss_G: %.4f\\tD(x): %.4f\\tD(G(z)): %.4f / %.4f'\n",
    "                  % (epoch, num_epochs, i, len(train_set),\n",
    "                     0, errG.item(), 0, 0, D_G_z2))\n",
    "                \n",
    "        # Output validation stats\n",
    "        if i % 100 == 0:\n",
    "            with torch.no_grad():\n",
    "                errG_vals = []\n",
    "                for i, data in enumerate(val_set, 0):\n",
    "                    b_size = data[0].size(0)\n",
    "                    output = netG(data[0]).view(-1)\n",
    "\n",
    "                    label = data[1] # fake labels are real for generator cost\n",
    "                    errG_val = criterion(output, label)  \n",
    "\n",
    "                    errG_vals.append(errG_val.item())\n",
    "            G_losses_val.append(sum(errG_vals)/len(errG_vals))\n",
    "        \n",
    "        \n",
    "        # Save Losses for plotting later\n",
    "        G_losses.append(errG.item())\n",
    "      \n",
    "        iters += 1"
   ]
  },
  {
   "cell_type": "code",
   "execution_count": 44,
   "id": "df50ab14-072b-4b78-985c-d1b0633b988e",
   "metadata": {},
   "outputs": [
    {
     "data": {
      "image/png": "[encoded data removed]",
      "text/plain": [
       "<Figure size 720x360 with 1 Axes>"
      ]
     },
     "metadata": {
      "needs_background": "light"
     },
     "output_type": "display_data"
    }
   ],
   "source": [
    "plt.figure(figsize=(10,5))\n",
    "plt.title(\"MSE Loss During Training\")\n",
    "plt.plot(G_losses,label=\"train set\")\n",
    "# plt.plot(G_losses_val,label=\"val set\")\n",
    "plt.xlabel(\"iterations\")\n",
    "plt.ylabel(\"Loss\")\n",
    "plt.legend()\n",
    "plt.show()"
   ]
  },
  {
   "cell_type": "code",
   "execution_count": 45,
   "id": "db098dc2-0bb7-422e-8b8c-537ae110fc7a",
   "metadata": {},
   "outputs": [
    {
     "data": {
      "image/png": "[encoded data removed]",
      "text/plain": [
       "<Figure size 720x360 with 1 Axes>"
      ]
     },
     "metadata": {
      "needs_background": "light"
     },
     "output_type": "display_data"
    }
   ],
   "source": [
    "plt.figure(figsize=(10,5))\n",
    "plt.title(\"MSE Loss During Training\")\n",
    "# plt.plot(G_losses,label=\"train set\")\n",
    "plt.plot(G_losses_val,label=\"val set\")\n",
    "plt.xlabel(\"iterations\")\n",
    "plt.ylabel(\"Loss\")\n",
    "plt.legend()\n",
    "plt.show()"
   ]
  },
  {
   "cell_type": "markdown",
   "id": "52931377-c919-4d70-ad9c-b5f878a8c0b6",
   "metadata": {},
   "source": [
    "## Train Predictions"
   ]
  },
  {
   "cell_type": "code",
   "execution_count": 46,
   "id": "6ff89129-9603-4246-82e4-b6df87eff588",
   "metadata": {},
   "outputs": [],
   "source": [
    "train_ops = []\n",
    "with torch.no_grad():\n",
    "    for i, data in enumerate(train_set, 0):\n",
    "        b_size = data[0].size(0)\n",
    "        # Generate fake image batch with G\n",
    "        fake = netG(data[0])\n",
    "        \n",
    "        train_ops.append(\n",
    "            (data[1].detach().cpu().numpy(), fake.detach().cpu().numpy())\n",
    "        )"
   ]
  },
  {
   "cell_type": "code",
   "execution_count": 47,
   "id": "ab9642d9-71ae-4b01-98d7-202c2a96789c",
   "metadata": {},
   "outputs": [],
   "source": [
    "train_reals = np.concatenate(list(x[0] for x in train_ops))\n",
    "train_preds = np.concatenate(list(x[1] for x in train_ops))"
   ]
  },
  {
   "cell_type": "code",
   "execution_count": 48,
   "id": "20a5fc0d-a7c8-4c80-8e0e-6914e65c06db",
   "metadata": {},
   "outputs": [
    {
     "data": {
      "text/html": [
       "<div>\n",
       "<style scoped>\n",
       "    .dataframe tbody tr th:only-of-type {\n",
       "        vertical-align: middle;\n",
       "    }\n",
       "\n",
       "    .dataframe tbody tr th {\n",
       "        vertical-align: top;\n",
       "    }\n",
       "\n",
       "    .dataframe thead th {\n",
       "        text-align: right;\n",
       "    }\n",
       "</style>\n",
       "<table border=\"1\" class=\"dataframe\">\n",
       "  <thead>\n",
       "    <tr style=\"text-align: right;\">\n",
       "      <th></th>\n",
       "      <th>true</th>\n",
       "      <th>pred</th>\n",
       "    </tr>\n",
       "  </thead>\n",
       "  <tbody>\n",
       "    <tr>\n",
       "      <th>count</th>\n",
       "      <td>60000.000000</td>\n",
       "      <td>60000.000000</td>\n",
       "    </tr>\n",
       "    <tr>\n",
       "      <th>mean</th>\n",
       "      <td>1.140803</td>\n",
       "      <td>1.149086</td>\n",
       "    </tr>\n",
       "    <tr>\n",
       "      <th>std</th>\n",
       "      <td>1.321923</td>\n",
       "      <td>0.665637</td>\n",
       "    </tr>\n",
       "    <tr>\n",
       "      <th>min</th>\n",
       "      <td>0.000000</td>\n",
       "      <td>-0.300142</td>\n",
       "    </tr>\n",
       "    <tr>\n",
       "      <th>25%</th>\n",
       "      <td>0.188318</td>\n",
       "      <td>0.707066</td>\n",
       "    </tr>\n",
       "    <tr>\n",
       "      <th>50%</th>\n",
       "      <td>0.731551</td>\n",
       "      <td>1.033012</td>\n",
       "    </tr>\n",
       "    <tr>\n",
       "      <th>75%</th>\n",
       "      <td>1.634366</td>\n",
       "      <td>1.443962</td>\n",
       "    </tr>\n",
       "    <tr>\n",
       "      <th>max</th>\n",
       "      <td>20.873404</td>\n",
       "      <td>9.664511</td>\n",
       "    </tr>\n",
       "  </tbody>\n",
       "</table>\n",
       "</div>"
      ],
      "text/plain": [
       "               true          pred\n",
       "count  60000.000000  60000.000000\n",
       "mean       1.140803      1.149086\n",
       "std        1.321923      0.665637\n",
       "min        0.000000     -0.300142\n",
       "25%        0.188318      0.707066\n",
       "50%        0.731551      1.033012\n",
       "75%        1.634366      1.443962\n",
       "max       20.873404      9.664511"
      ]
     },
     "execution_count": 48,
     "metadata": {},
     "output_type": "execute_result"
    }
   ],
   "source": [
    "df_results_train = pd.DataFrame(\n",
    "    data = np.hstack((\n",
    "    np.expand_dims(train_reals,1),train_preds\n",
    "    ))\n",
    "    ,columns = [\"true\",\"pred\"]\n",
    ")\n",
    "\n",
    "df_results_train.describe()"
   ]
  },
  {
   "cell_type": "code",
   "execution_count": 49,
   "id": "1bc61b29-de45-4f58-8abb-6996278bf346",
   "metadata": {},
   "outputs": [
    {
     "data": {
      "text/html": [
       "<div>\n",
       "<style scoped>\n",
       "    .dataframe tbody tr th:only-of-type {\n",
       "        vertical-align: middle;\n",
       "    }\n",
       "\n",
       "    .dataframe tbody tr th {\n",
       "        vertical-align: top;\n",
       "    }\n",
       "\n",
       "    .dataframe thead th {\n",
       "        text-align: right;\n",
       "    }\n",
       "</style>\n",
       "<table border=\"1\" class=\"dataframe\">\n",
       "  <thead>\n",
       "    <tr style=\"text-align: right;\">\n",
       "      <th></th>\n",
       "      <th>true</th>\n",
       "      <th>pred</th>\n",
       "    </tr>\n",
       "    <tr>\n",
       "      <th>pred_segment</th>\n",
       "      <th></th>\n",
       "      <th></th>\n",
       "    </tr>\n",
       "  </thead>\n",
       "  <tbody>\n",
       "    <tr>\n",
       "      <th>(-0.301, 0.479]</th>\n",
       "      <td>0.388874</td>\n",
       "      <td>0.355366</td>\n",
       "    </tr>\n",
       "    <tr>\n",
       "      <th>(0.479, 0.637]</th>\n",
       "      <td>0.560435</td>\n",
       "      <td>0.559728</td>\n",
       "    </tr>\n",
       "    <tr>\n",
       "      <th>(0.637, 0.775]</th>\n",
       "      <td>0.682032</td>\n",
       "      <td>0.706868</td>\n",
       "    </tr>\n",
       "    <tr>\n",
       "      <th>(0.775, 0.903]</th>\n",
       "      <td>0.802037</td>\n",
       "      <td>0.839605</td>\n",
       "    </tr>\n",
       "    <tr>\n",
       "      <th>(0.903, 1.033]</th>\n",
       "      <td>0.922022</td>\n",
       "      <td>0.966511</td>\n",
       "    </tr>\n",
       "    <tr>\n",
       "      <th>(1.033, 1.18]</th>\n",
       "      <td>1.066438</td>\n",
       "      <td>1.105537</td>\n",
       "    </tr>\n",
       "    <tr>\n",
       "      <th>(1.18, 1.347]</th>\n",
       "      <td>1.218751</td>\n",
       "      <td>1.261101</td>\n",
       "    </tr>\n",
       "    <tr>\n",
       "      <th>(1.347, 1.553]</th>\n",
       "      <td>1.411506</td>\n",
       "      <td>1.445732</td>\n",
       "    </tr>\n",
       "    <tr>\n",
       "      <th>(1.553, 1.889]</th>\n",
       "      <td>1.726547</td>\n",
       "      <td>1.702781</td>\n",
       "    </tr>\n",
       "    <tr>\n",
       "      <th>(1.889, 9.665]</th>\n",
       "      <td>2.629383</td>\n",
       "      <td>2.547635</td>\n",
       "    </tr>\n",
       "  </tbody>\n",
       "</table>\n",
       "</div>"
      ],
      "text/plain": [
       "                     true      pred\n",
       "pred_segment                       \n",
       "(-0.301, 0.479]  0.388874  0.355366\n",
       "(0.479, 0.637]   0.560435  0.559728\n",
       "(0.637, 0.775]   0.682032  0.706868\n",
       "(0.775, 0.903]   0.802037  0.839605\n",
       "(0.903, 1.033]   0.922022  0.966511\n",
       "(1.033, 1.18]    1.066438  1.105537\n",
       "(1.18, 1.347]    1.218751  1.261101\n",
       "(1.347, 1.553]   1.411506  1.445732\n",
       "(1.553, 1.889]   1.726547  1.702781\n",
       "(1.889, 9.665]   2.629383  2.547635"
      ]
     },
     "execution_count": 49,
     "metadata": {},
     "output_type": "execute_result"
    }
   ],
   "source": [
    "df_results_train[\"pred_segment\"] = pd.qcut(df_results_train[\"pred\"],10)\n",
    "df_results_train.groupby(\"pred_segment\").mean()"
   ]
  },
  {
   "cell_type": "code",
   "execution_count": 50,
   "id": "3442262d-8359-4ef1-bc4d-65f9957ad705",
   "metadata": {},
   "outputs": [
    {
     "data": {
      "text/plain": [
       "(1.2599462, 1.7474799)"
      ]
     },
     "execution_count": 50,
     "metadata": {},
     "output_type": "execute_result"
    }
   ],
   "source": [
    "mean_squared_error(df_results_train[\"true\"], df_results_train[\"pred\"]), df_results_train[\"true\"].var()"
   ]
  },
  {
   "cell_type": "code",
   "execution_count": 51,
   "id": "5bcd291a-c786-4d7b-aca3-eac7f331f385",
   "metadata": {},
   "outputs": [
    {
     "data": {
      "text/plain": [
       "(0.8143098, 0.9557712)"
      ]
     },
     "execution_count": 51,
     "metadata": {},
     "output_type": "execute_result"
    }
   ],
   "source": [
    "mean_absolute_error(df_results_train[\"true\"], df_results_train[\"pred\"]), (\n",
    "    df_results_train[\"true\"]-df_results_train[\"true\"].mean()\n",
    ").abs().mean()"
   ]
  },
  {
   "cell_type": "markdown",
   "id": "81f2437b-d19c-43ec-a56f-97df0a974335",
   "metadata": {},
   "source": [
    "## Test Predictions"
   ]
  },
  {
   "cell_type": "code",
   "execution_count": 52,
   "id": "2e26e7b9-03f6-467b-9d66-02bfb1144307",
   "metadata": {},
   "outputs": [],
   "source": [
    "test_ops = []\n",
    "with torch.no_grad():\n",
    "    for i, data in enumerate(test_set, 0):\n",
    "        b_size = data[0].size(0)\n",
    "        # Generate fake image batch with G\n",
    "        gen_ip = data[0] \n",
    "        fake = netG(gen_ip)\n",
    "        \n",
    "        test_ops.append(\n",
    "            (data[1].detach().cpu().numpy(), fake.detach().cpu().numpy())\n",
    "        )"
   ]
  },
  {
   "cell_type": "code",
   "execution_count": 53,
   "id": "4bf93a27-356d-44b8-975d-0ed0480a3692",
   "metadata": {},
   "outputs": [],
   "source": [
    "test_reals = np.concatenate(list(x[0] for x in test_ops))\n",
    "test_preds = np.concatenate(list(x[1] for x in test_ops))"
   ]
  },
  {
   "cell_type": "code",
   "execution_count": 54,
   "id": "a5b18860-0bcf-43f1-b12e-99fd2ea98a0b",
   "metadata": {},
   "outputs": [
    {
     "data": {
      "text/html": [
       "<div>\n",
       "<style scoped>\n",
       "    .dataframe tbody tr th:only-of-type {\n",
       "        vertical-align: middle;\n",
       "    }\n",
       "\n",
       "    .dataframe tbody tr th {\n",
       "        vertical-align: top;\n",
       "    }\n",
       "\n",
       "    .dataframe thead th {\n",
       "        text-align: right;\n",
       "    }\n",
       "</style>\n",
       "<table border=\"1\" class=\"dataframe\">\n",
       "  <thead>\n",
       "    <tr style=\"text-align: right;\">\n",
       "      <th></th>\n",
       "      <th>true</th>\n",
       "      <th>pred</th>\n",
       "    </tr>\n",
       "  </thead>\n",
       "  <tbody>\n",
       "    <tr>\n",
       "      <th>count</th>\n",
       "      <td>20000.000000</td>\n",
       "      <td>20000.000000</td>\n",
       "    </tr>\n",
       "    <tr>\n",
       "      <th>mean</th>\n",
       "      <td>1.116001</td>\n",
       "      <td>1.138924</td>\n",
       "    </tr>\n",
       "    <tr>\n",
       "      <th>std</th>\n",
       "      <td>1.289833</td>\n",
       "      <td>0.644079</td>\n",
       "    </tr>\n",
       "    <tr>\n",
       "      <th>min</th>\n",
       "      <td>0.000000</td>\n",
       "      <td>-0.236117</td>\n",
       "    </tr>\n",
       "    <tr>\n",
       "      <th>25%</th>\n",
       "      <td>0.187365</td>\n",
       "      <td>0.698456</td>\n",
       "    </tr>\n",
       "    <tr>\n",
       "      <th>50%</th>\n",
       "      <td>0.717745</td>\n",
       "      <td>1.029573</td>\n",
       "    </tr>\n",
       "    <tr>\n",
       "      <th>75%</th>\n",
       "      <td>1.585128</td>\n",
       "      <td>1.432698</td>\n",
       "    </tr>\n",
       "    <tr>\n",
       "      <th>max</th>\n",
       "      <td>14.393881</td>\n",
       "      <td>7.553660</td>\n",
       "    </tr>\n",
       "  </tbody>\n",
       "</table>\n",
       "</div>"
      ],
      "text/plain": [
       "               true          pred\n",
       "count  20000.000000  20000.000000\n",
       "mean       1.116001      1.138924\n",
       "std        1.289833      0.644079\n",
       "min        0.000000     -0.236117\n",
       "25%        0.187365      0.698456\n",
       "50%        0.717745      1.029573\n",
       "75%        1.585128      1.432698\n",
       "max       14.393881      7.553660"
      ]
     },
     "execution_count": 54,
     "metadata": {},
     "output_type": "execute_result"
    }
   ],
   "source": [
    "df_results = pd.DataFrame(\n",
    "    data = np.hstack((\n",
    "    np.expand_dims(test_reals,1),test_preds\n",
    "    ))\n",
    "    ,columns = [\"true\",\"pred\"]\n",
    ")\n",
    "\n",
    "df_results.describe()"
   ]
  },
  {
   "cell_type": "code",
   "execution_count": 55,
   "id": "56d8559d-4194-446f-b201-b3245bc31aab",
   "metadata": {},
   "outputs": [
    {
     "data": {
      "text/html": [
       "<div>\n",
       "<style scoped>\n",
       "    .dataframe tbody tr th:only-of-type {\n",
       "        vertical-align: middle;\n",
       "    }\n",
       "\n",
       "    .dataframe tbody tr th {\n",
       "        vertical-align: top;\n",
       "    }\n",
       "\n",
       "    .dataframe thead th {\n",
       "        text-align: right;\n",
       "    }\n",
       "</style>\n",
       "<table border=\"1\" class=\"dataframe\">\n",
       "  <thead>\n",
       "    <tr style=\"text-align: right;\">\n",
       "      <th></th>\n",
       "      <th>true</th>\n",
       "      <th>pred</th>\n",
       "    </tr>\n",
       "    <tr>\n",
       "      <th>pred_segment</th>\n",
       "      <th></th>\n",
       "      <th></th>\n",
       "    </tr>\n",
       "  </thead>\n",
       "  <tbody>\n",
       "    <tr>\n",
       "      <th>(-0.237, 0.478]</th>\n",
       "      <td>0.453641</td>\n",
       "      <td>0.352631</td>\n",
       "    </tr>\n",
       "    <tr>\n",
       "      <th>(0.478, 0.626]</th>\n",
       "      <td>0.579752</td>\n",
       "      <td>0.553777</td>\n",
       "    </tr>\n",
       "    <tr>\n",
       "      <th>(0.626, 0.772]</th>\n",
       "      <td>0.722690</td>\n",
       "      <td>0.699777</td>\n",
       "    </tr>\n",
       "    <tr>\n",
       "      <th>(0.772, 0.898]</th>\n",
       "      <td>0.777633</td>\n",
       "      <td>0.834931</td>\n",
       "    </tr>\n",
       "    <tr>\n",
       "      <th>(0.898, 1.03]</th>\n",
       "      <td>0.967452</td>\n",
       "      <td>0.962756</td>\n",
       "    </tr>\n",
       "    <tr>\n",
       "      <th>(1.03, 1.176]</th>\n",
       "      <td>1.039180</td>\n",
       "      <td>1.101010</td>\n",
       "    </tr>\n",
       "    <tr>\n",
       "      <th>(1.176, 1.338]</th>\n",
       "      <td>1.234541</td>\n",
       "      <td>1.255533</td>\n",
       "    </tr>\n",
       "    <tr>\n",
       "      <th>(1.338, 1.545]</th>\n",
       "      <td>1.331449</td>\n",
       "      <td>1.438030</td>\n",
       "    </tr>\n",
       "    <tr>\n",
       "      <th>(1.545, 1.882]</th>\n",
       "      <td>1.622752</td>\n",
       "      <td>1.695470</td>\n",
       "    </tr>\n",
       "    <tr>\n",
       "      <th>(1.882, 7.554]</th>\n",
       "      <td>2.430917</td>\n",
       "      <td>2.495325</td>\n",
       "    </tr>\n",
       "  </tbody>\n",
       "</table>\n",
       "</div>"
      ],
      "text/plain": [
       "                     true      pred\n",
       "pred_segment                       \n",
       "(-0.237, 0.478]  0.453641  0.352631\n",
       "(0.478, 0.626]   0.579752  0.553777\n",
       "(0.626, 0.772]   0.722690  0.699777\n",
       "(0.772, 0.898]   0.777633  0.834931\n",
       "(0.898, 1.03]    0.967452  0.962756\n",
       "(1.03, 1.176]    1.039180  1.101010\n",
       "(1.176, 1.338]   1.234541  1.255533\n",
       "(1.338, 1.545]   1.331449  1.438030\n",
       "(1.545, 1.882]   1.622752  1.695470\n",
       "(1.882, 7.554]   2.430917  2.495325"
      ]
     },
     "execution_count": 55,
     "metadata": {},
     "output_type": "execute_result"
    }
   ],
   "source": [
    "df_results[\"pred_segment\"] = pd.qcut(df_results[\"pred\"],10)\n",
    "df_results.groupby(\"pred_segment\").mean()"
   ]
  },
  {
   "cell_type": "code",
   "execution_count": 56,
   "id": "b8f73202-70ea-433a-be98-209228de4174",
   "metadata": {},
   "outputs": [
    {
     "data": {
      "text/plain": [
       "(1.3345335, 1.6636693)"
      ]
     },
     "execution_count": 56,
     "metadata": {},
     "output_type": "execute_result"
    }
   ],
   "source": [
    "mean_squared_error(df_results[\"true\"], df_results[\"pred\"]), df_results[\"true\"].var()"
   ]
  },
  {
   "cell_type": "code",
   "execution_count": 57,
   "id": "467083b5-e371-4efa-82dd-f5d511f3054b",
   "metadata": {},
   "outputs": [
    {
     "data": {
      "text/plain": [
       "(0.835254, 0.9340842)"
      ]
     },
     "execution_count": 57,
     "metadata": {},
     "output_type": "execute_result"
    }
   ],
   "source": [
    "mean_absolute_error(df_results[\"true\"], df_results[\"pred\"]), (\n",
    "    df_results[\"true\"]-df_results[\"true\"].mean()\n",
    ").abs().mean()"
   ]
  },
  {
   "cell_type": "markdown",
   "id": "66915d92-adcc-4fcf-bfa0-4da771443712",
   "metadata": {},
   "source": [
    "# Gaussian Process Regression"
   ]
  },
  {
   "cell_type": "code",
   "execution_count": 58,
   "id": "ad433dbd-b5ae-4c1d-8ac5-ce9f5a27b81a",
   "metadata": {},
   "outputs": [],
   "source": [
    "model = GaussianProcessRegressor(\n",
    "    kernel=kernels.RBF(length_scale=0.05)\n",
    "    ,n_restarts_optimizer=10\n",
    ").fit(x[val], y[val])"
   ]
  },
  {
   "cell_type": "code",
   "execution_count": 59,
   "id": "e4eae885-963c-49f4-977e-896020ea9ac5",
   "metadata": {},
   "outputs": [
    {
     "data": {
      "text/plain": [
       "{'length_scale': 0.4403830573346016, 'length_scale_bounds': (1e-05, 100000.0)}"
      ]
     },
     "execution_count": 59,
     "metadata": {},
     "output_type": "execute_result"
    }
   ],
   "source": [
    "model.kernel_.get_params()"
   ]
  },
  {
   "cell_type": "code",
   "execution_count": 60,
   "id": "b70b6b4d-f294-4472-a643-951f7df956c4",
   "metadata": {},
   "outputs": [
    {
     "data": {
      "text/plain": [
       "(6.118821214706439e-10,\n",
       " 1.1160006215695397,\n",
       " 4.576774930222722e-08,\n",
       " 1.289800828042404)"
      ]
     },
     "execution_count": 60,
     "metadata": {},
     "output_type": "execute_result"
    }
   ],
   "source": [
    "y_pred_gauss = model.predict(x[test])\n",
    "y_true_gauss = y[test]\n",
    "y_pred_gauss.mean(), y_true_gauss.mean(), y_pred_gauss.std(), y_true_gauss.std()"
   ]
  },
  {
   "cell_type": "code",
   "execution_count": 61,
   "id": "1ee341f1-64e8-446f-95f4-f31b9297d051",
   "metadata": {},
   "outputs": [
    {
     "data": {
      "text/plain": [
       "(1.1160006216798979, 0.9340842166372205)"
      ]
     },
     "execution_count": 61,
     "metadata": {},
     "output_type": "execute_result"
    }
   ],
   "source": [
    "mean_absolute_error(y_true_gauss, y_pred_gauss), (\n",
    "    np.abs(\n",
    "        y_true_gauss-y_true_gauss.mean()\n",
    "    )\n",
    ").mean()"
   ]
  },
  {
   "cell_type": "code",
   "execution_count": 62,
   "id": "99ee834c-4095-45d0-b5cc-464d0912d9a5",
   "metadata": {},
   "outputs": [
    {
     "data": {
      "text/plain": [
       "(2.909043562721418, 1.6635861760188708)"
      ]
     },
     "execution_count": 62,
     "metadata": {},
     "output_type": "execute_result"
    }
   ],
   "source": [
    "mean_squared_error(y_true_gauss, y_pred_gauss), (\n",
    "    np.abs(\n",
    "        y_true_gauss-y_true_gauss.mean()\n",
    "    )**2\n",
    ").mean()"
   ]
  },
  {
   "cell_type": "code",
   "execution_count": null,
   "id": "cff3f4e8-9a03-4370-b109-c2973ff929e1",
   "metadata": {},
   "outputs": [],
   "source": []
  }
 ],
 "metadata": {
  "environment": {
   "kernel": "python3",
   "name": "pytorch-gpu.1-11.m94",
   "type": "gcloud",
   "uri": "gcr.io/deeplearning-platform-release/pytorch-gpu.1-11:m94"
  },
  "kernelspec": {
   "display_name": "Python 3",
   "language": "python",
   "name": "python3"
  },
  "language_info": {
   "codemirror_mode": {
    "name": "ipython",
    "version": 3
   },
   "file_extension": ".py",
   "mimetype": "text/x-python",
   "name": "python",
   "nbconvert_exporter": "python",
   "pygments_lexer": "ipython3",
   "version": "3.7.12"
  }
 },
 "nbformat": 4,
 "nbformat_minor": 5
}
