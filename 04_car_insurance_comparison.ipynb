{
 "cells": [
  {
   "cell_type": "markdown",
   "id": "b07fcdc9-31a2-41d0-a868-37f072c725a2",
   "metadata": {},
   "source": [
    "[ref](https://pytorch.org/tutorials/beginner/dcgan_faces_tutorial.html)"
   ]
  },
  {
   "cell_type": "code",
   "execution_count": 1,
   "id": "a299c93b-2ec6-498e-b737-d38aae8f3156",
   "metadata": {},
   "outputs": [],
   "source": [
    "import numpy as np\n",
    "import pandas as pd\n",
    "import matplotlib.pyplot as plt\n",
    "\n",
    "from sklearn.model_selection import train_test_split\n",
    "from sklearn.metrics import mean_squared_error, mean_absolute_error\n",
    "from sklearn.datasets import fetch_openml\n",
    "from sklearn.preprocessing import OneHotEncoder\n",
    "from sklearn.gaussian_process import GaussianProcessRegressor, kernels"
   ]
  },
  {
   "cell_type": "code",
   "execution_count": 2,
   "id": "835efe7f-bbf8-4ecf-b7a0-7b4f4202c394",
   "metadata": {},
   "outputs": [],
   "source": [
    "import torch\n",
    "import torch.nn as nn\n",
    "import torch.nn.parallel\n",
    "import torch.backends.cudnn as cudnn\n",
    "import torch.optim as optim\n",
    "import torch.utils.data\n",
    "\n",
    "from torch.utils.data.sampler import SubsetRandomSampler"
   ]
  },
  {
   "cell_type": "code",
   "execution_count": 3,
   "id": "49ddac81-def8-4e05-9ac8-23c20a3a6582",
   "metadata": {},
   "outputs": [
    {
     "name": "stdout",
     "output_type": "stream",
     "text": [
      "Random Seed:  999\n"
     ]
    },
    {
     "data": {
      "text/plain": [
       "<torch._C.Generator at 0x7f6b6809d370>"
      ]
     },
     "execution_count": 3,
     "metadata": {},
     "output_type": "execute_result"
    }
   ],
   "source": [
    "# Set random seed for reproducibility\n",
    "manualSeed = 999\n",
    "#manualSeed = random.randint(1, 10000) # use if you want new results\n",
    "print(\"Random Seed: \", manualSeed)\n",
    "np.random.seed(manualSeed)\n",
    "torch.manual_seed(manualSeed)"
   ]
  },
  {
   "cell_type": "code",
   "execution_count": 4,
   "id": "27efa966-b354-4ada-ab08-4c79913e7702",
   "metadata": {},
   "outputs": [],
   "source": [
    "device = torch.device(\"cuda:0\" if (torch.cuda.is_available() and ngpu > 0) else \"cpu\")\n",
    "ngpu=0"
   ]
  },
  {
   "cell_type": "code",
   "execution_count": 5,
   "id": "0d6677de-29eb-49b1-9814-e645ff1cf853",
   "metadata": {},
   "outputs": [
    {
     "name": "stdout",
     "output_type": "stream",
     "text": [
      "(100000, 48) (100000,)\n"
     ]
    }
   ],
   "source": [
    "df = fetch_openml(data_id=41214, as_frame=True)[\"data\"].dropna()\n",
    "\n",
    "df[df.select_dtypes(['float64']).columns] = (df[df.select_dtypes(['float64']).columns] - df[df.select_dtypes(['float64']).columns].mean()) / df[df.select_dtypes(['float64']).columns].std()\n",
    "\n",
    "df = df.sample(n=10**5, random_state=43)\n",
    "\n",
    "\n",
    "for feat in df.select_dtypes(['category']).columns:\n",
    "    df[feat] = df[feat].values.codes\n",
    "\n",
    "for feat in df.columns:\n",
    "    num_new_feats = len(df[feat].unique())\n",
    "    if df[feat].dtype != \"float64\":\n",
    "        new_feats = OneHotEncoder(sparse=False).fit_transform(df[feat].values.reshape(-1,1))\n",
    "        for idx in range(num_new_feats):\n",
    "            df[f\"{feat}_{idx}\"] = new_feats[:,idx]\n",
    "            df[f\"{feat}_{idx}\"] = df[f\"{feat}_{idx}\"].astype(\"float\")\n",
    "        del df[feat]\n",
    "\n",
    "\n",
    "x = df.drop(columns=\"ClaimNb\").values\n",
    "y = df[\"ClaimNb\"].values\n",
    "print(x.shape, y.shape)"
   ]
  },
  {
   "cell_type": "code",
   "execution_count": 6,
   "id": "83cb2418-b9b4-43a6-81b1-9e90e9085aca",
   "metadata": {},
   "outputs": [],
   "source": [
    "n_samples = x.shape[0] # 10**5\n",
    "n_feats = x.shape[1] # 10"
   ]
  },
  {
   "cell_type": "code",
   "execution_count": 7,
   "id": "d50cc55e-1be7-42df-af08-9e1aabfc33d6",
   "metadata": {},
   "outputs": [],
   "source": [
    "# x = np.random.randn(n_samples, n_feats)\n",
    "# w = np.random.randn(n_feats)\n",
    "# y = x.dot(w) + 2*np.random.randn(n_samples)"
   ]
  },
  {
   "cell_type": "code",
   "execution_count": 8,
   "id": "fb09d30a-31ed-43d6-9c33-5480187225c2",
   "metadata": {},
   "outputs": [
    {
     "data": {
      "text/plain": [
       "(-0.22175311776058076, 66.41233768372616)"
      ]
     },
     "execution_count": 8,
     "metadata": {},
     "output_type": "execute_result"
    }
   ],
   "source": [
    "y.min(), y.max()"
   ]
  },
  {
   "cell_type": "markdown",
   "id": "fc875939-ce9f-4b50-b53b-23fff0688262",
   "metadata": {},
   "source": [
    "### Simple Linear Regression check"
   ]
  },
  {
   "cell_type": "code",
   "execution_count": 9,
   "id": "448800fd-6be2-465e-a2cc-4bdf178de4df",
   "metadata": {},
   "outputs": [
    {
     "data": {
      "text/plain": [
       "array([-1.49121498e-01,  7.32334338e-02,  2.09144994e-03, -2.89256704e-02,\n",
       "        4.69718831e-02,  8.97990807e-02,  6.82697376e-03, -3.16208758e+09,\n",
       "       -3.16208758e+09, -3.16208758e+09, -3.16208758e+09, -3.16208758e+09,\n",
       "       -3.16208758e+09, -6.48092280e+09, -6.48092280e+09, -6.48092280e+09,\n",
       "       -6.48092280e+09, -6.48092280e+09, -6.48092280e+09, -6.48092280e+09,\n",
       "       -6.48092280e+09, -6.48092280e+09, -6.48092280e+09, -6.48092280e+09,\n",
       "       -4.88841816e+10, -4.88841816e+10, -4.93086815e+09, -4.93086815e+09,\n",
       "       -4.93086815e+09, -4.93086815e+09, -4.93086815e+09, -4.93086815e+09,\n",
       "       -4.93086815e+09, -4.93086815e+09, -4.93086815e+09, -4.93086815e+09,\n",
       "       -4.93086815e+09, -4.93086815e+09, -4.93086815e+09, -4.93086815e+09,\n",
       "       -4.93086815e+09, -4.93086815e+09, -4.93086815e+09, -4.93086815e+09,\n",
       "       -4.93086815e+09, -4.93086815e+09, -4.93086815e+09, -4.93086815e+09])"
      ]
     },
     "execution_count": 9,
     "metadata": {},
     "output_type": "execute_result"
    }
   ],
   "source": [
    "from sklearn.linear_model import LinearRegression\n",
    "\n",
    "reg = LinearRegression().fit(x, y)\n",
    "reg.coef_"
   ]
  },
  {
   "cell_type": "code",
   "execution_count": 10,
   "id": "84bcbe89-a4e9-422b-a251-245cfea655ba",
   "metadata": {},
   "outputs": [
    {
     "data": {
      "text/plain": [
       "(0.029027146229226752, 1.00917267564145)"
      ]
     },
     "execution_count": 10,
     "metadata": {},
     "output_type": "execute_result"
    }
   ],
   "source": [
    "reg.score(x, y), (1-reg.score(x, y))*y.var()"
   ]
  },
  {
   "cell_type": "markdown",
   "id": "60aa35bd-b7bb-409a-b623-21ca0ff56991",
   "metadata": {},
   "source": [
    "# Regress GAN"
   ]
  },
  {
   "cell_type": "markdown",
   "id": "b3acd4b7-1b0d-4eda-8cc5-d20429ec969f",
   "metadata": {},
   "source": [
    "### Define ANN Architecture"
   ]
  },
  {
   "cell_type": "code",
   "execution_count": 11,
   "id": "ee5d7b20-ed44-4047-bcc6-748164a359d2",
   "metadata": {},
   "outputs": [],
   "source": [
    "# Batch size during training\n",
    "batch_size = 128\n",
    "\n",
    "# Size of z latent vector (i.e. size of generator input)\n",
    "nz = 5\n",
    "\n",
    "# Number of training epochs\n",
    "num_epochs = 5\n",
    "\n",
    "# Learning rate for optimizers\n",
    "lr = 0.0002\n",
    "# lr = 0.0002\n",
    "\n",
    "# Beta1 hyperparam for Adam optimizers\n",
    "beta1 = 0.5\n",
    "\n",
    "# width of the network\n",
    "network_width = 128"
   ]
  },
  {
   "cell_type": "code",
   "execution_count": 12,
   "id": "22b53034-9834-4886-bfd9-ad9fccca302f",
   "metadata": {},
   "outputs": [],
   "source": [
    "# create train and test indices\n",
    "train, test = train_test_split(list(range(x.shape[0])), test_size=.2)\n",
    "train, val = train_test_split(train, test_size=.25)"
   ]
  },
  {
   "cell_type": "code",
   "execution_count": 13,
   "id": "926ae90b-8966-4a42-995c-2512b91025b3",
   "metadata": {},
   "outputs": [],
   "source": [
    "# https://gist.github.com/conormm/5b26a08029b900520bcd6fcd1f5712a0\n",
    "class PrepareData(torch.utils.data.Dataset):\n",
    "\n",
    "    def __init__(self, X, y, scale_X=True):\n",
    "        if not torch.is_tensor(X):\n",
    "            if scale_X:\n",
    "                X = StandardScaler().fit_transform(X)\n",
    "            self.X = torch.from_numpy(X).float()\n",
    "        else:\n",
    "            self.X = X.float32()\n",
    "        if not torch.is_tensor(y):\n",
    "            self.y = torch.from_numpy(y).float()\n",
    "        else:\n",
    "            self.y = y.float32()\n",
    "\n",
    "    def __len__(self):\n",
    "        return len(self.X)\n",
    "\n",
    "    def __getitem__(self, idx):\n",
    "        return self.X[idx], self.y[idx]\n",
    "\n",
    "ds = PrepareData(x, y=y, scale_X=False)\n",
    "\n",
    "train_set = torch.utils.data.DataLoader(ds, batch_size=batch_size,\n",
    "                       sampler=SubsetRandomSampler(train))\n",
    "val_set = torch.utils.data.DataLoader(ds, batch_size=batch_size,\n",
    "                       sampler=SubsetRandomSampler(val))\n",
    "test_set = torch.utils.data.DataLoader(ds, batch_size=batch_size,\n",
    "                      sampler=SubsetRandomSampler(test))"
   ]
  },
  {
   "cell_type": "code",
   "execution_count": 14,
   "id": "ae20ffb8-a81c-401b-96cc-6ea2948081d3",
   "metadata": {
    "collapsed": false,
    "jupyter": {
     "outputs_hidden": false
    }
   },
   "outputs": [],
   "source": [
    "# Generator Code\n",
    "\n",
    "class Generator(nn.Module):\n",
    "    def __init__(self, ngpu):\n",
    "        super(Generator, self).__init__()\n",
    "        self.ngpu = ngpu\n",
    "        self.main = nn.Sequential(\n",
    "            # input is Z, going into a convolution\n",
    "            nn.Linear( n_feats+nz, network_width, bias=True),\n",
    "            nn.ReLU(True),\n",
    "\n",
    "            nn.Linear( network_width, network_width, bias=True),\n",
    "            nn.ReLU(True),\n",
    "\n",
    "            nn.Linear( network_width, 1, bias=True)\n",
    "\n",
    "        )\n",
    "\n",
    "    def forward(self, input):\n",
    "        return self.main(input)"
   ]
  },
  {
   "cell_type": "code",
   "execution_count": 15,
   "id": "75149020-6f89-4866-b582-b6d1f1bfbf0f",
   "metadata": {},
   "outputs": [
    {
     "name": "stdout",
     "output_type": "stream",
     "text": [
      "Generator(\n",
      "  (main): Sequential(\n",
      "    (0): Linear(in_features=53, out_features=128, bias=True)\n",
      "    (1): ReLU(inplace=True)\n",
      "    (2): Linear(in_features=128, out_features=128, bias=True)\n",
      "    (3): ReLU(inplace=True)\n",
      "    (4): Linear(in_features=128, out_features=1, bias=True)\n",
      "  )\n",
      ")\n"
     ]
    }
   ],
   "source": [
    "# Create the generator\n",
    "netG = Generator(ngpu).to(device)\n",
    "\n",
    "# Print the model\n",
    "print(netG)"
   ]
  },
  {
   "cell_type": "code",
   "execution_count": 16,
   "id": "65c0957d-f66b-491d-97a0-6cb5107cbb4c",
   "metadata": {
    "collapsed": false,
    "jupyter": {
     "outputs_hidden": false
    }
   },
   "outputs": [],
   "source": [
    "# Discriminator Code\n",
    "\n",
    "class Discriminator(nn.Module):\n",
    "    def __init__(self, ngpu):\n",
    "        super(Discriminator, self).__init__()\n",
    "        self.ngpu = ngpu\n",
    "        self.main = nn.Sequential(\n",
    "            # input is Z, going into a convolution\n",
    "            nn.Linear(n_feats+1, network_width, bias=True), # i/p is covariates and o/p\n",
    "            nn.LeakyReLU(0.2, inplace=True),\n",
    "\n",
    "            nn.Linear( network_width, network_width, bias=True),\n",
    "            nn.LeakyReLU(0.2, inplace=True),\n",
    "\n",
    "            nn.Linear( network_width, 1, bias=True),\n",
    "            nn.Sigmoid(),\n",
    "\n",
    "        )\n",
    "\n",
    "    def forward(self, input):\n",
    "        return self.main(input)"
   ]
  },
  {
   "cell_type": "code",
   "execution_count": 17,
   "id": "29259410-3eeb-44b4-8097-ac4eb88d2813",
   "metadata": {},
   "outputs": [
    {
     "name": "stdout",
     "output_type": "stream",
     "text": [
      "Discriminator(\n",
      "  (main): Sequential(\n",
      "    (0): Linear(in_features=49, out_features=128, bias=True)\n",
      "    (1): LeakyReLU(negative_slope=0.2, inplace=True)\n",
      "    (2): Linear(in_features=128, out_features=128, bias=True)\n",
      "    (3): LeakyReLU(negative_slope=0.2, inplace=True)\n",
      "    (4): Linear(in_features=128, out_features=1, bias=True)\n",
      "    (5): Sigmoid()\n",
      "  )\n",
      ")\n"
     ]
    }
   ],
   "source": [
    "# Create the Discriminator\n",
    "netD = Discriminator(ngpu).to(device)\n",
    "\n",
    "# Print the model\n",
    "print(netD)"
   ]
  },
  {
   "cell_type": "code",
   "execution_count": 18,
   "id": "c30d199c-43ed-4bc9-b0b2-2d8661f2efa8",
   "metadata": {
    "collapsed": false,
    "jupyter": {
     "outputs_hidden": false
    }
   },
   "outputs": [],
   "source": [
    "# Initialize BCELoss function\n",
    "criterion = nn.BCELoss()\n",
    "\n",
    "# Create batch of latent vectors that we will use to visualize\n",
    "#  the progression of the generator\n",
    "fixed_noise = torch.randn(nz, device=device)\n",
    "\n",
    "# Establish convention for real and fake labels during training\n",
    "real_label = 1.\n",
    "fake_label = 0.\n",
    "\n",
    "# Setup Adam optimizers for both G and D\n",
    "optimizerD = optim.Adam(netD.parameters(), lr=lr, betas=(beta1, 0.999))\n",
    "optimizerG = optim.Adam(netG.parameters(), lr=lr, betas=(beta1, 0.999))"
   ]
  },
  {
   "cell_type": "code",
   "execution_count": 19,
   "id": "4caa3c28-69b8-4383-83d6-36d301752234",
   "metadata": {},
   "outputs": [
    {
     "name": "stdout",
     "output_type": "stream",
     "text": [
      "Starting Training Loop...\n",
      "[0/5][0/469]\tLoss_D: 1.3873\tLoss_G: 0.6703\tD(x): 0.5132\tD(G(z)): 0.5132 / 0.5116\n",
      "[1/5][0/469]\tLoss_D: 1.3078\tLoss_G: 0.7766\tD(x): 0.5122\tD(G(z)): 0.4601 / 0.4601\n",
      "[2/5][0/469]\tLoss_D: 1.3518\tLoss_G: 0.7175\tD(x): 0.5127\tD(G(z)): 0.4880 / 0.4882\n",
      "[3/5][0/469]\tLoss_D: 1.3530\tLoss_G: 0.7174\tD(x): 0.5120\tD(G(z)): 0.4877 / 0.4882\n",
      "[4/5][0/469]\tLoss_D: 1.3483\tLoss_G: 0.7163\tD(x): 0.5167\tD(G(z)): 0.4888 / 0.4887\n"
     ]
    }
   ],
   "source": [
    "# Training Loop\n",
    "\n",
    "# Lists to keep track of progress\n",
    "img_list = []\n",
    "G_losses = []\n",
    "D_losses = []\n",
    "iters = 0\n",
    "\n",
    "G_losses_val = []\n",
    "D_losses_val = []\n",
    "\n",
    "print(\"Starting Training Loop...\")\n",
    "# For each epoch\n",
    "for epoch in range(num_epochs):\n",
    "    # For each batch in the dataloader\n",
    "    for i, data in enumerate(train_set, 0):\n",
    "        \n",
    "        ############################\n",
    "        # (1) Update D network: maximize log(D(x)) + log(1 - D(G(z)))\n",
    "        ###########################\n",
    "        ## Train with all-real batch\n",
    "        netD.zero_grad()\n",
    "        # Format batch\n",
    "        real_cpu = torch.hstack((data[0],data[1].unsqueeze(1))).to(device)\n",
    "        b_size = real_cpu.size(0)\n",
    "        label = torch.full((b_size,), real_label, dtype=torch.float, device=device)\n",
    "        # Forward pass real batch through D\n",
    "        output = netD(real_cpu).view(-1)\n",
    "        # Calculate loss on all-real batch\n",
    "        errD_real = criterion(output, label)\n",
    "        # Calculate gradients for D in backward pass\n",
    "        errD_real.backward()\n",
    "        D_x = output.mean().item()\n",
    "\n",
    "        ## Train with all-fake batch\n",
    "        # Generate batch of latent vectors\n",
    "        noise = torch.randn(b_size, nz, device=device)\n",
    "        # Generate fake image batch with G\n",
    "        gen_ip = torch.hstack((data[0],noise)).to(device)\n",
    "        fake = netG(gen_ip)\n",
    "        \n",
    "        label.fill_(fake_label)\n",
    "        # Classify all fake batch with D\n",
    "        fake_cpu = torch.hstack((data[0],fake.detach())).to(device)\n",
    "        output = netD(fake_cpu.detach()).view(-1)\n",
    "        # Calculate D's loss on the all-fake batch\n",
    "        errD_fake = criterion(output, label)\n",
    "        # Calculate the gradients for this batch, accumulated (summed) with previous gradients\n",
    "        errD_fake.backward()\n",
    "        D_G_z1 = output.mean().item()\n",
    "        # Compute error of D as sum over the fake and the real batches\n",
    "        errD = errD_real + errD_fake\n",
    "        # Update D\n",
    "        optimizerD.step()\n",
    "\n",
    "        ############################\n",
    "        # (2) Update G network: maximize log(D(G(z)))\n",
    "        ###########################\n",
    "        netG.zero_grad()\n",
    "        label.fill_(real_label)  # fake labels are real for generator cost\n",
    "        # Since we just updated D, perform another forward pass of all-fake batch through D\n",
    "        fake_cpu = torch.hstack((data[0],fake)).to(device)\n",
    "        output = netD(fake_cpu).view(-1)\n",
    "        # Calculate G's loss based on this output\n",
    "        errG = criterion(output, label)\n",
    "        # Calculate gradients for G\n",
    "        errG.backward()\n",
    "        D_G_z2 = output.mean().item()\n",
    "        # Update G\n",
    "        optimizerG.step()\n",
    "        \n",
    "        # Output training stats\n",
    "        if i % 500 == 0:\n",
    "            print('[%d/%d][%d/%d]\\tLoss_D: %.4f\\tLoss_G: %.4f\\tD(x): %.4f\\tD(G(z)): %.4f / %.4f'\n",
    "                  % (epoch, num_epochs, i, len(train_set),\n",
    "                     errD.item(), errG.item(), D_x, D_G_z1, D_G_z2))\n",
    "                \n",
    "        # Output validation stats\n",
    "        if i % 100 == 0:\n",
    "            with torch.no_grad():\n",
    "                errG_vals = []\n",
    "                errD_vals = []\n",
    "                for i, data in enumerate(val_set, 0):\n",
    "                    b_size = data[0].size(0)\n",
    "                    noise = torch.randn(b_size, nz, device=device)\n",
    "                    # Generate fake image batch with G\n",
    "                    gen_ip = torch.hstack((data[0],noise)).to(device)\n",
    "                    gen_op = netG(gen_ip)\n",
    "                    \n",
    "                    fake_cpu = torch.hstack((data[0],gen_op)).to(device)\n",
    "                    fake_output = netD(fake_cpu).view(-1)\n",
    "\n",
    "                    label.fill_(real_label) # fake labels are real for generator cost\n",
    "                    errG_val = criterion(output, label)  \n",
    "                    \n",
    "                    label.fill_(fake_label)\n",
    "                    errD_fake_val = criterion(output, label)\n",
    "                    \n",
    "                    real_cpu = torch.hstack((data[0],data[1].unsqueeze(1))).to(device)\n",
    "                    real_output = netD(real_cpu).view(-1)\n",
    "                    \n",
    "                    label.fill_(real_label)\n",
    "                    errD_real_val = criterion(output, label)\n",
    "                    \n",
    "                    errG_vals.append(errG_val.item())\n",
    "                    errD_vals.append((errD_fake_val+errD_real_val).item())\n",
    "            G_losses_val.append(sum(errG_vals)/len(errG_vals))\n",
    "            D_losses_val.append(sum(errD_vals)/len(errD_vals))\n",
    "        \n",
    "        \n",
    "        # Save Losses for plotting later\n",
    "        G_losses.append(errG.item())\n",
    "        D_losses.append(errD.item())\n",
    "        \n",
    "        # Check how the generator is doing by saving G's output on fixed_noise\n",
    "        # if (iters % 500 == 0) or ((epoch == num_epochs-1) and (i == len(train_set)-1)):\n",
    "        #     with torch.no_grad():\n",
    "        #         fake = netG(fixed_noise).detach().cpu()\n",
    "        #     img_list.append(vutils.make_grid(fake, padding=2, normalize=True))\n",
    "            \n",
    "        iters += 1"
   ]
  },
  {
   "cell_type": "code",
   "execution_count": 20,
   "id": "1cca6ec1-c384-40f7-9455-c723703c67d4",
   "metadata": {},
   "outputs": [
    {
     "data": {
      "image/png": "[encoded data removed]",
      "text/plain": [
       "<Figure size 720x360 with 1 Axes>"
      ]
     },
     "metadata": {
      "needs_background": "light"
     },
     "output_type": "display_data"
    }
   ],
   "source": [
    "plt.figure(figsize=(10,5))\n",
    "plt.title(\"Generator and Discriminator Loss During Training\")\n",
    "plt.plot(G_losses,label=\"G\")\n",
    "plt.plot(D_losses,label=\"D\")\n",
    "plt.xlabel(\"iterations\")\n",
    "plt.ylabel(\"Loss\")\n",
    "plt.legend()\n",
    "plt.show()"
   ]
  },
  {
   "cell_type": "code",
   "execution_count": 21,
   "id": "64be2550-691b-40c4-a4e9-f16cb3783b0f",
   "metadata": {},
   "outputs": [
    {
     "data": {
      "image/png": "[encoded data removed]",
      "text/plain": [
       "<Figure size 720x360 with 1 Axes>"
      ]
     },
     "metadata": {
      "needs_background": "light"
     },
     "output_type": "display_data"
    }
   ],
   "source": [
    "plt.figure(figsize=(10,5))\n",
    "plt.title(\"Generator and Discriminator Loss During Training (Validation Set)\")\n",
    "plt.plot(G_losses_val,label=\"G\")\n",
    "plt.plot(D_losses_val,label=\"D\")\n",
    "plt.xlabel(\"iterations\")\n",
    "plt.ylabel(\"Loss\")\n",
    "plt.legend()\n",
    "plt.show()"
   ]
  },
  {
   "cell_type": "markdown",
   "id": "9546287e-8940-4fbc-b990-81029da132cd",
   "metadata": {},
   "source": [
    "## Train Predictions"
   ]
  },
  {
   "cell_type": "code",
   "execution_count": 22,
   "id": "22d71a6f-0001-4bcd-957f-a2b0e1d2394d",
   "metadata": {},
   "outputs": [],
   "source": [
    "train_ops = []\n",
    "with torch.no_grad():\n",
    "    for i, data in enumerate(train_set, 0):\n",
    "        b_size = data[0].size(0)\n",
    "        noise = torch.randn(b_size, nz, device=device)\n",
    "        # Generate fake image batch with G\n",
    "        gen_ip = torch.hstack((data[0],noise)).to(device)\n",
    "        fake = netG(gen_ip)\n",
    "        \n",
    "        train_ops.append(\n",
    "            (data[1].detach().cpu().numpy(), fake.detach().cpu().numpy())\n",
    "        )"
   ]
  },
  {
   "cell_type": "code",
   "execution_count": 23,
   "id": "23c38a2f-9fec-452f-ac02-b3e35e14b189",
   "metadata": {},
   "outputs": [],
   "source": [
    "train_reals = np.concatenate(list(x[0] for x in train_ops))\n",
    "train_preds = np.concatenate(list(x[1] for x in train_ops))"
   ]
  },
  {
   "cell_type": "code",
   "execution_count": 24,
   "id": "378a9a1c-39df-4ae5-a35e-edff8243ec80",
   "metadata": {},
   "outputs": [
    {
     "data": {
      "text/html": [
       "<div>\n",
       "<style scoped>\n",
       "    .dataframe tbody tr th:only-of-type {\n",
       "        vertical-align: middle;\n",
       "    }\n",
       "\n",
       "    .dataframe tbody tr th {\n",
       "        vertical-align: top;\n",
       "    }\n",
       "\n",
       "    .dataframe thead th {\n",
       "        text-align: right;\n",
       "    }\n",
       "</style>\n",
       "<table border=\"1\" class=\"dataframe\">\n",
       "  <thead>\n",
       "    <tr style=\"text-align: right;\">\n",
       "      <th></th>\n",
       "      <th>true</th>\n",
       "      <th>pred</th>\n",
       "    </tr>\n",
       "  </thead>\n",
       "  <tbody>\n",
       "    <tr>\n",
       "      <th>count</th>\n",
       "      <td>60000.000000</td>\n",
       "      <td>60000.000000</td>\n",
       "    </tr>\n",
       "    <tr>\n",
       "      <th>mean</th>\n",
       "      <td>-0.001583</td>\n",
       "      <td>-0.176489</td>\n",
       "    </tr>\n",
       "    <tr>\n",
       "      <th>std</th>\n",
       "      <td>1.002740</td>\n",
       "      <td>0.028384</td>\n",
       "    </tr>\n",
       "    <tr>\n",
       "      <th>min</th>\n",
       "      <td>-0.221753</td>\n",
       "      <td>-0.279848</td>\n",
       "    </tr>\n",
       "    <tr>\n",
       "      <th>25%</th>\n",
       "      <td>-0.221753</td>\n",
       "      <td>-0.194853</td>\n",
       "    </tr>\n",
       "    <tr>\n",
       "      <th>50%</th>\n",
       "      <td>-0.221753</td>\n",
       "      <td>-0.180073</td>\n",
       "    </tr>\n",
       "    <tr>\n",
       "      <th>75%</th>\n",
       "      <td>-0.221753</td>\n",
       "      <td>-0.162522</td>\n",
       "    </tr>\n",
       "    <tr>\n",
       "      <th>max</th>\n",
       "      <td>45.589184</td>\n",
       "      <td>0.185729</td>\n",
       "    </tr>\n",
       "  </tbody>\n",
       "</table>\n",
       "</div>"
      ],
      "text/plain": [
       "               true          pred\n",
       "count  60000.000000  60000.000000\n",
       "mean      -0.001583     -0.176489\n",
       "std        1.002740      0.028384\n",
       "min       -0.221753     -0.279848\n",
       "25%       -0.221753     -0.194853\n",
       "50%       -0.221753     -0.180073\n",
       "75%       -0.221753     -0.162522\n",
       "max       45.589184      0.185729"
      ]
     },
     "execution_count": 24,
     "metadata": {},
     "output_type": "execute_result"
    }
   ],
   "source": [
    "df_results_train = pd.DataFrame(\n",
    "    data = np.hstack((\n",
    "    np.expand_dims(train_reals,1),train_preds\n",
    "    ))\n",
    "    ,columns = [\"true\",\"pred\"]\n",
    ")\n",
    "\n",
    "df_results_train.describe()"
   ]
  },
  {
   "cell_type": "code",
   "execution_count": 25,
   "id": "44f3be38-2a76-41f2-9f4a-95be6b25490b",
   "metadata": {},
   "outputs": [
    {
     "data": {
      "text/html": [
       "<div>\n",
       "<style scoped>\n",
       "    .dataframe tbody tr th:only-of-type {\n",
       "        vertical-align: middle;\n",
       "    }\n",
       "\n",
       "    .dataframe tbody tr th {\n",
       "        vertical-align: top;\n",
       "    }\n",
       "\n",
       "    .dataframe thead th {\n",
       "        text-align: right;\n",
       "    }\n",
       "</style>\n",
       "<table border=\"1\" class=\"dataframe\">\n",
       "  <thead>\n",
       "    <tr style=\"text-align: right;\">\n",
       "      <th></th>\n",
       "      <th>true</th>\n",
       "      <th>pred</th>\n",
       "    </tr>\n",
       "    <tr>\n",
       "      <th>pred_segment</th>\n",
       "      <th></th>\n",
       "      <th></th>\n",
       "    </tr>\n",
       "  </thead>\n",
       "  <tbody>\n",
       "    <tr>\n",
       "      <th>(-0.281, -0.208]</th>\n",
       "      <td>-0.057944</td>\n",
       "      <td>-0.218035</td>\n",
       "    </tr>\n",
       "    <tr>\n",
       "      <th>(-0.208, -0.198]</th>\n",
       "      <td>-0.051697</td>\n",
       "      <td>-0.202581</td>\n",
       "    </tr>\n",
       "    <tr>\n",
       "      <th>(-0.198, -0.192]</th>\n",
       "      <td>-0.047533</td>\n",
       "      <td>-0.194906</td>\n",
       "    </tr>\n",
       "    <tr>\n",
       "      <th>(-0.192, -0.186]</th>\n",
       "      <td>-0.043368</td>\n",
       "      <td>-0.188614</td>\n",
       "    </tr>\n",
       "    <tr>\n",
       "      <th>(-0.186, -0.18]</th>\n",
       "      <td>-0.036427</td>\n",
       "      <td>-0.182928</td>\n",
       "    </tr>\n",
       "    <tr>\n",
       "      <th>(-0.18, -0.174]</th>\n",
       "      <td>-0.056556</td>\n",
       "      <td>-0.177018</td>\n",
       "    </tr>\n",
       "    <tr>\n",
       "      <th>(-0.174, -0.167]</th>\n",
       "      <td>-0.010051</td>\n",
       "      <td>-0.170442</td>\n",
       "    </tr>\n",
       "    <tr>\n",
       "      <th>(-0.167, -0.157]</th>\n",
       "      <td>0.016325</td>\n",
       "      <td>-0.162302</td>\n",
       "    </tr>\n",
       "    <tr>\n",
       "      <th>(-0.157, -0.141]</th>\n",
       "      <td>0.072547</td>\n",
       "      <td>-0.150173</td>\n",
       "    </tr>\n",
       "    <tr>\n",
       "      <th>(-0.141, 0.186]</th>\n",
       "      <td>0.198875</td>\n",
       "      <td>-0.117889</td>\n",
       "    </tr>\n",
       "  </tbody>\n",
       "</table>\n",
       "</div>"
      ],
      "text/plain": [
       "                      true      pred\n",
       "pred_segment                        \n",
       "(-0.281, -0.208] -0.057944 -0.218035\n",
       "(-0.208, -0.198] -0.051697 -0.202581\n",
       "(-0.198, -0.192] -0.047533 -0.194906\n",
       "(-0.192, -0.186] -0.043368 -0.188614\n",
       "(-0.186, -0.18]  -0.036427 -0.182928\n",
       "(-0.18, -0.174]  -0.056556 -0.177018\n",
       "(-0.174, -0.167] -0.010051 -0.170442\n",
       "(-0.167, -0.157]  0.016325 -0.162302\n",
       "(-0.157, -0.141]  0.072547 -0.150173\n",
       "(-0.141, 0.186]   0.198875 -0.117889"
      ]
     },
     "execution_count": 25,
     "metadata": {},
     "output_type": "execute_result"
    }
   ],
   "source": [
    "df_results_train[\"pred_segment\"] = pd.qcut(df_results_train[\"pred\"],10)\n",
    "df_results_train.groupby(\"pred_segment\").mean()"
   ]
  },
  {
   "cell_type": "code",
   "execution_count": 26,
   "id": "25f8c965-2241-458d-bd98-f79a9a5b8de9",
   "metadata": {},
   "outputs": [
    {
     "data": {
      "text/plain": [
       "(1.0327511, 1.0054879)"
      ]
     },
     "execution_count": 26,
     "metadata": {},
     "output_type": "execute_result"
    }
   ],
   "source": [
    "mean_squared_error(df_results_train[\"true\"], df_results_train[\"pred\"]), df_results_train[\"true\"].var()"
   ]
  },
  {
   "cell_type": "code",
   "execution_count": 27,
   "id": "3b5a2f6a-10cb-4354-8ec2-188535bf86e5",
   "metadata": {},
   "outputs": [
    {
     "data": {
      "text/plain": [
       "(0.26044333, 0.41838926)"
      ]
     },
     "execution_count": 27,
     "metadata": {},
     "output_type": "execute_result"
    }
   ],
   "source": [
    "mean_absolute_error(df_results_train[\"true\"], df_results_train[\"pred\"]), (\n",
    "    df_results_train[\"true\"]-df_results_train[\"true\"].mean()\n",
    ").abs().mean()"
   ]
  },
  {
   "cell_type": "markdown",
   "id": "a8de3f01-dd60-4f6b-bf53-7b6fb50ab87a",
   "metadata": {},
   "source": [
    "## Test Predictions"
   ]
  },
  {
   "cell_type": "code",
   "execution_count": 28,
   "id": "4ca1102a-11e2-46b8-b0e4-232f0b8b6075",
   "metadata": {},
   "outputs": [],
   "source": [
    "test_ops = []\n",
    "with torch.no_grad():\n",
    "    for i, data in enumerate(test_set, 0):\n",
    "        b_size = data[0].size(0)\n",
    "        noise = torch.randn(b_size, nz, device=device)\n",
    "        # Generate fake image batch with G\n",
    "        gen_ip = torch.hstack((data[0],noise)).to(device)\n",
    "        fake = netG(gen_ip)\n",
    "        \n",
    "        test_ops.append(\n",
    "            (data[1].detach().cpu().numpy(), fake.detach().cpu().numpy())\n",
    "        )"
   ]
  },
  {
   "cell_type": "code",
   "execution_count": 29,
   "id": "a865a72b-bc48-4bbd-a185-ed30259d54c8",
   "metadata": {},
   "outputs": [],
   "source": [
    "test_reals = np.concatenate(list(x[0] for x in test_ops))\n",
    "test_preds = np.concatenate(list(x[1] for x in test_ops))"
   ]
  },
  {
   "cell_type": "code",
   "execution_count": 30,
   "id": "749677ba-6512-4ed3-8b27-979ac7f6b01c",
   "metadata": {},
   "outputs": [
    {
     "data": {
      "text/html": [
       "<div>\n",
       "<style scoped>\n",
       "    .dataframe tbody tr th:only-of-type {\n",
       "        vertical-align: middle;\n",
       "    }\n",
       "\n",
       "    .dataframe tbody tr th {\n",
       "        vertical-align: top;\n",
       "    }\n",
       "\n",
       "    .dataframe thead th {\n",
       "        text-align: right;\n",
       "    }\n",
       "</style>\n",
       "<table border=\"1\" class=\"dataframe\">\n",
       "  <thead>\n",
       "    <tr style=\"text-align: right;\">\n",
       "      <th></th>\n",
       "      <th>true</th>\n",
       "      <th>pred</th>\n",
       "    </tr>\n",
       "  </thead>\n",
       "  <tbody>\n",
       "    <tr>\n",
       "      <th>count</th>\n",
       "      <td>20000.000000</td>\n",
       "      <td>20000.000000</td>\n",
       "    </tr>\n",
       "    <tr>\n",
       "      <th>mean</th>\n",
       "      <td>-0.000403</td>\n",
       "      <td>-0.176310</td>\n",
       "    </tr>\n",
       "    <tr>\n",
       "      <th>std</th>\n",
       "      <td>1.091805</td>\n",
       "      <td>0.028462</td>\n",
       "    </tr>\n",
       "    <tr>\n",
       "      <th>min</th>\n",
       "      <td>-0.221753</td>\n",
       "      <td>-0.270451</td>\n",
       "    </tr>\n",
       "    <tr>\n",
       "      <th>25%</th>\n",
       "      <td>-0.221753</td>\n",
       "      <td>-0.194780</td>\n",
       "    </tr>\n",
       "    <tr>\n",
       "      <th>50%</th>\n",
       "      <td>-0.221753</td>\n",
       "      <td>-0.179825</td>\n",
       "    </tr>\n",
       "    <tr>\n",
       "      <th>75%</th>\n",
       "      <td>-0.221753</td>\n",
       "      <td>-0.162376</td>\n",
       "    </tr>\n",
       "    <tr>\n",
       "      <th>max</th>\n",
       "      <td>66.412338</td>\n",
       "      <td>0.188541</td>\n",
       "    </tr>\n",
       "  </tbody>\n",
       "</table>\n",
       "</div>"
      ],
      "text/plain": [
       "               true          pred\n",
       "count  20000.000000  20000.000000\n",
       "mean      -0.000403     -0.176310\n",
       "std        1.091805      0.028462\n",
       "min       -0.221753     -0.270451\n",
       "25%       -0.221753     -0.194780\n",
       "50%       -0.221753     -0.179825\n",
       "75%       -0.221753     -0.162376\n",
       "max       66.412338      0.188541"
      ]
     },
     "execution_count": 30,
     "metadata": {},
     "output_type": "execute_result"
    }
   ],
   "source": [
    "df_results = pd.DataFrame(\n",
    "    data = np.hstack((\n",
    "    np.expand_dims(test_reals,1),test_preds\n",
    "    ))\n",
    "    ,columns = [\"true\",\"pred\"]\n",
    ")\n",
    "\n",
    "df_results.describe()"
   ]
  },
  {
   "cell_type": "code",
   "execution_count": 31,
   "id": "452d1c07-874c-40f4-a2c2-300f4e5d437c",
   "metadata": {},
   "outputs": [
    {
     "data": {
      "text/html": [
       "<div>\n",
       "<style scoped>\n",
       "    .dataframe tbody tr th:only-of-type {\n",
       "        vertical-align: middle;\n",
       "    }\n",
       "\n",
       "    .dataframe tbody tr th {\n",
       "        vertical-align: top;\n",
       "    }\n",
       "\n",
       "    .dataframe thead th {\n",
       "        text-align: right;\n",
       "    }\n",
       "</style>\n",
       "<table border=\"1\" class=\"dataframe\">\n",
       "  <thead>\n",
       "    <tr style=\"text-align: right;\">\n",
       "      <th></th>\n",
       "      <th>true</th>\n",
       "      <th>pred</th>\n",
       "    </tr>\n",
       "    <tr>\n",
       "      <th>pred_segment</th>\n",
       "      <th></th>\n",
       "      <th></th>\n",
       "    </tr>\n",
       "  </thead>\n",
       "  <tbody>\n",
       "    <tr>\n",
       "      <th>(-0.271, -0.207]</th>\n",
       "      <td>-0.019769</td>\n",
       "      <td>-0.217850</td>\n",
       "    </tr>\n",
       "    <tr>\n",
       "      <th>(-0.207, -0.198]</th>\n",
       "      <td>-0.051003</td>\n",
       "      <td>-0.202477</td>\n",
       "    </tr>\n",
       "    <tr>\n",
       "      <th>(-0.198, -0.191]</th>\n",
       "      <td>-0.063497</td>\n",
       "      <td>-0.194790</td>\n",
       "    </tr>\n",
       "    <tr>\n",
       "      <th>(-0.191, -0.186]</th>\n",
       "      <td>-0.013522</td>\n",
       "      <td>-0.188466</td>\n",
       "    </tr>\n",
       "    <tr>\n",
       "      <th>(-0.186, -0.18]</th>\n",
       "      <td>-0.032262</td>\n",
       "      <td>-0.182706</td>\n",
       "    </tr>\n",
       "    <tr>\n",
       "      <th>(-0.18, -0.174]</th>\n",
       "      <td>-0.046839</td>\n",
       "      <td>-0.176870</td>\n",
       "    </tr>\n",
       "    <tr>\n",
       "      <th>(-0.174, -0.167]</th>\n",
       "      <td>-0.071826</td>\n",
       "      <td>-0.170358</td>\n",
       "    </tr>\n",
       "    <tr>\n",
       "      <th>(-0.167, -0.157]</th>\n",
       "      <td>0.023960</td>\n",
       "      <td>-0.162209</td>\n",
       "    </tr>\n",
       "    <tr>\n",
       "      <th>(-0.157, -0.141]</th>\n",
       "      <td>0.076018</td>\n",
       "      <td>-0.150238</td>\n",
       "    </tr>\n",
       "    <tr>\n",
       "      <th>(-0.141, 0.189]</th>\n",
       "      <td>0.194710</td>\n",
       "      <td>-0.117139</td>\n",
       "    </tr>\n",
       "  </tbody>\n",
       "</table>\n",
       "</div>"
      ],
      "text/plain": [
       "                      true      pred\n",
       "pred_segment                        \n",
       "(-0.271, -0.207] -0.019769 -0.217850\n",
       "(-0.207, -0.198] -0.051003 -0.202477\n",
       "(-0.198, -0.191] -0.063497 -0.194790\n",
       "(-0.191, -0.186] -0.013522 -0.188466\n",
       "(-0.186, -0.18]  -0.032262 -0.182706\n",
       "(-0.18, -0.174]  -0.046839 -0.176870\n",
       "(-0.174, -0.167] -0.071826 -0.170358\n",
       "(-0.167, -0.157]  0.023960 -0.162209\n",
       "(-0.157, -0.141]  0.076018 -0.150238\n",
       "(-0.141, 0.189]   0.194710 -0.117139"
      ]
     },
     "execution_count": 31,
     "metadata": {},
     "output_type": "execute_result"
    }
   ],
   "source": [
    "df_results[\"pred_segment\"] = pd.qcut(df_results[\"pred\"],10)\n",
    "df_results.groupby(\"pred_segment\").mean()"
   ]
  },
  {
   "cell_type": "code",
   "execution_count": 32,
   "id": "0749ecba-0122-48d0-afc5-80b1b2bb408f",
   "metadata": {},
   "outputs": [
    {
     "data": {
      "text/plain": [
       "(1.2200801, 1.1920376)"
      ]
     },
     "execution_count": 32,
     "metadata": {},
     "output_type": "execute_result"
    }
   ],
   "source": [
    "mean_squared_error(df_results[\"true\"], df_results[\"pred\"]), df_results[\"true\"].var()"
   ]
  },
  {
   "cell_type": "code",
   "execution_count": 33,
   "id": "83577395-eba5-4a41-b391-e9dcc1eb2fc5",
   "metadata": {},
   "outputs": [
    {
     "data": {
      "text/plain": [
       "(0.2618525, 0.420853)"
      ]
     },
     "execution_count": 33,
     "metadata": {},
     "output_type": "execute_result"
    }
   ],
   "source": [
    "mean_absolute_error(df_results[\"true\"], df_results[\"pred\"]), (\n",
    "    df_results[\"true\"]-df_results[\"true\"].mean()\n",
    ").abs().mean()"
   ]
  },
  {
   "cell_type": "markdown",
   "id": "70a4e314-b34b-48d7-8c96-cb001997eaaf",
   "metadata": {},
   "source": [
    "## Test Predictions (averaged)"
   ]
  },
  {
   "cell_type": "code",
   "execution_count": 34,
   "id": "e337d101-7e02-45c8-9c6f-ab824c4159f2",
   "metadata": {},
   "outputs": [],
   "source": [
    "N_SAMPLES = 100\n",
    "test_ops = []\n",
    "with torch.no_grad():\n",
    "    for i, data in enumerate(test_set, 0):\n",
    "        b_size = data[0].size(0)\n",
    "        fakes = []\n",
    "        for _ in range(N_SAMPLES):\n",
    "            noise = torch.randn(b_size, nz, device=device)\n",
    "            # Generate fake image batch with G\n",
    "            gen_ip = torch.hstack((data[0],noise)).to(device)\n",
    "            fake = netG(gen_ip).detach().cpu().numpy()\n",
    "            fakes.append(fake)\n",
    "\n",
    "        test_ops.append(\n",
    "            (data[1].detach().cpu().numpy(), sum(fakes)/len(fakes))\n",
    "        )\n",
    "# print(test_reals.shape,np.concatenate(list(x[0] for x in test_ops)).shape)\n",
    "# print(test_preds.shape,np.concatenate(list(x[1] for x in test_ops)).shape)\n",
    "test_reals = np.concatenate(list(x[0] for x in test_ops))\n",
    "test_preds = np.concatenate(list(x[1] for x in test_ops))\n"
   ]
  },
  {
   "cell_type": "code",
   "execution_count": 35,
   "id": "6af69937-27e8-4522-9b13-7a0b9cb9b98c",
   "metadata": {},
   "outputs": [
    {
     "data": {
      "text/html": [
       "<div>\n",
       "<style scoped>\n",
       "    .dataframe tbody tr th:only-of-type {\n",
       "        vertical-align: middle;\n",
       "    }\n",
       "\n",
       "    .dataframe tbody tr th {\n",
       "        vertical-align: top;\n",
       "    }\n",
       "\n",
       "    .dataframe thead th {\n",
       "        text-align: right;\n",
       "    }\n",
       "</style>\n",
       "<table border=\"1\" class=\"dataframe\">\n",
       "  <thead>\n",
       "    <tr style=\"text-align: right;\">\n",
       "      <th></th>\n",
       "      <th>true</th>\n",
       "      <th>pred</th>\n",
       "    </tr>\n",
       "  </thead>\n",
       "  <tbody>\n",
       "    <tr>\n",
       "      <th>count</th>\n",
       "      <td>20000.000000</td>\n",
       "      <td>20000.000000</td>\n",
       "    </tr>\n",
       "    <tr>\n",
       "      <th>mean</th>\n",
       "      <td>-0.000403</td>\n",
       "      <td>-0.176456</td>\n",
       "    </tr>\n",
       "    <tr>\n",
       "      <th>std</th>\n",
       "      <td>1.091805</td>\n",
       "      <td>0.021566</td>\n",
       "    </tr>\n",
       "    <tr>\n",
       "      <th>min</th>\n",
       "      <td>-0.221753</td>\n",
       "      <td>-0.239400</td>\n",
       "    </tr>\n",
       "    <tr>\n",
       "      <th>25%</th>\n",
       "      <td>-0.221753</td>\n",
       "      <td>-0.190103</td>\n",
       "    </tr>\n",
       "    <tr>\n",
       "      <th>50%</th>\n",
       "      <td>-0.221753</td>\n",
       "      <td>-0.180552</td>\n",
       "    </tr>\n",
       "    <tr>\n",
       "      <th>75%</th>\n",
       "      <td>-0.221753</td>\n",
       "      <td>-0.167700</td>\n",
       "    </tr>\n",
       "    <tr>\n",
       "      <th>max</th>\n",
       "      <td>66.412338</td>\n",
       "      <td>0.183908</td>\n",
       "    </tr>\n",
       "  </tbody>\n",
       "</table>\n",
       "</div>"
      ],
      "text/plain": [
       "               true          pred\n",
       "count  20000.000000  20000.000000\n",
       "mean      -0.000403     -0.176456\n",
       "std        1.091805      0.021566\n",
       "min       -0.221753     -0.239400\n",
       "25%       -0.221753     -0.190103\n",
       "50%       -0.221753     -0.180552\n",
       "75%       -0.221753     -0.167700\n",
       "max       66.412338      0.183908"
      ]
     },
     "execution_count": 35,
     "metadata": {},
     "output_type": "execute_result"
    }
   ],
   "source": [
    "df_results = pd.DataFrame(\n",
    "    data = np.hstack((\n",
    "    np.expand_dims(test_reals,1),test_preds\n",
    "    ))\n",
    "    ,columns = [\"true\",\"pred\"]\n",
    ")\n",
    "\n",
    "df_results.describe()"
   ]
  },
  {
   "cell_type": "code",
   "execution_count": 36,
   "id": "a0bde69f-ca9d-4791-b5a3-65d00e879116",
   "metadata": {},
   "outputs": [
    {
     "data": {
      "text/html": [
       "<div>\n",
       "<style scoped>\n",
       "    .dataframe tbody tr th:only-of-type {\n",
       "        vertical-align: middle;\n",
       "    }\n",
       "\n",
       "    .dataframe tbody tr th {\n",
       "        vertical-align: top;\n",
       "    }\n",
       "\n",
       "    .dataframe thead th {\n",
       "        text-align: right;\n",
       "    }\n",
       "</style>\n",
       "<table border=\"1\" class=\"dataframe\">\n",
       "  <thead>\n",
       "    <tr style=\"text-align: right;\">\n",
       "      <th></th>\n",
       "      <th>true</th>\n",
       "      <th>pred</th>\n",
       "    </tr>\n",
       "    <tr>\n",
       "      <th>pred_segment</th>\n",
       "      <th></th>\n",
       "      <th></th>\n",
       "    </tr>\n",
       "  </thead>\n",
       "  <tbody>\n",
       "    <tr>\n",
       "      <th>(-0.24, -0.198]</th>\n",
       "      <td>-0.055168</td>\n",
       "      <td>-0.204229</td>\n",
       "    </tr>\n",
       "    <tr>\n",
       "      <th>(-0.198, -0.192]</th>\n",
       "      <td>-0.094732</td>\n",
       "      <td>-0.194770</td>\n",
       "    </tr>\n",
       "    <tr>\n",
       "      <th>(-0.192, -0.188]</th>\n",
       "      <td>-0.028098</td>\n",
       "      <td>-0.190148</td>\n",
       "    </tr>\n",
       "    <tr>\n",
       "      <th>(-0.188, -0.184]</th>\n",
       "      <td>-0.044756</td>\n",
       "      <td>-0.186361</td>\n",
       "    </tr>\n",
       "    <tr>\n",
       "      <th>(-0.184, -0.181]</th>\n",
       "      <td>-0.017686</td>\n",
       "      <td>-0.182561</td>\n",
       "    </tr>\n",
       "    <tr>\n",
       "      <th>(-0.181, -0.176]</th>\n",
       "      <td>-0.040592</td>\n",
       "      <td>-0.178558</td>\n",
       "    </tr>\n",
       "    <tr>\n",
       "      <th>(-0.176, -0.171]</th>\n",
       "      <td>-0.007275</td>\n",
       "      <td>-0.173908</td>\n",
       "    </tr>\n",
       "    <tr>\n",
       "      <th>(-0.171, -0.163]</th>\n",
       "      <td>-0.048921</td>\n",
       "      <td>-0.167559</td>\n",
       "    </tr>\n",
       "    <tr>\n",
       "      <th>(-0.163, -0.15]</th>\n",
       "      <td>0.096841</td>\n",
       "      <td>-0.157396</td>\n",
       "    </tr>\n",
       "    <tr>\n",
       "      <th>(-0.15, 0.184]</th>\n",
       "      <td>0.236356</td>\n",
       "      <td>-0.129069</td>\n",
       "    </tr>\n",
       "  </tbody>\n",
       "</table>\n",
       "</div>"
      ],
      "text/plain": [
       "                      true      pred\n",
       "pred_segment                        \n",
       "(-0.24, -0.198]  -0.055168 -0.204229\n",
       "(-0.198, -0.192] -0.094732 -0.194770\n",
       "(-0.192, -0.188] -0.028098 -0.190148\n",
       "(-0.188, -0.184] -0.044756 -0.186361\n",
       "(-0.184, -0.181] -0.017686 -0.182561\n",
       "(-0.181, -0.176] -0.040592 -0.178558\n",
       "(-0.176, -0.171] -0.007275 -0.173908\n",
       "(-0.171, -0.163] -0.048921 -0.167559\n",
       "(-0.163, -0.15]   0.096841 -0.157396\n",
       "(-0.15, 0.184]    0.236356 -0.129069"
      ]
     },
     "execution_count": 36,
     "metadata": {},
     "output_type": "execute_result"
    }
   ],
   "source": [
    "df_results[\"pred_segment\"] = pd.qcut(df_results[\"pred\"],10)\n",
    "df_results.groupby(\"pred_segment\").mean()"
   ]
  },
  {
   "cell_type": "code",
   "execution_count": 37,
   "id": "aaf071eb-b503-466a-acb7-93ccb7900327",
   "metadata": {},
   "outputs": [
    {
     "data": {
      "text/plain": [
       "(1.2197014, 1.1920376)"
      ]
     },
     "execution_count": 37,
     "metadata": {},
     "output_type": "execute_result"
    }
   ],
   "source": [
    "mean_squared_error(df_results[\"true\"], df_results[\"pred\"]), df_results[\"true\"].var()"
   ]
  },
  {
   "cell_type": "code",
   "execution_count": 38,
   "id": "f5f7b44a-9744-4ec0-ac41-be8affff1978",
   "metadata": {},
   "outputs": [
    {
     "data": {
      "text/plain": [
       "(0.26132178, 0.420853)"
      ]
     },
     "execution_count": 38,
     "metadata": {},
     "output_type": "execute_result"
    }
   ],
   "source": [
    "mean_absolute_error(df_results[\"true\"], df_results[\"pred\"]), (\n",
    "    df_results[\"true\"]-df_results[\"true\"].mean()\n",
    ").abs().mean()"
   ]
  },
  {
   "cell_type": "markdown",
   "id": "823b7d09-da4c-4cc9-b4e9-41b72372680d",
   "metadata": {},
   "source": [
    "# Naive Implementation"
   ]
  },
  {
   "cell_type": "markdown",
   "id": "3653b7f7-8b6a-425f-bc05-459596efcab6",
   "metadata": {},
   "source": [
    "### Define ANN Architecture"
   ]
  },
  {
   "cell_type": "code",
   "execution_count": 39,
   "id": "4449e391-a81d-4bc9-9633-8cb76946a2a4",
   "metadata": {},
   "outputs": [],
   "source": [
    "# Batch size during training\n",
    "batch_size = 128\n",
    "\n",
    "# Size of z latent vector (i.e. size of generator input)\n",
    "nz = 5\n",
    "\n",
    "# Number of training epochs\n",
    "num_epochs = 5\n",
    "\n",
    "# Learning rate for optimizers\n",
    "lr = 0.0002\n",
    "# lr = 0.0002\n",
    "\n",
    "# Beta1 hyperparam for Adam optimizers\n",
    "beta1 = 0.5\n",
    "\n",
    "# width of the network\n",
    "network_width = 128"
   ]
  },
  {
   "cell_type": "code",
   "execution_count": 40,
   "id": "25d1ba4d-5e60-43f7-adfb-589b815a52e1",
   "metadata": {},
   "outputs": [],
   "source": [
    "# create train and test indices\n",
    "train, test = train_test_split(list(range(x.shape[0])), test_size=.2)\n",
    "train, val = train_test_split(train, test_size=.25)"
   ]
  },
  {
   "cell_type": "code",
   "execution_count": 41,
   "id": "3e86e778-85f5-43d7-ba3f-01988531b9f6",
   "metadata": {},
   "outputs": [],
   "source": [
    "# https://gist.github.com/conormm/5b26a08029b900520bcd6fcd1f5712a0\n",
    "class PrepareData(torch.utils.data.Dataset):\n",
    "\n",
    "    def __init__(self, X, y, scale_X=True):\n",
    "        if not torch.is_tensor(X):\n",
    "            if scale_X:\n",
    "                X = StandardScaler().fit_transform(X)\n",
    "            self.X = torch.from_numpy(X).float()\n",
    "        else:\n",
    "            self.X = X.float32()\n",
    "        if not torch.is_tensor(y):\n",
    "            self.y = torch.from_numpy(y).float()\n",
    "        else:\n",
    "            self.y = y.float32()\n",
    "\n",
    "    def __len__(self):\n",
    "        return len(self.X)\n",
    "\n",
    "    def __getitem__(self, idx):\n",
    "        return self.X[idx], self.y[idx]\n",
    "\n",
    "ds = PrepareData(x, y=y, scale_X=False)\n",
    "\n",
    "train_set = torch.utils.data.DataLoader(ds, batch_size=batch_size,\n",
    "                       sampler=SubsetRandomSampler(train))\n",
    "val_set = torch.utils.data.DataLoader(ds, batch_size=batch_size,\n",
    "                       sampler=SubsetRandomSampler(val))\n",
    "test_set = torch.utils.data.DataLoader(ds, batch_size=batch_size,\n",
    "                      sampler=SubsetRandomSampler(test))"
   ]
  },
  {
   "cell_type": "code",
   "execution_count": 42,
   "id": "7916278e-fda0-4016-862e-ff60ad314cf1",
   "metadata": {
    "collapsed": false,
    "jupyter": {
     "outputs_hidden": false
    }
   },
   "outputs": [],
   "source": [
    "# Generator Code\n",
    "\n",
    "class Generator(nn.Module):\n",
    "    def __init__(self, ngpu):\n",
    "        super(Generator, self).__init__()\n",
    "        self.ngpu = ngpu\n",
    "        self.main = nn.Sequential(\n",
    "            # input is Z, going into a convolution\n",
    "            nn.Linear( n_feats+nz, network_width, bias=True),\n",
    "            nn.ReLU(True),\n",
    "\n",
    "            nn.Linear( network_width, network_width, bias=True),\n",
    "            nn.ReLU(True),\n",
    "\n",
    "            nn.Linear( network_width, 1, bias=True)\n",
    "\n",
    "        )\n",
    "\n",
    "    def forward(self, input):\n",
    "        return self.main(input)"
   ]
  },
  {
   "cell_type": "code",
   "execution_count": 43,
   "id": "84c601e7-f7e0-42d1-9b73-9cfe4d5a1f27",
   "metadata": {},
   "outputs": [
    {
     "name": "stdout",
     "output_type": "stream",
     "text": [
      "Generator(\n",
      "  (main): Sequential(\n",
      "    (0): Linear(in_features=53, out_features=128, bias=True)\n",
      "    (1): ReLU(inplace=True)\n",
      "    (2): Linear(in_features=128, out_features=128, bias=True)\n",
      "    (3): ReLU(inplace=True)\n",
      "    (4): Linear(in_features=128, out_features=1, bias=True)\n",
      "  )\n",
      ")\n"
     ]
    }
   ],
   "source": [
    "# Create the generator\n",
    "netG = Generator(ngpu).to(device)\n",
    "\n",
    "# Print the model\n",
    "print(netG)"
   ]
  },
  {
   "cell_type": "code",
   "execution_count": 44,
   "id": "096cd2ac-9816-499a-8d32-3c6c2b9f3a92",
   "metadata": {
    "collapsed": false,
    "jupyter": {
     "outputs_hidden": false
    }
   },
   "outputs": [],
   "source": [
    "# Discriminator Code\n",
    "\n",
    "class Discriminator(nn.Module):\n",
    "    def __init__(self, ngpu):\n",
    "        super(Discriminator, self).__init__()\n",
    "        self.ngpu = ngpu\n",
    "        self.main = nn.Sequential(\n",
    "            # input is Z, going into a convolution\n",
    "            nn.Linear(n_feats+1, network_width, bias=True), # i/p is covariates and o/p\n",
    "            nn.LeakyReLU(0.2, inplace=True),\n",
    "\n",
    "            nn.Linear( network_width, network_width, bias=True),\n",
    "            nn.LeakyReLU(0.2, inplace=True),\n",
    "\n",
    "            nn.Linear( network_width, 1, bias=True),\n",
    "            nn.Sigmoid(),\n",
    "\n",
    "        )\n",
    "\n",
    "    def forward(self, input):\n",
    "        return self.main(input)"
   ]
  },
  {
   "cell_type": "code",
   "execution_count": 45,
   "id": "2e2608fb-cb29-4af6-b4c9-aa3b7848e0ce",
   "metadata": {},
   "outputs": [
    {
     "name": "stdout",
     "output_type": "stream",
     "text": [
      "Discriminator(\n",
      "  (main): Sequential(\n",
      "    (0): Linear(in_features=49, out_features=128, bias=True)\n",
      "    (1): LeakyReLU(negative_slope=0.2, inplace=True)\n",
      "    (2): Linear(in_features=128, out_features=128, bias=True)\n",
      "    (3): LeakyReLU(negative_slope=0.2, inplace=True)\n",
      "    (4): Linear(in_features=128, out_features=1, bias=True)\n",
      "    (5): Sigmoid()\n",
      "  )\n",
      ")\n"
     ]
    }
   ],
   "source": [
    "# Create the Discriminator\n",
    "netD = Discriminator(ngpu).to(device)\n",
    "\n",
    "# Print the model\n",
    "print(netD)"
   ]
  },
  {
   "cell_type": "code",
   "execution_count": 46,
   "id": "69922a1c-d885-4650-b206-2a4e862ec996",
   "metadata": {
    "collapsed": false,
    "jupyter": {
     "outputs_hidden": false
    }
   },
   "outputs": [],
   "source": [
    "# Initialize BCELoss function\n",
    "criterion = nn.BCELoss()\n",
    "\n",
    "# Create batch of latent vectors that we will use to visualize\n",
    "#  the progression of the generator\n",
    "fixed_noise = torch.randn(nz, device=device)\n",
    "\n",
    "# Establish convention for real and fake labels during training\n",
    "real_label = 1.\n",
    "fake_label = 0.\n",
    "\n",
    "# Setup Adam optimizers for both G and D\n",
    "optimizerD = optim.Adam(netD.parameters(), lr=lr, betas=(beta1, 0.999))\n",
    "optimizerG = optim.Adam(netG.parameters(), lr=lr, betas=(beta1, 0.999))"
   ]
  },
  {
   "cell_type": "code",
   "execution_count": 47,
   "id": "bd758fb6-6282-4c20-a8f6-4626cafba675",
   "metadata": {},
   "outputs": [
    {
     "name": "stdout",
     "output_type": "stream",
     "text": [
      "Starting Training Loop...\n",
      "[0/5][0/469]\tLoss_D: 1.3870\tLoss_G: -0.6707\tD(x): 0.4866\tD(G(z)): 0.4864 / 0.4886\n",
      "[1/5][0/469]\tLoss_D: 1.3186\tLoss_G: -0.5918\tD(x): 0.4877\tD(G(z)): 0.4453 / 0.4462\n",
      "[2/5][0/469]\tLoss_D: 1.3702\tLoss_G: -0.6735\tD(x): 0.5016\tD(G(z)): 0.4898 / 0.4900\n",
      "[3/5][0/469]\tLoss_D: 1.3527\tLoss_G: -0.6685\tD(x): 0.5117\tD(G(z)): 0.4874 / 0.4874\n",
      "[4/5][0/469]\tLoss_D: 1.3534\tLoss_G: -0.6750\tD(x): 0.5147\tD(G(z)): 0.4907 / 0.4907\n"
     ]
    }
   ],
   "source": [
    "# Training Loop\n",
    "\n",
    "# Lists to keep track of progress\n",
    "img_list = []\n",
    "G_losses = []\n",
    "D_losses = []\n",
    "iters = 0\n",
    "\n",
    "G_losses_val = []\n",
    "D_losses_val = []\n",
    "\n",
    "print(\"Starting Training Loop...\")\n",
    "# For each epoch\n",
    "for epoch in range(num_epochs):\n",
    "    # For each batch in the dataloader\n",
    "    for i, data in enumerate(train_set, 0):\n",
    "        \n",
    "        ############################\n",
    "        # (1) Update D network: maximize log(D(x)) + log(1 - D(G(z)))\n",
    "        ###########################\n",
    "        ## Train with all-real batch\n",
    "        netD.zero_grad()\n",
    "        # Format batch\n",
    "        real_cpu = torch.hstack((data[0],data[1].unsqueeze(1))).to(device)\n",
    "        b_size = real_cpu.size(0)\n",
    "        label = torch.full((b_size,), real_label, dtype=torch.float, device=device)\n",
    "        # Forward pass real batch through D\n",
    "        output = netD(real_cpu).view(-1)\n",
    "        # Calculate loss on all-real batch\n",
    "        errD_real = criterion(output, label)\n",
    "        # Calculate gradients for D in backward pass\n",
    "        errD_real.backward()\n",
    "        D_x = output.mean().item()\n",
    "\n",
    "        ## Train with all-fake batch\n",
    "        # Generate batch of latent vectors\n",
    "        noise = torch.randn(b_size, nz, device=device)\n",
    "        # Generate fake image batch with G\n",
    "        gen_ip = torch.hstack((data[0],noise)).to(device)\n",
    "        fake = netG(gen_ip)\n",
    "        \n",
    "        label.fill_(fake_label)\n",
    "        # Classify all fake batch with D\n",
    "        fake_cpu = torch.hstack((data[0],fake.detach())).to(device)\n",
    "        output = netD(fake_cpu.detach()).view(-1)\n",
    "        # Calculate D's loss on the all-fake batch\n",
    "        errD_fake = criterion(output, label)\n",
    "        # Calculate the gradients for this batch, accumulated (summed) with previous gradients\n",
    "        errD_fake.backward()\n",
    "        D_G_z1 = output.mean().item()\n",
    "        # Compute error of D as sum over the fake and the real batches\n",
    "        errD = errD_real + errD_fake\n",
    "        # Update D\n",
    "        optimizerD.step()\n",
    "\n",
    "        ############################\n",
    "        # (2) Update G network: maximize log(D(G(z)))\n",
    "        ###########################\n",
    "        netG.zero_grad()\n",
    "        label.fill_(fake_label)  # fake labels are now fake for generator cost\n",
    "        # Since we just updated D, perform another forward pass of all-fake batch through D\n",
    "        fake_cpu = torch.hstack((data[0],fake)).to(device)\n",
    "        output = netD(fake_cpu).view(-1)\n",
    "        # Calculate G's loss based on this output\n",
    "        errG = -1 * criterion(output, label)\n",
    "        # Calculate gradients for G\n",
    "        errG.backward()\n",
    "        D_G_z2 = output.mean().item()\n",
    "        # Update G\n",
    "        optimizerG.step()\n",
    "        \n",
    "        # Output training stats\n",
    "        if i % 500 == 0:\n",
    "            print('[%d/%d][%d/%d]\\tLoss_D: %.4f\\tLoss_G: %.4f\\tD(x): %.4f\\tD(G(z)): %.4f / %.4f'\n",
    "                  % (epoch, num_epochs, i, len(train_set),\n",
    "                     errD.item(), errG.item(), D_x, D_G_z1, D_G_z2))\n",
    "                \n",
    "        # Output validation stats\n",
    "        if i % 100 == 0:\n",
    "            with torch.no_grad():\n",
    "                errG_vals = []\n",
    "                errD_vals = []\n",
    "                for i, data in enumerate(val_set, 0):\n",
    "                    b_size = data[0].size(0)\n",
    "                    noise = torch.randn(b_size, nz, device=device)\n",
    "                    # Generate fake image batch with G\n",
    "                    gen_ip = torch.hstack((data[0],noise)).to(device)\n",
    "                    gen_op = netG(gen_ip)\n",
    "                    \n",
    "                    fake_cpu = torch.hstack((data[0],gen_op)).to(device)\n",
    "                    fake_output = netD(fake_cpu).view(-1)\n",
    "\n",
    "                    label.fill_(fake_label) # fake labels are now fake for generator cost\n",
    "                    errG_val = -1 * criterion(output, label)  \n",
    "                    \n",
    "                    label.fill_(fake_label)\n",
    "                    errD_fake_val = criterion(output, label)\n",
    "                    \n",
    "                    real_cpu = torch.hstack((data[0],data[1].unsqueeze(1))).to(device)\n",
    "                    real_output = netD(real_cpu).view(-1)\n",
    "                    \n",
    "                    label.fill_(real_label)\n",
    "                    errD_real_val = criterion(output, label)\n",
    "                    \n",
    "                    errG_vals.append(errG_val.item())\n",
    "                    errD_vals.append((errD_fake_val+errD_real_val).item())\n",
    "            G_losses_val.append(sum(errG_vals)/len(errG_vals))\n",
    "            D_losses_val.append(sum(errD_vals)/len(errD_vals))\n",
    "        \n",
    "        \n",
    "        # Save Losses for plotting later\n",
    "        G_losses.append(errG.item())\n",
    "        D_losses.append(errD.item())\n",
    "        \n",
    "        # Check how the generator is doing by saving G's output on fixed_noise\n",
    "        # if (iters % 500 == 0) or ((epoch == num_epochs-1) and (i == len(train_set)-1)):\n",
    "        #     with torch.no_grad():\n",
    "        #         fake = netG(fixed_noise).detach().cpu()\n",
    "        #     img_list.append(vutils.make_grid(fake, padding=2, normalize=True))\n",
    "            \n",
    "        iters += 1"
   ]
  },
  {
   "cell_type": "code",
   "execution_count": 48,
   "id": "d01333e5-b6d8-43fb-a271-f5f4bcc2538f",
   "metadata": {},
   "outputs": [
    {
     "data": {
      "image/png": "[encoded data removed]",
      "text/plain": [
       "<Figure size 720x360 with 1 Axes>"
      ]
     },
     "metadata": {
      "needs_background": "light"
     },
     "output_type": "display_data"
    }
   ],
   "source": [
    "plt.figure(figsize=(10,5))\n",
    "plt.title(\"Generator and Discriminator Loss During Training\")\n",
    "plt.plot(G_losses,label=\"G\")\n",
    "plt.plot(D_losses,label=\"D\")\n",
    "plt.xlabel(\"iterations\")\n",
    "plt.ylabel(\"Loss\")\n",
    "plt.legend()\n",
    "plt.show()"
   ]
  },
  {
   "cell_type": "code",
   "execution_count": 49,
   "id": "f45e9257-2b0b-48ca-a8f2-a809c512eff6",
   "metadata": {},
   "outputs": [
    {
     "data": {
      "image/png": "[encoded data removed]",
      "text/plain": [
       "<Figure size 720x360 with 1 Axes>"
      ]
     },
     "metadata": {
      "needs_background": "light"
     },
     "output_type": "display_data"
    }
   ],
   "source": [
    "plt.figure(figsize=(10,5))\n",
    "plt.title(\"Generator and Discriminator Loss During Training (Validation Set)\")\n",
    "plt.plot(G_losses_val,label=\"G\")\n",
    "plt.plot(D_losses_val,label=\"D\")\n",
    "plt.xlabel(\"iterations\")\n",
    "plt.ylabel(\"Loss\")\n",
    "plt.legend()\n",
    "plt.show()"
   ]
  },
  {
   "cell_type": "markdown",
   "id": "eb451ffe-07c2-4807-bc1b-c70959d17f75",
   "metadata": {},
   "source": [
    "## Train Predictions"
   ]
  },
  {
   "cell_type": "code",
   "execution_count": 50,
   "id": "72ff9249-3e7c-420e-83da-cd26c8873499",
   "metadata": {},
   "outputs": [],
   "source": [
    "train_ops = []\n",
    "with torch.no_grad():\n",
    "    for i, data in enumerate(train_set, 0):\n",
    "        b_size = data[0].size(0)\n",
    "        noise = torch.randn(b_size, nz, device=device)\n",
    "        # Generate fake image batch with G\n",
    "        gen_ip = torch.hstack((data[0],noise)).to(device)\n",
    "        fake = netG(gen_ip)\n",
    "        \n",
    "        train_ops.append(\n",
    "            (data[1].detach().cpu().numpy(), fake.detach().cpu().numpy())\n",
    "        )"
   ]
  },
  {
   "cell_type": "code",
   "execution_count": 51,
   "id": "b258862e-1c42-491f-be18-bb81a9491c5e",
   "metadata": {},
   "outputs": [],
   "source": [
    "train_reals = np.concatenate(list(x[0] for x in train_ops))\n",
    "train_preds = np.concatenate(list(x[1] for x in train_ops))"
   ]
  },
  {
   "cell_type": "code",
   "execution_count": 52,
   "id": "520c8216-a95e-4a2a-9bb3-1691f18ea7e2",
   "metadata": {},
   "outputs": [
    {
     "data": {
      "text/html": [
       "<div>\n",
       "<style scoped>\n",
       "    .dataframe tbody tr th:only-of-type {\n",
       "        vertical-align: middle;\n",
       "    }\n",
       "\n",
       "    .dataframe tbody tr th {\n",
       "        vertical-align: top;\n",
       "    }\n",
       "\n",
       "    .dataframe thead th {\n",
       "        text-align: right;\n",
       "    }\n",
       "</style>\n",
       "<table border=\"1\" class=\"dataframe\">\n",
       "  <thead>\n",
       "    <tr style=\"text-align: right;\">\n",
       "      <th></th>\n",
       "      <th>true</th>\n",
       "      <th>pred</th>\n",
       "    </tr>\n",
       "  </thead>\n",
       "  <tbody>\n",
       "    <tr>\n",
       "      <th>count</th>\n",
       "      <td>60000.000000</td>\n",
       "      <td>60000.000000</td>\n",
       "    </tr>\n",
       "    <tr>\n",
       "      <th>mean</th>\n",
       "      <td>0.004039</td>\n",
       "      <td>-0.206344</td>\n",
       "    </tr>\n",
       "    <tr>\n",
       "      <th>std</th>\n",
       "      <td>1.047344</td>\n",
       "      <td>0.024432</td>\n",
       "    </tr>\n",
       "    <tr>\n",
       "      <th>min</th>\n",
       "      <td>-0.221753</td>\n",
       "      <td>-0.305864</td>\n",
       "    </tr>\n",
       "    <tr>\n",
       "      <th>25%</th>\n",
       "      <td>-0.221753</td>\n",
       "      <td>-0.222574</td>\n",
       "    </tr>\n",
       "    <tr>\n",
       "      <th>50%</th>\n",
       "      <td>-0.221753</td>\n",
       "      <td>-0.207668</td>\n",
       "    </tr>\n",
       "    <tr>\n",
       "      <th>75%</th>\n",
       "      <td>-0.221753</td>\n",
       "      <td>-0.191630</td>\n",
       "    </tr>\n",
       "    <tr>\n",
       "      <th>max</th>\n",
       "      <td>66.412338</td>\n",
       "      <td>0.174172</td>\n",
       "    </tr>\n",
       "  </tbody>\n",
       "</table>\n",
       "</div>"
      ],
      "text/plain": [
       "               true          pred\n",
       "count  60000.000000  60000.000000\n",
       "mean       0.004039     -0.206344\n",
       "std        1.047344      0.024432\n",
       "min       -0.221753     -0.305864\n",
       "25%       -0.221753     -0.222574\n",
       "50%       -0.221753     -0.207668\n",
       "75%       -0.221753     -0.191630\n",
       "max       66.412338      0.174172"
      ]
     },
     "execution_count": 52,
     "metadata": {},
     "output_type": "execute_result"
    }
   ],
   "source": [
    "df_results_train = pd.DataFrame(\n",
    "    data = np.hstack((\n",
    "    np.expand_dims(train_reals,1),train_preds\n",
    "    ))\n",
    "    ,columns = [\"true\",\"pred\"]\n",
    ")\n",
    "\n",
    "df_results_train.describe()"
   ]
  },
  {
   "cell_type": "code",
   "execution_count": 53,
   "id": "371a28fc-7b37-432c-b5b8-8c7ec087fbdb",
   "metadata": {},
   "outputs": [
    {
     "data": {
      "text/html": [
       "<div>\n",
       "<style scoped>\n",
       "    .dataframe tbody tr th:only-of-type {\n",
       "        vertical-align: middle;\n",
       "    }\n",
       "\n",
       "    .dataframe tbody tr th {\n",
       "        vertical-align: top;\n",
       "    }\n",
       "\n",
       "    .dataframe thead th {\n",
       "        text-align: right;\n",
       "    }\n",
       "</style>\n",
       "<table border=\"1\" class=\"dataframe\">\n",
       "  <thead>\n",
       "    <tr style=\"text-align: right;\">\n",
       "      <th></th>\n",
       "      <th>true</th>\n",
       "      <th>pred</th>\n",
       "    </tr>\n",
       "    <tr>\n",
       "      <th>pred_segment</th>\n",
       "      <th></th>\n",
       "      <th></th>\n",
       "    </tr>\n",
       "  </thead>\n",
       "  <tbody>\n",
       "    <tr>\n",
       "      <th>(-0.307, -0.236]</th>\n",
       "      <td>-0.058638</td>\n",
       "      <td>-0.246267</td>\n",
       "    </tr>\n",
       "    <tr>\n",
       "      <th>(-0.236, -0.226]</th>\n",
       "      <td>-0.067662</td>\n",
       "      <td>-0.230549</td>\n",
       "    </tr>\n",
       "    <tr>\n",
       "      <th>(-0.226, -0.219]</th>\n",
       "      <td>-0.055862</td>\n",
       "      <td>-0.222617</td>\n",
       "    </tr>\n",
       "    <tr>\n",
       "      <th>(-0.219, -0.213]</th>\n",
       "      <td>-0.023933</td>\n",
       "      <td>-0.216285</td>\n",
       "    </tr>\n",
       "    <tr>\n",
       "      <th>(-0.213, -0.208]</th>\n",
       "      <td>-0.019769</td>\n",
       "      <td>-0.210566</td>\n",
       "    </tr>\n",
       "    <tr>\n",
       "      <th>(-0.208, -0.202]</th>\n",
       "      <td>-0.026710</td>\n",
       "      <td>-0.204735</td>\n",
       "    </tr>\n",
       "    <tr>\n",
       "      <th>(-0.202, -0.195]</th>\n",
       "      <td>-0.009357</td>\n",
       "      <td>-0.198522</td>\n",
       "    </tr>\n",
       "    <tr>\n",
       "      <th>(-0.195, -0.187]</th>\n",
       "      <td>0.018407</td>\n",
       "      <td>-0.191481</td>\n",
       "    </tr>\n",
       "    <tr>\n",
       "      <th>(-0.187, -0.176]</th>\n",
       "      <td>0.053113</td>\n",
       "      <td>-0.182107</td>\n",
       "    </tr>\n",
       "    <tr>\n",
       "      <th>(-0.176, 0.174]</th>\n",
       "      <td>0.230803</td>\n",
       "      <td>-0.160315</td>\n",
       "    </tr>\n",
       "  </tbody>\n",
       "</table>\n",
       "</div>"
      ],
      "text/plain": [
       "                      true      pred\n",
       "pred_segment                        \n",
       "(-0.307, -0.236] -0.058638 -0.246267\n",
       "(-0.236, -0.226] -0.067662 -0.230549\n",
       "(-0.226, -0.219] -0.055862 -0.222617\n",
       "(-0.219, -0.213] -0.023933 -0.216285\n",
       "(-0.213, -0.208] -0.019769 -0.210566\n",
       "(-0.208, -0.202] -0.026710 -0.204735\n",
       "(-0.202, -0.195] -0.009357 -0.198522\n",
       "(-0.195, -0.187]  0.018407 -0.191481\n",
       "(-0.187, -0.176]  0.053113 -0.182107\n",
       "(-0.176, 0.174]   0.230803 -0.160315"
      ]
     },
     "execution_count": 53,
     "metadata": {},
     "output_type": "execute_result"
    }
   ],
   "source": [
    "df_results_train[\"pred_segment\"] = pd.qcut(df_results_train[\"pred\"],10)\n",
    "df_results_train.groupby(\"pred_segment\").mean()"
   ]
  },
  {
   "cell_type": "code",
   "execution_count": 54,
   "id": "f9130259-ddea-4d1b-ad18-7b84de821ca4",
   "metadata": {},
   "outputs": [
    {
     "data": {
      "text/plain": [
       "(1.1379795, 1.0969297)"
      ]
     },
     "execution_count": 54,
     "metadata": {},
     "output_type": "execute_result"
    }
   ],
   "source": [
    "mean_squared_error(df_results_train[\"true\"], df_results_train[\"pred\"]), df_results_train[\"true\"].var()"
   ]
  },
  {
   "cell_type": "code",
   "execution_count": 55,
   "id": "d8076a72-cec7-4834-b1c5-c06a59a84278",
   "metadata": {},
   "outputs": [
    {
     "data": {
      "text/plain": [
       "(0.24545793, 0.428584)"
      ]
     },
     "execution_count": 55,
     "metadata": {},
     "output_type": "execute_result"
    }
   ],
   "source": [
    "mean_absolute_error(df_results_train[\"true\"], df_results_train[\"pred\"]), (\n",
    "    df_results_train[\"true\"]-df_results_train[\"true\"].mean()\n",
    ").abs().mean()"
   ]
  },
  {
   "cell_type": "markdown",
   "id": "245da0de-9767-4b08-a9a5-67836eb783dd",
   "metadata": {},
   "source": [
    "## Test Predictions"
   ]
  },
  {
   "cell_type": "code",
   "execution_count": 56,
   "id": "0ecf9c32-2886-4ee1-aa13-c9f06fab2806",
   "metadata": {},
   "outputs": [],
   "source": [
    "test_ops = []\n",
    "with torch.no_grad():\n",
    "    for i, data in enumerate(test_set, 0):\n",
    "        b_size = data[0].size(0)\n",
    "        noise = torch.randn(b_size, nz, device=device)\n",
    "        # Generate fake image batch with G\n",
    "        gen_ip = torch.hstack((data[0],noise)).to(device)\n",
    "        fake = netG(gen_ip)\n",
    "        \n",
    "        test_ops.append(\n",
    "            (data[1].detach().cpu().numpy(), fake.detach().cpu().numpy())\n",
    "        )"
   ]
  },
  {
   "cell_type": "code",
   "execution_count": 57,
   "id": "a7806613-252f-4817-bcc3-c394be181d1f",
   "metadata": {},
   "outputs": [],
   "source": [
    "test_reals = np.concatenate(list(x[0] for x in test_ops))\n",
    "test_preds = np.concatenate(list(x[1] for x in test_ops))"
   ]
  },
  {
   "cell_type": "code",
   "execution_count": 58,
   "id": "2e7d80bc-4c17-42a8-b278-82e031dc46eb",
   "metadata": {},
   "outputs": [
    {
     "data": {
      "text/html": [
       "<div>\n",
       "<style scoped>\n",
       "    .dataframe tbody tr th:only-of-type {\n",
       "        vertical-align: middle;\n",
       "    }\n",
       "\n",
       "    .dataframe tbody tr th {\n",
       "        vertical-align: top;\n",
       "    }\n",
       "\n",
       "    .dataframe thead th {\n",
       "        text-align: right;\n",
       "    }\n",
       "</style>\n",
       "<table border=\"1\" class=\"dataframe\">\n",
       "  <thead>\n",
       "    <tr style=\"text-align: right;\">\n",
       "      <th></th>\n",
       "      <th>true</th>\n",
       "      <th>pred</th>\n",
       "    </tr>\n",
       "  </thead>\n",
       "  <tbody>\n",
       "    <tr>\n",
       "      <th>count</th>\n",
       "      <td>20000.000000</td>\n",
       "      <td>20000.000000</td>\n",
       "    </tr>\n",
       "    <tr>\n",
       "      <th>mean</th>\n",
       "      <td>-0.011023</td>\n",
       "      <td>-0.206297</td>\n",
       "    </tr>\n",
       "    <tr>\n",
       "      <th>std</th>\n",
       "      <td>0.963663</td>\n",
       "      <td>0.024763</td>\n",
       "    </tr>\n",
       "    <tr>\n",
       "      <th>min</th>\n",
       "      <td>-0.221753</td>\n",
       "      <td>-0.324078</td>\n",
       "    </tr>\n",
       "    <tr>\n",
       "      <th>25%</th>\n",
       "      <td>-0.221753</td>\n",
       "      <td>-0.222657</td>\n",
       "    </tr>\n",
       "    <tr>\n",
       "      <th>50%</th>\n",
       "      <td>-0.221753</td>\n",
       "      <td>-0.207474</td>\n",
       "    </tr>\n",
       "    <tr>\n",
       "      <th>75%</th>\n",
       "      <td>-0.221753</td>\n",
       "      <td>-0.191365</td>\n",
       "    </tr>\n",
       "    <tr>\n",
       "      <th>max</th>\n",
       "      <td>8.107509</td>\n",
       "      <td>0.079894</td>\n",
       "    </tr>\n",
       "  </tbody>\n",
       "</table>\n",
       "</div>"
      ],
      "text/plain": [
       "               true          pred\n",
       "count  20000.000000  20000.000000\n",
       "mean      -0.011023     -0.206297\n",
       "std        0.963663      0.024763\n",
       "min       -0.221753     -0.324078\n",
       "25%       -0.221753     -0.222657\n",
       "50%       -0.221753     -0.207474\n",
       "75%       -0.221753     -0.191365\n",
       "max        8.107509      0.079894"
      ]
     },
     "execution_count": 58,
     "metadata": {},
     "output_type": "execute_result"
    }
   ],
   "source": [
    "df_results = pd.DataFrame(\n",
    "    data = np.hstack((\n",
    "    np.expand_dims(test_reals,1),test_preds\n",
    "    ))\n",
    "    ,columns = [\"true\",\"pred\"]\n",
    ")\n",
    "\n",
    "df_results.describe()"
   ]
  },
  {
   "cell_type": "code",
   "execution_count": 59,
   "id": "c946978e-cdfb-4eab-a6c8-3bc3917a6509",
   "metadata": {},
   "outputs": [
    {
     "data": {
      "text/html": [
       "<div>\n",
       "<style scoped>\n",
       "    .dataframe tbody tr th:only-of-type {\n",
       "        vertical-align: middle;\n",
       "    }\n",
       "\n",
       "    .dataframe tbody tr th {\n",
       "        vertical-align: top;\n",
       "    }\n",
       "\n",
       "    .dataframe thead th {\n",
       "        text-align: right;\n",
       "    }\n",
       "</style>\n",
       "<table border=\"1\" class=\"dataframe\">\n",
       "  <thead>\n",
       "    <tr style=\"text-align: right;\">\n",
       "      <th></th>\n",
       "      <th>true</th>\n",
       "      <th>pred</th>\n",
       "    </tr>\n",
       "    <tr>\n",
       "      <th>pred_segment</th>\n",
       "      <th></th>\n",
       "      <th></th>\n",
       "    </tr>\n",
       "  </thead>\n",
       "  <tbody>\n",
       "    <tr>\n",
       "      <th>(-0.325, -0.236]</th>\n",
       "      <td>-0.065579</td>\n",
       "      <td>-0.247024</td>\n",
       "    </tr>\n",
       "    <tr>\n",
       "      <th>(-0.236, -0.226]</th>\n",
       "      <td>-0.055168</td>\n",
       "      <td>-0.230736</td>\n",
       "    </tr>\n",
       "    <tr>\n",
       "      <th>(-0.226, -0.219]</th>\n",
       "      <td>-0.048921</td>\n",
       "      <td>-0.222698</td>\n",
       "    </tr>\n",
       "    <tr>\n",
       "      <th>(-0.219, -0.213]</th>\n",
       "      <td>-0.075991</td>\n",
       "      <td>-0.216356</td>\n",
       "    </tr>\n",
       "    <tr>\n",
       "      <th>(-0.213, -0.207]</th>\n",
       "      <td>-0.023933</td>\n",
       "      <td>-0.210447</td>\n",
       "    </tr>\n",
       "    <tr>\n",
       "      <th>(-0.207, -0.201]</th>\n",
       "      <td>-0.026015</td>\n",
       "      <td>-0.204568</td>\n",
       "    </tr>\n",
       "    <tr>\n",
       "      <th>(-0.201, -0.195]</th>\n",
       "      <td>-0.032262</td>\n",
       "      <td>-0.198399</td>\n",
       "    </tr>\n",
       "    <tr>\n",
       "      <th>(-0.195, -0.187]</th>\n",
       "      <td>0.013549</td>\n",
       "      <td>-0.191214</td>\n",
       "    </tr>\n",
       "    <tr>\n",
       "      <th>(-0.187, -0.175]</th>\n",
       "      <td>0.034372</td>\n",
       "      <td>-0.181648</td>\n",
       "    </tr>\n",
       "    <tr>\n",
       "      <th>(-0.175, 0.0799]</th>\n",
       "      <td>0.169722</td>\n",
       "      <td>-0.159875</td>\n",
       "    </tr>\n",
       "  </tbody>\n",
       "</table>\n",
       "</div>"
      ],
      "text/plain": [
       "                      true      pred\n",
       "pred_segment                        \n",
       "(-0.325, -0.236] -0.065579 -0.247024\n",
       "(-0.236, -0.226] -0.055168 -0.230736\n",
       "(-0.226, -0.219] -0.048921 -0.222698\n",
       "(-0.219, -0.213] -0.075991 -0.216356\n",
       "(-0.213, -0.207] -0.023933 -0.210447\n",
       "(-0.207, -0.201] -0.026015 -0.204568\n",
       "(-0.201, -0.195] -0.032262 -0.198399\n",
       "(-0.195, -0.187]  0.013549 -0.191214\n",
       "(-0.187, -0.175]  0.034372 -0.181648\n",
       "(-0.175, 0.0799]  0.169722 -0.159875"
      ]
     },
     "execution_count": 59,
     "metadata": {},
     "output_type": "execute_result"
    }
   ],
   "source": [
    "df_results[\"pred_segment\"] = pd.qcut(df_results[\"pred\"],10)\n",
    "df_results.groupby(\"pred_segment\").mean()"
   ]
  },
  {
   "cell_type": "code",
   "execution_count": 60,
   "id": "186a7f17-259c-4b42-b67d-0f7f33809c2b",
   "metadata": {},
   "outputs": [
    {
     "data": {
      "text/plain": [
       "(0.9641086, 0.9286459)"
      ]
     },
     "execution_count": 60,
     "metadata": {},
     "output_type": "execute_result"
    }
   ],
   "source": [
    "mean_squared_error(df_results[\"true\"], df_results[\"pred\"]), df_results[\"true\"].var()"
   ]
  },
  {
   "cell_type": "code",
   "execution_count": 61,
   "id": "0508d3aa-4a00-4a5c-96ba-5aeb48e87436",
   "metadata": {},
   "outputs": [
    {
     "data": {
      "text/plain": [
       "(0.23084788, 0.40129378)"
      ]
     },
     "execution_count": 61,
     "metadata": {},
     "output_type": "execute_result"
    }
   ],
   "source": [
    "mean_absolute_error(df_results[\"true\"], df_results[\"pred\"]), (\n",
    "    df_results[\"true\"]-df_results[\"true\"].mean()\n",
    ").abs().mean()"
   ]
  },
  {
   "cell_type": "markdown",
   "id": "3e16ae7b-1b87-4fa9-9a8d-0b3ac5767085",
   "metadata": {},
   "source": [
    "## Test Predictions (averaged)"
   ]
  },
  {
   "cell_type": "code",
   "execution_count": 62,
   "id": "dd7c0933-a915-44d8-b8ca-2596d5d337bc",
   "metadata": {},
   "outputs": [],
   "source": [
    "N_SAMPLES = 100\n",
    "test_ops = []\n",
    "with torch.no_grad():\n",
    "    for i, data in enumerate(test_set, 0):\n",
    "        b_size = data[0].size(0)\n",
    "        fakes = []\n",
    "        for _ in range(N_SAMPLES):\n",
    "            noise = torch.randn(b_size, nz, device=device)\n",
    "            # Generate fake image batch with G\n",
    "            gen_ip = torch.hstack((data[0],noise)).to(device)\n",
    "            fake = netG(gen_ip).detach().cpu().numpy()\n",
    "            fakes.append(fake)\n",
    "\n",
    "        test_ops.append(\n",
    "            (data[1].detach().cpu().numpy(), sum(fakes)/len(fakes))\n",
    "        )\n",
    "# print(test_reals.shape,np.concatenate(list(x[0] for x in test_ops)).shape)\n",
    "# print(test_preds.shape,np.concatenate(list(x[1] for x in test_ops)).shape)\n",
    "test_reals = np.concatenate(list(x[0] for x in test_ops))\n",
    "test_preds = np.concatenate(list(x[1] for x in test_ops))\n"
   ]
  },
  {
   "cell_type": "code",
   "execution_count": 63,
   "id": "e6525a09-a84c-4dcf-9f69-afdbf39e6c3f",
   "metadata": {},
   "outputs": [
    {
     "data": {
      "text/html": [
       "<div>\n",
       "<style scoped>\n",
       "    .dataframe tbody tr th:only-of-type {\n",
       "        vertical-align: middle;\n",
       "    }\n",
       "\n",
       "    .dataframe tbody tr th {\n",
       "        vertical-align: top;\n",
       "    }\n",
       "\n",
       "    .dataframe thead th {\n",
       "        text-align: right;\n",
       "    }\n",
       "</style>\n",
       "<table border=\"1\" class=\"dataframe\">\n",
       "  <thead>\n",
       "    <tr style=\"text-align: right;\">\n",
       "      <th></th>\n",
       "      <th>true</th>\n",
       "      <th>pred</th>\n",
       "    </tr>\n",
       "  </thead>\n",
       "  <tbody>\n",
       "    <tr>\n",
       "      <th>count</th>\n",
       "      <td>20000.000000</td>\n",
       "      <td>20000.000000</td>\n",
       "    </tr>\n",
       "    <tr>\n",
       "      <th>mean</th>\n",
       "      <td>-0.011023</td>\n",
       "      <td>-0.206457</td>\n",
       "    </tr>\n",
       "    <tr>\n",
       "      <th>std</th>\n",
       "      <td>0.963663</td>\n",
       "      <td>0.017307</td>\n",
       "    </tr>\n",
       "    <tr>\n",
       "      <th>min</th>\n",
       "      <td>-0.221753</td>\n",
       "      <td>-0.267487</td>\n",
       "    </tr>\n",
       "    <tr>\n",
       "      <th>25%</th>\n",
       "      <td>-0.221753</td>\n",
       "      <td>-0.218149</td>\n",
       "    </tr>\n",
       "    <tr>\n",
       "      <th>50%</th>\n",
       "      <td>-0.221753</td>\n",
       "      <td>-0.208112</td>\n",
       "    </tr>\n",
       "    <tr>\n",
       "      <th>75%</th>\n",
       "      <td>-0.221753</td>\n",
       "      <td>-0.196723</td>\n",
       "    </tr>\n",
       "    <tr>\n",
       "      <th>max</th>\n",
       "      <td>8.107509</td>\n",
       "      <td>0.082971</td>\n",
       "    </tr>\n",
       "  </tbody>\n",
       "</table>\n",
       "</div>"
      ],
      "text/plain": [
       "               true          pred\n",
       "count  20000.000000  20000.000000\n",
       "mean      -0.011023     -0.206457\n",
       "std        0.963663      0.017307\n",
       "min       -0.221753     -0.267487\n",
       "25%       -0.221753     -0.218149\n",
       "50%       -0.221753     -0.208112\n",
       "75%       -0.221753     -0.196723\n",
       "max        8.107509      0.082971"
      ]
     },
     "execution_count": 63,
     "metadata": {},
     "output_type": "execute_result"
    }
   ],
   "source": [
    "df_results = pd.DataFrame(\n",
    "    data = np.hstack((\n",
    "    np.expand_dims(test_reals,1),test_preds\n",
    "    ))\n",
    "    ,columns = [\"true\",\"pred\"]\n",
    ")\n",
    "\n",
    "df_results.describe()"
   ]
  },
  {
   "cell_type": "code",
   "execution_count": 64,
   "id": "3c3a4535-056d-4008-a4f6-195f2edfd085",
   "metadata": {},
   "outputs": [
    {
     "data": {
      "text/html": [
       "<div>\n",
       "<style scoped>\n",
       "    .dataframe tbody tr th:only-of-type {\n",
       "        vertical-align: middle;\n",
       "    }\n",
       "\n",
       "    .dataframe tbody tr th {\n",
       "        vertical-align: top;\n",
       "    }\n",
       "\n",
       "    .dataframe thead th {\n",
       "        text-align: right;\n",
       "    }\n",
       "</style>\n",
       "<table border=\"1\" class=\"dataframe\">\n",
       "  <thead>\n",
       "    <tr style=\"text-align: right;\">\n",
       "      <th></th>\n",
       "      <th>true</th>\n",
       "      <th>pred</th>\n",
       "    </tr>\n",
       "    <tr>\n",
       "      <th>pred_segment</th>\n",
       "      <th></th>\n",
       "      <th></th>\n",
       "    </tr>\n",
       "  </thead>\n",
       "  <tbody>\n",
       "    <tr>\n",
       "      <th>(-0.268, -0.226]</th>\n",
       "      <td>-0.088485</td>\n",
       "      <td>-0.232683</td>\n",
       "    </tr>\n",
       "    <tr>\n",
       "      <th>(-0.226, -0.221]</th>\n",
       "      <td>-0.073909</td>\n",
       "      <td>-0.223239</td>\n",
       "    </tr>\n",
       "    <tr>\n",
       "      <th>(-0.221, -0.216]</th>\n",
       "      <td>-0.065579</td>\n",
       "      <td>-0.218168</td>\n",
       "    </tr>\n",
       "    <tr>\n",
       "      <th>(-0.216, -0.212]</th>\n",
       "      <td>-0.059333</td>\n",
       "      <td>-0.213929</td>\n",
       "    </tr>\n",
       "    <tr>\n",
       "      <th>(-0.212, -0.208]</th>\n",
       "      <td>-0.026015</td>\n",
       "      <td>-0.209959</td>\n",
       "    </tr>\n",
       "    <tr>\n",
       "      <th>(-0.208, -0.204]</th>\n",
       "      <td>-0.059333</td>\n",
       "      <td>-0.206127</td>\n",
       "    </tr>\n",
       "    <tr>\n",
       "      <th>(-0.204, -0.199]</th>\n",
       "      <td>-0.032262</td>\n",
       "      <td>-0.201838</td>\n",
       "    </tr>\n",
       "    <tr>\n",
       "      <th>(-0.199, -0.193]</th>\n",
       "      <td>-0.015604</td>\n",
       "      <td>-0.196587</td>\n",
       "    </tr>\n",
       "    <tr>\n",
       "      <th>(-0.193, -0.185]</th>\n",
       "      <td>0.019795</td>\n",
       "      <td>-0.189378</td>\n",
       "    </tr>\n",
       "    <tr>\n",
       "      <th>(-0.185, 0.083]</th>\n",
       "      <td>0.290496</td>\n",
       "      <td>-0.172662</td>\n",
       "    </tr>\n",
       "  </tbody>\n",
       "</table>\n",
       "</div>"
      ],
      "text/plain": [
       "                      true      pred\n",
       "pred_segment                        \n",
       "(-0.268, -0.226] -0.088485 -0.232683\n",
       "(-0.226, -0.221] -0.073909 -0.223239\n",
       "(-0.221, -0.216] -0.065579 -0.218168\n",
       "(-0.216, -0.212] -0.059333 -0.213929\n",
       "(-0.212, -0.208] -0.026015 -0.209959\n",
       "(-0.208, -0.204] -0.059333 -0.206127\n",
       "(-0.204, -0.199] -0.032262 -0.201838\n",
       "(-0.199, -0.193] -0.015604 -0.196587\n",
       "(-0.193, -0.185]  0.019795 -0.189378\n",
       "(-0.185, 0.083]   0.290496 -0.172662"
      ]
     },
     "execution_count": 64,
     "metadata": {},
     "output_type": "execute_result"
    }
   ],
   "source": [
    "df_results[\"pred_segment\"] = pd.qcut(df_results[\"pred\"],10)\n",
    "df_results.groupby(\"pred_segment\").mean()"
   ]
  },
  {
   "cell_type": "code",
   "execution_count": 65,
   "id": "a1479bdb-543b-4635-8899-76581126aff0",
   "metadata": {},
   "outputs": [
    {
     "data": {
      "text/plain": [
       "(0.9639279, 0.9286459)"
      ]
     },
     "execution_count": 65,
     "metadata": {},
     "output_type": "execute_result"
    }
   ],
   "source": [
    "mean_squared_error(df_results[\"true\"], df_results[\"pred\"]), df_results[\"true\"].var()"
   ]
  },
  {
   "cell_type": "code",
   "execution_count": 66,
   "id": "f86facb0-b0e2-48cf-a481-1cbe8f90bc83",
   "metadata": {},
   "outputs": [
    {
     "data": {
      "text/plain": [
       "(0.22628355, 0.40129378)"
      ]
     },
     "execution_count": 66,
     "metadata": {},
     "output_type": "execute_result"
    }
   ],
   "source": [
    "mean_absolute_error(df_results[\"true\"], df_results[\"pred\"]), (\n",
    "    df_results[\"true\"]-df_results[\"true\"].mean()\n",
    ").abs().mean()"
   ]
  },
  {
   "cell_type": "code",
   "execution_count": null,
   "id": "7f828069-0679-4ed1-a1f5-e5a23e9d014e",
   "metadata": {},
   "outputs": [],
   "source": []
  }
 ],
 "metadata": {
  "environment": {
   "kernel": "python3",
   "name": "pytorch-gpu.1-11.m94",
   "type": "gcloud",
   "uri": "gcr.io/deeplearning-platform-release/pytorch-gpu.1-11:m94"
  },
  "kernelspec": {
   "display_name": "Python 3",
   "language": "python",
   "name": "python3"
  },
  "language_info": {
   "codemirror_mode": {
    "name": "ipython",
    "version": 3
   },
   "file_extension": ".py",
   "mimetype": "text/x-python",
   "name": "python",
   "nbconvert_exporter": "python",
   "pygments_lexer": "ipython3",
   "version": "3.7.12"
  }
 },
 "nbformat": 4,
 "nbformat_minor": 5
}
