{
 "cells": [
  {
   "cell_type": "code",
   "execution_count": 1,
   "id": "7c0c8415-4212-4f70-88fb-c2a6e46011eb",
   "metadata": {},
   "outputs": [],
   "source": [
    "import pandas as pd"
   ]
  },
  {
   "cell_type": "code",
   "execution_count": 2,
   "id": "c3d230bc-c17a-495e-821a-e4de657ff024",
   "metadata": {},
   "outputs": [],
   "source": [
    "df = pd.read_csv(\"data/Year 2009-2010.csv\", encoding = \"ISO-8859-1\")\n",
    "df_target = pd.read_csv(\"data/Year 2010-2011.csv\", encoding = \"ISO-8859-1\")"
   ]
  },
  {
   "cell_type": "code",
   "execution_count": 3,
   "id": "47d6de62-ce62-4de5-8a5a-8687f3ccefca",
   "metadata": {},
   "outputs": [
    {
     "data": {
      "text/plain": [
       "array([13085., 13078., 15362., ..., 12942., 13369., 15211.])"
      ]
     },
     "execution_count": 3,
     "metadata": {},
     "output_type": "execute_result"
    }
   ],
   "source": [
    "df[\"Customer ID\"].unique()"
   ]
  },
  {
   "cell_type": "code",
   "execution_count": 14,
   "id": "90d4a684-6871-49fc-a3f6-e19adc7eab03",
   "metadata": {},
   "outputs": [
    {
     "data": {
      "text/plain": [
       "4632"
      ]
     },
     "execution_count": 14,
     "metadata": {},
     "output_type": "execute_result"
    }
   ],
   "source": [
    "df[\"StockCode\"].unique().size"
   ]
  },
  {
   "cell_type": "code",
   "execution_count": 4,
   "id": "cb58e90c-2def-4ecd-9118-fbb135a044c9",
   "metadata": {},
   "outputs": [
    {
     "data": {
      "text/html": [
       "<div>\n",
       "<style scoped>\n",
       "    .dataframe tbody tr th:only-of-type {\n",
       "        vertical-align: middle;\n",
       "    }\n",
       "\n",
       "    .dataframe tbody tr th {\n",
       "        vertical-align: top;\n",
       "    }\n",
       "\n",
       "    .dataframe thead th {\n",
       "        text-align: right;\n",
       "    }\n",
       "</style>\n",
       "<table border=\"1\" class=\"dataframe\">\n",
       "  <thead>\n",
       "    <tr style=\"text-align: right;\">\n",
       "      <th></th>\n",
       "      <th>Invoice</th>\n",
       "      <th>StockCode</th>\n",
       "      <th>Description</th>\n",
       "      <th>Quantity</th>\n",
       "      <th>InvoiceDate</th>\n",
       "      <th>Price</th>\n",
       "      <th>Customer ID</th>\n",
       "      <th>Country</th>\n",
       "    </tr>\n",
       "  </thead>\n",
       "  <tbody>\n",
       "    <tr>\n",
       "      <th>0</th>\n",
       "      <td>489434</td>\n",
       "      <td>85048</td>\n",
       "      <td>15CM CHRISTMAS GLASS BALL 20 LIGHTS</td>\n",
       "      <td>12</td>\n",
       "      <td>12/1/2009 7:45</td>\n",
       "      <td>6.95</td>\n",
       "      <td>13085.0</td>\n",
       "      <td>United Kingdom</td>\n",
       "    </tr>\n",
       "    <tr>\n",
       "      <th>1</th>\n",
       "      <td>489434</td>\n",
       "      <td>79323P</td>\n",
       "      <td>PINK CHERRY LIGHTS</td>\n",
       "      <td>12</td>\n",
       "      <td>12/1/2009 7:45</td>\n",
       "      <td>6.75</td>\n",
       "      <td>13085.0</td>\n",
       "      <td>United Kingdom</td>\n",
       "    </tr>\n",
       "    <tr>\n",
       "      <th>2</th>\n",
       "      <td>489434</td>\n",
       "      <td>79323W</td>\n",
       "      <td>WHITE CHERRY LIGHTS</td>\n",
       "      <td>12</td>\n",
       "      <td>12/1/2009 7:45</td>\n",
       "      <td>6.75</td>\n",
       "      <td>13085.0</td>\n",
       "      <td>United Kingdom</td>\n",
       "    </tr>\n",
       "    <tr>\n",
       "      <th>3</th>\n",
       "      <td>489434</td>\n",
       "      <td>22041</td>\n",
       "      <td>RECORD FRAME 7\" SINGLE SIZE</td>\n",
       "      <td>48</td>\n",
       "      <td>12/1/2009 7:45</td>\n",
       "      <td>2.10</td>\n",
       "      <td>13085.0</td>\n",
       "      <td>United Kingdom</td>\n",
       "    </tr>\n",
       "    <tr>\n",
       "      <th>4</th>\n",
       "      <td>489434</td>\n",
       "      <td>21232</td>\n",
       "      <td>STRAWBERRY CERAMIC TRINKET BOX</td>\n",
       "      <td>24</td>\n",
       "      <td>12/1/2009 7:45</td>\n",
       "      <td>1.25</td>\n",
       "      <td>13085.0</td>\n",
       "      <td>United Kingdom</td>\n",
       "    </tr>\n",
       "  </tbody>\n",
       "</table>\n",
       "</div>"
      ],
      "text/plain": [
       "  Invoice StockCode                          Description  Quantity  \\\n",
       "0  489434     85048  15CM CHRISTMAS GLASS BALL 20 LIGHTS        12   \n",
       "1  489434    79323P                   PINK CHERRY LIGHTS        12   \n",
       "2  489434    79323W                  WHITE CHERRY LIGHTS        12   \n",
       "3  489434     22041         RECORD FRAME 7\" SINGLE SIZE         48   \n",
       "4  489434     21232       STRAWBERRY CERAMIC TRINKET BOX        24   \n",
       "\n",
       "      InvoiceDate  Price  Customer ID         Country  \n",
       "0  12/1/2009 7:45   6.95      13085.0  United Kingdom  \n",
       "1  12/1/2009 7:45   6.75      13085.0  United Kingdom  \n",
       "2  12/1/2009 7:45   6.75      13085.0  United Kingdom  \n",
       "3  12/1/2009 7:45   2.10      13085.0  United Kingdom  \n",
       "4  12/1/2009 7:45   1.25      13085.0  United Kingdom  "
      ]
     },
     "execution_count": 4,
     "metadata": {},
     "output_type": "execute_result"
    }
   ],
   "source": [
    "df.head()"
   ]
  },
  {
   "cell_type": "code",
   "execution_count": 5,
   "id": "184ff12f-3b33-4414-a2cf-6a4dcbc21e32",
   "metadata": {},
   "outputs": [],
   "source": [
    "df_target[\"amount\"] = df_target[\"Quantity\"] * df_target[\"Price\"]"
   ]
  },
  {
   "cell_type": "code",
   "execution_count": 6,
   "id": "85f31e3b-2238-42f8-984f-57aa89d79d79",
   "metadata": {},
   "outputs": [
    {
     "data": {
      "text/plain": [
       "(334, 707)"
      ]
     },
     "execution_count": 6,
     "metadata": {},
     "output_type": "execute_result"
    }
   ],
   "source": [
    "df[\"InvoiceDate\"] = (pd.to_datetime(df[\"InvoiceDate\"]) - pd.Timestamp('2009-01-01')).dt.days\n",
    "min(df[\"InvoiceDate\"]), max(df[\"InvoiceDate\"])"
   ]
  },
  {
   "cell_type": "code",
   "execution_count": 7,
   "id": "f0f63f15-f813-46ef-a5ff-c53f0cf5c125",
   "metadata": {},
   "outputs": [
    {
     "data": {
      "text/plain": [
       "(525461, 8)"
      ]
     },
     "execution_count": 7,
     "metadata": {},
     "output_type": "execute_result"
    }
   ],
   "source": [
    "df.shape"
   ]
  },
  {
   "cell_type": "code",
   "execution_count": 8,
   "id": "5683dfe1-520d-4fcb-a310-78af83dfff52",
   "metadata": {},
   "outputs": [
    {
     "data": {
      "text/plain": [
       "4384"
      ]
     },
     "execution_count": 8,
     "metadata": {},
     "output_type": "execute_result"
    }
   ],
   "source": [
    "len(df[\"Customer ID\"].unique())"
   ]
  },
  {
   "cell_type": "code",
   "execution_count": 9,
   "id": "aedb4d14-85ed-4037-9eb9-c24b7b5301d1",
   "metadata": {},
   "outputs": [],
   "source": [
    "dataset = pd.DataFrame(index=df[\"Customer ID\"].unique())"
   ]
  },
  {
   "cell_type": "code",
   "execution_count": 10,
   "id": "6638c261-f688-452c-b64f-96de22514ea5",
   "metadata": {},
   "outputs": [
    {
     "data": {
      "text/html": [
       "<div>\n",
       "<style scoped>\n",
       "    .dataframe tbody tr th:only-of-type {\n",
       "        vertical-align: middle;\n",
       "    }\n",
       "\n",
       "    .dataframe tbody tr th {\n",
       "        vertical-align: top;\n",
       "    }\n",
       "\n",
       "    .dataframe thead th {\n",
       "        text-align: right;\n",
       "    }\n",
       "</style>\n",
       "<table border=\"1\" class=\"dataframe\">\n",
       "  <thead>\n",
       "    <tr style=\"text-align: right;\">\n",
       "      <th></th>\n",
       "      <th>num_orders</th>\n",
       "      <th>avg_price</th>\n",
       "      <th>max_price</th>\n",
       "      <th>min_price</th>\n",
       "      <th>avg_quantity</th>\n",
       "      <th>max_quantity</th>\n",
       "      <th>min_quantity</th>\n",
       "      <th>avg_InvoiceDate</th>\n",
       "      <th>max_InvoiceDate</th>\n",
       "      <th>min_InvoiceDate</th>\n",
       "      <th>target</th>\n",
       "    </tr>\n",
       "  </thead>\n",
       "  <tbody>\n",
       "    <tr>\n",
       "      <th>13085.0</th>\n",
       "      <td>63.0</td>\n",
       "      <td>16.526508</td>\n",
       "      <td>830.12</td>\n",
       "      <td>0.55</td>\n",
       "      <td>11.539683</td>\n",
       "      <td>48.0</td>\n",
       "      <td>-1.0</td>\n",
       "      <td>373.206349</td>\n",
       "      <td>652.0</td>\n",
       "      <td>334.0</td>\n",
       "      <td>272.38</td>\n",
       "    </tr>\n",
       "    <tr>\n",
       "      <th>13078.0</th>\n",
       "      <td>475.0</td>\n",
       "      <td>3.950779</td>\n",
       "      <td>12.75</td>\n",
       "      <td>0.19</td>\n",
       "      <td>13.612632</td>\n",
       "      <td>160.0</td>\n",
       "      <td>-14.0</td>\n",
       "      <td>538.145263</td>\n",
       "      <td>706.0</td>\n",
       "      <td>334.0</td>\n",
       "      <td>12432.28</td>\n",
       "    </tr>\n",
       "    <tr>\n",
       "      <th>15362.0</th>\n",
       "      <td>40.0</td>\n",
       "      <td>3.612000</td>\n",
       "      <td>9.95</td>\n",
       "      <td>0.21</td>\n",
       "      <td>9.200000</td>\n",
       "      <td>48.0</td>\n",
       "      <td>1.0</td>\n",
       "      <td>457.250000</td>\n",
       "      <td>624.0</td>\n",
       "      <td>334.0</td>\n",
       "      <td>0.00</td>\n",
       "    </tr>\n",
       "    <tr>\n",
       "      <th>18102.0</th>\n",
       "      <td>635.0</td>\n",
       "      <td>10.091606</td>\n",
       "      <td>3580.80</td>\n",
       "      <td>0.27</td>\n",
       "      <td>193.681890</td>\n",
       "      <td>1008.0</td>\n",
       "      <td>-324.0</td>\n",
       "      <td>489.675591</td>\n",
       "      <td>707.0</td>\n",
       "      <td>334.0</td>\n",
       "      <td>256438.49</td>\n",
       "    </tr>\n",
       "    <tr>\n",
       "      <th>12682.0</th>\n",
       "      <td>517.0</td>\n",
       "      <td>3.468665</td>\n",
       "      <td>18.00</td>\n",
       "      <td>0.21</td>\n",
       "      <td>10.510638</td>\n",
       "      <td>48.0</td>\n",
       "      <td>-5.0</td>\n",
       "      <td>526.839458</td>\n",
       "      <td>707.0</td>\n",
       "      <td>334.0</td>\n",
       "      <td>12288.22</td>\n",
       "    </tr>\n",
       "  </tbody>\n",
       "</table>\n",
       "</div>"
      ],
      "text/plain": [
       "         num_orders  avg_price  max_price  min_price  avg_quantity  \\\n",
       "13085.0        63.0  16.526508     830.12       0.55     11.539683   \n",
       "13078.0       475.0   3.950779      12.75       0.19     13.612632   \n",
       "15362.0        40.0   3.612000       9.95       0.21      9.200000   \n",
       "18102.0       635.0  10.091606    3580.80       0.27    193.681890   \n",
       "12682.0       517.0   3.468665      18.00       0.21     10.510638   \n",
       "\n",
       "         max_quantity  min_quantity  avg_InvoiceDate  max_InvoiceDate  \\\n",
       "13085.0          48.0          -1.0       373.206349            652.0   \n",
       "13078.0         160.0         -14.0       538.145263            706.0   \n",
       "15362.0          48.0           1.0       457.250000            624.0   \n",
       "18102.0        1008.0        -324.0       489.675591            707.0   \n",
       "12682.0          48.0          -5.0       526.839458            707.0   \n",
       "\n",
       "         min_InvoiceDate     target  \n",
       "13085.0            334.0     272.38  \n",
       "13078.0            334.0   12432.28  \n",
       "15362.0            334.0       0.00  \n",
       "18102.0            334.0  256438.49  \n",
       "12682.0            334.0   12288.22  "
      ]
     },
     "execution_count": 10,
     "metadata": {},
     "output_type": "execute_result"
    }
   ],
   "source": [
    "dataset[\"num_orders\"] = df.groupby(\"Customer ID\").size()\n",
    "\n",
    "dataset[\"avg_price\"] = df.groupby(\"Customer ID\").mean()[\"Price\"]\n",
    "dataset[\"max_price\"] = df.groupby(\"Customer ID\").max()[\"Price\"]\n",
    "dataset[\"min_price\"] = df.groupby(\"Customer ID\").min()[\"Price\"]\n",
    "\n",
    "dataset[\"avg_quantity\"] = df.groupby(\"Customer ID\").mean()[\"Quantity\"]\n",
    "dataset[\"max_quantity\"] = df.groupby(\"Customer ID\").max()[\"Quantity\"]\n",
    "dataset[\"min_quantity\"] = df.groupby(\"Customer ID\").min()[\"Quantity\"]\n",
    "\n",
    "dataset[\"avg_InvoiceDate\"] = df.groupby(\"Customer ID\").mean()[\"InvoiceDate\"]\n",
    "dataset[\"max_InvoiceDate\"] = df.groupby(\"Customer ID\").max()[\"InvoiceDate\"]\n",
    "dataset[\"min_InvoiceDate\"] = df.groupby(\"Customer ID\").min()[\"InvoiceDate\"]\n",
    "\n",
    "dataset[\"target\"] = df_target.groupby(\"Customer ID\").sum()[\"amount\"]\n",
    "dataset = dataset.fillna(0)\n",
    "dataset.head()"
   ]
  },
  {
   "cell_type": "code",
   "execution_count": 12,
   "id": "12a17325-7cb2-4afd-8f7e-4ae3645519d2",
   "metadata": {},
   "outputs": [],
   "source": [
    "dataset.to_csv(\"data/retail_dataset.csv\",index=False)"
   ]
  },
  {
   "cell_type": "code",
   "execution_count": null,
   "id": "4f598c53-348b-452b-bc48-9784eeb08f81",
   "metadata": {},
   "outputs": [],
   "source": []
  },
  {
   "cell_type": "code",
   "execution_count": null,
   "id": "a41bff67-26a8-4447-a98c-e28010ff1e53",
   "metadata": {},
   "outputs": [],
   "source": []
  }
 ],
 "metadata": {
  "environment": {
   "kernel": "python3",
   "name": "common-cu110.m90",
   "type": "gcloud",
   "uri": "gcr.io/deeplearning-platform-release/base-cu110:m90"
  },
  "kernelspec": {
   "display_name": "Python 3 (ipykernel)",
   "language": "python",
   "name": "python3"
  },
  "language_info": {
   "codemirror_mode": {
    "name": "ipython",
    "version": 3
   },
   "file_extension": ".py",
   "mimetype": "text/x-python",
   "name": "python",
   "nbconvert_exporter": "python",
   "pygments_lexer": "ipython3",
   "version": "3.7.12"
  }
 },
 "nbformat": 4,
 "nbformat_minor": 5
}
