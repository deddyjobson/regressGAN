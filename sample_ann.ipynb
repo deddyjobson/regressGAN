{
 "cells": [
  {
   "cell_type": "code",
   "execution_count": 1,
   "metadata": {},
   "outputs": [],
   "source": [
    "import torch\n",
    "import seaborn as sns\n",
    "import numpy as np\n",
    "import pandas as pd\n",
    "\n",
    "from sklearn.datasets import load_diabetes, load_breast_cancer\n",
    "from sklearn.linear_model import LinearRegression\n",
    "from torch import nn"
   ]
  },
  {
   "cell_type": "code",
   "execution_count": 2,
   "metadata": {},
   "outputs": [
    {
     "data": {
      "text/html": [
       "<div>\n",
       "<style scoped>\n",
       "    .dataframe tbody tr th:only-of-type {\n",
       "        vertical-align: middle;\n",
       "    }\n",
       "\n",
       "    .dataframe tbody tr th {\n",
       "        vertical-align: top;\n",
       "    }\n",
       "\n",
       "    .dataframe thead th {\n",
       "        text-align: right;\n",
       "    }\n",
       "</style>\n",
       "<table border=\"1\" class=\"dataframe\">\n",
       "  <thead>\n",
       "    <tr style=\"text-align: right;\">\n",
       "      <th></th>\n",
       "      <th>age</th>\n",
       "      <th>sex</th>\n",
       "      <th>bmi</th>\n",
       "      <th>children</th>\n",
       "      <th>smoker</th>\n",
       "      <th>region</th>\n",
       "      <th>expenses</th>\n",
       "    </tr>\n",
       "  </thead>\n",
       "  <tbody>\n",
       "    <tr>\n",
       "      <th>0</th>\n",
       "      <td>19</td>\n",
       "      <td>female</td>\n",
       "      <td>27.9</td>\n",
       "      <td>0</td>\n",
       "      <td>yes</td>\n",
       "      <td>southwest</td>\n",
       "      <td>16884.92</td>\n",
       "    </tr>\n",
       "    <tr>\n",
       "      <th>1</th>\n",
       "      <td>18</td>\n",
       "      <td>male</td>\n",
       "      <td>33.8</td>\n",
       "      <td>1</td>\n",
       "      <td>no</td>\n",
       "      <td>southeast</td>\n",
       "      <td>1725.55</td>\n",
       "    </tr>\n",
       "    <tr>\n",
       "      <th>2</th>\n",
       "      <td>28</td>\n",
       "      <td>male</td>\n",
       "      <td>33.0</td>\n",
       "      <td>3</td>\n",
       "      <td>no</td>\n",
       "      <td>southeast</td>\n",
       "      <td>4449.46</td>\n",
       "    </tr>\n",
       "    <tr>\n",
       "      <th>3</th>\n",
       "      <td>33</td>\n",
       "      <td>male</td>\n",
       "      <td>22.7</td>\n",
       "      <td>0</td>\n",
       "      <td>no</td>\n",
       "      <td>northwest</td>\n",
       "      <td>21984.47</td>\n",
       "    </tr>\n",
       "    <tr>\n",
       "      <th>4</th>\n",
       "      <td>32</td>\n",
       "      <td>male</td>\n",
       "      <td>28.9</td>\n",
       "      <td>0</td>\n",
       "      <td>no</td>\n",
       "      <td>northwest</td>\n",
       "      <td>3866.86</td>\n",
       "    </tr>\n",
       "  </tbody>\n",
       "</table>\n",
       "</div>"
      ],
      "text/plain": [
       "   age     sex   bmi  children smoker     region  expenses\n",
       "0   19  female  27.9         0    yes  southwest  16884.92\n",
       "1   18    male  33.8         1     no  southeast   1725.55\n",
       "2   28    male  33.0         3     no  southeast   4449.46\n",
       "3   33    male  22.7         0     no  northwest  21984.47\n",
       "4   32    male  28.9         0     no  northwest   3866.86"
      ]
     },
     "execution_count": 2,
     "metadata": {},
     "output_type": "execute_result"
    }
   ],
   "source": [
    "data = pd.read_csv(\"data/insurance.csv\")\n",
    "data.head()"
   ]
  },
  {
   "cell_type": "code",
   "execution_count": 3,
   "metadata": {},
   "outputs": [
    {
     "data": {
      "text/html": [
       "<div>\n",
       "<style scoped>\n",
       "    .dataframe tbody tr th:only-of-type {\n",
       "        vertical-align: middle;\n",
       "    }\n",
       "\n",
       "    .dataframe tbody tr th {\n",
       "        vertical-align: top;\n",
       "    }\n",
       "\n",
       "    .dataframe thead th {\n",
       "        text-align: right;\n",
       "    }\n",
       "</style>\n",
       "<table border=\"1\" class=\"dataframe\">\n",
       "  <thead>\n",
       "    <tr style=\"text-align: right;\">\n",
       "      <th></th>\n",
       "      <th>age</th>\n",
       "      <th>sex</th>\n",
       "      <th>bmi</th>\n",
       "      <th>children</th>\n",
       "      <th>smoker</th>\n",
       "      <th>expenses</th>\n",
       "      <th>region_1</th>\n",
       "      <th>region_2</th>\n",
       "    </tr>\n",
       "  </thead>\n",
       "  <tbody>\n",
       "    <tr>\n",
       "      <th>0</th>\n",
       "      <td>19</td>\n",
       "      <td>0</td>\n",
       "      <td>27.9</td>\n",
       "      <td>0</td>\n",
       "      <td>1</td>\n",
       "      <td>16884.92</td>\n",
       "      <td>1</td>\n",
       "      <td>0</td>\n",
       "    </tr>\n",
       "    <tr>\n",
       "      <th>1</th>\n",
       "      <td>18</td>\n",
       "      <td>1</td>\n",
       "      <td>33.8</td>\n",
       "      <td>1</td>\n",
       "      <td>0</td>\n",
       "      <td>1725.55</td>\n",
       "      <td>0</td>\n",
       "      <td>1</td>\n",
       "    </tr>\n",
       "    <tr>\n",
       "      <th>2</th>\n",
       "      <td>28</td>\n",
       "      <td>1</td>\n",
       "      <td>33.0</td>\n",
       "      <td>3</td>\n",
       "      <td>0</td>\n",
       "      <td>4449.46</td>\n",
       "      <td>0</td>\n",
       "      <td>1</td>\n",
       "    </tr>\n",
       "    <tr>\n",
       "      <th>3</th>\n",
       "      <td>33</td>\n",
       "      <td>1</td>\n",
       "      <td>22.7</td>\n",
       "      <td>0</td>\n",
       "      <td>0</td>\n",
       "      <td>21984.47</td>\n",
       "      <td>0</td>\n",
       "      <td>0</td>\n",
       "    </tr>\n",
       "    <tr>\n",
       "      <th>4</th>\n",
       "      <td>32</td>\n",
       "      <td>1</td>\n",
       "      <td>28.9</td>\n",
       "      <td>0</td>\n",
       "      <td>0</td>\n",
       "      <td>3866.86</td>\n",
       "      <td>0</td>\n",
       "      <td>0</td>\n",
       "    </tr>\n",
       "  </tbody>\n",
       "</table>\n",
       "</div>"
      ],
      "text/plain": [
       "   age  sex   bmi  children  smoker  expenses  region_1  region_2\n",
       "0   19    0  27.9         0       1  16884.92         1         0\n",
       "1   18    1  33.8         1       0   1725.55         0         1\n",
       "2   28    1  33.0         3       0   4449.46         0         1\n",
       "3   33    1  22.7         0       0  21984.47         0         0\n",
       "4   32    1  28.9         0       0   3866.86         0         0"
      ]
     },
     "execution_count": 3,
     "metadata": {},
     "output_type": "execute_result"
    }
   ],
   "source": [
    "data[\"sex\"] = (data[\"sex\"]==\"male\").astype(np.int64)\n",
    "data[\"smoker\"] = (data[\"smoker\"]==\"yes\").astype(np.int64)\n",
    "\n",
    "data[\"region_1\"] = (data[\"region\"]==\"southwest\").astype(np.int64)\n",
    "data[\"region_2\"] = (data[\"region\"]==\"southeast\").astype(np.int64)\n",
    "del data[\"region\"]\n",
    "\n",
    "data.head()"
   ]
  },
  {
   "cell_type": "code",
   "execution_count": 4,
   "metadata": {},
   "outputs": [],
   "source": [
    "X,y = data.drop(columns=\"expenses\").values, data[\"expenses\"].values"
   ]
  },
  {
   "cell_type": "code",
   "execution_count": 5,
   "metadata": {},
   "outputs": [
    {
     "data": {
      "text/plain": [
       "<AxesSubplot: ylabel='Count'>"
      ]
     },
     "execution_count": 5,
     "metadata": {},
     "output_type": "execute_result"
    },
    {
     "data": {
      "image/png": "[encoded data removed]",
      "text/plain": [
       "<Figure size 640x480 with 1 Axes>"
      ]
     },
     "metadata": {},
     "output_type": "display_data"
    }
   ],
   "source": [
    "sns.histplot(y-LinearRegression().fit(X,y).predict(X))"
   ]
  },
  {
   "cell_type": "code",
   "execution_count": 6,
   "metadata": {},
   "outputs": [],
   "source": [
    "train_idx = np.arange(0,X.shape[0] * 60 // 100)\n",
    "val_idx = np.arange(X.shape[0] * 60 // 100, X.shape[0] * 80 // 100)\n",
    "test_idx = np.arange(X.shape[0] * 80 // 100, X.shape[0])"
   ]
  },
  {
   "cell_type": "code",
   "execution_count": 7,
   "metadata": {},
   "outputs": [],
   "source": [
    "x_train, y_train = X[train_idx], y[train_idx]\n",
    "x_val, y_val = X[val_idx], y[val_idx]\n",
    "x_test, y_test = X[test_idx], y[test_idx]"
   ]
  },
  {
   "cell_type": "code",
   "execution_count": 8,
   "metadata": {},
   "outputs": [],
   "source": [
    "class net(nn.Module):\n",
    "    def __init__(self,input_size,output_size):\n",
    "        super(net,self).__init__()\n",
    "        self.relu = nn.ReLU()\n",
    "        self.l1 = nn.Linear(input_size,20)\n",
    "        self.l2 = nn.Linear(20,20)\n",
    "        self.l3 = nn.Linear(20,output_size)\n",
    "    def forward(self,x):\n",
    "        output = self.l1(x) \n",
    "        output = self.relu(output)\n",
    "        output = self.l2(output)\n",
    "        output = self.relu(output)\n",
    "        output = self.l3(output)\n",
    "        return output"
   ]
  },
  {
   "cell_type": "code",
   "execution_count": 10,
   "metadata": {},
   "outputs": [],
   "source": [
    "x_train = torch.Tensor(x_train)\n",
    "y_train = torch.Tensor(y_train)"
   ]
  },
  {
   "cell_type": "code",
   "execution_count": 11,
   "metadata": {},
   "outputs": [],
   "source": [
    "x_val = torch.Tensor(x_val)\n",
    "y_val = torch.Tensor(y_val)"
   ]
  },
  {
   "cell_type": "code",
   "execution_count": 12,
   "metadata": {},
   "outputs": [],
   "source": [
    "x_test = torch.Tensor(x_test)\n",
    "y_test = torch.Tensor(y_test)"
   ]
  },
  {
   "cell_type": "code",
   "execution_count": 13,
   "metadata": {},
   "outputs": [
    {
     "data": {
      "text/plain": [
       "(tensor(13167.1162), tensor(1.4368e+08))"
      ]
     },
     "execution_count": 13,
     "metadata": {},
     "output_type": "execute_result"
    }
   ],
   "source": [
    "y_train.mean(), y_train.var()"
   ]
  },
  {
   "cell_type": "markdown",
   "metadata": {},
   "source": [
    "### Train a simple fitting model"
   ]
  },
  {
   "cell_type": "code",
   "execution_count": null,
   "metadata": {},
   "outputs": [],
   "source": [
    "model = net(X.shape[1],1)\n",
    "criterion = nn.MSELoss()\n",
    "optimizer = torch.optim.Adam(model.parameters(),lr=0.01)\n",
    "# optimizer = torch.optim.Adam(model.parameters(),lr=0.001)\n",
    "epochs = 150000"
   ]
  },
  {
   "cell_type": "code",
   "execution_count": 15,
   "metadata": {},
   "outputs": [
    {
     "name": "stdout",
     "output_type": "stream",
     "text": [
      "14526290.0 27934868.0\n",
      "14091412.0 28958996.0\n",
      "13689887.0 29139440.0\n",
      "Early stopping at iteration 24778 with val_loss 26467750.0\n"
     ]
    }
   ],
   "source": [
    "costval = []\n",
    "min_val_loss = torch.inf\n",
    "min_val_loss_idx = -1\n",
    "best_model = model.state_dict()\n",
    "\n",
    "EARLY_STOPPING_EPOCHS = 10000\n",
    "\n",
    "for j in range(epochs):\n",
    "    #prediction\n",
    "    y_train_pred = model(x_train)\n",
    "    \n",
    "    #calculating loss\n",
    "    cost = criterion(y_train_pred,y_train.reshape(-1,1))\n",
    "  \n",
    "    #backprop\n",
    "    optimizer.zero_grad()\n",
    "    cost.backward()\n",
    "    optimizer.step()\n",
    "\n",
    "    val_loss = criterion(model(x_val), y_val.reshape(-1,1)).item()\n",
    "    if val_loss < min_val_loss:\n",
    "        min_val_loss = val_loss\n",
    "        min_val_loss_idx = j\n",
    "        best_model = model.state_dict()\n",
    "    elif j >= min_val_loss_idx + EARLY_STOPPING_EPOCHS:\n",
    "        print(f\"Early stopping at iteration {j} with val_loss {min_val_loss}\")\n",
    "        model.load_state_dict(best_model)\n",
    "        break\n",
    "    \n",
    "    if j%10000 == 0:\n",
    "        print(cost.item(), val_loss)\n",
    "        costval.append(cost)"
   ]
  },
  {
   "cell_type": "markdown",
   "metadata": {},
   "source": [
    "### Train a CGAN"
   ]
  },
  {
   "cell_type": "code",
   "execution_count": null,
   "metadata": {},
   "outputs": [],
   "source": [
    "generator = net(X.shape[1]+1,1)\n",
    "discriminator = net(X.shape[1]+1,1)\n",
    "criterion = nn.BCELoss()\n",
    "optimizer_gen = torch.optim.Adam(generator.parameters(),lr=0.01)\n",
    "optimizer_disc = torch.optim.Adam(discriminator.parameters(),lr=0.01)\n",
    "# optimizer = torch.optim.Adam(model.parameters(),lr=0.001)\n",
    "epochs = 150000\n",
    "EARLY_STOPPING_EPOCHS = 10000\n"
   ]
  },
  {
   "cell_type": "code",
   "execution_count": 19,
   "metadata": {},
   "outputs": [
    {
     "data": {
      "text/plain": [
       "torch.Size([802, 8])"
      ]
     },
     "execution_count": 19,
     "metadata": {},
     "output_type": "execute_result"
    }
   ],
   "source": [
    "torch.concat((x_train, torch.randn(x_train.shape[0]).reshape(-1,1)), 1).shape"
   ]
  },
  {
   "cell_type": "code",
   "execution_count": null,
   "metadata": {},
   "outputs": [
    {
     "name": "stdout",
     "output_type": "stream",
     "text": [
      "14526290.0 27934868.0\n",
      "14091412.0 28958996.0\n",
      "13689887.0 29139440.0\n",
      "Early stopping at iteration 24778 with val_loss 26467750.0\n"
     ]
    }
   ],
   "source": [
    "costval = []\n",
    "min_val_loss = torch.inf\n",
    "min_val_loss_idx = -1\n",
    "best_model = model.state_dict()\n",
    "\n",
    "for j in range(epochs):\n",
    "    #prediction\n",
    "    x_train_gen = torch.concat(\n",
    "        (\n",
    "            x_train\n",
    "            , torch.randn(x_train.shape[0]).reshape(-1,1))\n",
    "        , 1\n",
    "    )\n",
    "    y_trains = torch.concat(\n",
    "        (\n",
    "            generator(x_train_gen).reshape(-1,1)\n",
    "            ,y_train.reshape(-1,1)\n",
    "        )\n",
    "        , 1\n",
    "    )\n",
    "\n",
    "    ground_truths = (torch.rand((x_train.shape[0],1)) > 0.5).int32()\n",
    "    x_train_disc = torch.concat(\n",
    "        (\n",
    "            x_train\n",
    "            , y_trains[ground_truths]\n",
    "        )\n",
    "        , 1\n",
    "    )\n",
    "\n",
    "    disc_preds = discriminator(x_train_disc)\n",
    "    \n",
    "    #calculating loss\n",
    "    cost = criterion(y_train_pred,y_train.reshape(-1,1))\n",
    "  \n",
    "    #backprop\n",
    "    optimizer.zero_grad()\n",
    "    cost.backward()\n",
    "    optimizer.step()\n",
    "\n",
    "    val_loss = criterion(model(x_val), y_val.reshape(-1,1)).item()\n",
    "    if val_loss < min_val_loss:\n",
    "        min_val_loss = val_loss\n",
    "        min_val_loss_idx = j\n",
    "        best_model = model.state_dict()\n",
    "    elif j >= min_val_loss_idx + EARLY_STOPPING_EPOCHS:\n",
    "        print(f\"Early stopping at iteration {j} with val_loss {min_val_loss}\")\n",
    "        model.load_state_dict(best_model)\n",
    "        break\n",
    "    \n",
    "    if j%10000 == 0:\n",
    "        print(cost.item(), val_loss)\n",
    "        costval.append(cost)"
   ]
  },
  {
   "cell_type": "code",
   "execution_count": null,
   "metadata": {},
   "outputs": [],
   "source": []
  },
  {
   "cell_type": "code",
   "execution_count": null,
   "metadata": {},
   "outputs": [],
   "source": []
  },
  {
   "cell_type": "code",
   "execution_count": null,
   "metadata": {},
   "outputs": [],
   "source": []
  },
  {
   "cell_type": "code",
   "execution_count": null,
   "metadata": {},
   "outputs": [],
   "source": []
  }
 ],
 "metadata": {
  "kernelspec": {
   "display_name": "Python 3.8.9 ('venv': venv)",
   "language": "python",
   "name": "python3"
  },
  "language_info": {
   "codemirror_mode": {
    "name": "ipython",
    "version": 3
   },
   "file_extension": ".py",
   "mimetype": "text/x-python",
   "name": "python",
   "nbconvert_exporter": "python",
   "pygments_lexer": "ipython3",
   "version": "3.9.12"
  },
  "orig_nbformat": 4,
  "vscode": {
   "interpreter": {
    "hash": "3e5a4c010286c58ad6c08cb27721135ecd12ff592b7ec5dbaffd19e1260b5d0a"
   }
  }
 },
 "nbformat": 4,
 "nbformat_minor": 2
}
